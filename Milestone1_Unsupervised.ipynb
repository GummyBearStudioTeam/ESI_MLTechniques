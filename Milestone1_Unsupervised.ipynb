{
 "cells": [
  {
   "cell_type": "markdown",
   "metadata": {},
   "source": [
    "# Milestone 1\n",
    "Unsupervised learning and data analysis."
   ]
  },
  {
   "cell_type": "code",
   "execution_count": 1,
   "metadata": {},
   "outputs": [],
   "source": [
    "import pandas as pd\n",
    "import numpy as np\n",
    "import seaborn as sns\n",
    "import matplotlib.pyplot as plt\n",
    "import sklearn\n",
    "import sklearn.preprocessing"
   ]
  },
  {
   "cell_type": "code",
   "execution_count": 2,
   "metadata": {},
   "outputs": [],
   "source": [
    "df = pd.read_csv('data/dengue_features_train.csv')"
   ]
  },
  {
   "cell_type": "markdown",
   "metadata": {},
   "source": [
    "## Filter data for group subset\n",
    "Our group is working on dataset San Juan 1992-98"
   ]
  },
  {
   "cell_type": "code",
   "execution_count": 3,
   "metadata": {},
   "outputs": [
    {
     "data": {
      "text/plain": [
       "sj    936\n",
       "iq    520\n",
       "Name: city, dtype: int64"
      ]
     },
     "execution_count": 3,
     "metadata": {},
     "output_type": "execute_result"
    }
   ],
   "source": [
    "df['city'].value_counts()"
   ]
  },
  {
   "cell_type": "code",
   "execution_count": 4,
   "metadata": {},
   "outputs": [
    {
     "data": {
      "text/plain": [
       "1990     35\n",
       "1991     52\n",
       "1992     52\n",
       "1993     52\n",
       "1994     52\n",
       "1995     52\n",
       "1996     52\n",
       "1997     52\n",
       "1998     52\n",
       "1999     52\n",
       "2000     78\n",
       "2001    104\n",
       "2002    104\n",
       "2003    104\n",
       "2004    104\n",
       "2005    104\n",
       "2006    104\n",
       "2007    104\n",
       "2008     69\n",
       "2009     52\n",
       "2010     26\n",
       "Name: year, dtype: int64"
      ]
     },
     "execution_count": 4,
     "metadata": {},
     "output_type": "execute_result"
    }
   ],
   "source": [
    "df['year'].value_counts().sort_index()"
   ]
  },
  {
   "cell_type": "code",
   "execution_count": 5,
   "metadata": {},
   "outputs": [],
   "source": [
    "#criteria = (df['city'].values == 'sj', df['year'].values >= 1992, df['year'].values <= 1998)\n",
    "#df = df[np.sum(criteria, axis=0, dtype=np.int8) == 3]\n",
    "df = df[df['city'] == 'sj']\n",
    "df = df[df['year'] >= 1992]\n",
    "df = df[df['year'] <= 1998]"
   ]
  },
  {
   "cell_type": "code",
   "execution_count": 6,
   "metadata": {},
   "outputs": [
    {
     "data": {
      "text/plain": [
       "(364, 20)"
      ]
     },
     "execution_count": 6,
     "metadata": {},
     "output_type": "execute_result"
    }
   ],
   "source": [
    "df.drop(['city', 'year', 'weekofyear', 'week_start_date'], axis=1, inplace=True)\n",
    "df.shape"
   ]
  },
  {
   "cell_type": "code",
   "execution_count": 7,
   "metadata": {},
   "outputs": [
    {
     "data": {
      "text/html": [
       "<div>\n",
       "<style scoped>\n",
       "    .dataframe tbody tr th:only-of-type {\n",
       "        vertical-align: middle;\n",
       "    }\n",
       "\n",
       "    .dataframe tbody tr th {\n",
       "        vertical-align: top;\n",
       "    }\n",
       "\n",
       "    .dataframe thead th {\n",
       "        text-align: right;\n",
       "    }\n",
       "</style>\n",
       "<table border=\"1\" class=\"dataframe\">\n",
       "  <thead>\n",
       "    <tr style=\"text-align: right;\">\n",
       "      <th></th>\n",
       "      <th>ndvi_ne</th>\n",
       "      <th>ndvi_nw</th>\n",
       "      <th>ndvi_se</th>\n",
       "      <th>ndvi_sw</th>\n",
       "      <th>precipitation_amt_mm</th>\n",
       "      <th>reanalysis_air_temp_k</th>\n",
       "      <th>reanalysis_avg_temp_k</th>\n",
       "      <th>reanalysis_dew_point_temp_k</th>\n",
       "      <th>reanalysis_max_air_temp_k</th>\n",
       "      <th>reanalysis_min_air_temp_k</th>\n",
       "      <th>reanalysis_precip_amt_kg_per_m2</th>\n",
       "      <th>reanalysis_relative_humidity_percent</th>\n",
       "      <th>reanalysis_sat_precip_amt_mm</th>\n",
       "      <th>reanalysis_specific_humidity_g_per_kg</th>\n",
       "      <th>reanalysis_tdtr_k</th>\n",
       "      <th>station_avg_temp_c</th>\n",
       "      <th>station_diur_temp_rng_c</th>\n",
       "      <th>station_max_temp_c</th>\n",
       "      <th>station_min_temp_c</th>\n",
       "      <th>station_precip_mm</th>\n",
       "    </tr>\n",
       "  </thead>\n",
       "  <tbody>\n",
       "    <tr>\n",
       "      <th>87</th>\n",
       "      <td>0.125100</td>\n",
       "      <td>0.157867</td>\n",
       "      <td>0.185283</td>\n",
       "      <td>0.181367</td>\n",
       "      <td>NaN</td>\n",
       "      <td>NaN</td>\n",
       "      <td>NaN</td>\n",
       "      <td>NaN</td>\n",
       "      <td>NaN</td>\n",
       "      <td>NaN</td>\n",
       "      <td>NaN</td>\n",
       "      <td>NaN</td>\n",
       "      <td>NaN</td>\n",
       "      <td>NaN</td>\n",
       "      <td>NaN</td>\n",
       "      <td>NaN</td>\n",
       "      <td>NaN</td>\n",
       "      <td>NaN</td>\n",
       "      <td>NaN</td>\n",
       "      <td>NaN</td>\n",
       "    </tr>\n",
       "    <tr>\n",
       "      <th>88</th>\n",
       "      <td>0.100833</td>\n",
       "      <td>0.073575</td>\n",
       "      <td>0.138714</td>\n",
       "      <td>0.112786</td>\n",
       "      <td>200.85</td>\n",
       "      <td>297.912857</td>\n",
       "      <td>298.121429</td>\n",
       "      <td>294.457143</td>\n",
       "      <td>300.4</td>\n",
       "      <td>296.1</td>\n",
       "      <td>18.30</td>\n",
       "      <td>81.300000</td>\n",
       "      <td>200.85</td>\n",
       "      <td>15.878571</td>\n",
       "      <td>2.300000</td>\n",
       "      <td>25.657143</td>\n",
       "      <td>7.500000</td>\n",
       "      <td>30.6</td>\n",
       "      <td>20.6</td>\n",
       "      <td>58.2</td>\n",
       "    </tr>\n",
       "    <tr>\n",
       "      <th>89</th>\n",
       "      <td>0.222400</td>\n",
       "      <td>0.229900</td>\n",
       "      <td>0.198457</td>\n",
       "      <td>0.199414</td>\n",
       "      <td>3.12</td>\n",
       "      <td>297.338571</td>\n",
       "      <td>297.485714</td>\n",
       "      <td>294.467143</td>\n",
       "      <td>300.2</td>\n",
       "      <td>295.6</td>\n",
       "      <td>19.80</td>\n",
       "      <td>84.117143</td>\n",
       "      <td>3.12</td>\n",
       "      <td>15.832857</td>\n",
       "      <td>1.857143</td>\n",
       "      <td>25.471429</td>\n",
       "      <td>6.171429</td>\n",
       "      <td>31.1</td>\n",
       "      <td>21.7</td>\n",
       "      <td>32.3</td>\n",
       "    </tr>\n",
       "    <tr>\n",
       "      <th>90</th>\n",
       "      <td>0.122533</td>\n",
       "      <td>0.131050</td>\n",
       "      <td>0.188843</td>\n",
       "      <td>0.168871</td>\n",
       "      <td>0.00</td>\n",
       "      <td>297.091429</td>\n",
       "      <td>297.335714</td>\n",
       "      <td>293.021429</td>\n",
       "      <td>299.5</td>\n",
       "      <td>295.6</td>\n",
       "      <td>5.11</td>\n",
       "      <td>78.291429</td>\n",
       "      <td>0.00</td>\n",
       "      <td>14.482857</td>\n",
       "      <td>2.357143</td>\n",
       "      <td>24.857143</td>\n",
       "      <td>7.442857</td>\n",
       "      <td>30.6</td>\n",
       "      <td>20.0</td>\n",
       "      <td>1.3</td>\n",
       "    </tr>\n",
       "    <tr>\n",
       "      <th>91</th>\n",
       "      <td>NaN</td>\n",
       "      <td>0.048300</td>\n",
       "      <td>0.173671</td>\n",
       "      <td>0.191929</td>\n",
       "      <td>0.00</td>\n",
       "      <td>297.420000</td>\n",
       "      <td>297.550000</td>\n",
       "      <td>292.718571</td>\n",
       "      <td>299.3</td>\n",
       "      <td>295.5</td>\n",
       "      <td>6.50</td>\n",
       "      <td>75.220000</td>\n",
       "      <td>0.00</td>\n",
       "      <td>14.185714</td>\n",
       "      <td>2.442857</td>\n",
       "      <td>24.800000</td>\n",
       "      <td>6.585714</td>\n",
       "      <td>28.9</td>\n",
       "      <td>20.0</td>\n",
       "      <td>9.2</td>\n",
       "    </tr>\n",
       "  </tbody>\n",
       "</table>\n",
       "</div>"
      ],
      "text/plain": [
       "     ndvi_ne   ndvi_nw   ndvi_se   ndvi_sw  precipitation_amt_mm  \\\n",
       "87  0.125100  0.157867  0.185283  0.181367                   NaN   \n",
       "88  0.100833  0.073575  0.138714  0.112786                200.85   \n",
       "89  0.222400  0.229900  0.198457  0.199414                  3.12   \n",
       "90  0.122533  0.131050  0.188843  0.168871                  0.00   \n",
       "91       NaN  0.048300  0.173671  0.191929                  0.00   \n",
       "\n",
       "    reanalysis_air_temp_k  reanalysis_avg_temp_k  reanalysis_dew_point_temp_k  \\\n",
       "87                    NaN                    NaN                          NaN   \n",
       "88             297.912857             298.121429                   294.457143   \n",
       "89             297.338571             297.485714                   294.467143   \n",
       "90             297.091429             297.335714                   293.021429   \n",
       "91             297.420000             297.550000                   292.718571   \n",
       "\n",
       "    reanalysis_max_air_temp_k  reanalysis_min_air_temp_k  \\\n",
       "87                        NaN                        NaN   \n",
       "88                      300.4                      296.1   \n",
       "89                      300.2                      295.6   \n",
       "90                      299.5                      295.6   \n",
       "91                      299.3                      295.5   \n",
       "\n",
       "    reanalysis_precip_amt_kg_per_m2  reanalysis_relative_humidity_percent  \\\n",
       "87                              NaN                                   NaN   \n",
       "88                            18.30                             81.300000   \n",
       "89                            19.80                             84.117143   \n",
       "90                             5.11                             78.291429   \n",
       "91                             6.50                             75.220000   \n",
       "\n",
       "    reanalysis_sat_precip_amt_mm  reanalysis_specific_humidity_g_per_kg  \\\n",
       "87                           NaN                                    NaN   \n",
       "88                        200.85                              15.878571   \n",
       "89                          3.12                              15.832857   \n",
       "90                          0.00                              14.482857   \n",
       "91                          0.00                              14.185714   \n",
       "\n",
       "    reanalysis_tdtr_k  station_avg_temp_c  station_diur_temp_rng_c  \\\n",
       "87                NaN                 NaN                      NaN   \n",
       "88           2.300000           25.657143                 7.500000   \n",
       "89           1.857143           25.471429                 6.171429   \n",
       "90           2.357143           24.857143                 7.442857   \n",
       "91           2.442857           24.800000                 6.585714   \n",
       "\n",
       "    station_max_temp_c  station_min_temp_c  station_precip_mm  \n",
       "87                 NaN                 NaN                NaN  \n",
       "88                30.6                20.6               58.2  \n",
       "89                31.1                21.7               32.3  \n",
       "90                30.6                20.0                1.3  \n",
       "91                28.9                20.0                9.2  "
      ]
     },
     "execution_count": 7,
     "metadata": {},
     "output_type": "execute_result"
    }
   ],
   "source": [
    "df.head()"
   ]
  },
  {
   "cell_type": "code",
   "execution_count": 8,
   "metadata": {},
   "outputs": [
    {
     "data": {
      "text/plain": [
       "<matplotlib.axes._subplots.AxesSubplot at 0x7fd5064492b0>"
      ]
     },
     "execution_count": 8,
     "metadata": {},
     "output_type": "execute_result"
    },
    {
     "data": {
      "image/png": "[encoded data removed]",
      "text/plain": [
       "<Figure size 432x288 with 2 Axes>"
      ]
     },
     "metadata": {
      "needs_background": "light"
     },
     "output_type": "display_data"
    }
   ],
   "source": [
    "cor_mat = df.corr()\n",
    "sns.heatmap(cor_mat)"
   ]
  },
  {
   "cell_type": "markdown",
   "metadata": {},
   "source": [
    "# PCA\n",
    "Normalize the data and apply PCA."
   ]
  },
  {
   "cell_type": "code",
   "execution_count": 9,
   "metadata": {},
   "outputs": [],
   "source": [
    "# Other scalers can be used\n",
    "scaler = sklearn.preprocessing.StandardScaler()\n",
    "X = scaler.fit_transform(df)"
   ]
  },
  {
   "cell_type": "markdown",
   "metadata": {},
   "source": [
    "## Explained variance rate distribution"
   ]
  },
  {
   "cell_type": "code",
   "execution_count": 10,
   "metadata": {},
   "outputs": [
    {
     "data": {
      "text/plain": [
       "array([[ 0.62408786,  1.07638833,  0.22756594, ...,         nan,\n",
       "                nan,         nan],\n",
       "       [ 0.32509292, -0.19400293, -0.70631086, ..., -0.80314531,\n",
       "        -1.42263045,  1.05720582],\n",
       "       [ 1.82294092,  2.16202872,  0.49174826, ..., -0.4888862 ,\n",
       "        -0.65558829,  0.19795958],\n",
       "       ...,\n",
       "       [-0.15461217, -1.26319092,  0.78940206, ..., -1.87162629,\n",
       "         0.11145387,  2.36432171],\n",
       "       [-1.92968687, -2.68454653,  1.32282822, ..., -0.4888862 ,\n",
       "         0.11145387, -0.24659252],\n",
       "       [-0.1710404 , -3.27647452, -0.33660843, ..., -1.18025624,\n",
       "        -0.30693276,  0.1117032 ]])"
      ]
     },
     "execution_count": 10,
     "metadata": {},
     "output_type": "execute_result"
    }
   ],
   "source": [
    "X"
   ]
  },
  {
   "cell_type": "markdown",
   "metadata": {},
   "source": [
    "# Outlier identification\n",
    "DBSCAN"
   ]
  },
  {
   "cell_type": "markdown",
   "metadata": {},
   "source": [
    "# Clustering"
   ]
  },
  {
   "cell_type": "markdown",
   "metadata": {},
   "source": [
    "## K-means"
   ]
  },
  {
   "cell_type": "markdown",
   "metadata": {},
   "source": [
    "## Hierarchical"
   ]
  },
  {
   "cell_type": "code",
   "execution_count": null,
   "metadata": {},
   "outputs": [],
   "source": []
  }
 ],
 "metadata": {
  "kernelspec": {
   "display_name": "Python 3",
   "language": "python",
   "name": "python3"
  },
  "language_info": {
   "codemirror_mode": {
    "name": "ipython",
    "version": 3
   },
   "file_extension": ".py",
   "mimetype": "text/x-python",
   "name": "python",
   "nbconvert_exporter": "python",
   "pygments_lexer": "ipython3",
   "version": "3.8.3"
  }
 },
 "nbformat": 4,
 "nbformat_minor": 4
}
