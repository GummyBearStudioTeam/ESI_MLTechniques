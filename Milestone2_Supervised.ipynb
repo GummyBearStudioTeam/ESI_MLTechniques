{
 "cells": [
  {
   "cell_type": "markdown",
   "metadata": {
    "id": "Cbs4n2uvb9IE"
   },
   "source": [
    "# Milestone 2\n",
    "Supervised learning."
   ]
  },
  {
   "cell_type": "code",
   "execution_count": 2,
   "metadata": {
    "id": "H-emiI-kb9II"
   },
   "outputs": [],
   "source": [
    "import pandas as pd\n",
    "import numpy as np\n",
    "import seaborn as sns\n",
    "import plotly.express as px\n",
    "import sklearn\n",
    "import sklearn.preprocessing\n",
    "import sklearn.metrics\n",
    "import seaborn as sns; sns.set()\n",
    "\n",
    "from sklearn import neighbors\n",
    "from sklearn.neighbors import KNeighborsRegressor\n",
    "from sklearn.model_selection import KFold, train_test_split\n",
    "import matplotlib.pyplot as plt\n",
    "from sklearn.metrics import mean_absolute_error\n",
    "\n",
    "from sklearn.tree import DecisionTreeRegressor\n",
    "from sklearn.ensemble import RandomForestRegressor\n",
    "from sklearn.ensemble import AdaBoostRegressor\n",
    "from sklearn.ensemble import GradientBoostingRegressor\n",
    "from sklearn.model_selection import RandomizedSearchCV\n",
    "from sklearn.model_selection import GridSearchCV\n",
    "from scipy.stats import randint as sp_randint"
   ]
  },
  {
   "cell_type": "code",
   "execution_count": 4,
   "metadata": {
    "id": "jVlLnqfTb9IX"
   },
   "outputs": [],
   "source": [
    "df = pd.read_csv('dengue_features_train.csv')\n",
    "y = pd.read_csv('dengue_labels_train.csv')"
   ]
  },
  {
   "cell_type": "markdown",
   "metadata": {
    "id": "uKGqayHrb9In"
   },
   "source": [
    "## Filter data for group subset\n",
    "Our group is working on dataset San Juan 1992-98"
   ]
  },
  {
   "cell_type": "code",
   "execution_count": 5,
   "metadata": {
    "colab": {
     "base_uri": "https://localhost:8080/"
    },
    "id": "VjDGuF8Eb9Io",
    "outputId": "7b613092-255e-41cd-ef86-a189adc7a6d8"
   },
   "outputs": [
    {
     "data": {
      "text/plain": [
       "sj    936\n",
       "iq    520\n",
       "Name: city, dtype: int64"
      ]
     },
     "execution_count": 5,
     "metadata": {},
     "output_type": "execute_result"
    }
   ],
   "source": [
    "df['city'].value_counts()"
   ]
  },
  {
   "cell_type": "code",
   "execution_count": 6,
   "metadata": {
    "id": "OYOSPncGb9I1"
   },
   "outputs": [],
   "source": [
    "#criteria = (df['city'].values == 'sj', df['year'].values >= 1992, df['year'].values <= 1998)\n",
    "#df = df[np.sum(criteria, axis=0, dtype=np.int8) == 3]\n",
    "df = df[df['city'] == 'sj']\n",
    "df = df[df['year'] >= 1992]\n",
    "df = df[df['year'] <= 1998]\n",
    "\n",
    "y = y[y['city'] == 'sj']\n",
    "y = y[y['year'] >= 1992]\n",
    "y = y[y['year'] <= 1998]"
   ]
  },
  {
   "cell_type": "code",
   "execution_count": 7,
   "metadata": {
    "colab": {
     "base_uri": "https://localhost:8080/"
    },
    "id": "nmONU3y8b9I-",
    "outputId": "0f26248a-35ad-4e7b-bff9-520e032acf59"
   },
   "outputs": [
    {
     "data": {
      "text/plain": [
       "((364, 20), (364, 1))"
      ]
     },
     "execution_count": 7,
     "metadata": {},
     "output_type": "execute_result"
    }
   ],
   "source": [
    "record_names = df[['city', 'year', 'weekofyear']]\n",
    "df.drop(['week_start_date'], axis=1, inplace=True)\n",
    "df.set_index(['city', 'year', 'weekofyear'], inplace=True)\n",
    "all_features = df.columns\n",
    "y.set_index(['city', 'year', 'weekofyear'], inplace=True)\n",
    "df.shape, y.shape"
   ]
  },
  {
   "cell_type": "code",
   "execution_count": 8,
   "metadata": {
    "colab": {
     "base_uri": "https://localhost:8080/",
     "height": 257
    },
    "id": "Fm1gR7vVb9JI",
    "outputId": "e725eee0-2433-4f58-95f1-c5d4cd8c1a52"
   },
   "outputs": [
    {
     "data": {
      "text/html": [
       "<div>\n",
       "<style scoped>\n",
       "    .dataframe tbody tr th:only-of-type {\n",
       "        vertical-align: middle;\n",
       "    }\n",
       "\n",
       "    .dataframe tbody tr th {\n",
       "        vertical-align: top;\n",
       "    }\n",
       "\n",
       "    .dataframe thead th {\n",
       "        text-align: right;\n",
       "    }\n",
       "</style>\n",
       "<table border=\"1\" class=\"dataframe\">\n",
       "  <thead>\n",
       "    <tr style=\"text-align: right;\">\n",
       "      <th></th>\n",
       "      <th></th>\n",
       "      <th></th>\n",
       "      <th>ndvi_ne</th>\n",
       "      <th>ndvi_nw</th>\n",
       "      <th>ndvi_se</th>\n",
       "      <th>ndvi_sw</th>\n",
       "      <th>precipitation_amt_mm</th>\n",
       "      <th>reanalysis_air_temp_k</th>\n",
       "      <th>reanalysis_avg_temp_k</th>\n",
       "      <th>reanalysis_dew_point_temp_k</th>\n",
       "      <th>reanalysis_max_air_temp_k</th>\n",
       "      <th>reanalysis_min_air_temp_k</th>\n",
       "      <th>reanalysis_precip_amt_kg_per_m2</th>\n",
       "      <th>reanalysis_relative_humidity_percent</th>\n",
       "      <th>reanalysis_sat_precip_amt_mm</th>\n",
       "      <th>reanalysis_specific_humidity_g_per_kg</th>\n",
       "      <th>reanalysis_tdtr_k</th>\n",
       "      <th>station_avg_temp_c</th>\n",
       "      <th>station_diur_temp_rng_c</th>\n",
       "      <th>station_max_temp_c</th>\n",
       "      <th>station_min_temp_c</th>\n",
       "      <th>station_precip_mm</th>\n",
       "    </tr>\n",
       "    <tr>\n",
       "      <th>city</th>\n",
       "      <th>year</th>\n",
       "      <th>weekofyear</th>\n",
       "      <th></th>\n",
       "      <th></th>\n",
       "      <th></th>\n",
       "      <th></th>\n",
       "      <th></th>\n",
       "      <th></th>\n",
       "      <th></th>\n",
       "      <th></th>\n",
       "      <th></th>\n",
       "      <th></th>\n",
       "      <th></th>\n",
       "      <th></th>\n",
       "      <th></th>\n",
       "      <th></th>\n",
       "      <th></th>\n",
       "      <th></th>\n",
       "      <th></th>\n",
       "      <th></th>\n",
       "      <th></th>\n",
       "      <th></th>\n",
       "    </tr>\n",
       "  </thead>\n",
       "  <tbody>\n",
       "    <tr>\n",
       "      <th rowspan=\"5\" valign=\"top\">sj</th>\n",
       "      <th rowspan=\"5\" valign=\"top\">1992</th>\n",
       "      <th>1</th>\n",
       "      <td>0.125100</td>\n",
       "      <td>0.157867</td>\n",
       "      <td>0.185283</td>\n",
       "      <td>0.181367</td>\n",
       "      <td>NaN</td>\n",
       "      <td>NaN</td>\n",
       "      <td>NaN</td>\n",
       "      <td>NaN</td>\n",
       "      <td>NaN</td>\n",
       "      <td>NaN</td>\n",
       "      <td>NaN</td>\n",
       "      <td>NaN</td>\n",
       "      <td>NaN</td>\n",
       "      <td>NaN</td>\n",
       "      <td>NaN</td>\n",
       "      <td>NaN</td>\n",
       "      <td>NaN</td>\n",
       "      <td>NaN</td>\n",
       "      <td>NaN</td>\n",
       "      <td>NaN</td>\n",
       "    </tr>\n",
       "    <tr>\n",
       "      <th>2</th>\n",
       "      <td>0.100833</td>\n",
       "      <td>0.073575</td>\n",
       "      <td>0.138714</td>\n",
       "      <td>0.112786</td>\n",
       "      <td>200.85</td>\n",
       "      <td>297.912857</td>\n",
       "      <td>298.121429</td>\n",
       "      <td>294.457143</td>\n",
       "      <td>300.4</td>\n",
       "      <td>296.1</td>\n",
       "      <td>18.30</td>\n",
       "      <td>81.300000</td>\n",
       "      <td>200.85</td>\n",
       "      <td>15.878571</td>\n",
       "      <td>2.300000</td>\n",
       "      <td>25.657143</td>\n",
       "      <td>7.500000</td>\n",
       "      <td>30.6</td>\n",
       "      <td>20.6</td>\n",
       "      <td>58.2</td>\n",
       "    </tr>\n",
       "    <tr>\n",
       "      <th>3</th>\n",
       "      <td>0.222400</td>\n",
       "      <td>0.229900</td>\n",
       "      <td>0.198457</td>\n",
       "      <td>0.199414</td>\n",
       "      <td>3.12</td>\n",
       "      <td>297.338571</td>\n",
       "      <td>297.485714</td>\n",
       "      <td>294.467143</td>\n",
       "      <td>300.2</td>\n",
       "      <td>295.6</td>\n",
       "      <td>19.80</td>\n",
       "      <td>84.117143</td>\n",
       "      <td>3.12</td>\n",
       "      <td>15.832857</td>\n",
       "      <td>1.857143</td>\n",
       "      <td>25.471429</td>\n",
       "      <td>6.171429</td>\n",
       "      <td>31.1</td>\n",
       "      <td>21.7</td>\n",
       "      <td>32.3</td>\n",
       "    </tr>\n",
       "    <tr>\n",
       "      <th>4</th>\n",
       "      <td>0.122533</td>\n",
       "      <td>0.131050</td>\n",
       "      <td>0.188843</td>\n",
       "      <td>0.168871</td>\n",
       "      <td>0.00</td>\n",
       "      <td>297.091429</td>\n",
       "      <td>297.335714</td>\n",
       "      <td>293.021429</td>\n",
       "      <td>299.5</td>\n",
       "      <td>295.6</td>\n",
       "      <td>5.11</td>\n",
       "      <td>78.291429</td>\n",
       "      <td>0.00</td>\n",
       "      <td>14.482857</td>\n",
       "      <td>2.357143</td>\n",
       "      <td>24.857143</td>\n",
       "      <td>7.442857</td>\n",
       "      <td>30.6</td>\n",
       "      <td>20.0</td>\n",
       "      <td>1.3</td>\n",
       "    </tr>\n",
       "    <tr>\n",
       "      <th>5</th>\n",
       "      <td>NaN</td>\n",
       "      <td>0.048300</td>\n",
       "      <td>0.173671</td>\n",
       "      <td>0.191929</td>\n",
       "      <td>0.00</td>\n",
       "      <td>297.420000</td>\n",
       "      <td>297.550000</td>\n",
       "      <td>292.718571</td>\n",
       "      <td>299.3</td>\n",
       "      <td>295.5</td>\n",
       "      <td>6.50</td>\n",
       "      <td>75.220000</td>\n",
       "      <td>0.00</td>\n",
       "      <td>14.185714</td>\n",
       "      <td>2.442857</td>\n",
       "      <td>24.800000</td>\n",
       "      <td>6.585714</td>\n",
       "      <td>28.9</td>\n",
       "      <td>20.0</td>\n",
       "      <td>9.2</td>\n",
       "    </tr>\n",
       "  </tbody>\n",
       "</table>\n",
       "</div>"
      ],
      "text/plain": [
       "                       ndvi_ne   ndvi_nw   ndvi_se   ndvi_sw  \\\n",
       "city year weekofyear                                           \n",
       "sj   1992 1           0.125100  0.157867  0.185283  0.181367   \n",
       "          2           0.100833  0.073575  0.138714  0.112786   \n",
       "          3           0.222400  0.229900  0.198457  0.199414   \n",
       "          4           0.122533  0.131050  0.188843  0.168871   \n",
       "          5                NaN  0.048300  0.173671  0.191929   \n",
       "\n",
       "                      precipitation_amt_mm  reanalysis_air_temp_k  \\\n",
       "city year weekofyear                                                \n",
       "sj   1992 1                            NaN                    NaN   \n",
       "          2                         200.85             297.912857   \n",
       "          3                           3.12             297.338571   \n",
       "          4                           0.00             297.091429   \n",
       "          5                           0.00             297.420000   \n",
       "\n",
       "                      reanalysis_avg_temp_k  reanalysis_dew_point_temp_k  \\\n",
       "city year weekofyear                                                       \n",
       "sj   1992 1                             NaN                          NaN   \n",
       "          2                      298.121429                   294.457143   \n",
       "          3                      297.485714                   294.467143   \n",
       "          4                      297.335714                   293.021429   \n",
       "          5                      297.550000                   292.718571   \n",
       "\n",
       "                      reanalysis_max_air_temp_k  reanalysis_min_air_temp_k  \\\n",
       "city year weekofyear                                                         \n",
       "sj   1992 1                                 NaN                        NaN   \n",
       "          2                               300.4                      296.1   \n",
       "          3                               300.2                      295.6   \n",
       "          4                               299.5                      295.6   \n",
       "          5                               299.3                      295.5   \n",
       "\n",
       "                      reanalysis_precip_amt_kg_per_m2  \\\n",
       "city year weekofyear                                    \n",
       "sj   1992 1                                       NaN   \n",
       "          2                                     18.30   \n",
       "          3                                     19.80   \n",
       "          4                                      5.11   \n",
       "          5                                      6.50   \n",
       "\n",
       "                      reanalysis_relative_humidity_percent  \\\n",
       "city year weekofyear                                         \n",
       "sj   1992 1                                            NaN   \n",
       "          2                                      81.300000   \n",
       "          3                                      84.117143   \n",
       "          4                                      78.291429   \n",
       "          5                                      75.220000   \n",
       "\n",
       "                      reanalysis_sat_precip_amt_mm  \\\n",
       "city year weekofyear                                 \n",
       "sj   1992 1                                    NaN   \n",
       "          2                                 200.85   \n",
       "          3                                   3.12   \n",
       "          4                                   0.00   \n",
       "          5                                   0.00   \n",
       "\n",
       "                      reanalysis_specific_humidity_g_per_kg  \\\n",
       "city year weekofyear                                          \n",
       "sj   1992 1                                             NaN   \n",
       "          2                                       15.878571   \n",
       "          3                                       15.832857   \n",
       "          4                                       14.482857   \n",
       "          5                                       14.185714   \n",
       "\n",
       "                      reanalysis_tdtr_k  station_avg_temp_c  \\\n",
       "city year weekofyear                                          \n",
       "sj   1992 1                         NaN                 NaN   \n",
       "          2                    2.300000           25.657143   \n",
       "          3                    1.857143           25.471429   \n",
       "          4                    2.357143           24.857143   \n",
       "          5                    2.442857           24.800000   \n",
       "\n",
       "                      station_diur_temp_rng_c  station_max_temp_c  \\\n",
       "city year weekofyear                                                \n",
       "sj   1992 1                               NaN                 NaN   \n",
       "          2                          7.500000                30.6   \n",
       "          3                          6.171429                31.1   \n",
       "          4                          7.442857                30.6   \n",
       "          5                          6.585714                28.9   \n",
       "\n",
       "                      station_min_temp_c  station_precip_mm  \n",
       "city year weekofyear                                         \n",
       "sj   1992 1                          NaN                NaN  \n",
       "          2                         20.6               58.2  \n",
       "          3                         21.7               32.3  \n",
       "          4                         20.0                1.3  \n",
       "          5                         20.0                9.2  "
      ]
     },
     "execution_count": 8,
     "metadata": {},
     "output_type": "execute_result"
    }
   ],
   "source": [
    "df.head()"
   ]
  },
  {
   "cell_type": "code",
   "execution_count": 9,
   "metadata": {
    "colab": {
     "base_uri": "https://localhost:8080/",
     "height": 320
    },
    "id": "Ag9IEffY9Fkn",
    "outputId": "b851f1c0-4d8a-478a-aca0-ce72e7733ba0"
   },
   "outputs": [
    {
     "data": {
      "text/html": [
       "<div>\n",
       "<style scoped>\n",
       "    .dataframe tbody tr th:only-of-type {\n",
       "        vertical-align: middle;\n",
       "    }\n",
       "\n",
       "    .dataframe tbody tr th {\n",
       "        vertical-align: top;\n",
       "    }\n",
       "\n",
       "    .dataframe thead th {\n",
       "        text-align: right;\n",
       "    }\n",
       "</style>\n",
       "<table border=\"1\" class=\"dataframe\">\n",
       "  <thead>\n",
       "    <tr style=\"text-align: right;\">\n",
       "      <th></th>\n",
       "      <th>ndvi_ne</th>\n",
       "      <th>ndvi_nw</th>\n",
       "      <th>ndvi_se</th>\n",
       "      <th>ndvi_sw</th>\n",
       "      <th>precipitation_amt_mm</th>\n",
       "      <th>reanalysis_air_temp_k</th>\n",
       "      <th>reanalysis_avg_temp_k</th>\n",
       "      <th>reanalysis_dew_point_temp_k</th>\n",
       "      <th>reanalysis_max_air_temp_k</th>\n",
       "      <th>reanalysis_min_air_temp_k</th>\n",
       "      <th>reanalysis_precip_amt_kg_per_m2</th>\n",
       "      <th>reanalysis_relative_humidity_percent</th>\n",
       "      <th>reanalysis_sat_precip_amt_mm</th>\n",
       "      <th>reanalysis_specific_humidity_g_per_kg</th>\n",
       "      <th>reanalysis_tdtr_k</th>\n",
       "      <th>station_avg_temp_c</th>\n",
       "      <th>station_diur_temp_rng_c</th>\n",
       "      <th>station_max_temp_c</th>\n",
       "      <th>station_min_temp_c</th>\n",
       "      <th>station_precip_mm</th>\n",
       "    </tr>\n",
       "  </thead>\n",
       "  <tbody>\n",
       "    <tr>\n",
       "      <th>count</th>\n",
       "      <td>281.000000</td>\n",
       "      <td>335.000000</td>\n",
       "      <td>348.000000</td>\n",
       "      <td>348.000000</td>\n",
       "      <td>358.000000</td>\n",
       "      <td>361.000000</td>\n",
       "      <td>361.000000</td>\n",
       "      <td>361.000000</td>\n",
       "      <td>361.000000</td>\n",
       "      <td>361.000000</td>\n",
       "      <td>361.000000</td>\n",
       "      <td>361.000000</td>\n",
       "      <td>358.000000</td>\n",
       "      <td>361.000000</td>\n",
       "      <td>361.000000</td>\n",
       "      <td>361.000000</td>\n",
       "      <td>361.000000</td>\n",
       "      <td>361.000000</td>\n",
       "      <td>361.000000</td>\n",
       "      <td>361.000000</td>\n",
       "    </tr>\n",
       "    <tr>\n",
       "      <th>mean</th>\n",
       "      <td>0.074448</td>\n",
       "      <td>0.086447</td>\n",
       "      <td>0.173935</td>\n",
       "      <td>0.166330</td>\n",
       "      <td>33.584190</td>\n",
       "      <td>298.916779</td>\n",
       "      <td>299.033518</td>\n",
       "      <td>295.090823</td>\n",
       "      <td>301.168421</td>\n",
       "      <td>297.155125</td>\n",
       "      <td>36.301163</td>\n",
       "      <td>79.643431</td>\n",
       "      <td>33.584190</td>\n",
       "      <td>16.529600</td>\n",
       "      <td>2.352355</td>\n",
       "      <td>27.136090</td>\n",
       "      <td>6.915235</td>\n",
       "      <td>31.877839</td>\n",
       "      <td>22.640166</td>\n",
       "      <td>26.332964</td>\n",
       "    </tr>\n",
       "    <tr>\n",
       "      <th>std</th>\n",
       "      <td>0.081306</td>\n",
       "      <td>0.066450</td>\n",
       "      <td>0.049938</td>\n",
       "      <td>0.050769</td>\n",
       "      <td>41.398772</td>\n",
       "      <td>1.122997</td>\n",
       "      <td>1.106125</td>\n",
       "      <td>1.493193</td>\n",
       "      <td>1.143217</td>\n",
       "      <td>1.194633</td>\n",
       "      <td>42.769553</td>\n",
       "      <td>3.337513</td>\n",
       "      <td>41.398772</td>\n",
       "      <td>1.489095</td>\n",
       "      <td>0.443310</td>\n",
       "      <td>1.332723</td>\n",
       "      <td>0.833416</td>\n",
       "      <td>1.593252</td>\n",
       "      <td>1.436071</td>\n",
       "      <td>30.184534</td>\n",
       "    </tr>\n",
       "    <tr>\n",
       "      <th>min</th>\n",
       "      <td>-0.290200</td>\n",
       "      <td>-0.130950</td>\n",
       "      <td>0.051471</td>\n",
       "      <td>0.028650</td>\n",
       "      <td>0.000000</td>\n",
       "      <td>296.425714</td>\n",
       "      <td>296.635714</td>\n",
       "      <td>290.378571</td>\n",
       "      <td>298.200000</td>\n",
       "      <td>293.500000</td>\n",
       "      <td>0.000000</td>\n",
       "      <td>67.364286</td>\n",
       "      <td>0.000000</td>\n",
       "      <td>12.331429</td>\n",
       "      <td>1.357143</td>\n",
       "      <td>23.700000</td>\n",
       "      <td>4.585714</td>\n",
       "      <td>27.800000</td>\n",
       "      <td>18.900000</td>\n",
       "      <td>0.000000</td>\n",
       "    </tr>\n",
       "    <tr>\n",
       "      <th>25%</th>\n",
       "      <td>0.033900</td>\n",
       "      <td>0.049400</td>\n",
       "      <td>0.142425</td>\n",
       "      <td>0.132032</td>\n",
       "      <td>0.000000</td>\n",
       "      <td>297.882857</td>\n",
       "      <td>298.071429</td>\n",
       "      <td>293.834286</td>\n",
       "      <td>300.300000</td>\n",
       "      <td>296.200000</td>\n",
       "      <td>13.690000</td>\n",
       "      <td>77.505714</td>\n",
       "      <td>0.000000</td>\n",
       "      <td>15.235714</td>\n",
       "      <td>2.042857</td>\n",
       "      <td>26.028571</td>\n",
       "      <td>6.357143</td>\n",
       "      <td>31.100000</td>\n",
       "      <td>21.700000</td>\n",
       "      <td>6.700000</td>\n",
       "    </tr>\n",
       "    <tr>\n",
       "      <th>50%</th>\n",
       "      <td>0.074200</td>\n",
       "      <td>0.083667</td>\n",
       "      <td>0.174907</td>\n",
       "      <td>0.168393</td>\n",
       "      <td>19.655000</td>\n",
       "      <td>299.131429</td>\n",
       "      <td>299.221429</td>\n",
       "      <td>295.435714</td>\n",
       "      <td>301.300000</td>\n",
       "      <td>297.500000</td>\n",
       "      <td>24.300000</td>\n",
       "      <td>79.775714</td>\n",
       "      <td>19.655000</td>\n",
       "      <td>16.822857</td>\n",
       "      <td>2.300000</td>\n",
       "      <td>27.314286</td>\n",
       "      <td>6.900000</td>\n",
       "      <td>32.200000</td>\n",
       "      <td>22.800000</td>\n",
       "      <td>16.900000</td>\n",
       "    </tr>\n",
       "    <tr>\n",
       "      <th>75%</th>\n",
       "      <td>0.114600</td>\n",
       "      <td>0.125325</td>\n",
       "      <td>0.204823</td>\n",
       "      <td>0.202836</td>\n",
       "      <td>50.292500</td>\n",
       "      <td>299.867143</td>\n",
       "      <td>299.957143</td>\n",
       "      <td>296.288571</td>\n",
       "      <td>302.100000</td>\n",
       "      <td>298.100000</td>\n",
       "      <td>45.200000</td>\n",
       "      <td>82.212857</td>\n",
       "      <td>50.292500</td>\n",
       "      <td>17.712857</td>\n",
       "      <td>2.571429</td>\n",
       "      <td>28.214286</td>\n",
       "      <td>7.442857</td>\n",
       "      <td>32.800000</td>\n",
       "      <td>23.900000</td>\n",
       "      <td>35.600000</td>\n",
       "    </tr>\n",
       "    <tr>\n",
       "      <th>max</th>\n",
       "      <td>0.363300</td>\n",
       "      <td>0.290900</td>\n",
       "      <td>0.349314</td>\n",
       "      <td>0.312600</td>\n",
       "      <td>243.550000</td>\n",
       "      <td>301.218571</td>\n",
       "      <td>301.350000</td>\n",
       "      <td>297.467143</td>\n",
       "      <td>303.900000</td>\n",
       "      <td>299.300000</td>\n",
       "      <td>570.500000</td>\n",
       "      <td>87.301429</td>\n",
       "      <td>243.550000</td>\n",
       "      <td>19.044286</td>\n",
       "      <td>4.000000</td>\n",
       "      <td>30.071429</td>\n",
       "      <td>9.914286</td>\n",
       "      <td>35.600000</td>\n",
       "      <td>25.600000</td>\n",
       "      <td>305.900000</td>\n",
       "    </tr>\n",
       "  </tbody>\n",
       "</table>\n",
       "</div>"
      ],
      "text/plain": [
       "          ndvi_ne     ndvi_nw     ndvi_se     ndvi_sw  precipitation_amt_mm  \\\n",
       "count  281.000000  335.000000  348.000000  348.000000            358.000000   \n",
       "mean     0.074448    0.086447    0.173935    0.166330             33.584190   \n",
       "std      0.081306    0.066450    0.049938    0.050769             41.398772   \n",
       "min     -0.290200   -0.130950    0.051471    0.028650              0.000000   \n",
       "25%      0.033900    0.049400    0.142425    0.132032              0.000000   \n",
       "50%      0.074200    0.083667    0.174907    0.168393             19.655000   \n",
       "75%      0.114600    0.125325    0.204823    0.202836             50.292500   \n",
       "max      0.363300    0.290900    0.349314    0.312600            243.550000   \n",
       "\n",
       "       reanalysis_air_temp_k  reanalysis_avg_temp_k  \\\n",
       "count             361.000000             361.000000   \n",
       "mean              298.916779             299.033518   \n",
       "std                 1.122997               1.106125   \n",
       "min               296.425714             296.635714   \n",
       "25%               297.882857             298.071429   \n",
       "50%               299.131429             299.221429   \n",
       "75%               299.867143             299.957143   \n",
       "max               301.218571             301.350000   \n",
       "\n",
       "       reanalysis_dew_point_temp_k  reanalysis_max_air_temp_k  \\\n",
       "count                   361.000000                 361.000000   \n",
       "mean                    295.090823                 301.168421   \n",
       "std                       1.493193                   1.143217   \n",
       "min                     290.378571                 298.200000   \n",
       "25%                     293.834286                 300.300000   \n",
       "50%                     295.435714                 301.300000   \n",
       "75%                     296.288571                 302.100000   \n",
       "max                     297.467143                 303.900000   \n",
       "\n",
       "       reanalysis_min_air_temp_k  reanalysis_precip_amt_kg_per_m2  \\\n",
       "count                 361.000000                       361.000000   \n",
       "mean                  297.155125                        36.301163   \n",
       "std                     1.194633                        42.769553   \n",
       "min                   293.500000                         0.000000   \n",
       "25%                   296.200000                        13.690000   \n",
       "50%                   297.500000                        24.300000   \n",
       "75%                   298.100000                        45.200000   \n",
       "max                   299.300000                       570.500000   \n",
       "\n",
       "       reanalysis_relative_humidity_percent  reanalysis_sat_precip_amt_mm  \\\n",
       "count                            361.000000                    358.000000   \n",
       "mean                              79.643431                     33.584190   \n",
       "std                                3.337513                     41.398772   \n",
       "min                               67.364286                      0.000000   \n",
       "25%                               77.505714                      0.000000   \n",
       "50%                               79.775714                     19.655000   \n",
       "75%                               82.212857                     50.292500   \n",
       "max                               87.301429                    243.550000   \n",
       "\n",
       "       reanalysis_specific_humidity_g_per_kg  reanalysis_tdtr_k  \\\n",
       "count                             361.000000         361.000000   \n",
       "mean                               16.529600           2.352355   \n",
       "std                                 1.489095           0.443310   \n",
       "min                                12.331429           1.357143   \n",
       "25%                                15.235714           2.042857   \n",
       "50%                                16.822857           2.300000   \n",
       "75%                                17.712857           2.571429   \n",
       "max                                19.044286           4.000000   \n",
       "\n",
       "       station_avg_temp_c  station_diur_temp_rng_c  station_max_temp_c  \\\n",
       "count          361.000000               361.000000          361.000000   \n",
       "mean            27.136090                 6.915235           31.877839   \n",
       "std              1.332723                 0.833416            1.593252   \n",
       "min             23.700000                 4.585714           27.800000   \n",
       "25%             26.028571                 6.357143           31.100000   \n",
       "50%             27.314286                 6.900000           32.200000   \n",
       "75%             28.214286                 7.442857           32.800000   \n",
       "max             30.071429                 9.914286           35.600000   \n",
       "\n",
       "       station_min_temp_c  station_precip_mm  \n",
       "count          361.000000         361.000000  \n",
       "mean            22.640166          26.332964  \n",
       "std              1.436071          30.184534  \n",
       "min             18.900000           0.000000  \n",
       "25%             21.700000           6.700000  \n",
       "50%             22.800000          16.900000  \n",
       "75%             23.900000          35.600000  \n",
       "max             25.600000         305.900000  "
      ]
     },
     "execution_count": 9,
     "metadata": {},
     "output_type": "execute_result"
    }
   ],
   "source": [
    "df.describe()"
   ]
  },
  {
   "cell_type": "markdown",
   "metadata": {
    "id": "9jhMWpZry6wG"
   },
   "source": [
    "# Preprocessing"
   ]
  },
  {
   "cell_type": "markdown",
   "metadata": {
    "id": "epTbfgg0b9JS"
   },
   "source": [
    "## Fill NaN"
   ]
  },
  {
   "cell_type": "code",
   "execution_count": 10,
   "metadata": {
    "colab": {
     "base_uri": "https://localhost:8080/"
    },
    "id": "80wEEOLsb9JT",
    "outputId": "f77aeeb9-9e3a-4343-fc17-ba16866d71df"
   },
   "outputs": [
    {
     "data": {
      "text/plain": [
       "ndvi_ne                                  0\n",
       "ndvi_nw                                  0\n",
       "ndvi_se                                  0\n",
       "ndvi_sw                                  0\n",
       "precipitation_amt_mm                     0\n",
       "reanalysis_air_temp_k                    0\n",
       "reanalysis_avg_temp_k                    0\n",
       "reanalysis_dew_point_temp_k              0\n",
       "reanalysis_max_air_temp_k                0\n",
       "reanalysis_min_air_temp_k                0\n",
       "reanalysis_precip_amt_kg_per_m2          0\n",
       "reanalysis_relative_humidity_percent     0\n",
       "reanalysis_sat_precip_amt_mm             0\n",
       "reanalysis_specific_humidity_g_per_kg    0\n",
       "reanalysis_tdtr_k                        0\n",
       "station_avg_temp_c                       0\n",
       "station_diur_temp_rng_c                  0\n",
       "station_max_temp_c                       0\n",
       "station_min_temp_c                       0\n",
       "station_precip_mm                        0\n",
       "dtype: int64"
      ]
     },
     "execution_count": 10,
     "metadata": {},
     "output_type": "execute_result"
    }
   ],
   "source": [
    "df.isna().sum()\n",
    "# ffill: propagate last valid observation forward to next valid backfill\n",
    "# @ Check other methods\n",
    "df.fillna(method=\"bfill\", inplace=True)\n",
    "df.isna().sum()"
   ]
  },
  {
   "cell_type": "markdown",
   "metadata": {
    "id": "e4m_71HQb9Jk"
   },
   "source": [
    "## PCA\n",
    "Normalize the data and apply find best principal components."
   ]
  },
  {
   "cell_type": "code",
   "execution_count": 11,
   "metadata": {
    "id": "XRWyUwJtb9Jm"
   },
   "outputs": [],
   "source": [
    "scaler = sklearn.preprocessing.StandardScaler()\n",
    "#scaler = sklearn.preprocessing.MinMaxScaler()\n",
    "X = scaler.fit_transform(df)"
   ]
  },
  {
   "cell_type": "code",
   "execution_count": 12,
   "metadata": {
    "colab": {
     "base_uri": "https://localhost:8080/"
    },
    "id": "pmhr1WcYkkKa",
    "outputId": "9dac3ffd-07aa-4edc-e42a-223fb2402ba4"
   },
   "outputs": [
    {
     "data": {
      "text/plain": [
       "(364, 20)"
      ]
     },
     "execution_count": 12,
     "metadata": {},
     "output_type": "execute_result"
    }
   ],
   "source": [
    "from sklearn.decomposition import PCA\n",
    "pca = PCA()\n",
    "X_pca = pca.fit_transform(X)\n",
    "X_pca.shape"
   ]
  },
  {
   "cell_type": "markdown",
   "metadata": {
    "id": "P1QbTMv4xyLi"
   },
   "source": [
    "## Prepare working set"
   ]
  },
  {
   "cell_type": "code",
   "execution_count": 16,
   "metadata": {
    "id": "BMP4yaM_xyLk"
   },
   "outputs": [],
   "source": [
    "#features = ['ndvi_ne', 'ndvi_nw', 'ndvi_se', 'ndvi_sw', 'precipitation_amt_mm', 'reanalysis_precip_amt_kg_per_m2', 'reanalysis_specific_humidity_g_per_kg']\n",
    "X = pd.DataFrame(X, index=df.index, columns=all_features)"
   ]
  },
  {
   "cell_type": "markdown",
   "metadata": {
    "id": "wmaJJaRlyS0y"
   },
   "source": [
    "# 1. Baseline"
   ]
  },
  {
   "cell_type": "markdown",
   "metadata": {
    "id": "sJqAo9kqJz1_"
   },
   "source": [
    "### Helper functions"
   ]
  },
  {
   "cell_type": "code",
   "execution_count": 151,
   "metadata": {
    "id": "bnysM-GTIe12"
   },
   "outputs": [],
   "source": [
    "def split_to_train(X, y, test_size=0.1):\n",
    "      return train_test_split(pd.concat([X, y], axis=1), test_size=test_size)\n",
    "    \n",
    "def get_predictions(regressor, X):\n",
    "    return regressor.predict(X)\n",
    "\n",
    "def get_mae(regressor, X, y):\n",
    "    y_pred = get_predictions(regressor, X)\n",
    "    return mean_absolute_error(y_pred, y)\n",
    "\n",
    "def fit_regressor(regressor, X, y):\n",
    "    train, test = split_to_train(X, y)\n",
    "    regressor.fit(X=train.drop(['total_cases'], axis=1), y=train['total_cases'])\n",
    "    \n",
    "    return get_mae(regressor, test.drop(['total_cases'], axis=1), test['total_cases'])\n",
    "\n",
    "def generate_visualization(regressor, X, y):\n",
    "    y_pred = regressor.predict(X)\n",
    "    mae = mean_absolute_error(y, y_pred)\n",
    "\n",
    "    plt.plot(np.arange(len(X)), y, c='r', label='data')\n",
    "    plt.plot(np.arange(len(X)), y_pred, c='g', label='prediction')\n",
    "    plt.axis('tight')\n",
    "    plt.legend()\n",
    "    #plt.title(\"RandomForests GridSearchCV (MAE = %6.2f')\" % ( mae))\n",
    "\n",
    "    plt.show()\n",
    "    return mae\n",
    "\n",
    "def get_fold_accuracy(regressor, X, y, n_splits=10):\n",
    "    fold_accuracy = []\n",
    "    cv = KFold(n_splits, shuffle=False)\n",
    "    for train_fold, test_fold in cv.split(X):\n",
    "        X_train = X.iloc[train_fold]\n",
    "        X_test = X.iloc[test_fold]\n",
    "        y_train = y.iloc[train_fold]\n",
    "        y_test = y.iloc[test_fold]\n",
    "\n",
    "        regressor.fit(X=X_train, y=y_train.values.ravel())\n",
    "        fold_accuracy.append(get_mae(regressor, X_test, y_test))\n",
    "    return fold_accuracy\n",
    "\n",
    "def get_accuracy(regressor, X, y, n_splits=10):\n",
    "    fold_accuracy = get_fold_accuracy(regressor, X, y, n_splits)\n",
    "    return sum(fold_accuracy)/len(fold_accuracy)\n",
    "\n",
    "def generate_plot(X, y, regressor, param_name, to=30, n_split=10):\n",
    "    mae = []\n",
    "    for i in range(2, to):\n",
    "        regressor.set_params(**{param_name:i})\n",
    "        fold_accuracy = get_fold_accuracy(regressor, X, y, n_split)\n",
    "        mae.append(sum(fold_accuracy)/len(fold_accuracy))\n",
    "\n",
    "    label = type(regressor).__name__\n",
    "\n",
    "    if type(regressor).__name__ == 'KNeighborsRegressor':\n",
    "        label = regressor.get_params()['weights']\n",
    "    elif type(regressor).__name__ == 'RandomForestRegressor':\n",
    "        params = regressor.get_params()\n",
    "        n_estimators = params['n_estimators']\n",
    "        max_depth = params[param_name]\n",
    "        label = f'n_estimators={n_estimators}'\n",
    "\n",
    "    plt.plot(range(1, len(mae)+1), mae, marker='o', \n",
    "           label=label)\n",
    "    print ('Min Value: {} ({})'.format(min(mae), np.argmin(mae) + 1))\n",
    "    plt.ylabel('MAE')\n",
    "    plt.legend()\n",
    "\n",
    "def save_results(y_pred, name):\n",
    "    res = np.rint(y_pred) # round\n",
    "    res = res.astype(int) # cast to int\n",
    "    aux = pd.DataFrame(res, index=pd.MultiIndex.from_arrays(record_names.values.T), columns=['predicition'])\n",
    "    aux.to_csv(name)\n",
    "    return name"
   ]
  },
  {
   "cell_type": "markdown",
   "metadata": {
    "id": "6TdCNK-w1EvD"
   },
   "source": [
    "## 1.1 KNN\n",
    "\n",
    "### 1.1.1 Mean absolute error"
   ]
  },
  {
   "cell_type": "code",
   "execution_count": 46,
   "metadata": {
    "colab": {
     "base_uri": "https://localhost:8080/",
     "height": 306
    },
    "id": "UUwltQU7BX_M",
    "outputId": "7eed04e1-3a99-4471-fe48-7fceceaefed4"
   },
   "outputs": [
    {
     "name": "stdout",
     "output_type": "stream",
     "text": [
      "Min Value: 37.44903846153847 (5)\n",
      "Min Value: 37.483090675719424 (7)\n"
     ]
    },
    {
     "data": {
      "image/png": "[encoded data removed]",
      "text/plain": [
       "<Figure size 432x288 with 1 Axes>"
      ]
     },
     "metadata": {},
     "output_type": "display_data"
    }
   ],
   "source": [
    "for weights in ['uniform', 'distance']:\n",
    "    knn = neighbors.KNeighborsRegressor(weights=weights)\n",
    "    generate_plot(X, y, knn, 'n_neighbors', 20, 30)\n",
    "plt.show()  "
   ]
  },
  {
   "cell_type": "markdown",
   "metadata": {
    "id": "8dseC0tdwYof"
   },
   "source": [
    "### 1.1.2 Predictions\n",
    "\n",
    "#### Model creation"
   ]
  },
  {
   "cell_type": "code",
   "execution_count": 92,
   "metadata": {
    "id": "w3TiLBZr47iv"
   },
   "outputs": [],
   "source": [
    "result_files = []"
   ]
  },
  {
   "cell_type": "code",
   "execution_count": 105,
   "metadata": {
    "colab": {
     "base_uri": "https://localhost:8080/"
    },
    "id": "hCgianfcwYA2",
    "outputId": "23a6f79e-15f4-4e30-a952-1db505fb246a"
   },
   "outputs": [
    {
     "name": "stdout",
     "output_type": "stream",
     "text": [
      "MAE:  29.097297297297295\n"
     ]
    }
   ],
   "source": [
    "n_neighbors = 5\n",
    "weights = 'uniform'\n",
    "knn = KNeighborsRegressor(n_neighbors=n_neighbors, weights=weights) \n",
    "\n",
    "print('MAE: ', fit_regressor(knn, X, y))"
   ]
  },
  {
   "cell_type": "code",
   "execution_count": 106,
   "metadata": {},
   "outputs": [
    {
     "data": {
      "text/plain": [
       "(364,)"
      ]
     },
     "execution_count": 106,
     "metadata": {},
     "output_type": "execute_result"
    }
   ],
   "source": [
    "y_pred = get_predictions(knn, X)\n",
    "y_pred.shape"
   ]
  },
  {
   "cell_type": "markdown",
   "metadata": {
    "id": "zhN2SxIi1ys0"
   },
   "source": [
    "### 1.1.3 Save results"
   ]
  },
  {
   "cell_type": "code",
   "execution_count": 107,
   "metadata": {
    "id": "cMQZm6741x4a"
   },
   "outputs": [],
   "source": [
    "file_name = save_results(y_pred, 'knn_results.csv')\n",
    "result_files.append(file_name)"
   ]
  },
  {
   "cell_type": "markdown",
   "metadata": {
    "id": "C0Hp9KUa3rQd"
   },
   "source": [
    "\n",
    "### 1.1.4 Visualisation"
   ]
  },
  {
   "cell_type": "code",
   "execution_count": 108,
   "metadata": {
    "colab": {
     "base_uri": "https://localhost:8080/",
     "height": 365
    },
    "id": "b3RldxNH3u0M",
    "outputId": "bd652be3-02e7-4819-db20-78bd7a317a8a"
   },
   "outputs": [
    {
     "data": {
      "image/png": "[encoded data removed]",
      "text/plain": [
       "<Figure size 432x288 with 1 Axes>"
      ]
     },
     "metadata": {},
     "output_type": "display_data"
    },
    {
     "data": {
      "text/plain": [
       "25.25824175824176"
      ]
     },
     "execution_count": 108,
     "metadata": {},
     "output_type": "execute_result"
    }
   ],
   "source": [
    "generate_visualization(knn, X, y)"
   ]
  },
  {
   "cell_type": "markdown",
   "metadata": {
    "id": "lrQoaHGZ1MxE"
   },
   "source": [
    "## 1.2 Decision Tree"
   ]
  },
  {
   "cell_type": "markdown",
   "metadata": {
    "id": "5yyfqEMc5gxv"
   },
   "source": [
    "### 1.2.1 Mean absolute error"
   ]
  },
  {
   "cell_type": "code",
   "execution_count": 109,
   "metadata": {
    "colab": {
     "base_uri": "https://localhost:8080/",
     "height": 287
    },
    "id": "a45l9pY1LgzM",
    "outputId": "f5f96990-9ecd-4a6b-ba44-d047b6b4d4e3"
   },
   "outputs": [
    {
     "name": "stdout",
     "output_type": "stream",
     "text": [
      "Min Value: 31.259754339726964 (2)\n"
     ]
    },
    {
     "data": {
      "image/png": "[encoded data removed]",
      "text/plain": [
       "<Figure size 432x288 with 1 Axes>"
      ]
     },
     "metadata": {},
     "output_type": "display_data"
    }
   ],
   "source": [
    "dt = DecisionTreeRegressor()\n",
    "generate_plot(X, y, dt, 'max_depth', 30, 10)\n",
    "plt.show()"
   ]
  },
  {
   "cell_type": "markdown",
   "metadata": {
    "id": "viAWMiuF5Qy0"
   },
   "source": [
    "### 1.2.2 Predictions"
   ]
  },
  {
   "cell_type": "code",
   "execution_count": 111,
   "metadata": {
    "colab": {
     "base_uri": "https://localhost:8080/"
    },
    "id": "qXzn0Gnec1zB",
    "outputId": "15af2596-beef-4c41-c99c-a71098d0b1f7"
   },
   "outputs": [
    {
     "data": {
      "text/plain": [
       "25.50996940336563"
      ]
     },
     "execution_count": 111,
     "metadata": {},
     "output_type": "execute_result"
    }
   ],
   "source": [
    "dt = DecisionTreeRegressor(max_depth=3)\n",
    "fit_regressor(dt, X, y)"
   ]
  },
  {
   "cell_type": "code",
   "execution_count": 113,
   "metadata": {},
   "outputs": [],
   "source": [
    "y_pred = get_predictions(dt, X)"
   ]
  },
  {
   "cell_type": "markdown",
   "metadata": {
    "id": "0k19wQKP5X1T"
   },
   "source": [
    "### 1.2.3 Save results"
   ]
  },
  {
   "cell_type": "code",
   "execution_count": 114,
   "metadata": {
    "id": "3G2TLualFOFM"
   },
   "outputs": [],
   "source": [
    "file_name = save_results(y_pred, 'DecisionTree_results')\n",
    "result_files.append(file_name)"
   ]
  },
  {
   "cell_type": "markdown",
   "metadata": {
    "id": "6FidMS8c5dKE"
   },
   "source": [
    "### 1.2.4 Visualisation"
   ]
  },
  {
   "cell_type": "code",
   "execution_count": 115,
   "metadata": {
    "colab": {
     "base_uri": "https://localhost:8080/",
     "height": 365
    },
    "id": "SQYTauZ_FdX_",
    "outputId": "6aaa9986-df2f-4cb7-f0ba-13d4c495b43c"
   },
   "outputs": [
    {
     "data": {
      "image/png": "[encoded data removed]",
      "text/plain": [
       "<Figure size 432x288 with 1 Axes>"
      ]
     },
     "metadata": {},
     "output_type": "display_data"
    },
    {
     "data": {
      "text/plain": [
       "22.468364261524638"
      ]
     },
     "execution_count": 115,
     "metadata": {},
     "output_type": "execute_result"
    }
   ],
   "source": [
    "generate_visualization(dt, X, y)"
   ]
  },
  {
   "cell_type": "markdown",
   "metadata": {
    "id": "jGckn8UO2ci1"
   },
   "source": [
    "## 1.3 Random forest"
   ]
  },
  {
   "cell_type": "markdown",
   "metadata": {
    "id": "jE3rHEhEPPPp"
   },
   "source": [
    "### 1.3.1 Mean absolute error"
   ]
  },
  {
   "cell_type": "code",
   "execution_count": 119,
   "metadata": {
    "colab": {
     "base_uri": "https://localhost:8080/",
     "height": 383
    },
    "id": "Ub_WZDdP2b3i",
    "outputId": "74f8a3ac-7439-4e23-92fa-ec92e5a0815c"
   },
   "outputs": [
    {
     "name": "stdout",
     "output_type": "stream",
     "text": [
      "Min Value: 35.15007507507507 (3)\n",
      "Min Value: 35.28732482482483 (3)\n",
      "Min Value: 34.400731981981984 (3)\n",
      "Min Value: 34.66747747747748 (1)\n",
      "Min Value: 35.20391641641642 (1)\n",
      "Min Value: 34.858649721149725 (1)\n"
     ]
    },
    {
     "data": {
      "image/png": "[encoded data removed]",
      "text/plain": [
       "<Figure size 432x288 with 1 Axes>"
      ]
     },
     "metadata": {},
     "output_type": "display_data"
    }
   ],
   "source": [
    "max_estimators = 8\n",
    "max_max_depth = 16\n",
    "for n in range(2, max_estimators):\n",
    "    rf = RandomForestRegressor(n_estimators=n, criterion='mae', random_state=0)\n",
    "    generate_plot(X, y, rf, 'max_depth', max_max_depth, 10)\n",
    "plt.xlabel('depth')\n",
    "plt.show()"
   ]
  },
  {
   "cell_type": "markdown",
   "metadata": {
    "id": "wTweHQg4PTCe"
   },
   "source": [
    "### 1.3.2 Predictions"
   ]
  },
  {
   "cell_type": "code",
   "execution_count": 122,
   "metadata": {
    "colab": {
     "base_uri": "https://localhost:8080/"
    },
    "id": "x8IewXrBPS9O",
    "outputId": "cfd2ae5f-affc-46aa-cebe-9a08f62b4c22"
   },
   "outputs": [
    {
     "data": {
      "text/plain": [
       "27.16891891891892"
      ]
     },
     "execution_count": 122,
     "metadata": {},
     "output_type": "execute_result"
    }
   ],
   "source": [
    "rf = RandomForestRegressor(n_estimators=4, max_depth=3, criterion='mae', random_state=0)\n",
    "fit_regressor(rf, X, y)"
   ]
  },
  {
   "cell_type": "code",
   "execution_count": 123,
   "metadata": {
    "colab": {
     "base_uri": "https://localhost:8080/"
    },
    "id": "x8IewXrBPS9O",
    "outputId": "cfd2ae5f-affc-46aa-cebe-9a08f62b4c22"
   },
   "outputs": [],
   "source": [
    "y_pred = get_predictions(rf, X)"
   ]
  },
  {
   "cell_type": "markdown",
   "metadata": {
    "id": "8VFxm6pAPWmD"
   },
   "source": [
    "### 1.3.3 Save results"
   ]
  },
  {
   "cell_type": "code",
   "execution_count": 124,
   "metadata": {
    "id": "zGQVeL5PPmzm"
   },
   "outputs": [],
   "source": [
    "file_name = save_results(y_pred, 'RandomForest_results')\n",
    "result_files.append(file_name)"
   ]
  },
  {
   "cell_type": "markdown",
   "metadata": {
    "id": "YtwV1G3WPZXB"
   },
   "source": [
    "### 1.3.4 Visualisation"
   ]
  },
  {
   "cell_type": "code",
   "execution_count": 125,
   "metadata": {
    "colab": {
     "base_uri": "https://localhost:8080/",
     "height": 368
    },
    "id": "Z2bJTSNiVbGp",
    "outputId": "1232e884-1a04-4770-8099-c0cc8837f4fa"
   },
   "outputs": [
    {
     "data": {
      "image/png": "[encoded data removed]",
      "text/plain": [
       "<Figure size 432x288 with 1 Axes>"
      ]
     },
     "metadata": {},
     "output_type": "display_data"
    },
    {
     "data": {
      "text/plain": [
       "23.663804945054945"
      ]
     },
     "execution_count": 125,
     "metadata": {},
     "output_type": "execute_result"
    }
   ],
   "source": [
    "generate_visualization(rf, X, y)"
   ]
  },
  {
   "cell_type": "markdown",
   "metadata": {
    "id": "0M-FHtfV303o"
   },
   "source": [
    "# 2. Optimization\n",
    "\n",
    "## Helper functions"
   ]
  },
  {
   "cell_type": "code",
   "execution_count": 133,
   "metadata": {},
   "outputs": [],
   "source": [
    "def report(results, n_top=3): \n",
    "    for i in range(1, n_top + 1):\n",
    "        candidates = np.flatnonzero(results['rank_test_score'] == i)\n",
    "        for candidate in candidates:\n",
    "            print(\"Model with rank: {0}\".format(i))\n",
    "            print(\"Mean validation score: {0:.3f} (std: {1:.3f})\".format(\n",
    "                  results['mean_test_score'][candidate],\n",
    "                  results['std_test_score'][candidate]))\n",
    "            print(\"Parameters: {0}\\n\".format(results['params'][candidate]))"
   ]
  },
  {
   "cell_type": "markdown",
   "metadata": {
    "id": "0M-FHtfV303o"
   },
   "source": [
    "## 2.1 Boosting"
   ]
  },
  {
   "cell_type": "code",
   "execution_count": 126,
   "metadata": {
    "id": "a2ZI0YBpffnv"
   },
   "outputs": [],
   "source": [
    "regressor_names = ['KNN', 'Decision tree', 'Random Forest', 'Ada Boost', 'GradientBoosting']\n",
    "regressors = [KNeighborsRegressor(n_neighbors=n_neighbors, weights=weights),\n",
    "              DecisionTreeRegressor(max_depth=6),\n",
    "              RandomForestRegressor(n_estimators=4, max_depth=3,\n",
    "                                    criterion='mae',random_state=0),\n",
    "              AdaBoostRegressor(RandomForestRegressor(n_estimators=4, \n",
    "                                max_depth=3, criterion='mae', random_state=0)),\n",
    "              GradientBoostingRegressor(n_estimators=100, learning_rate=0.1,\n",
    "                                   max_depth=4, random_state=0, loss='ls')]"
   ]
  },
  {
   "cell_type": "code",
   "execution_count": 127,
   "metadata": {
    "colab": {
     "base_uri": "https://localhost:8080/"
    },
    "id": "3M-HAyZvdkju",
    "outputId": "263b3729-05ea-4b8c-9281-e168f9b27b3c"
   },
   "outputs": [
    {
     "name": "stdout",
     "output_type": "stream",
     "text": [
      "KNN:\n",
      "\tMAE:42.23879928315412\n",
      "Decision tree:\n",
      "\tMAE:42.19724065518248\n",
      "Random Forest:\n",
      "\tMAE:39.19174507168458\n",
      "Ada Boost:\n",
      "\tMAE:44.98760080645161\n",
      "GradientBoosting:\n",
      "\tMAE:40.775016838770675\n"
     ]
    }
   ],
   "source": [
    "for i, reg in enumerate(regressors):\n",
    "    print(f'{regressor_names[i]}:\\n\\tMAE:{get_accuracy(reg, X, y, 12)}')"
   ]
  },
  {
   "cell_type": "code",
   "execution_count": 128,
   "metadata": {
    "id": "fkgPP-yygdR0"
   },
   "outputs": [],
   "source": [
    "regressors_df = pd.DataFrame({regressor_names[1]:regressors[1].feature_importances_, \n",
    "              regressor_names[2]:regressors[2].feature_importances_, \n",
    "              regressor_names[3]:regressors[3].feature_importances_,\n",
    "              regressor_names[4]:regressors[4].feature_importances_, },\n",
    "              index=all_features)"
   ]
  },
  {
   "cell_type": "code",
   "execution_count": 129,
   "metadata": {
    "colab": {
     "base_uri": "https://localhost:8080/",
     "height": 373
    },
    "id": "Il98i6TRzSa5",
    "outputId": "3d57a187-a095-4078-be4e-472a97a8cfcc"
   },
   "outputs": [
    {
     "data": {
      "text/plain": [
       "<matplotlib.axes._subplots.AxesSubplot at 0x7f75682cc7c0>"
      ]
     },
     "execution_count": 129,
     "metadata": {},
     "output_type": "execute_result"
    },
    {
     "data": {
      "image/png": "[encoded data removed]",
      "text/plain": [
       "<Figure size 432x288 with 2 Axes>"
      ]
     },
     "metadata": {},
     "output_type": "display_data"
    }
   ],
   "source": [
    "sns.heatmap(regressors_df, annot=True)"
   ]
  },
  {
   "cell_type": "markdown",
   "metadata": {
    "id": "uZzNdTcalqSO"
   },
   "source": [
    "## 2.2 Grid Search\n",
    "\n",
    "### 2.2.1 Setting"
   ]
  },
  {
   "cell_type": "code",
   "execution_count": 145,
   "metadata": {
    "id": "8wwALPk8LPs-"
   },
   "outputs": [],
   "source": [
    "train, test = split_to_train(X, y, 0.2)\n",
    "X_train = train.drop(['total_cases'], axis=1)\n",
    "y_train = train['total_cases']\n",
    "X_test = test.drop(['total_cases'], axis=1)\n",
    "y_test = test['total_cases']"
   ]
  },
  {
   "cell_type": "code",
   "execution_count": 146,
   "metadata": {
    "id": "tzxeL4q2I8FI"
   },
   "outputs": [],
   "source": [
    "param_dist = {\"n_estimators\": [32, 64, 128], # Number of trees in random forest\n",
    "              \"max_features\": ['auto', 'sqrt'], # Number of features to consider at every split\n",
    "              \"max_depth\": [8, 4, 2], # Maximum number of levels in tree\n",
    "              \"min_samples_split\": [2, 4, 6], #  Minimum number of samples required to split a node\n",
    "              \"min_samples_leaf\": [8, 12, 16], # Minimum number of samples required at each leaf node\n",
    "              \"bootstrap\": [True, False] # Method of selecting samples for training each tree\n",
    "            }"
   ]
  },
  {
   "cell_type": "code",
   "execution_count": 147,
   "metadata": {
    "colab": {
     "base_uri": "https://localhost:8080/"
    },
    "id": "WhDUKuC6ltYF",
    "outputId": "717ff00a-63d7-4047-f3c4-cbaba9a89137"
   },
   "outputs": [
    {
     "data": {
      "text/plain": [
       "GridSearchCV(cv=5, estimator=RandomForestRegressor(),\n",
       "             param_grid={'bootstrap': [True, False], 'max_depth': [8, 4, 2],\n",
       "                         'max_features': ['auto', 'sqrt'],\n",
       "                         'min_samples_leaf': [8, 12, 16],\n",
       "                         'min_samples_split': [2, 4, 6],\n",
       "                         'n_estimators': [32, 64, 128]})"
      ]
     },
     "execution_count": 147,
     "metadata": {},
     "output_type": "execute_result"
    }
   ],
   "source": [
    "rf = RandomForestRegressor()\n",
    "grid_regres = GridSearchCV(estimator=rf, param_grid=param_dist, cv=5)\n",
    "\n",
    "grid_regres.fit(X_test, y_test.values.ravel())"
   ]
  },
  {
   "cell_type": "markdown",
   "metadata": {
    "id": "hlcz62HHR-eI"
   },
   "source": [
    "### 2.2.2 Results"
   ]
  },
  {
   "cell_type": "code",
   "execution_count": 148,
   "metadata": {
    "colab": {
     "base_uri": "https://localhost:8080/"
    },
    "id": "IdIIC-mOR9bM",
    "outputId": "e112aa9c-e91e-4598-eb28-49a41b6a1c45"
   },
   "outputs": [
    {
     "name": "stdout",
     "output_type": "stream",
     "text": [
      "Model with rank: 1\n",
      "Mean validation score: -0.488 (std: 0.565)\n",
      "Parameters: {'bootstrap': False, 'max_depth': 8, 'max_features': 'sqrt', 'min_samples_leaf': 8, 'min_samples_split': 2, 'n_estimators': 64}\n",
      "\n",
      "Model with rank: 2\n",
      "Mean validation score: -0.659 (std: 0.858)\n",
      "Parameters: {'bootstrap': False, 'max_depth': 8, 'max_features': 'sqrt', 'min_samples_leaf': 8, 'min_samples_split': 6, 'n_estimators': 32}\n",
      "\n",
      "Model with rank: 3\n",
      "Mean validation score: -0.717 (std: 0.906)\n",
      "Parameters: {'bootstrap': False, 'max_depth': 4, 'max_features': 'sqrt', 'min_samples_leaf': 8, 'min_samples_split': 2, 'n_estimators': 128}\n",
      "\n",
      "Model with rank: 4\n",
      "Mean validation score: -0.721 (std: 0.966)\n",
      "Parameters: {'bootstrap': False, 'max_depth': 4, 'max_features': 'sqrt', 'min_samples_leaf': 8, 'min_samples_split': 2, 'n_estimators': 32}\n",
      "\n",
      "Model with rank: 5\n",
      "Mean validation score: -0.722 (std: 0.884)\n",
      "Parameters: {'bootstrap': False, 'max_depth': 2, 'max_features': 'sqrt', 'min_samples_leaf': 8, 'min_samples_split': 2, 'n_estimators': 32}\n",
      "\n",
      "Model with rank: 6\n",
      "Mean validation score: -0.727 (std: 0.973)\n",
      "Parameters: {'bootstrap': False, 'max_depth': 8, 'max_features': 'sqrt', 'min_samples_leaf': 8, 'min_samples_split': 6, 'n_estimators': 64}\n",
      "\n",
      "Model with rank: 7\n",
      "Mean validation score: -0.730 (std: 0.897)\n",
      "Parameters: {'bootstrap': False, 'max_depth': 2, 'max_features': 'sqrt', 'min_samples_leaf': 8, 'min_samples_split': 6, 'n_estimators': 32}\n",
      "\n",
      "Model with rank: 8\n",
      "Mean validation score: -0.738 (std: 0.871)\n",
      "Parameters: {'bootstrap': False, 'max_depth': 4, 'max_features': 'sqrt', 'min_samples_leaf': 12, 'min_samples_split': 2, 'n_estimators': 32}\n",
      "\n",
      "Model with rank: 9\n",
      "Mean validation score: -0.742 (std: 0.935)\n",
      "Parameters: {'bootstrap': False, 'max_depth': 8, 'max_features': 'sqrt', 'min_samples_leaf': 8, 'min_samples_split': 6, 'n_estimators': 128}\n",
      "\n",
      "Model with rank: 10\n",
      "Mean validation score: -0.746 (std: 0.912)\n",
      "Parameters: {'bootstrap': False, 'max_depth': 4, 'max_features': 'sqrt', 'min_samples_leaf': 8, 'min_samples_split': 4, 'n_estimators': 32}\n",
      "\n"
     ]
    }
   ],
   "source": [
    "report(grid_regres.cv_results_, n_top=10)"
   ]
  },
  {
   "cell_type": "code",
   "execution_count": 149,
   "metadata": {
    "colab": {
     "base_uri": "https://localhost:8080/"
    },
    "id": "60AJldfDRvv9",
    "outputId": "18f79fdc-3d05-4068-f7e6-6c0e0e62b29d"
   },
   "outputs": [
    {
     "data": {
      "text/plain": [
       "{'bootstrap': False,\n",
       " 'max_depth': 8,\n",
       " 'max_features': 'sqrt',\n",
       " 'min_samples_leaf': 8,\n",
       " 'min_samples_split': 2,\n",
       " 'n_estimators': 64}"
      ]
     },
     "execution_count": 149,
     "metadata": {},
     "output_type": "execute_result"
    }
   ],
   "source": [
    "grid_regres.best_params_"
   ]
  },
  {
   "cell_type": "code",
   "execution_count": 152,
   "metadata": {
    "colab": {
     "base_uri": "https://localhost:8080/"
    },
    "id": "DcnbZBm7Mpg_",
    "outputId": "20f1b639-580c-4ed1-d5ab-fefaa03861f3"
   },
   "outputs": [
    {
     "data": {
      "text/plain": [
       "32.28477274809478"
      ]
     },
     "execution_count": 152,
     "metadata": {},
     "output_type": "execute_result"
    }
   ],
   "source": [
    "get_mae(grid_regres.best_estimator_, X, y)"
   ]
  },
  {
   "cell_type": "markdown",
   "metadata": {
    "id": "vNaHkDN-NE2H"
   },
   "source": [
    "### 2.2.3 Visualisation"
   ]
  },
  {
   "cell_type": "code",
   "execution_count": 137,
   "metadata": {
    "colab": {
     "base_uri": "https://localhost:8080/",
     "height": 365
    },
    "id": "DKqZnvKcNEUY",
    "outputId": "f9b08e13-7d26-41ef-f95e-679b689fe26d"
   },
   "outputs": [
    {
     "data": {
      "image/png": "[encoded data removed]",
      "text/plain": [
       "<Figure size 432x288 with 1 Axes>"
      ]
     },
     "metadata": {},
     "output_type": "display_data"
    },
    {
     "data": {
      "text/plain": [
       "27.73752843913629"
      ]
     },
     "execution_count": 137,
     "metadata": {},
     "output_type": "execute_result"
    }
   ],
   "source": [
    "generate_visualization(grid_regres.best_estimator_, X, y)"
   ]
  },
  {
   "cell_type": "markdown",
   "metadata": {
    "id": "5H1eCjifQqC7"
   },
   "source": [
    "## 2.3 Randomized Search\n",
    "\n",
    "### 2.3.1 Setting"
   ]
  },
  {
   "cell_type": "code",
   "execution_count": 138,
   "metadata": {
    "id": "Dty-DRFtQ0yQ"
   },
   "outputs": [],
   "source": [
    "param_dist = {\"n_estimators\": [4, 8, 16, 32, 64, 128], # Number of trees in random forest\n",
    "              \"max_features\": ['auto', 'sqrt'], # Number of features to consider at every split\n",
    "              \"max_depth\": [16, 12, 8, 4, 2, None], # Maximum number of levels in tree\n",
    "              \"min_samples_split\": sp_randint(2, 50), #  Minimum number of samples required to split a node\n",
    "              \"min_samples_leaf\": sp_randint(1, 50), # Minimum number of samples required at each leaf node\n",
    "              \"bootstrap\": [True, False], # Method of selecting samples for training each tree\n",
    "              \"criterion\": [\"mse\", \"mae\"]}"
   ]
  },
  {
   "cell_type": "code",
   "execution_count": 139,
   "metadata": {
    "colab": {
     "base_uri": "https://localhost:8080/"
    },
    "id": "mzkvP-ERQ3ya",
    "outputId": "0cae490e-1175-4756-883b-2bf0fb128786"
   },
   "outputs": [
    {
     "data": {
      "text/plain": [
       "RandomizedSearchCV(cv=5, estimator=RandomForestRegressor(), n_iter=100,\n",
       "                   n_jobs=-1,\n",
       "                   param_distributions={'bootstrap': [True, False],\n",
       "                                        'criterion': ['mse', 'mae'],\n",
       "                                        'max_depth': [16, 12, 8, 4, 2, None],\n",
       "                                        'max_features': ['auto', 'sqrt'],\n",
       "                                        'min_samples_leaf': <scipy.stats._distn_infrastructure.rv_frozen object at 0x7f7568663220>,\n",
       "                                        'min_samples_split': <scipy.stats._distn_infrastructure.rv_frozen object at 0x7f7568115ac0>,\n",
       "                                        'n_estimators': [4, 8, 16, 32, 64,\n",
       "                                                         128]},\n",
       "                   random_state=0)"
      ]
     },
     "execution_count": 139,
     "metadata": {},
     "output_type": "execute_result"
    }
   ],
   "source": [
    "rnd_regres = RandomizedSearchCV(estimator=rf, param_distributions=param_dist, \n",
    "                               n_iter=100, cv=5, random_state=0, n_jobs=-1)\n",
    "rnd_regres.fit(X_test, y_test.values.ravel())"
   ]
  },
  {
   "cell_type": "markdown",
   "metadata": {
    "id": "u3Evd1d-Sc01"
   },
   "source": [
    "### 2.3.2 Results"
   ]
  },
  {
   "cell_type": "code",
   "execution_count": 140,
   "metadata": {
    "colab": {
     "base_uri": "https://localhost:8080/"
    },
    "id": "JkoHGhU-Sb2o",
    "outputId": "d03a0450-91a0-4552-a4df-c04fae1e6ae3"
   },
   "outputs": [
    {
     "name": "stdout",
     "output_type": "stream",
     "text": [
      "Model with rank: 1\n",
      "Mean validation score: 0.384 (std: 0.317)\n",
      "Parameters: {'bootstrap': False, 'criterion': 'mae', 'max_depth': 12, 'max_features': 'auto', 'min_samples_leaf': 1, 'min_samples_split': 24, 'n_estimators': 4}\n",
      "\n",
      "Model with rank: 2\n",
      "Mean validation score: 0.261 (std: 0.260)\n",
      "Parameters: {'bootstrap': True, 'criterion': 'mse', 'max_depth': 16, 'max_features': 'auto', 'min_samples_leaf': 4, 'min_samples_split': 10, 'n_estimators': 4}\n",
      "\n",
      "Model with rank: 3\n",
      "Mean validation score: 0.198 (std: 0.223)\n",
      "Parameters: {'bootstrap': True, 'criterion': 'mae', 'max_depth': None, 'max_features': 'auto', 'min_samples_leaf': 1, 'min_samples_split': 38, 'n_estimators': 16}\n",
      "\n",
      "Model with rank: 4\n",
      "Mean validation score: 0.179 (std: 0.763)\n",
      "Parameters: {'bootstrap': True, 'criterion': 'mse', 'max_depth': 4, 'max_features': 'auto', 'min_samples_leaf': 3, 'min_samples_split': 30, 'n_estimators': 64}\n",
      "\n",
      "Model with rank: 5\n",
      "Mean validation score: 0.140 (std: 0.528)\n",
      "Parameters: {'bootstrap': True, 'criterion': 'mae', 'max_depth': None, 'max_features': 'auto', 'min_samples_leaf': 4, 'min_samples_split': 5, 'n_estimators': 8}\n",
      "\n",
      "Model with rank: 6\n",
      "Mean validation score: 0.139 (std: 0.193)\n",
      "Parameters: {'bootstrap': True, 'criterion': 'mae', 'max_depth': None, 'max_features': 'auto', 'min_samples_leaf': 4, 'min_samples_split': 36, 'n_estimators': 8}\n",
      "\n",
      "Model with rank: 7\n",
      "Mean validation score: 0.095 (std: 0.437)\n",
      "Parameters: {'bootstrap': False, 'criterion': 'mae', 'max_depth': 12, 'max_features': 'sqrt', 'min_samples_leaf': 3, 'min_samples_split': 22, 'n_estimators': 128}\n",
      "\n",
      "Model with rank: 8\n",
      "Mean validation score: 0.050 (std: 0.237)\n",
      "Parameters: {'bootstrap': False, 'criterion': 'mae', 'max_depth': 2, 'max_features': 'sqrt', 'min_samples_leaf': 5, 'min_samples_split': 15, 'n_estimators': 128}\n",
      "\n",
      "Model with rank: 9\n",
      "Mean validation score: -0.047 (std: 0.811)\n",
      "Parameters: {'bootstrap': False, 'criterion': 'mae', 'max_depth': 12, 'max_features': 'sqrt', 'min_samples_leaf': 1, 'min_samples_split': 12, 'n_estimators': 16}\n",
      "\n",
      "Model with rank: 10\n",
      "Mean validation score: -0.060 (std: 1.150)\n",
      "Parameters: {'bootstrap': False, 'criterion': 'mse', 'max_depth': 8, 'max_features': 'auto', 'min_samples_leaf': 1, 'min_samples_split': 12, 'n_estimators': 32}\n",
      "\n"
     ]
    }
   ],
   "source": [
    "report(rnd_regres.cv_results_, n_top=10)"
   ]
  },
  {
   "cell_type": "code",
   "execution_count": 141,
   "metadata": {
    "colab": {
     "base_uri": "https://localhost:8080/"
    },
    "id": "h70VEKo6Rq14",
    "outputId": "5d8f548f-fd35-4d0a-e204-5a0856503d52"
   },
   "outputs": [
    {
     "data": {
      "text/plain": [
       "{'bootstrap': False,\n",
       " 'criterion': 'mae',\n",
       " 'max_depth': 12,\n",
       " 'max_features': 'auto',\n",
       " 'min_samples_leaf': 1,\n",
       " 'min_samples_split': 24,\n",
       " 'n_estimators': 4}"
      ]
     },
     "execution_count": 141,
     "metadata": {},
     "output_type": "execute_result"
    }
   ],
   "source": [
    "rnd_regres.best_params_"
   ]
  },
  {
   "cell_type": "code",
   "execution_count": 142,
   "metadata": {
    "colab": {
     "base_uri": "https://localhost:8080/"
    },
    "id": "n8drMjSCRzRi",
    "outputId": "3091d662-d0af-400e-893c-55757047264d"
   },
   "outputs": [
    {
     "data": {
      "text/plain": [
       "43.496987612612614"
      ]
     },
     "execution_count": 142,
     "metadata": {},
     "output_type": "execute_result"
    }
   ],
   "source": [
    "get_mae(rnd_regres.best_estimator_, X, y)"
   ]
  },
  {
   "cell_type": "markdown",
   "metadata": {
    "id": "8Hz-DpslSgGu"
   },
   "source": [
    "### 2.3.3 Visualisation"
   ]
  },
  {
   "cell_type": "code",
   "execution_count": 143,
   "metadata": {
    "colab": {
     "base_uri": "https://localhost:8080/",
     "height": 365
    },
    "id": "MxyjBlulR1uj",
    "outputId": "7f371524-7e28-406c-b6b1-c33a9a78423a"
   },
   "outputs": [
    {
     "data": {
      "image/png": "[encoded data removed]",
      "text/plain": [
       "<Figure size 432x288 with 1 Axes>"
      ]
     },
     "metadata": {},
     "output_type": "display_data"
    },
    {
     "data": {
      "text/plain": [
       "21.65521978021978"
      ]
     },
     "execution_count": 143,
     "metadata": {},
     "output_type": "execute_result"
    }
   ],
   "source": [
    "generate_visualization(rnd_regres.best_estimator_, X, y)"
   ]
  },
  {
   "cell_type": "code",
   "execution_count": null,
   "metadata": {},
   "outputs": [],
   "source": []
  }
 ],
 "metadata": {
  "colab": {
   "collapsed_sections": [
    "9jhMWpZry6wG",
    "viAWMiuF5Qy0"
   ],
   "name": "Milestone1_supervised.ipynb",
   "provenance": [],
   "toc_visible": true
  },
  "kernelspec": {
   "display_name": "Python 3",
   "language": "python",
   "name": "python3"
  },
  "language_info": {
   "codemirror_mode": {
    "name": "ipython",
    "version": 3
   },
   "file_extension": ".py",
   "mimetype": "text/x-python",
   "name": "python",
   "nbconvert_exporter": "python",
   "pygments_lexer": "ipython3",
   "version": "3.8.3"
  }
 },
 "nbformat": 4,
 "nbformat_minor": 4
}
