{
 "cells": [
  {
   "cell_type": "markdown",
   "metadata": {
    "id": "Cbs4n2uvb9IE"
   },
   "source": [
    "# Milestone 2\n",
    "Supervised learning."
   ]
  },
  {
   "cell_type": "code",
   "execution_count": 1,
   "metadata": {
    "id": "H-emiI-kb9II"
   },
   "outputs": [],
   "source": [
    "import pandas as pd\n",
    "import numpy as np\n",
    "import seaborn as sns\n",
    "import plotly.express as px\n",
    "import sklearn\n",
    "import sklearn.preprocessing\n",
    "import sklearn.metrics\n",
    "import seaborn as sns; sns.set()\n",
    "\n",
    "from sklearn import neighbors\n",
    "from sklearn.neighbors import KNeighborsRegressor\n",
    "from sklearn.model_selection import KFold, train_test_split\n",
    "import matplotlib.pyplot as plt\n",
    "from sklearn.metrics import mean_absolute_error\n",
    "\n",
    "from sklearn.tree import DecisionTreeRegressor\n",
    "from sklearn.ensemble import RandomForestRegressor\n",
    "from sklearn.ensemble import AdaBoostRegressor\n",
    "from sklearn.ensemble import GradientBoostingRegressor\n",
    "from sklearn.model_selection import RandomizedSearchCV\n",
    "from sklearn.model_selection import GridSearchCV\n",
    "from scipy.stats import randint as sp_randint"
   ]
  },
  {
   "cell_type": "markdown",
   "metadata": {
    "id": "uKGqayHrb9In"
   },
   "source": [
    "## Load data"
   ]
  },
  {
   "cell_type": "code",
   "execution_count": 2,
   "metadata": {
    "id": "jVlLnqfTb9IX"
   },
   "outputs": [],
   "source": [
    "df = pd.read_csv('dengue_features_train.csv')\n",
    "y = pd.read_csv('dengue_labels_train.csv')"
   ]
  },
  {
   "cell_type": "code",
   "execution_count": 3,
   "metadata": {},
   "outputs": [
    {
     "data": {
      "text/plain": [
       "sj    936\n",
       "iq    520\n",
       "Name: city, dtype: int64"
      ]
     },
     "execution_count": 3,
     "metadata": {},
     "output_type": "execute_result"
    }
   ],
   "source": [
    "df['city'].value_counts()"
   ]
  },
  {
   "cell_type": "code",
   "execution_count": 4,
   "metadata": {
    "colab": {
     "base_uri": "https://localhost:8080/"
    },
    "id": "nmONU3y8b9I-",
    "outputId": "0f26248a-35ad-4e7b-bff9-520e032acf59"
   },
   "outputs": [
    {
     "data": {
      "text/plain": [
       "((1456, 20), (1456, 1))"
      ]
     },
     "execution_count": 4,
     "metadata": {},
     "output_type": "execute_result"
    }
   ],
   "source": [
    "df.drop(['week_start_date'], axis=1, inplace=True)\n",
    "df.set_index(['city', 'year', 'weekofyear'], inplace=True)\n",
    "all_features = df.columns\n",
    "y.set_index(['city', 'year', 'weekofyear'], inplace=True)\n",
    "df.shape, y.shape"
   ]
  },
  {
   "cell_type": "code",
   "execution_count": 5,
   "metadata": {
    "colab": {
     "base_uri": "https://localhost:8080/",
     "height": 257
    },
    "id": "Fm1gR7vVb9JI",
    "outputId": "e725eee0-2433-4f58-95f1-c5d4cd8c1a52"
   },
   "outputs": [
    {
     "data": {
      "text/html": [
       "<div>\n",
       "<style scoped>\n",
       "    .dataframe tbody tr th:only-of-type {\n",
       "        vertical-align: middle;\n",
       "    }\n",
       "\n",
       "    .dataframe tbody tr th {\n",
       "        vertical-align: top;\n",
       "    }\n",
       "\n",
       "    .dataframe thead th {\n",
       "        text-align: right;\n",
       "    }\n",
       "</style>\n",
       "<table border=\"1\" class=\"dataframe\">\n",
       "  <thead>\n",
       "    <tr style=\"text-align: right;\">\n",
       "      <th></th>\n",
       "      <th></th>\n",
       "      <th></th>\n",
       "      <th>ndvi_ne</th>\n",
       "      <th>ndvi_nw</th>\n",
       "      <th>ndvi_se</th>\n",
       "      <th>ndvi_sw</th>\n",
       "      <th>precipitation_amt_mm</th>\n",
       "      <th>reanalysis_air_temp_k</th>\n",
       "      <th>reanalysis_avg_temp_k</th>\n",
       "      <th>reanalysis_dew_point_temp_k</th>\n",
       "      <th>reanalysis_max_air_temp_k</th>\n",
       "      <th>reanalysis_min_air_temp_k</th>\n",
       "      <th>reanalysis_precip_amt_kg_per_m2</th>\n",
       "      <th>reanalysis_relative_humidity_percent</th>\n",
       "      <th>reanalysis_sat_precip_amt_mm</th>\n",
       "      <th>reanalysis_specific_humidity_g_per_kg</th>\n",
       "      <th>reanalysis_tdtr_k</th>\n",
       "      <th>station_avg_temp_c</th>\n",
       "      <th>station_diur_temp_rng_c</th>\n",
       "      <th>station_max_temp_c</th>\n",
       "      <th>station_min_temp_c</th>\n",
       "      <th>station_precip_mm</th>\n",
       "    </tr>\n",
       "    <tr>\n",
       "      <th>city</th>\n",
       "      <th>year</th>\n",
       "      <th>weekofyear</th>\n",
       "      <th></th>\n",
       "      <th></th>\n",
       "      <th></th>\n",
       "      <th></th>\n",
       "      <th></th>\n",
       "      <th></th>\n",
       "      <th></th>\n",
       "      <th></th>\n",
       "      <th></th>\n",
       "      <th></th>\n",
       "      <th></th>\n",
       "      <th></th>\n",
       "      <th></th>\n",
       "      <th></th>\n",
       "      <th></th>\n",
       "      <th></th>\n",
       "      <th></th>\n",
       "      <th></th>\n",
       "      <th></th>\n",
       "      <th></th>\n",
       "    </tr>\n",
       "  </thead>\n",
       "  <tbody>\n",
       "    <tr>\n",
       "      <th rowspan=\"5\" valign=\"top\">sj</th>\n",
       "      <th rowspan=\"5\" valign=\"top\">1990</th>\n",
       "      <th>18</th>\n",
       "      <td>0.122600</td>\n",
       "      <td>0.103725</td>\n",
       "      <td>0.198483</td>\n",
       "      <td>0.177617</td>\n",
       "      <td>12.42</td>\n",
       "      <td>297.572857</td>\n",
       "      <td>297.742857</td>\n",
       "      <td>292.414286</td>\n",
       "      <td>299.8</td>\n",
       "      <td>295.9</td>\n",
       "      <td>32.00</td>\n",
       "      <td>73.365714</td>\n",
       "      <td>12.42</td>\n",
       "      <td>14.012857</td>\n",
       "      <td>2.628571</td>\n",
       "      <td>25.442857</td>\n",
       "      <td>6.900000</td>\n",
       "      <td>29.4</td>\n",
       "      <td>20.0</td>\n",
       "      <td>16.0</td>\n",
       "    </tr>\n",
       "    <tr>\n",
       "      <th>19</th>\n",
       "      <td>0.169900</td>\n",
       "      <td>0.142175</td>\n",
       "      <td>0.162357</td>\n",
       "      <td>0.155486</td>\n",
       "      <td>22.82</td>\n",
       "      <td>298.211429</td>\n",
       "      <td>298.442857</td>\n",
       "      <td>293.951429</td>\n",
       "      <td>300.9</td>\n",
       "      <td>296.4</td>\n",
       "      <td>17.94</td>\n",
       "      <td>77.368571</td>\n",
       "      <td>22.82</td>\n",
       "      <td>15.372857</td>\n",
       "      <td>2.371429</td>\n",
       "      <td>26.714286</td>\n",
       "      <td>6.371429</td>\n",
       "      <td>31.7</td>\n",
       "      <td>22.2</td>\n",
       "      <td>8.6</td>\n",
       "    </tr>\n",
       "    <tr>\n",
       "      <th>20</th>\n",
       "      <td>0.032250</td>\n",
       "      <td>0.172967</td>\n",
       "      <td>0.157200</td>\n",
       "      <td>0.170843</td>\n",
       "      <td>34.54</td>\n",
       "      <td>298.781429</td>\n",
       "      <td>298.878571</td>\n",
       "      <td>295.434286</td>\n",
       "      <td>300.5</td>\n",
       "      <td>297.3</td>\n",
       "      <td>26.10</td>\n",
       "      <td>82.052857</td>\n",
       "      <td>34.54</td>\n",
       "      <td>16.848571</td>\n",
       "      <td>2.300000</td>\n",
       "      <td>26.714286</td>\n",
       "      <td>6.485714</td>\n",
       "      <td>32.2</td>\n",
       "      <td>22.8</td>\n",
       "      <td>41.4</td>\n",
       "    </tr>\n",
       "    <tr>\n",
       "      <th>21</th>\n",
       "      <td>0.128633</td>\n",
       "      <td>0.245067</td>\n",
       "      <td>0.227557</td>\n",
       "      <td>0.235886</td>\n",
       "      <td>15.36</td>\n",
       "      <td>298.987143</td>\n",
       "      <td>299.228571</td>\n",
       "      <td>295.310000</td>\n",
       "      <td>301.4</td>\n",
       "      <td>297.0</td>\n",
       "      <td>13.90</td>\n",
       "      <td>80.337143</td>\n",
       "      <td>15.36</td>\n",
       "      <td>16.672857</td>\n",
       "      <td>2.428571</td>\n",
       "      <td>27.471429</td>\n",
       "      <td>6.771429</td>\n",
       "      <td>33.3</td>\n",
       "      <td>23.3</td>\n",
       "      <td>4.0</td>\n",
       "    </tr>\n",
       "    <tr>\n",
       "      <th>22</th>\n",
       "      <td>0.196200</td>\n",
       "      <td>0.262200</td>\n",
       "      <td>0.251200</td>\n",
       "      <td>0.247340</td>\n",
       "      <td>7.52</td>\n",
       "      <td>299.518571</td>\n",
       "      <td>299.664286</td>\n",
       "      <td>295.821429</td>\n",
       "      <td>301.9</td>\n",
       "      <td>297.5</td>\n",
       "      <td>12.20</td>\n",
       "      <td>80.460000</td>\n",
       "      <td>7.52</td>\n",
       "      <td>17.210000</td>\n",
       "      <td>3.014286</td>\n",
       "      <td>28.942857</td>\n",
       "      <td>9.371429</td>\n",
       "      <td>35.0</td>\n",
       "      <td>23.9</td>\n",
       "      <td>5.8</td>\n",
       "    </tr>\n",
       "  </tbody>\n",
       "</table>\n",
       "</div>"
      ],
      "text/plain": [
       "                       ndvi_ne   ndvi_nw   ndvi_se   ndvi_sw  \\\n",
       "city year weekofyear                                           \n",
       "sj   1990 18          0.122600  0.103725  0.198483  0.177617   \n",
       "          19          0.169900  0.142175  0.162357  0.155486   \n",
       "          20          0.032250  0.172967  0.157200  0.170843   \n",
       "          21          0.128633  0.245067  0.227557  0.235886   \n",
       "          22          0.196200  0.262200  0.251200  0.247340   \n",
       "\n",
       "                      precipitation_amt_mm  reanalysis_air_temp_k  \\\n",
       "city year weekofyear                                                \n",
       "sj   1990 18                         12.42             297.572857   \n",
       "          19                         22.82             298.211429   \n",
       "          20                         34.54             298.781429   \n",
       "          21                         15.36             298.987143   \n",
       "          22                          7.52             299.518571   \n",
       "\n",
       "                      reanalysis_avg_temp_k  reanalysis_dew_point_temp_k  \\\n",
       "city year weekofyear                                                       \n",
       "sj   1990 18                     297.742857                   292.414286   \n",
       "          19                     298.442857                   293.951429   \n",
       "          20                     298.878571                   295.434286   \n",
       "          21                     299.228571                   295.310000   \n",
       "          22                     299.664286                   295.821429   \n",
       "\n",
       "                      reanalysis_max_air_temp_k  reanalysis_min_air_temp_k  \\\n",
       "city year weekofyear                                                         \n",
       "sj   1990 18                              299.8                      295.9   \n",
       "          19                              300.9                      296.4   \n",
       "          20                              300.5                      297.3   \n",
       "          21                              301.4                      297.0   \n",
       "          22                              301.9                      297.5   \n",
       "\n",
       "                      reanalysis_precip_amt_kg_per_m2  \\\n",
       "city year weekofyear                                    \n",
       "sj   1990 18                                    32.00   \n",
       "          19                                    17.94   \n",
       "          20                                    26.10   \n",
       "          21                                    13.90   \n",
       "          22                                    12.20   \n",
       "\n",
       "                      reanalysis_relative_humidity_percent  \\\n",
       "city year weekofyear                                         \n",
       "sj   1990 18                                     73.365714   \n",
       "          19                                     77.368571   \n",
       "          20                                     82.052857   \n",
       "          21                                     80.337143   \n",
       "          22                                     80.460000   \n",
       "\n",
       "                      reanalysis_sat_precip_amt_mm  \\\n",
       "city year weekofyear                                 \n",
       "sj   1990 18                                 12.42   \n",
       "          19                                 22.82   \n",
       "          20                                 34.54   \n",
       "          21                                 15.36   \n",
       "          22                                  7.52   \n",
       "\n",
       "                      reanalysis_specific_humidity_g_per_kg  \\\n",
       "city year weekofyear                                          \n",
       "sj   1990 18                                      14.012857   \n",
       "          19                                      15.372857   \n",
       "          20                                      16.848571   \n",
       "          21                                      16.672857   \n",
       "          22                                      17.210000   \n",
       "\n",
       "                      reanalysis_tdtr_k  station_avg_temp_c  \\\n",
       "city year weekofyear                                          \n",
       "sj   1990 18                   2.628571           25.442857   \n",
       "          19                   2.371429           26.714286   \n",
       "          20                   2.300000           26.714286   \n",
       "          21                   2.428571           27.471429   \n",
       "          22                   3.014286           28.942857   \n",
       "\n",
       "                      station_diur_temp_rng_c  station_max_temp_c  \\\n",
       "city year weekofyear                                                \n",
       "sj   1990 18                         6.900000                29.4   \n",
       "          19                         6.371429                31.7   \n",
       "          20                         6.485714                32.2   \n",
       "          21                         6.771429                33.3   \n",
       "          22                         9.371429                35.0   \n",
       "\n",
       "                      station_min_temp_c  station_precip_mm  \n",
       "city year weekofyear                                         \n",
       "sj   1990 18                        20.0               16.0  \n",
       "          19                        22.2                8.6  \n",
       "          20                        22.8               41.4  \n",
       "          21                        23.3                4.0  \n",
       "          22                        23.9                5.8  "
      ]
     },
     "execution_count": 5,
     "metadata": {},
     "output_type": "execute_result"
    }
   ],
   "source": [
    "df.head()"
   ]
  },
  {
   "cell_type": "code",
   "execution_count": 6,
   "metadata": {
    "colab": {
     "base_uri": "https://localhost:8080/",
     "height": 320
    },
    "id": "Ag9IEffY9Fkn",
    "outputId": "b851f1c0-4d8a-478a-aca0-ce72e7733ba0"
   },
   "outputs": [
    {
     "data": {
      "text/html": [
       "<div>\n",
       "<style scoped>\n",
       "    .dataframe tbody tr th:only-of-type {\n",
       "        vertical-align: middle;\n",
       "    }\n",
       "\n",
       "    .dataframe tbody tr th {\n",
       "        vertical-align: top;\n",
       "    }\n",
       "\n",
       "    .dataframe thead th {\n",
       "        text-align: right;\n",
       "    }\n",
       "</style>\n",
       "<table border=\"1\" class=\"dataframe\">\n",
       "  <thead>\n",
       "    <tr style=\"text-align: right;\">\n",
       "      <th></th>\n",
       "      <th>ndvi_ne</th>\n",
       "      <th>ndvi_nw</th>\n",
       "      <th>ndvi_se</th>\n",
       "      <th>ndvi_sw</th>\n",
       "      <th>precipitation_amt_mm</th>\n",
       "      <th>reanalysis_air_temp_k</th>\n",
       "      <th>reanalysis_avg_temp_k</th>\n",
       "      <th>reanalysis_dew_point_temp_k</th>\n",
       "      <th>reanalysis_max_air_temp_k</th>\n",
       "      <th>reanalysis_min_air_temp_k</th>\n",
       "      <th>reanalysis_precip_amt_kg_per_m2</th>\n",
       "      <th>reanalysis_relative_humidity_percent</th>\n",
       "      <th>reanalysis_sat_precip_amt_mm</th>\n",
       "      <th>reanalysis_specific_humidity_g_per_kg</th>\n",
       "      <th>reanalysis_tdtr_k</th>\n",
       "      <th>station_avg_temp_c</th>\n",
       "      <th>station_diur_temp_rng_c</th>\n",
       "      <th>station_max_temp_c</th>\n",
       "      <th>station_min_temp_c</th>\n",
       "      <th>station_precip_mm</th>\n",
       "    </tr>\n",
       "  </thead>\n",
       "  <tbody>\n",
       "    <tr>\n",
       "      <th>count</th>\n",
       "      <td>1262.000000</td>\n",
       "      <td>1404.000000</td>\n",
       "      <td>1434.000000</td>\n",
       "      <td>1434.000000</td>\n",
       "      <td>1443.000000</td>\n",
       "      <td>1446.000000</td>\n",
       "      <td>1446.000000</td>\n",
       "      <td>1446.000000</td>\n",
       "      <td>1446.000000</td>\n",
       "      <td>1446.000000</td>\n",
       "      <td>1446.000000</td>\n",
       "      <td>1446.000000</td>\n",
       "      <td>1443.000000</td>\n",
       "      <td>1446.000000</td>\n",
       "      <td>1446.000000</td>\n",
       "      <td>1413.000000</td>\n",
       "      <td>1413.000000</td>\n",
       "      <td>1436.000000</td>\n",
       "      <td>1442.000000</td>\n",
       "      <td>1434.000000</td>\n",
       "    </tr>\n",
       "    <tr>\n",
       "      <th>mean</th>\n",
       "      <td>0.142294</td>\n",
       "      <td>0.130553</td>\n",
       "      <td>0.203783</td>\n",
       "      <td>0.202305</td>\n",
       "      <td>45.760388</td>\n",
       "      <td>298.701852</td>\n",
       "      <td>299.225578</td>\n",
       "      <td>295.246356</td>\n",
       "      <td>303.427109</td>\n",
       "      <td>295.719156</td>\n",
       "      <td>40.151819</td>\n",
       "      <td>82.161959</td>\n",
       "      <td>45.760388</td>\n",
       "      <td>16.746427</td>\n",
       "      <td>4.903754</td>\n",
       "      <td>27.185783</td>\n",
       "      <td>8.059328</td>\n",
       "      <td>32.452437</td>\n",
       "      <td>22.102150</td>\n",
       "      <td>39.326360</td>\n",
       "    </tr>\n",
       "    <tr>\n",
       "      <th>std</th>\n",
       "      <td>0.140531</td>\n",
       "      <td>0.119999</td>\n",
       "      <td>0.073860</td>\n",
       "      <td>0.083903</td>\n",
       "      <td>43.715537</td>\n",
       "      <td>1.362420</td>\n",
       "      <td>1.261715</td>\n",
       "      <td>1.527810</td>\n",
       "      <td>3.234601</td>\n",
       "      <td>2.565364</td>\n",
       "      <td>43.434399</td>\n",
       "      <td>7.153897</td>\n",
       "      <td>43.715537</td>\n",
       "      <td>1.542494</td>\n",
       "      <td>3.546445</td>\n",
       "      <td>1.292347</td>\n",
       "      <td>2.128568</td>\n",
       "      <td>1.959318</td>\n",
       "      <td>1.574066</td>\n",
       "      <td>47.455314</td>\n",
       "    </tr>\n",
       "    <tr>\n",
       "      <th>min</th>\n",
       "      <td>-0.406250</td>\n",
       "      <td>-0.456100</td>\n",
       "      <td>-0.015533</td>\n",
       "      <td>-0.063457</td>\n",
       "      <td>0.000000</td>\n",
       "      <td>294.635714</td>\n",
       "      <td>294.892857</td>\n",
       "      <td>289.642857</td>\n",
       "      <td>297.800000</td>\n",
       "      <td>286.900000</td>\n",
       "      <td>0.000000</td>\n",
       "      <td>57.787143</td>\n",
       "      <td>0.000000</td>\n",
       "      <td>11.715714</td>\n",
       "      <td>1.357143</td>\n",
       "      <td>21.400000</td>\n",
       "      <td>4.528571</td>\n",
       "      <td>26.700000</td>\n",
       "      <td>14.700000</td>\n",
       "      <td>0.000000</td>\n",
       "    </tr>\n",
       "    <tr>\n",
       "      <th>25%</th>\n",
       "      <td>0.044950</td>\n",
       "      <td>0.049217</td>\n",
       "      <td>0.155087</td>\n",
       "      <td>0.144209</td>\n",
       "      <td>9.800000</td>\n",
       "      <td>297.658929</td>\n",
       "      <td>298.257143</td>\n",
       "      <td>294.118929</td>\n",
       "      <td>301.000000</td>\n",
       "      <td>293.900000</td>\n",
       "      <td>13.055000</td>\n",
       "      <td>77.177143</td>\n",
       "      <td>9.800000</td>\n",
       "      <td>15.557143</td>\n",
       "      <td>2.328571</td>\n",
       "      <td>26.300000</td>\n",
       "      <td>6.514286</td>\n",
       "      <td>31.100000</td>\n",
       "      <td>21.100000</td>\n",
       "      <td>8.700000</td>\n",
       "    </tr>\n",
       "    <tr>\n",
       "      <th>50%</th>\n",
       "      <td>0.128817</td>\n",
       "      <td>0.121429</td>\n",
       "      <td>0.196050</td>\n",
       "      <td>0.189450</td>\n",
       "      <td>38.340000</td>\n",
       "      <td>298.646429</td>\n",
       "      <td>299.289286</td>\n",
       "      <td>295.640714</td>\n",
       "      <td>302.400000</td>\n",
       "      <td>296.200000</td>\n",
       "      <td>27.245000</td>\n",
       "      <td>80.301429</td>\n",
       "      <td>38.340000</td>\n",
       "      <td>17.087143</td>\n",
       "      <td>2.857143</td>\n",
       "      <td>27.414286</td>\n",
       "      <td>7.300000</td>\n",
       "      <td>32.800000</td>\n",
       "      <td>22.200000</td>\n",
       "      <td>23.850000</td>\n",
       "    </tr>\n",
       "    <tr>\n",
       "      <th>75%</th>\n",
       "      <td>0.248483</td>\n",
       "      <td>0.216600</td>\n",
       "      <td>0.248846</td>\n",
       "      <td>0.246982</td>\n",
       "      <td>70.235000</td>\n",
       "      <td>299.833571</td>\n",
       "      <td>300.207143</td>\n",
       "      <td>296.460000</td>\n",
       "      <td>305.500000</td>\n",
       "      <td>297.900000</td>\n",
       "      <td>52.200000</td>\n",
       "      <td>86.357857</td>\n",
       "      <td>70.235000</td>\n",
       "      <td>17.978214</td>\n",
       "      <td>7.625000</td>\n",
       "      <td>28.157143</td>\n",
       "      <td>9.566667</td>\n",
       "      <td>33.900000</td>\n",
       "      <td>23.300000</td>\n",
       "      <td>53.900000</td>\n",
       "    </tr>\n",
       "    <tr>\n",
       "      <th>max</th>\n",
       "      <td>0.508357</td>\n",
       "      <td>0.454429</td>\n",
       "      <td>0.538314</td>\n",
       "      <td>0.546017</td>\n",
       "      <td>390.600000</td>\n",
       "      <td>302.200000</td>\n",
       "      <td>302.928571</td>\n",
       "      <td>298.450000</td>\n",
       "      <td>314.000000</td>\n",
       "      <td>299.900000</td>\n",
       "      <td>570.500000</td>\n",
       "      <td>98.610000</td>\n",
       "      <td>390.600000</td>\n",
       "      <td>20.461429</td>\n",
       "      <td>16.028571</td>\n",
       "      <td>30.800000</td>\n",
       "      <td>15.800000</td>\n",
       "      <td>42.200000</td>\n",
       "      <td>25.600000</td>\n",
       "      <td>543.300000</td>\n",
       "    </tr>\n",
       "  </tbody>\n",
       "</table>\n",
       "</div>"
      ],
      "text/plain": [
       "           ndvi_ne      ndvi_nw      ndvi_se      ndvi_sw  \\\n",
       "count  1262.000000  1404.000000  1434.000000  1434.000000   \n",
       "mean      0.142294     0.130553     0.203783     0.202305   \n",
       "std       0.140531     0.119999     0.073860     0.083903   \n",
       "min      -0.406250    -0.456100    -0.015533    -0.063457   \n",
       "25%       0.044950     0.049217     0.155087     0.144209   \n",
       "50%       0.128817     0.121429     0.196050     0.189450   \n",
       "75%       0.248483     0.216600     0.248846     0.246982   \n",
       "max       0.508357     0.454429     0.538314     0.546017   \n",
       "\n",
       "       precipitation_amt_mm  reanalysis_air_temp_k  reanalysis_avg_temp_k  \\\n",
       "count           1443.000000            1446.000000            1446.000000   \n",
       "mean              45.760388             298.701852             299.225578   \n",
       "std               43.715537               1.362420               1.261715   \n",
       "min                0.000000             294.635714             294.892857   \n",
       "25%                9.800000             297.658929             298.257143   \n",
       "50%               38.340000             298.646429             299.289286   \n",
       "75%               70.235000             299.833571             300.207143   \n",
       "max              390.600000             302.200000             302.928571   \n",
       "\n",
       "       reanalysis_dew_point_temp_k  reanalysis_max_air_temp_k  \\\n",
       "count                  1446.000000                1446.000000   \n",
       "mean                    295.246356                 303.427109   \n",
       "std                       1.527810                   3.234601   \n",
       "min                     289.642857                 297.800000   \n",
       "25%                     294.118929                 301.000000   \n",
       "50%                     295.640714                 302.400000   \n",
       "75%                     296.460000                 305.500000   \n",
       "max                     298.450000                 314.000000   \n",
       "\n",
       "       reanalysis_min_air_temp_k  reanalysis_precip_amt_kg_per_m2  \\\n",
       "count                1446.000000                      1446.000000   \n",
       "mean                  295.719156                        40.151819   \n",
       "std                     2.565364                        43.434399   \n",
       "min                   286.900000                         0.000000   \n",
       "25%                   293.900000                        13.055000   \n",
       "50%                   296.200000                        27.245000   \n",
       "75%                   297.900000                        52.200000   \n",
       "max                   299.900000                       570.500000   \n",
       "\n",
       "       reanalysis_relative_humidity_percent  reanalysis_sat_precip_amt_mm  \\\n",
       "count                           1446.000000                   1443.000000   \n",
       "mean                              82.161959                     45.760388   \n",
       "std                                7.153897                     43.715537   \n",
       "min                               57.787143                      0.000000   \n",
       "25%                               77.177143                      9.800000   \n",
       "50%                               80.301429                     38.340000   \n",
       "75%                               86.357857                     70.235000   \n",
       "max                               98.610000                    390.600000   \n",
       "\n",
       "       reanalysis_specific_humidity_g_per_kg  reanalysis_tdtr_k  \\\n",
       "count                            1446.000000        1446.000000   \n",
       "mean                               16.746427           4.903754   \n",
       "std                                 1.542494           3.546445   \n",
       "min                                11.715714           1.357143   \n",
       "25%                                15.557143           2.328571   \n",
       "50%                                17.087143           2.857143   \n",
       "75%                                17.978214           7.625000   \n",
       "max                                20.461429          16.028571   \n",
       "\n",
       "       station_avg_temp_c  station_diur_temp_rng_c  station_max_temp_c  \\\n",
       "count         1413.000000              1413.000000         1436.000000   \n",
       "mean            27.185783                 8.059328           32.452437   \n",
       "std              1.292347                 2.128568            1.959318   \n",
       "min             21.400000                 4.528571           26.700000   \n",
       "25%             26.300000                 6.514286           31.100000   \n",
       "50%             27.414286                 7.300000           32.800000   \n",
       "75%             28.157143                 9.566667           33.900000   \n",
       "max             30.800000                15.800000           42.200000   \n",
       "\n",
       "       station_min_temp_c  station_precip_mm  \n",
       "count         1442.000000        1434.000000  \n",
       "mean            22.102150          39.326360  \n",
       "std              1.574066          47.455314  \n",
       "min             14.700000           0.000000  \n",
       "25%             21.100000           8.700000  \n",
       "50%             22.200000          23.850000  \n",
       "75%             23.300000          53.900000  \n",
       "max             25.600000         543.300000  "
      ]
     },
     "execution_count": 6,
     "metadata": {},
     "output_type": "execute_result"
    }
   ],
   "source": [
    "df.describe()"
   ]
  },
  {
   "cell_type": "markdown",
   "metadata": {
    "id": "9jhMWpZry6wG"
   },
   "source": [
    "# Preprocessing\n",
    "\n",
    "## Fill NaN"
   ]
  },
  {
   "cell_type": "code",
   "execution_count": 7,
   "metadata": {
    "colab": {
     "base_uri": "https://localhost:8080/"
    },
    "id": "80wEEOLsb9JT",
    "outputId": "f77aeeb9-9e3a-4343-fc17-ba16866d71df"
   },
   "outputs": [
    {
     "data": {
      "text/plain": [
       "ndvi_ne                                  0\n",
       "ndvi_nw                                  0\n",
       "ndvi_se                                  0\n",
       "ndvi_sw                                  0\n",
       "precipitation_amt_mm                     0\n",
       "reanalysis_air_temp_k                    0\n",
       "reanalysis_avg_temp_k                    0\n",
       "reanalysis_dew_point_temp_k              0\n",
       "reanalysis_max_air_temp_k                0\n",
       "reanalysis_min_air_temp_k                0\n",
       "reanalysis_precip_amt_kg_per_m2          0\n",
       "reanalysis_relative_humidity_percent     0\n",
       "reanalysis_sat_precip_amt_mm             0\n",
       "reanalysis_specific_humidity_g_per_kg    0\n",
       "reanalysis_tdtr_k                        0\n",
       "station_avg_temp_c                       0\n",
       "station_diur_temp_rng_c                  0\n",
       "station_max_temp_c                       0\n",
       "station_min_temp_c                       0\n",
       "station_precip_mm                        0\n",
       "dtype: int64"
      ]
     },
     "execution_count": 7,
     "metadata": {},
     "output_type": "execute_result"
    }
   ],
   "source": [
    "df.isna().sum()\n",
    "# ffill: propagate last valid observation forward to next valid backfill\n",
    "# @ Check other methods\n",
    "df.fillna(method=\"bfill\", inplace=True)\n",
    "df.isna().sum()"
   ]
  },
  {
   "cell_type": "markdown",
   "metadata": {},
   "source": [
    "## Normalize data"
   ]
  },
  {
   "cell_type": "code",
   "execution_count": 8,
   "metadata": {
    "id": "XRWyUwJtb9Jm"
   },
   "outputs": [],
   "source": [
    "scaler = sklearn.preprocessing.StandardScaler()\n",
    "#scaler = sklearn.preprocessing.MinMaxScaler()\n",
    "X_ = scaler.fit_transform(df)"
   ]
  },
  {
   "cell_type": "markdown",
   "metadata": {
    "id": "e4m_71HQb9Jk"
   },
   "source": [
    "## PCA\n",
    "Normalize the data and apply find best principal components."
   ]
  },
  {
   "cell_type": "code",
   "execution_count": 9,
   "metadata": {
    "colab": {
     "base_uri": "https://localhost:8080/"
    },
    "id": "pmhr1WcYkkKa",
    "outputId": "9dac3ffd-07aa-4edc-e42a-223fb2402ba4"
   },
   "outputs": [
    {
     "data": {
      "text/plain": [
       "(1456, 20)"
      ]
     },
     "execution_count": 9,
     "metadata": {},
     "output_type": "execute_result"
    }
   ],
   "source": [
    "from sklearn.decomposition import PCA\n",
    "pca = PCA()\n",
    "X_pca = pca.fit_transform(X)\n",
    "X_pca.shape"
   ]
  },
  {
   "cell_type": "code",
   "execution_count": 10,
   "metadata": {},
   "outputs": [
    {
     "data": {
      "text/plain": [
       "[<matplotlib.lines.Line2D at 0x7fea142e2c10>]"
      ]
     },
     "execution_count": 10,
     "metadata": {},
     "output_type": "execute_result"
    },
    {
     "data": {
      "image/png": "[encoded data removed]",
      "text/plain": [
       "<Figure size 432x288 with 1 Axes>"
      ]
     },
     "metadata": {},
     "output_type": "display_data"
    }
   ],
   "source": [
    "var_ratio = pca.explained_variance_ratio_\n",
    "plt.plot(np.arange(len(var_ratio)), np.cumsum(var_ratio))"
   ]
  },
  {
   "cell_type": "markdown",
   "metadata": {
    "id": "P1QbTMv4xyLi"
   },
   "source": [
    "## Prepare working sets"
   ]
  },
  {
   "cell_type": "code",
   "execution_count": 11,
   "metadata": {},
   "outputs": [],
   "source": [
    "GROUP_SUBSET = True"
   ]
  },
  {
   "cell_type": "code",
   "execution_count": 12,
   "metadata": {
    "id": "BMP4yaM_xyLk"
   },
   "outputs": [],
   "source": [
    "#features = ['ndvi_ne', 'ndvi_nw', 'ndvi_se', 'ndvi_sw', 'precipitation_amt_mm', 'reanalysis_precip_amt_kg_per_m2', 'reanalysis_specific_humidity_g_per_kg']\n",
    "X_ = pd.DataFrame(X_, index=df.index, columns=all_features)"
   ]
  },
  {
   "cell_type": "code",
   "execution_count": 13,
   "metadata": {
    "id": "OYOSPncGb9I1"
   },
   "outputs": [],
   "source": [
    "X_sj = X.loc['sj'].copy()\n",
    "X_iq = X.loc['iq'].copy()\n",
    "\n",
    "y_sj = y.loc['sj'].copy()\n",
    "y_iq = y.loc['iq'].copy()\n",
    "\n",
    "if GROUP_SUBSET:\n",
    "    X_sj = X_sj[X_sj.index.get_level_values(0) >= 1992]\n",
    "    X_sj = X_sj[X_sj.index.get_level_values(0) <= 1998]\n",
    "\n",
    "    y_sj = y_sj[y_sj.index.get_level_values(0) >= 1992]\n",
    "    y_sj = y_sj[y_sj.index.get_level_values(0) <= 1998]"
   ]
  },
  {
   "cell_type": "markdown",
   "metadata": {},
   "source": [
    "## Preprocess function\n",
    "Define a function which allows repetition of the preprocessing steps taken."
   ]
  },
  {
   "cell_type": "code",
   "execution_count": 14,
   "metadata": {},
   "outputs": [],
   "source": [
    "def preprocess(df):\n",
    "    \"\"\"\n",
    "    Returns: sj, iq\n",
    "    \"\"\"\n",
    "    df.drop(['week_start_date'], axis=1, inplace=True)\n",
    "    df.set_index(['city', 'year', 'weekofyear'], inplace=True)\n",
    "    \n",
    "    df.fillna(method=\"bfill\", inplace=True)\n",
    "    scaler = sklearn.preprocessing.StandardScaler()\n",
    "    x = scaler.fit_transform(df)\n",
    "    x = pd.DataFrame(x, index=df.index, columns=df.columns)\n",
    "    \n",
    "    sj = x.loc['sj'].copy()\n",
    "    iq = x.loc['iq'].copy()\n",
    "        \n",
    "    return sj, iq"
   ]
  },
  {
   "cell_type": "markdown",
   "metadata": {
    "id": "wmaJJaRlyS0y"
   },
   "source": [
    "# 1. Baseline"
   ]
  },
  {
   "cell_type": "markdown",
   "metadata": {
    "id": "sJqAo9kqJz1_"
   },
   "source": [
    "### Helper functions"
   ]
  },
  {
   "cell_type": "code",
   "execution_count": 64,
   "metadata": {
    "id": "bnysM-GTIe12"
   },
   "outputs": [],
   "source": [
    "def split_to_train(X, y, test_size=0.1):\n",
    "      return train_test_split(pd.concat([X, y], axis=1), test_size=test_size)\n",
    "    \n",
    "def get_predictions(regressor, X):\n",
    "    return regressor.predict(X)\n",
    "\n",
    "def get_mae(regressor, X, y):\n",
    "    y_pred = get_predictions(regressor, X)\n",
    "    return mean_absolute_error(y_pred, y)\n",
    "\n",
    "def fit_regressor(regressor, X, y):\n",
    "    train, test = split_to_train(X, y)\n",
    "    regressor.fit(X=train.drop(['total_cases'], axis=1), y=train['total_cases'])\n",
    "    \n",
    "    return get_mae(regressor, test.drop(['total_cases'], axis=1), test['total_cases'])\n",
    "\n",
    "def generate_visualization(regressor, X, y):\n",
    "    y_pred = regressor.predict(X)\n",
    "    mae = mean_absolute_error(y, y_pred)\n",
    "\n",
    "    plt.plot(np.arange(len(X)), y, c='r', label='data')\n",
    "    plt.plot(np.arange(len(X)), y_pred, c='g', label='prediction')\n",
    "    plt.axis('tight')\n",
    "    plt.legend()\n",
    "    #plt.title(\"RandomForests GridSearchCV (MAE = %6.2f')\" % ( mae))\n",
    "\n",
    "    plt.show()\n",
    "    return mae\n",
    "\n",
    "def get_fold_accuracy(regressor, X, y, n_splits=10):\n",
    "    fold_accuracy = []\n",
    "    cv = KFold(n_splits, shuffle=False)\n",
    "    for train_fold, test_fold in cv.split(X):\n",
    "        X_train = X.iloc[train_fold]\n",
    "        X_test = X.iloc[test_fold]\n",
    "        y_train = y.iloc[train_fold]\n",
    "        y_test = y.iloc[test_fold]\n",
    "\n",
    "        regressor.fit(X=X_train, y=y_train.values.ravel())\n",
    "        fold_accuracy.append(get_mae(regressor, X_test, y_test))\n",
    "    return fold_accuracy\n",
    "\n",
    "def get_accuracy(regressor, X, y, n_splits=10):\n",
    "    fold_accuracy = get_fold_accuracy(regressor, X, y, n_splits)\n",
    "    return sum(fold_accuracy)/len(fold_accuracy)\n",
    "\n",
    "def generate_plot(X, y, regressor, param_name, to=30, n_split=10):\n",
    "    mae = []\n",
    "    for i in range(2, to):\n",
    "        regressor.set_params(**{param_name:i})\n",
    "        fold_accuracy = get_fold_accuracy(regressor, X, y, n_split)\n",
    "        mae.append(sum(fold_accuracy)/len(fold_accuracy))\n",
    "\n",
    "    label = type(regressor).__name__\n",
    "\n",
    "    if type(regressor).__name__ == 'KNeighborsRegressor':\n",
    "        label = regressor.get_params()['weights']\n",
    "    elif type(regressor).__name__ == 'RandomForestRegressor':\n",
    "        params = regressor.get_params()\n",
    "        n_estimators = params['n_estimators']\n",
    "        max_depth = params[param_name]\n",
    "        label = f'n_estimators={n_estimators}'\n",
    "\n",
    "    plt.plot(range(1, len(mae)+1), mae, marker='o', \n",
    "           label=label)\n",
    "    print ('Min Value: {} ({})'.format(min(mae), np.argmin(mae) + 1))\n",
    "    plt.xlabel(param_name)\n",
    "    plt.ylabel('MAE')\n",
    "    plt.legend()\n",
    "\n",
    "def save_results(y_pred, name, index):\n",
    "    res = np.rint(y_pred) # round\n",
    "    res = res.astype(int) # cast to int\n",
    "    aux = pd.DataFrame(np.vstack((*np.array(index.values.tolist()).T, res)).T, columns=list(index.names)+['total_cases'])\n",
    "    aux.to_csv(name, index=False)\n",
    "    return name"
   ]
  },
  {
   "cell_type": "markdown",
   "metadata": {},
   "source": [
    "# 1.0 Select data to work on"
   ]
  },
  {
   "cell_type": "code",
   "execution_count": 27,
   "metadata": {},
   "outputs": [],
   "source": [
    "X = X_sj\n",
    "y = y_sj"
   ]
  },
  {
   "cell_type": "markdown",
   "metadata": {},
   "source": [
    "Create list to store filenames of the prediction results."
   ]
  },
  {
   "cell_type": "code",
   "execution_count": 34,
   "metadata": {
    "id": "w3TiLBZr47iv"
   },
   "outputs": [],
   "source": [
    "result_files = []"
   ]
  },
  {
   "cell_type": "markdown",
   "metadata": {
    "id": "6TdCNK-w1EvD"
   },
   "source": [
    "## 1.1 KNN\n",
    "\n",
    "### 1.1.1 Mean absolute error"
   ]
  },
  {
   "cell_type": "code",
   "execution_count": 41,
   "metadata": {
    "colab": {
     "base_uri": "https://localhost:8080/",
     "height": 306
    },
    "id": "UUwltQU7BX_M",
    "outputId": "7eed04e1-3a99-4471-fe48-7fceceaefed4"
   },
   "outputs": [
    {
     "name": "stdout",
     "output_type": "stream",
     "text": [
      "Min Value: 40.00971753003004 (15)\n",
      "Min Value: 39.98219874016429 (15)\n"
     ]
    },
    {
     "data": {
      "image/png": "[encoded data removed]",
      "text/plain": [
       "<Figure size 432x288 with 1 Axes>"
      ]
     },
     "metadata": {},
     "output_type": "display_data"
    }
   ],
   "source": [
    "for weights in ['uniform', 'distance']:\n",
    "    knn = neighbors.KNeighborsRegressor(weights=weights)\n",
    "    generate_plot(X, y, knn, 'n_neighbors', 30, 10)\n",
    "plt.show()  "
   ]
  },
  {
   "cell_type": "markdown",
   "metadata": {
    "id": "8dseC0tdwYof"
   },
   "source": [
    "### 1.1.2 Predictions\n",
    "\n",
    "#### Model creation"
   ]
  },
  {
   "cell_type": "code",
   "execution_count": 44,
   "metadata": {
    "colab": {
     "base_uri": "https://localhost:8080/"
    },
    "id": "hCgianfcwYA2",
    "outputId": "23a6f79e-15f4-4e30-a952-1db505fb246a"
   },
   "outputs": [
    {
     "name": "stdout",
     "output_type": "stream",
     "text": [
      "MAE:  32.33006579401733\n"
     ]
    }
   ],
   "source": [
    "n_neighbors = 27\n",
    "weights = 'distance'\n",
    "knn = KNeighborsRegressor(n_neighbors=n_neighbors, weights=weights) \n",
    "\n",
    "print('MAE: ', fit_regressor(knn, X, y))"
   ]
  },
  {
   "cell_type": "code",
   "execution_count": 45,
   "metadata": {},
   "outputs": [
    {
     "data": {
      "text/plain": [
       "(364,)"
      ]
     },
     "execution_count": 45,
     "metadata": {},
     "output_type": "execute_result"
    }
   ],
   "source": [
    "y_pred = get_predictions(knn, X)\n",
    "y_pred.shape"
   ]
  },
  {
   "cell_type": "markdown",
   "metadata": {
    "id": "zhN2SxIi1ys0"
   },
   "source": [
    "### 1.1.3 Save results"
   ]
  },
  {
   "cell_type": "code",
   "execution_count": 46,
   "metadata": {
    "id": "cMQZm6741x4a"
   },
   "outputs": [],
   "source": [
    "file_name = save_results(y_pred, 'knn_results.csv', X.index)\n",
    "result_files.append(file_name)"
   ]
  },
  {
   "cell_type": "markdown",
   "metadata": {
    "id": "C0Hp9KUa3rQd"
   },
   "source": [
    "\n",
    "### 1.1.4 Visualisation"
   ]
  },
  {
   "cell_type": "code",
   "execution_count": 47,
   "metadata": {
    "colab": {
     "base_uri": "https://localhost:8080/",
     "height": 365
    },
    "id": "b3RldxNH3u0M",
    "outputId": "bd652be3-02e7-4819-db20-78bd7a317a8a"
   },
   "outputs": [
    {
     "data": {
      "image/png": "[encoded data removed]",
      "text/plain": [
       "<Figure size 432x288 with 1 Axes>"
      ]
     },
     "metadata": {},
     "output_type": "display_data"
    },
    {
     "data": {
      "text/plain": [
       "3.291792402139124"
      ]
     },
     "execution_count": 47,
     "metadata": {},
     "output_type": "execute_result"
    }
   ],
   "source": [
    "generate_visualization(knn, X, y)"
   ]
  },
  {
   "cell_type": "markdown",
   "metadata": {
    "id": "lrQoaHGZ1MxE"
   },
   "source": [
    "## 1.2 Decision Tree"
   ]
  },
  {
   "cell_type": "markdown",
   "metadata": {
    "id": "5yyfqEMc5gxv"
   },
   "source": [
    "### 1.2.1 Mean absolute error"
   ]
  },
  {
   "cell_type": "code",
   "execution_count": 50,
   "metadata": {
    "colab": {
     "base_uri": "https://localhost:8080/",
     "height": 287
    },
    "id": "a45l9pY1LgzM",
    "outputId": "f5f96990-9ecd-4a6b-ba44-d047b6b4d4e3"
   },
   "outputs": [
    {
     "name": "stdout",
     "output_type": "stream",
     "text": [
      "Min Value: 31.62157681860632 (2)\n"
     ]
    },
    {
     "data": {
      "image/png": "[encoded data removed]",
      "text/plain": [
       "<Figure size 432x288 with 1 Axes>"
      ]
     },
     "metadata": {},
     "output_type": "display_data"
    }
   ],
   "source": [
    "dt = DecisionTreeRegressor()\n",
    "generate_plot(X, y, dt, 'max_depth', 60, 10)\n",
    "plt.show()"
   ]
  },
  {
   "cell_type": "markdown",
   "metadata": {
    "id": "viAWMiuF5Qy0"
   },
   "source": [
    "### 1.2.2 Predictions"
   ]
  },
  {
   "cell_type": "code",
   "execution_count": 60,
   "metadata": {
    "colab": {
     "base_uri": "https://localhost:8080/"
    },
    "id": "qXzn0Gnec1zB",
    "outputId": "15af2596-beef-4c41-c99c-a71098d0b1f7"
   },
   "outputs": [
    {
     "data": {
      "text/plain": [
       "26.55522513320266"
      ]
     },
     "execution_count": 60,
     "metadata": {},
     "output_type": "execute_result"
    }
   ],
   "source": [
    "dt = DecisionTreeRegressor(max_depth=3)\n",
    "fit_regressor(dt, X, y)"
   ]
  },
  {
   "cell_type": "code",
   "execution_count": 61,
   "metadata": {},
   "outputs": [],
   "source": [
    "y_pred = get_predictions(dt, X)"
   ]
  },
  {
   "cell_type": "markdown",
   "metadata": {
    "id": "0k19wQKP5X1T"
   },
   "source": [
    "### 1.2.3 Save results"
   ]
  },
  {
   "cell_type": "code",
   "execution_count": 62,
   "metadata": {
    "id": "3G2TLualFOFM"
   },
   "outputs": [
    {
     "ename": "TypeError",
     "evalue": "save_results() missing 1 required positional argument: 'index'",
     "output_type": "error",
     "traceback": [
      "\u001b[0;31m---------------------------------------------------------------------------\u001b[0m",
      "\u001b[0;31mTypeError\u001b[0m                                 Traceback (most recent call last)",
      "\u001b[0;32m<ipython-input-62-23882adfa31f>\u001b[0m in \u001b[0;36m<module>\u001b[0;34m\u001b[0m\n\u001b[0;32m----> 1\u001b[0;31m \u001b[0mfile_name\u001b[0m \u001b[0;34m=\u001b[0m \u001b[0msave_results\u001b[0m\u001b[0;34m(\u001b[0m\u001b[0my_pred\u001b[0m\u001b[0;34m,\u001b[0m \u001b[0;34m'DecisionTree_results.csv'\u001b[0m\u001b[0;34m)\u001b[0m\u001b[0;34m\u001b[0m\u001b[0;34m\u001b[0m\u001b[0m\n\u001b[0m\u001b[1;32m      2\u001b[0m \u001b[0mresult_files\u001b[0m\u001b[0;34m.\u001b[0m\u001b[0mappend\u001b[0m\u001b[0;34m(\u001b[0m\u001b[0mfile_name\u001b[0m\u001b[0;34m)\u001b[0m\u001b[0;34m\u001b[0m\u001b[0;34m\u001b[0m\u001b[0m\n",
      "\u001b[0;31mTypeError\u001b[0m: save_results() missing 1 required positional argument: 'index'"
     ]
    }
   ],
   "source": [
    "file_name = save_results(y_pred, 'DecisionTree_results.csv', X.index)\n",
    "result_files.append(file_name)"
   ]
  },
  {
   "cell_type": "markdown",
   "metadata": {
    "id": "6FidMS8c5dKE"
   },
   "source": [
    "### 1.2.4 Visualisation"
   ]
  },
  {
   "cell_type": "code",
   "execution_count": 24,
   "metadata": {
    "colab": {
     "base_uri": "https://localhost:8080/",
     "height": 365
    },
    "id": "SQYTauZ_FdX_",
    "outputId": "6aaa9986-df2f-4cb7-f0ba-13d4c495b43c"
   },
   "outputs": [
    {
     "data": {
      "image/png": "[encoded data removed]",
      "text/plain": [
       "<Figure size 432x288 with 1 Axes>"
      ]
     },
     "metadata": {},
     "output_type": "display_data"
    },
    {
     "data": {
      "text/plain": [
       "16.587608311538702"
      ]
     },
     "execution_count": 24,
     "metadata": {},
     "output_type": "execute_result"
    }
   ],
   "source": [
    "generate_visualization(dt, X, y)"
   ]
  },
  {
   "cell_type": "markdown",
   "metadata": {
    "id": "jGckn8UO2ci1"
   },
   "source": [
    "## 1.3 Random forest"
   ]
  },
  {
   "cell_type": "markdown",
   "metadata": {
    "id": "jE3rHEhEPPPp"
   },
   "source": [
    "### 1.3.1 Mean absolute error"
   ]
  },
  {
   "cell_type": "code",
   "execution_count": 25,
   "metadata": {
    "colab": {
     "base_uri": "https://localhost:8080/",
     "height": 383
    },
    "id": "Ub_WZDdP2b3i",
    "outputId": "74f8a3ac-7439-4e23-92fa-ec92e5a0815c"
   },
   "outputs": [
    {
     "name": "stdout",
     "output_type": "stream",
     "text": [
      "Min Value: 19.08729215871516 (1)\n",
      "Min Value: 18.977750747913714 (1)\n",
      "Min Value: 18.709629782711385 (1)\n",
      "Min Value: 18.60548275862069 (1)\n",
      "Min Value: 18.506023067233507 (1)\n",
      "Min Value: 18.621184627842634 (1)\n"
     ]
    },
    {
     "data": {
      "image/png": "[encoded data removed]",
      "text/plain": [
       "<Figure size 432x288 with 1 Axes>"
      ]
     },
     "metadata": {},
     "output_type": "display_data"
    }
   ],
   "source": [
    "max_estimators = 8\n",
    "max_max_depth = 32\n",
    "for n in range(2, max_estimators):\n",
    "    rf = RandomForestRegressor(n_estimators=n, criterion='mae', random_state=0)\n",
    "    generate_plot(X, y, rf, 'max_depth', max_max_depth, 10)\n",
    "plt.xlabel('depth')\n",
    "plt.show()"
   ]
  },
  {
   "cell_type": "markdown",
   "metadata": {
    "id": "wTweHQg4PTCe"
   },
   "source": [
    "### 1.3.2 Predictions"
   ]
  },
  {
   "cell_type": "code",
   "execution_count": 26,
   "metadata": {
    "colab": {
     "base_uri": "https://localhost:8080/"
    },
    "id": "x8IewXrBPS9O",
    "outputId": "cfd2ae5f-affc-46aa-cebe-9a08f62b4c22"
   },
   "outputs": [
    {
     "data": {
      "text/plain": [
       "16.21232876712329"
      ]
     },
     "execution_count": 26,
     "metadata": {},
     "output_type": "execute_result"
    }
   ],
   "source": [
    "rf = RandomForestRegressor(n_estimators=4, max_depth=3, criterion='mae', random_state=0)\n",
    "fit_regressor(rf, X, y)"
   ]
  },
  {
   "cell_type": "code",
   "execution_count": 27,
   "metadata": {
    "colab": {
     "base_uri": "https://localhost:8080/"
    },
    "id": "x8IewXrBPS9O",
    "outputId": "cfd2ae5f-affc-46aa-cebe-9a08f62b4c22"
   },
   "outputs": [],
   "source": [
    "y_pred = get_predictions(rf, X)"
   ]
  },
  {
   "cell_type": "markdown",
   "metadata": {
    "id": "8VFxm6pAPWmD"
   },
   "source": [
    "### 1.3.3 Save results"
   ]
  },
  {
   "cell_type": "code",
   "execution_count": 28,
   "metadata": {
    "id": "zGQVeL5PPmzm"
   },
   "outputs": [],
   "source": [
    "file_name = save_results(y_pred, 'RandomForest_results.csv')\n",
    "result_files.append(file_name)"
   ]
  },
  {
   "cell_type": "markdown",
   "metadata": {
    "id": "YtwV1G3WPZXB"
   },
   "source": [
    "### 1.3.4 Visualisation"
   ]
  },
  {
   "cell_type": "code",
   "execution_count": 29,
   "metadata": {
    "colab": {
     "base_uri": "https://localhost:8080/",
     "height": 368
    },
    "id": "Z2bJTSNiVbGp",
    "outputId": "1232e884-1a04-4770-8099-c0cc8837f4fa"
   },
   "outputs": [
    {
     "data": {
      "image/png": "[encoded data removed]",
      "text/plain": [
       "<Figure size 432x288 with 1 Axes>"
      ]
     },
     "metadata": {},
     "output_type": "display_data"
    },
    {
     "data": {
      "text/plain": [
       "16.905906593406595"
      ]
     },
     "execution_count": 29,
     "metadata": {},
     "output_type": "execute_result"
    }
   ],
   "source": [
    "generate_visualization(rf, X, y)"
   ]
  },
  {
   "cell_type": "markdown",
   "metadata": {
    "id": "0M-FHtfV303o"
   },
   "source": [
    "# 2. Optimization\n",
    "\n",
    "## Helper functions"
   ]
  },
  {
   "cell_type": "code",
   "execution_count": 30,
   "metadata": {},
   "outputs": [],
   "source": [
    "def report(results, n_top=3): \n",
    "    for i in range(1, n_top + 1):\n",
    "        candidates = np.flatnonzero(results['rank_test_score'] == i)\n",
    "        for candidate in candidates:\n",
    "            print(\"Model with rank: {0}\".format(i))\n",
    "            print(\"Mean validation score: {0:.3f} (std: {1:.3f})\".format(\n",
    "                  results['mean_test_score'][candidate],\n",
    "                  results['std_test_score'][candidate]))\n",
    "            print(\"Parameters: {0}\\n\".format(results['params'][candidate]))"
   ]
  },
  {
   "cell_type": "markdown",
   "metadata": {
    "id": "0M-FHtfV303o"
   },
   "source": [
    "## 2.1 Boosting"
   ]
  },
  {
   "cell_type": "code",
   "execution_count": 31,
   "metadata": {
    "id": "a2ZI0YBpffnv"
   },
   "outputs": [],
   "source": [
    "regressor_names = ['KNN', 'Decision tree', 'Random Forest', 'Ada Boost', 'GradientBoosting']\n",
    "regressors = [KNeighborsRegressor(n_neighbors=n_neighbors, weights=weights),\n",
    "              DecisionTreeRegressor(max_depth=6),\n",
    "              RandomForestRegressor(n_estimators=4, max_depth=3,\n",
    "                                    criterion='mae',random_state=0),\n",
    "              AdaBoostRegressor(RandomForestRegressor(n_estimators=4, \n",
    "                                max_depth=3, criterion='mae', random_state=0)),\n",
    "              GradientBoostingRegressor(n_estimators=100, learning_rate=0.1,\n",
    "                                   max_depth=4, random_state=0, loss='ls')]"
   ]
  },
  {
   "cell_type": "code",
   "execution_count": 32,
   "metadata": {
    "colab": {
     "base_uri": "https://localhost:8080/"
    },
    "id": "3M-HAyZvdkju",
    "outputId": "263b3729-05ea-4b8c-9281-e168f9b27b3c"
   },
   "outputs": [
    {
     "name": "stdout",
     "output_type": "stream",
     "text": [
      "KNN:\n",
      "\tMAE:21.958372849207425\n",
      "Decision tree:\n",
      "\tMAE:21.36836670246984\n",
      "Random Forest:\n",
      "\tMAE:19.142537991690375\n",
      "Ada Boost:\n",
      "\tMAE:31.53953774895\n",
      "GradientBoosting:\n",
      "\tMAE:21.052620592077204\n"
     ]
    }
   ],
   "source": [
    "for i, reg in enumerate(regressors):\n",
    "    print(f'{regressor_names[i]}:\\n\\tMAE:{get_accuracy(reg, X, y, 12)}')"
   ]
  },
  {
   "cell_type": "code",
   "execution_count": 33,
   "metadata": {
    "id": "fkgPP-yygdR0"
   },
   "outputs": [],
   "source": [
    "regressors_df = pd.DataFrame({regressor_names[1]:regressors[1].feature_importances_, \n",
    "              regressor_names[2]:regressors[2].feature_importances_, \n",
    "              regressor_names[3]:regressors[3].feature_importances_,\n",
    "              regressor_names[4]:regressors[4].feature_importances_, },\n",
    "              index=all_features)"
   ]
  },
  {
   "cell_type": "code",
   "execution_count": 34,
   "metadata": {
    "colab": {
     "base_uri": "https://localhost:8080/",
     "height": 373
    },
    "id": "Il98i6TRzSa5",
    "outputId": "3d57a187-a095-4078-be4e-472a97a8cfcc"
   },
   "outputs": [
    {
     "data": {
      "text/plain": [
       "<matplotlib.axes._subplots.AxesSubplot at 0x7ff6b0dfe9a0>"
      ]
     },
     "execution_count": 34,
     "metadata": {},
     "output_type": "execute_result"
    },
    {
     "data": {
      "image/png": "[encoded data removed]",
      "text/plain": [
       "<Figure size 432x288 with 2 Axes>"
      ]
     },
     "metadata": {},
     "output_type": "display_data"
    }
   ],
   "source": [
    "sns.heatmap(regressors_df, annot=True)"
   ]
  },
  {
   "cell_type": "markdown",
   "metadata": {
    "id": "uZzNdTcalqSO"
   },
   "source": [
    "## 2.2 Grid Search\n",
    "\n",
    "### 2.2.1 Setting"
   ]
  },
  {
   "cell_type": "code",
   "execution_count": 35,
   "metadata": {
    "id": "8wwALPk8LPs-"
   },
   "outputs": [],
   "source": [
    "train, test = split_to_train(X, y, 0.2)\n",
    "X_train = train.drop(['total_cases'], axis=1)\n",
    "y_train = train['total_cases']\n",
    "X_test = test.drop(['total_cases'], axis=1)\n",
    "y_test = test['total_cases']"
   ]
  },
  {
   "cell_type": "code",
   "execution_count": 36,
   "metadata": {
    "id": "tzxeL4q2I8FI"
   },
   "outputs": [],
   "source": [
    "param_dist = {\"n_estimators\": [32, 64, 128], # Number of trees in random forest\n",
    "              \"max_features\": ['auto', 'sqrt'], # Number of features to consider at every split\n",
    "              \"max_depth\": [8, 4, 2], # Maximum number of levels in tree\n",
    "              \"min_samples_split\": [2, 4, 6], #  Minimum number of samples required to split a node\n",
    "              \"min_samples_leaf\": [8, 12, 16], # Minimum number of samples required at each leaf node\n",
    "              \"bootstrap\": [True, False] # Method of selecting samples for training each tree\n",
    "            }"
   ]
  },
  {
   "cell_type": "code",
   "execution_count": 37,
   "metadata": {
    "colab": {
     "base_uri": "https://localhost:8080/"
    },
    "id": "WhDUKuC6ltYF",
    "outputId": "717ff00a-63d7-4047-f3c4-cbaba9a89137"
   },
   "outputs": [
    {
     "data": {
      "text/plain": [
       "GridSearchCV(cv=5, estimator=RandomForestRegressor(),\n",
       "             param_grid={'bootstrap': [True, False], 'max_depth': [8, 4, 2],\n",
       "                         'max_features': ['auto', 'sqrt'],\n",
       "                         'min_samples_leaf': [8, 12, 16],\n",
       "                         'min_samples_split': [2, 4, 6],\n",
       "                         'n_estimators': [32, 64, 128]})"
      ]
     },
     "execution_count": 37,
     "metadata": {},
     "output_type": "execute_result"
    }
   ],
   "source": [
    "rf = RandomForestRegressor()\n",
    "grid_regres = GridSearchCV(estimator=rf, param_grid=param_dist, cv=5)\n",
    "\n",
    "grid_regres.fit(X_test, y_test.values.ravel())"
   ]
  },
  {
   "cell_type": "markdown",
   "metadata": {
    "id": "hlcz62HHR-eI"
   },
   "source": [
    "### 2.2.2 Results"
   ]
  },
  {
   "cell_type": "code",
   "execution_count": 38,
   "metadata": {
    "colab": {
     "base_uri": "https://localhost:8080/"
    },
    "id": "IdIIC-mOR9bM",
    "outputId": "e112aa9c-e91e-4598-eb28-49a41b6a1c45"
   },
   "outputs": [
    {
     "name": "stdout",
     "output_type": "stream",
     "text": [
      "Model with rank: 1\n",
      "Mean validation score: 0.105 (std: 0.123)\n",
      "Parameters: {'bootstrap': True, 'max_depth': 2, 'max_features': 'sqrt', 'min_samples_leaf': 16, 'min_samples_split': 4, 'n_estimators': 32}\n",
      "\n",
      "Model with rank: 2\n",
      "Mean validation score: 0.093 (std: 0.105)\n",
      "Parameters: {'bootstrap': True, 'max_depth': 2, 'max_features': 'sqrt', 'min_samples_leaf': 12, 'min_samples_split': 6, 'n_estimators': 64}\n",
      "\n",
      "Model with rank: 3\n",
      "Mean validation score: 0.092 (std: 0.095)\n",
      "Parameters: {'bootstrap': False, 'max_depth': 2, 'max_features': 'sqrt', 'min_samples_leaf': 8, 'min_samples_split': 4, 'n_estimators': 32}\n",
      "\n",
      "Model with rank: 4\n",
      "Mean validation score: 0.091 (std: 0.111)\n",
      "Parameters: {'bootstrap': False, 'max_depth': 2, 'max_features': 'sqrt', 'min_samples_leaf': 8, 'min_samples_split': 6, 'n_estimators': 128}\n",
      "\n",
      "Model with rank: 5\n",
      "Mean validation score: 0.088 (std: 0.108)\n",
      "Parameters: {'bootstrap': False, 'max_depth': 2, 'max_features': 'sqrt', 'min_samples_leaf': 8, 'min_samples_split': 4, 'n_estimators': 128}\n",
      "\n",
      "Model with rank: 6\n",
      "Mean validation score: 0.087 (std: 0.090)\n",
      "Parameters: {'bootstrap': True, 'max_depth': 2, 'max_features': 'sqrt', 'min_samples_leaf': 8, 'min_samples_split': 6, 'n_estimators': 32}\n",
      "\n",
      "Model with rank: 7\n",
      "Mean validation score: 0.086 (std: 0.112)\n",
      "Parameters: {'bootstrap': True, 'max_depth': 2, 'max_features': 'sqrt', 'min_samples_leaf': 16, 'min_samples_split': 4, 'n_estimators': 64}\n",
      "\n",
      "Model with rank: 8\n",
      "Mean validation score: 0.086 (std: 0.121)\n",
      "Parameters: {'bootstrap': False, 'max_depth': 2, 'max_features': 'sqrt', 'min_samples_leaf': 8, 'min_samples_split': 4, 'n_estimators': 64}\n",
      "\n",
      "Model with rank: 9\n",
      "Mean validation score: 0.086 (std: 0.108)\n",
      "Parameters: {'bootstrap': True, 'max_depth': 2, 'max_features': 'sqrt', 'min_samples_leaf': 16, 'min_samples_split': 6, 'n_estimators': 32}\n",
      "\n",
      "Model with rank: 10\n",
      "Mean validation score: 0.085 (std: 0.121)\n",
      "Parameters: {'bootstrap': False, 'max_depth': 2, 'max_features': 'sqrt', 'min_samples_leaf': 8, 'min_samples_split': 2, 'n_estimators': 64}\n",
      "\n"
     ]
    }
   ],
   "source": [
    "report(grid_regres.cv_results_, n_top=10)"
   ]
  },
  {
   "cell_type": "code",
   "execution_count": 39,
   "metadata": {
    "colab": {
     "base_uri": "https://localhost:8080/"
    },
    "id": "60AJldfDRvv9",
    "outputId": "18f79fdc-3d05-4068-f7e6-6c0e0e62b29d"
   },
   "outputs": [
    {
     "data": {
      "text/plain": [
       "{'bootstrap': True,\n",
       " 'max_depth': 2,\n",
       " 'max_features': 'sqrt',\n",
       " 'min_samples_leaf': 16,\n",
       " 'min_samples_split': 4,\n",
       " 'n_estimators': 32}"
      ]
     },
     "execution_count": 39,
     "metadata": {},
     "output_type": "execute_result"
    }
   ],
   "source": [
    "grid_regres.best_params_"
   ]
  },
  {
   "cell_type": "code",
   "execution_count": 40,
   "metadata": {
    "colab": {
     "base_uri": "https://localhost:8080/"
    },
    "id": "DcnbZBm7Mpg_",
    "outputId": "20f1b639-580c-4ed1-d5ab-fefaa03861f3"
   },
   "outputs": [
    {
     "data": {
      "text/plain": [
       "19.789522936467524"
      ]
     },
     "execution_count": 40,
     "metadata": {},
     "output_type": "execute_result"
    }
   ],
   "source": [
    "get_mae(grid_regres.best_estimator_, X, y)"
   ]
  },
  {
   "cell_type": "markdown",
   "metadata": {
    "id": "vNaHkDN-NE2H"
   },
   "source": [
    "### 2.2.3 Visualisation"
   ]
  },
  {
   "cell_type": "code",
   "execution_count": 41,
   "metadata": {
    "colab": {
     "base_uri": "https://localhost:8080/",
     "height": 365
    },
    "id": "DKqZnvKcNEUY",
    "outputId": "f9b08e13-7d26-41ef-f95e-679b689fe26d"
   },
   "outputs": [
    {
     "data": {
      "image/png": "[encoded data removed]",
      "text/plain": [
       "<Figure size 432x288 with 1 Axes>"
      ]
     },
     "metadata": {},
     "output_type": "display_data"
    },
    {
     "data": {
      "text/plain": [
       "19.789522936467524"
      ]
     },
     "execution_count": 41,
     "metadata": {},
     "output_type": "execute_result"
    }
   ],
   "source": [
    "generate_visualization(grid_regres.best_estimator_, X, y)"
   ]
  },
  {
   "cell_type": "markdown",
   "metadata": {
    "id": "5H1eCjifQqC7"
   },
   "source": [
    "## 2.3 Randomized Search\n",
    "\n",
    "### 2.3.1 Setting"
   ]
  },
  {
   "cell_type": "code",
   "execution_count": 42,
   "metadata": {
    "id": "Dty-DRFtQ0yQ"
   },
   "outputs": [],
   "source": [
    "param_dist = {\"n_estimators\": [4, 8, 16, 32, 64], # Number of trees in random forest\n",
    "              \"max_features\": ['auto', 'sqrt'], # Number of features to consider at every split\n",
    "              \"max_depth\": [16, 12, 8, 4, 2, None], # Maximum number of levels in tree\n",
    "              \"min_samples_split\": sp_randint(2, 50), #  Minimum number of samples required to split a node\n",
    "              \"min_samples_leaf\": sp_randint(1, 50), # Minimum number of samples required at each leaf node\n",
    "              \"bootstrap\": [True, False], # Method of selecting samples for training each tree\n",
    "              \"criterion\": [\"mse\", \"mae\"]}"
   ]
  },
  {
   "cell_type": "code",
   "execution_count": 43,
   "metadata": {
    "colab": {
     "base_uri": "https://localhost:8080/"
    },
    "id": "mzkvP-ERQ3ya",
    "outputId": "0cae490e-1175-4756-883b-2bf0fb128786"
   },
   "outputs": [
    {
     "data": {
      "text/plain": [
       "RandomizedSearchCV(cv=5, estimator=RandomForestRegressor(), n_iter=100,\n",
       "                   n_jobs=-1,\n",
       "                   param_distributions={'bootstrap': [True, False],\n",
       "                                        'criterion': ['mse', 'mae'],\n",
       "                                        'max_depth': [16, 12, 8, 4, 2, None],\n",
       "                                        'max_features': ['auto', 'sqrt'],\n",
       "                                        'min_samples_leaf': <scipy.stats._distn_infrastructure.rv_frozen object at 0x7ff6b0ee9610>,\n",
       "                                        'min_samples_split': <scipy.stats._distn_infrastructure.rv_frozen object at 0x7ff6b0e90d00>,\n",
       "                                        'n_estimators': [4, 8, 16, 32, 64]},\n",
       "                   random_state=0)"
      ]
     },
     "execution_count": 43,
     "metadata": {},
     "output_type": "execute_result"
    }
   ],
   "source": [
    "rnd_regres = RandomizedSearchCV(estimator=rf, param_distributions=param_dist, \n",
    "                               n_iter=100, cv=5, random_state=0, n_jobs=-1)\n",
    "rnd_regres.fit(X_test, y_test.values.ravel())"
   ]
  },
  {
   "cell_type": "markdown",
   "metadata": {
    "id": "u3Evd1d-Sc01"
   },
   "source": [
    "### 2.3.2 Results"
   ]
  },
  {
   "cell_type": "code",
   "execution_count": 44,
   "metadata": {
    "colab": {
     "base_uri": "https://localhost:8080/"
    },
    "id": "JkoHGhU-Sb2o",
    "outputId": "d03a0450-91a0-4552-a4df-c04fae1e6ae3"
   },
   "outputs": [
    {
     "name": "stdout",
     "output_type": "stream",
     "text": [
      "Model with rank: 1\n",
      "Mean validation score: 0.121 (std: 0.079)\n",
      "Parameters: {'bootstrap': True, 'criterion': 'mae', 'max_depth': None, 'max_features': 'auto', 'min_samples_leaf': 18, 'min_samples_split': 2, 'n_estimators': 32}\n",
      "\n",
      "Model with rank: 2\n",
      "Mean validation score: 0.119 (std: 0.062)\n",
      "Parameters: {'bootstrap': True, 'criterion': 'mae', 'max_depth': 4, 'max_features': 'auto', 'min_samples_leaf': 8, 'min_samples_split': 30, 'n_estimators': 8}\n",
      "\n",
      "Model with rank: 3\n",
      "Mean validation score: 0.119 (std: 0.069)\n",
      "Parameters: {'bootstrap': True, 'criterion': 'mse', 'max_depth': 12, 'max_features': 'auto', 'min_samples_leaf': 43, 'min_samples_split': 16, 'n_estimators': 64}\n",
      "\n",
      "Model with rank: 4\n",
      "Mean validation score: 0.118 (std: 0.071)\n",
      "Parameters: {'bootstrap': True, 'criterion': 'mse', 'max_depth': 12, 'max_features': 'auto', 'min_samples_leaf': 36, 'min_samples_split': 8, 'n_estimators': 8}\n",
      "\n",
      "Model with rank: 5\n",
      "Mean validation score: 0.116 (std: 0.077)\n",
      "Parameters: {'bootstrap': True, 'criterion': 'mae', 'max_depth': 8, 'max_features': 'auto', 'min_samples_leaf': 36, 'min_samples_split': 32, 'n_estimators': 32}\n",
      "\n",
      "Model with rank: 6\n",
      "Mean validation score: 0.113 (std: 0.113)\n",
      "Parameters: {'bootstrap': True, 'criterion': 'mse', 'max_depth': 16, 'max_features': 'auto', 'min_samples_leaf': 48, 'min_samples_split': 12, 'n_estimators': 4}\n",
      "\n",
      "Model with rank: 7\n",
      "Mean validation score: 0.111 (std: 0.090)\n",
      "Parameters: {'bootstrap': True, 'criterion': 'mae', 'max_depth': 12, 'max_features': 'auto', 'min_samples_leaf': 40, 'min_samples_split': 26, 'n_estimators': 16}\n",
      "\n",
      "Model with rank: 8\n",
      "Mean validation score: 0.110 (std: 0.109)\n",
      "Parameters: {'bootstrap': True, 'criterion': 'mae', 'max_depth': None, 'max_features': 'sqrt', 'min_samples_leaf': 2, 'min_samples_split': 33, 'n_estimators': 64}\n",
      "\n",
      "Model with rank: 9\n",
      "Mean validation score: 0.109 (std: 0.061)\n",
      "Parameters: {'bootstrap': True, 'criterion': 'mae', 'max_depth': 4, 'max_features': 'auto', 'min_samples_leaf': 12, 'min_samples_split': 30, 'n_estimators': 16}\n",
      "\n",
      "Model with rank: 10\n",
      "Mean validation score: 0.109 (std: 0.078)\n",
      "Parameters: {'bootstrap': True, 'criterion': 'mae', 'max_depth': 16, 'max_features': 'auto', 'min_samples_leaf': 39, 'min_samples_split': 27, 'n_estimators': 16}\n",
      "\n"
     ]
    }
   ],
   "source": [
    "report(rnd_regres.cv_results_, n_top=10)"
   ]
  },
  {
   "cell_type": "code",
   "execution_count": 45,
   "metadata": {
    "colab": {
     "base_uri": "https://localhost:8080/"
    },
    "id": "h70VEKo6Rq14",
    "outputId": "5d8f548f-fd35-4d0a-e204-5a0856503d52"
   },
   "outputs": [
    {
     "data": {
      "text/plain": [
       "{'bootstrap': True,\n",
       " 'criterion': 'mae',\n",
       " 'max_depth': None,\n",
       " 'max_features': 'auto',\n",
       " 'min_samples_leaf': 18,\n",
       " 'min_samples_split': 2,\n",
       " 'n_estimators': 32}"
      ]
     },
     "execution_count": 45,
     "metadata": {},
     "output_type": "execute_result"
    }
   ],
   "source": [
    "rnd_regres.best_params_"
   ]
  },
  {
   "cell_type": "code",
   "execution_count": 46,
   "metadata": {
    "colab": {
     "base_uri": "https://localhost:8080/"
    },
    "id": "n8drMjSCRzRi",
    "outputId": "3091d662-d0af-400e-893c-55757047264d"
   },
   "outputs": [
    {
     "data": {
      "text/plain": [
       "17.394209306318682"
      ]
     },
     "execution_count": 46,
     "metadata": {},
     "output_type": "execute_result"
    }
   ],
   "source": [
    "get_mae(rnd_regres.best_estimator_, X, y)"
   ]
  },
  {
   "cell_type": "markdown",
   "metadata": {
    "id": "8Hz-DpslSgGu"
   },
   "source": [
    "### 2.3.3 Visualisation"
   ]
  },
  {
   "cell_type": "code",
   "execution_count": 47,
   "metadata": {
    "colab": {
     "base_uri": "https://localhost:8080/",
     "height": 365
    },
    "id": "MxyjBlulR1uj",
    "outputId": "7f371524-7e28-406c-b6b1-c33a9a78423a"
   },
   "outputs": [
    {
     "data": {
      "image/png": "[encoded data removed]",
      "text/plain": [
       "<Figure size 432x288 with 1 Axes>"
      ]
     },
     "metadata": {},
     "output_type": "display_data"
    },
    {
     "data": {
      "text/plain": [
       "17.394209306318682"
      ]
     },
     "execution_count": 47,
     "metadata": {},
     "output_type": "execute_result"
    }
   ],
   "source": [
    "generate_visualization(rnd_regres.best_estimator_, X, y)"
   ]
  },
  {
   "cell_type": "markdown",
   "metadata": {},
   "source": [
    "# Select best regressor for submission"
   ]
  },
  {
   "cell_type": "code",
   "execution_count": 48,
   "metadata": {},
   "outputs": [],
   "source": [
    "best_regressor_sj = rf\n",
    "best_regressor_iq = rf"
   ]
  },
  {
   "cell_type": "markdown",
   "metadata": {},
   "source": [
    "# Submission\n",
    "Run prediction with best estimator and create submittable result for datadriven competition."
   ]
  },
  {
   "cell_type": "code",
   "execution_count": 88,
   "metadata": {},
   "outputs": [],
   "source": [
    "test = pd.read_csv('dengue_features_test.csv')\n",
    "\n",
    "X_sj, X_iq = preprocess(test)"
   ]
  },
  {
   "cell_type": "code",
   "execution_count": 50,
   "metadata": {
    "colab": {
     "base_uri": "https://localhost:8080/"
    },
    "id": "nmONU3y8b9I-",
    "outputId": "0f26248a-35ad-4e7b-bff9-520e032acf59"
   },
   "outputs": [
    {
     "data": {
      "text/plain": [
       "(416, 20)"
      ]
     },
     "execution_count": 50,
     "metadata": {},
     "output_type": "execute_result"
    }
   ],
   "source": [
    "df.drop(['week_start_date'], axis=1, inplace=True)\n",
    "df.set_index(['city', 'year', 'weekofyear'], inplace=True)\n",
    "df.shape"
   ]
  },
  {
   "cell_type": "code",
   "execution_count": 51,
   "metadata": {
    "colab": {
     "base_uri": "https://localhost:8080/"
    },
    "id": "80wEEOLsb9JT",
    "outputId": "f77aeeb9-9e3a-4343-fc17-ba16866d71df"
   },
   "outputs": [
    {
     "data": {
      "text/plain": [
       "ndvi_ne                                  0\n",
       "ndvi_nw                                  0\n",
       "ndvi_se                                  0\n",
       "ndvi_sw                                  0\n",
       "precipitation_amt_mm                     0\n",
       "reanalysis_air_temp_k                    0\n",
       "reanalysis_avg_temp_k                    0\n",
       "reanalysis_dew_point_temp_k              0\n",
       "reanalysis_max_air_temp_k                0\n",
       "reanalysis_min_air_temp_k                0\n",
       "reanalysis_precip_amt_kg_per_m2          0\n",
       "reanalysis_relative_humidity_percent     0\n",
       "reanalysis_sat_precip_amt_mm             0\n",
       "reanalysis_specific_humidity_g_per_kg    0\n",
       "reanalysis_tdtr_k                        0\n",
       "station_avg_temp_c                       0\n",
       "station_diur_temp_rng_c                  0\n",
       "station_max_temp_c                       0\n",
       "station_min_temp_c                       0\n",
       "station_precip_mm                        0\n",
       "dtype: int64"
      ]
     },
     "execution_count": 51,
     "metadata": {},
     "output_type": "execute_result"
    }
   ],
   "source": [
    "df.isna().sum()\n",
    "# ffill: propagate last valid observation forward to next valid backfill\n",
    "# @ Check other methods\n",
    "df.fillna(method=\"bfill\", inplace=True)\n",
    "df.isna().sum()"
   ]
  },
  {
   "cell_type": "code",
   "execution_count": 52,
   "metadata": {
    "id": "XRWyUwJtb9Jm"
   },
   "outputs": [],
   "source": [
    "scaler = sklearn.preprocessing.StandardScaler()\n",
    "#scaler = sklearn.preprocessing.MinMaxScaler()\n",
    "X = scaler.fit_transform(df)"
   ]
  },
  {
   "cell_type": "code",
   "execution_count": 53,
   "metadata": {
    "id": "BMP4yaM_xyLk"
   },
   "outputs": [],
   "source": [
    "#features = ['ndvi_ne', 'ndvi_nw', 'ndvi_se', 'ndvi_sw', 'precipitation_amt_mm', 'reanalysis_precip_amt_kg_per_m2', 'reanalysis_specific_humidity_g_per_kg']\n",
    "X = pd.DataFrame(X, index=df.index, columns=all_features)"
   ]
  },
  {
   "cell_type": "code",
   "execution_count": 54,
   "metadata": {},
   "outputs": [
    {
     "data": {
      "text/html": [
       "<div>\n",
       "<style scoped>\n",
       "    .dataframe tbody tr th:only-of-type {\n",
       "        vertical-align: middle;\n",
       "    }\n",
       "\n",
       "    .dataframe tbody tr th {\n",
       "        vertical-align: top;\n",
       "    }\n",
       "\n",
       "    .dataframe thead th {\n",
       "        text-align: right;\n",
       "    }\n",
       "</style>\n",
       "<table border=\"1\" class=\"dataframe\">\n",
       "  <thead>\n",
       "    <tr style=\"text-align: right;\">\n",
       "      <th></th>\n",
       "      <th></th>\n",
       "      <th></th>\n",
       "      <th>ndvi_ne</th>\n",
       "      <th>ndvi_nw</th>\n",
       "      <th>ndvi_se</th>\n",
       "      <th>ndvi_sw</th>\n",
       "      <th>precipitation_amt_mm</th>\n",
       "      <th>reanalysis_air_temp_k</th>\n",
       "      <th>reanalysis_avg_temp_k</th>\n",
       "      <th>reanalysis_dew_point_temp_k</th>\n",
       "      <th>reanalysis_max_air_temp_k</th>\n",
       "      <th>reanalysis_min_air_temp_k</th>\n",
       "      <th>reanalysis_precip_amt_kg_per_m2</th>\n",
       "      <th>reanalysis_relative_humidity_percent</th>\n",
       "      <th>reanalysis_sat_precip_amt_mm</th>\n",
       "      <th>reanalysis_specific_humidity_g_per_kg</th>\n",
       "      <th>reanalysis_tdtr_k</th>\n",
       "      <th>station_avg_temp_c</th>\n",
       "      <th>station_diur_temp_rng_c</th>\n",
       "      <th>station_max_temp_c</th>\n",
       "      <th>station_min_temp_c</th>\n",
       "      <th>station_precip_mm</th>\n",
       "    </tr>\n",
       "    <tr>\n",
       "      <th>city</th>\n",
       "      <th>year</th>\n",
       "      <th>weekofyear</th>\n",
       "      <th></th>\n",
       "      <th></th>\n",
       "      <th></th>\n",
       "      <th></th>\n",
       "      <th></th>\n",
       "      <th></th>\n",
       "      <th></th>\n",
       "      <th></th>\n",
       "      <th></th>\n",
       "      <th></th>\n",
       "      <th></th>\n",
       "      <th></th>\n",
       "      <th></th>\n",
       "      <th></th>\n",
       "      <th></th>\n",
       "      <th></th>\n",
       "      <th></th>\n",
       "      <th></th>\n",
       "      <th></th>\n",
       "      <th></th>\n",
       "    </tr>\n",
       "  </thead>\n",
       "  <tbody>\n",
       "    <tr>\n",
       "      <th rowspan=\"5\" valign=\"top\">sj</th>\n",
       "      <th rowspan=\"5\" valign=\"top\">2008</th>\n",
       "      <th>18</th>\n",
       "      <td>-0.827494</td>\n",
       "      <td>-1.021792</td>\n",
       "      <td>-1.330093</td>\n",
       "      <td>-1.203512</td>\n",
       "      <td>1.150400</td>\n",
       "      <td>-0.220110</td>\n",
       "      <td>-0.612498</td>\n",
       "      <td>-0.580271</td>\n",
       "      <td>-0.810905</td>\n",
       "      <td>0.239043</td>\n",
       "      <td>-0.341286</td>\n",
       "      <td>-0.501039</td>\n",
       "      <td>1.150400</td>\n",
       "      <td>-0.642011</td>\n",
       "      <td>-0.561850</td>\n",
       "      <td>-0.675916</td>\n",
       "      <td>-0.337061</td>\n",
       "      <td>0.399988</td>\n",
       "      <td>-0.350673</td>\n",
       "      <td>1.194382</td>\n",
       "    </tr>\n",
       "    <tr>\n",
       "      <th>19</th>\n",
       "      <td>-0.822001</td>\n",
       "      <td>-0.975896</td>\n",
       "      <td>-1.592230</td>\n",
       "      <td>-1.409221</td>\n",
       "      <td>-0.728707</td>\n",
       "      <td>-0.231811</td>\n",
       "      <td>-0.607018</td>\n",
       "      <td>-0.666536</td>\n",
       "      <td>-0.907794</td>\n",
       "      <td>0.348040</td>\n",
       "      <td>-0.413850</td>\n",
       "      <td>-0.575909</td>\n",
       "      <td>-0.728707</td>\n",
       "      <td>-0.723614</td>\n",
       "      <td>-0.719527</td>\n",
       "      <td>-1.049736</td>\n",
       "      <td>-0.940658</td>\n",
       "      <td>-1.314888</td>\n",
       "      <td>-0.065305</td>\n",
       "      <td>0.010900</td>\n",
       "    </tr>\n",
       "    <tr>\n",
       "      <th>20</th>\n",
       "      <td>-0.721295</td>\n",
       "      <td>-1.028618</td>\n",
       "      <td>-0.717326</td>\n",
       "      <td>-1.199933</td>\n",
       "      <td>-0.981948</td>\n",
       "      <td>0.437065</td>\n",
       "      <td>0.006678</td>\n",
       "      <td>-0.067370</td>\n",
       "      <td>-0.455644</td>\n",
       "      <td>0.239043</td>\n",
       "      <td>-0.776877</td>\n",
       "      <td>-0.570478</td>\n",
       "      <td>-0.981948</td>\n",
       "      <td>-0.156981</td>\n",
       "      <td>-0.193938</td>\n",
       "      <td>0.468905</td>\n",
       "      <td>-0.043885</td>\n",
       "      <td>0.140158</td>\n",
       "      <td>0.277136</td>\n",
       "      <td>-0.894797</td>\n",
       "    </tr>\n",
       "    <tr>\n",
       "      <th>21</th>\n",
       "      <td>-0.365465</td>\n",
       "      <td>-1.028618</td>\n",
       "      <td>-1.056371</td>\n",
       "      <td>-0.827883</td>\n",
       "      <td>-1.086090</td>\n",
       "      <td>0.596972</td>\n",
       "      <td>0.291608</td>\n",
       "      <td>-0.661848</td>\n",
       "      <td>-0.197272</td>\n",
       "      <td>0.420705</td>\n",
       "      <td>-0.816234</td>\n",
       "      <td>-1.283880</td>\n",
       "      <td>-1.086090</td>\n",
       "      <td>-0.733699</td>\n",
       "      <td>-0.218196</td>\n",
       "      <td>0.574042</td>\n",
       "      <td>-0.653231</td>\n",
       "      <td>0.399988</td>\n",
       "      <td>1.190314</td>\n",
       "      <td>-0.972924</td>\n",
       "    </tr>\n",
       "    <tr>\n",
       "      <th>22</th>\n",
       "      <td>-0.365465</td>\n",
       "      <td>-0.607077</td>\n",
       "      <td>-1.842841</td>\n",
       "      <td>-1.370008</td>\n",
       "      <td>-1.064465</td>\n",
       "      <td>0.658399</td>\n",
       "      <td>0.247773</td>\n",
       "      <td>-0.427432</td>\n",
       "      <td>-0.423348</td>\n",
       "      <td>0.566034</td>\n",
       "      <td>-0.771958</td>\n",
       "      <td>-1.138795</td>\n",
       "      <td>-1.064465</td>\n",
       "      <td>-0.501728</td>\n",
       "      <td>-0.444603</td>\n",
       "      <td>0.211904</td>\n",
       "      <td>-0.325564</td>\n",
       "      <td>0.399988</td>\n",
       "      <td>0.562504</td>\n",
       "      <td>1.451912</td>\n",
       "    </tr>\n",
       "  </tbody>\n",
       "</table>\n",
       "</div>"
      ],
      "text/plain": [
       "                       ndvi_ne   ndvi_nw   ndvi_se   ndvi_sw  \\\n",
       "city year weekofyear                                           \n",
       "sj   2008 18         -0.827494 -1.021792 -1.330093 -1.203512   \n",
       "          19         -0.822001 -0.975896 -1.592230 -1.409221   \n",
       "          20         -0.721295 -1.028618 -0.717326 -1.199933   \n",
       "          21         -0.365465 -1.028618 -1.056371 -0.827883   \n",
       "          22         -0.365465 -0.607077 -1.842841 -1.370008   \n",
       "\n",
       "                      precipitation_amt_mm  reanalysis_air_temp_k  \\\n",
       "city year weekofyear                                                \n",
       "sj   2008 18                      1.150400              -0.220110   \n",
       "          19                     -0.728707              -0.231811   \n",
       "          20                     -0.981948               0.437065   \n",
       "          21                     -1.086090               0.596972   \n",
       "          22                     -1.064465               0.658399   \n",
       "\n",
       "                      reanalysis_avg_temp_k  reanalysis_dew_point_temp_k  \\\n",
       "city year weekofyear                                                       \n",
       "sj   2008 18                      -0.612498                    -0.580271   \n",
       "          19                      -0.607018                    -0.666536   \n",
       "          20                       0.006678                    -0.067370   \n",
       "          21                       0.291608                    -0.661848   \n",
       "          22                       0.247773                    -0.427432   \n",
       "\n",
       "                      reanalysis_max_air_temp_k  reanalysis_min_air_temp_k  \\\n",
       "city year weekofyear                                                         \n",
       "sj   2008 18                          -0.810905                   0.239043   \n",
       "          19                          -0.907794                   0.348040   \n",
       "          20                          -0.455644                   0.239043   \n",
       "          21                          -0.197272                   0.420705   \n",
       "          22                          -0.423348                   0.566034   \n",
       "\n",
       "                      reanalysis_precip_amt_kg_per_m2  \\\n",
       "city year weekofyear                                    \n",
       "sj   2008 18                                -0.341286   \n",
       "          19                                -0.413850   \n",
       "          20                                -0.776877   \n",
       "          21                                -0.816234   \n",
       "          22                                -0.771958   \n",
       "\n",
       "                      reanalysis_relative_humidity_percent  \\\n",
       "city year weekofyear                                         \n",
       "sj   2008 18                                     -0.501039   \n",
       "          19                                     -0.575909   \n",
       "          20                                     -0.570478   \n",
       "          21                                     -1.283880   \n",
       "          22                                     -1.138795   \n",
       "\n",
       "                      reanalysis_sat_precip_amt_mm  \\\n",
       "city year weekofyear                                 \n",
       "sj   2008 18                              1.150400   \n",
       "          19                             -0.728707   \n",
       "          20                             -0.981948   \n",
       "          21                             -1.086090   \n",
       "          22                             -1.064465   \n",
       "\n",
       "                      reanalysis_specific_humidity_g_per_kg  \\\n",
       "city year weekofyear                                          \n",
       "sj   2008 18                                      -0.642011   \n",
       "          19                                      -0.723614   \n",
       "          20                                      -0.156981   \n",
       "          21                                      -0.733699   \n",
       "          22                                      -0.501728   \n",
       "\n",
       "                      reanalysis_tdtr_k  station_avg_temp_c  \\\n",
       "city year weekofyear                                          \n",
       "sj   2008 18                  -0.561850           -0.675916   \n",
       "          19                  -0.719527           -1.049736   \n",
       "          20                  -0.193938            0.468905   \n",
       "          21                  -0.218196            0.574042   \n",
       "          22                  -0.444603            0.211904   \n",
       "\n",
       "                      station_diur_temp_rng_c  station_max_temp_c  \\\n",
       "city year weekofyear                                                \n",
       "sj   2008 18                        -0.337061            0.399988   \n",
       "          19                        -0.940658           -1.314888   \n",
       "          20                        -0.043885            0.140158   \n",
       "          21                        -0.653231            0.399988   \n",
       "          22                        -0.325564            0.399988   \n",
       "\n",
       "                      station_min_temp_c  station_precip_mm  \n",
       "city year weekofyear                                         \n",
       "sj   2008 18                   -0.350673           1.194382  \n",
       "          19                   -0.065305           0.010900  \n",
       "          20                    0.277136          -0.894797  \n",
       "          21                    1.190314          -0.972924  \n",
       "          22                    0.562504           1.451912  "
      ]
     },
     "execution_count": 54,
     "metadata": {},
     "output_type": "execute_result"
    }
   ],
   "source": [
    "X.head()"
   ]
  },
  {
   "cell_type": "code",
   "execution_count": 55,
   "metadata": {},
   "outputs": [
    {
     "ename": "NotFittedError",
     "evalue": "This RandomForestRegressor instance is not fitted yet. Call 'fit' with appropriate arguments before using this estimator.",
     "output_type": "error",
     "traceback": [
      "\u001b[0;31m---------------------------------------------------------------------------\u001b[0m",
      "\u001b[0;31mNotFittedError\u001b[0m                            Traceback (most recent call last)",
      "\u001b[0;32m<ipython-input-55-9961574e5c47>\u001b[0m in \u001b[0;36m<module>\u001b[0;34m\u001b[0m\n\u001b[0;32m----> 1\u001b[0;31m \u001b[0my_pred\u001b[0m \u001b[0;34m=\u001b[0m \u001b[0mget_predictions\u001b[0m\u001b[0;34m(\u001b[0m\u001b[0mbest_regressor\u001b[0m\u001b[0;34m,\u001b[0m \u001b[0mX\u001b[0m\u001b[0;34m)\u001b[0m\u001b[0;34m\u001b[0m\u001b[0;34m\u001b[0m\u001b[0m\n\u001b[0m",
      "\u001b[0;32m<ipython-input-13-33063a4b7199>\u001b[0m in \u001b[0;36mget_predictions\u001b[0;34m(regressor, X)\u001b[0m\n\u001b[1;32m      3\u001b[0m \u001b[0;34m\u001b[0m\u001b[0m\n\u001b[1;32m      4\u001b[0m \u001b[0;32mdef\u001b[0m \u001b[0mget_predictions\u001b[0m\u001b[0;34m(\u001b[0m\u001b[0mregressor\u001b[0m\u001b[0;34m,\u001b[0m \u001b[0mX\u001b[0m\u001b[0;34m)\u001b[0m\u001b[0;34m:\u001b[0m\u001b[0;34m\u001b[0m\u001b[0;34m\u001b[0m\u001b[0m\n\u001b[0;32m----> 5\u001b[0;31m     \u001b[0;32mreturn\u001b[0m \u001b[0mregressor\u001b[0m\u001b[0;34m.\u001b[0m\u001b[0mpredict\u001b[0m\u001b[0;34m(\u001b[0m\u001b[0mX\u001b[0m\u001b[0;34m)\u001b[0m\u001b[0;34m\u001b[0m\u001b[0;34m\u001b[0m\u001b[0m\n\u001b[0m\u001b[1;32m      6\u001b[0m \u001b[0;34m\u001b[0m\u001b[0m\n\u001b[1;32m      7\u001b[0m \u001b[0;32mdef\u001b[0m \u001b[0mget_mae\u001b[0m\u001b[0;34m(\u001b[0m\u001b[0mregressor\u001b[0m\u001b[0;34m,\u001b[0m \u001b[0mX\u001b[0m\u001b[0;34m,\u001b[0m \u001b[0my\u001b[0m\u001b[0;34m)\u001b[0m\u001b[0;34m:\u001b[0m\u001b[0;34m\u001b[0m\u001b[0;34m\u001b[0m\u001b[0m\n",
      "\u001b[0;32m~/.conda/envs/data/lib/python3.8/site-packages/sklearn/ensemble/_forest.py\u001b[0m in \u001b[0;36mpredict\u001b[0;34m(self, X)\u001b[0m\n\u001b[1;32m    779\u001b[0m             \u001b[0mThe\u001b[0m \u001b[0mpredicted\u001b[0m \u001b[0mvalues\u001b[0m\u001b[0;34m.\u001b[0m\u001b[0;34m\u001b[0m\u001b[0;34m\u001b[0m\u001b[0m\n\u001b[1;32m    780\u001b[0m         \"\"\"\n\u001b[0;32m--> 781\u001b[0;31m         \u001b[0mcheck_is_fitted\u001b[0m\u001b[0;34m(\u001b[0m\u001b[0mself\u001b[0m\u001b[0;34m)\u001b[0m\u001b[0;34m\u001b[0m\u001b[0;34m\u001b[0m\u001b[0m\n\u001b[0m\u001b[1;32m    782\u001b[0m         \u001b[0;31m# Check data\u001b[0m\u001b[0;34m\u001b[0m\u001b[0;34m\u001b[0m\u001b[0;34m\u001b[0m\u001b[0m\n\u001b[1;32m    783\u001b[0m         \u001b[0mX\u001b[0m \u001b[0;34m=\u001b[0m \u001b[0mself\u001b[0m\u001b[0;34m.\u001b[0m\u001b[0m_validate_X_predict\u001b[0m\u001b[0;34m(\u001b[0m\u001b[0mX\u001b[0m\u001b[0;34m)\u001b[0m\u001b[0;34m\u001b[0m\u001b[0;34m\u001b[0m\u001b[0m\n",
      "\u001b[0;32m~/.conda/envs/data/lib/python3.8/site-packages/sklearn/utils/validation.py\u001b[0m in \u001b[0;36minner_f\u001b[0;34m(*args, **kwargs)\u001b[0m\n\u001b[1;32m     70\u001b[0m                           FutureWarning)\n\u001b[1;32m     71\u001b[0m         \u001b[0mkwargs\u001b[0m\u001b[0;34m.\u001b[0m\u001b[0mupdate\u001b[0m\u001b[0;34m(\u001b[0m\u001b[0;34m{\u001b[0m\u001b[0mk\u001b[0m\u001b[0;34m:\u001b[0m \u001b[0marg\u001b[0m \u001b[0;32mfor\u001b[0m \u001b[0mk\u001b[0m\u001b[0;34m,\u001b[0m \u001b[0marg\u001b[0m \u001b[0;32min\u001b[0m \u001b[0mzip\u001b[0m\u001b[0;34m(\u001b[0m\u001b[0msig\u001b[0m\u001b[0;34m.\u001b[0m\u001b[0mparameters\u001b[0m\u001b[0;34m,\u001b[0m \u001b[0margs\u001b[0m\u001b[0;34m)\u001b[0m\u001b[0;34m}\u001b[0m\u001b[0;34m)\u001b[0m\u001b[0;34m\u001b[0m\u001b[0;34m\u001b[0m\u001b[0m\n\u001b[0;32m---> 72\u001b[0;31m         \u001b[0;32mreturn\u001b[0m \u001b[0mf\u001b[0m\u001b[0;34m(\u001b[0m\u001b[0;34m**\u001b[0m\u001b[0mkwargs\u001b[0m\u001b[0;34m)\u001b[0m\u001b[0;34m\u001b[0m\u001b[0;34m\u001b[0m\u001b[0m\n\u001b[0m\u001b[1;32m     73\u001b[0m     \u001b[0;32mreturn\u001b[0m \u001b[0minner_f\u001b[0m\u001b[0;34m\u001b[0m\u001b[0;34m\u001b[0m\u001b[0m\n\u001b[1;32m     74\u001b[0m \u001b[0;34m\u001b[0m\u001b[0m\n",
      "\u001b[0;32m~/.conda/envs/data/lib/python3.8/site-packages/sklearn/utils/validation.py\u001b[0m in \u001b[0;36mcheck_is_fitted\u001b[0;34m(estimator, attributes, msg, all_or_any)\u001b[0m\n\u001b[1;32m   1017\u001b[0m \u001b[0;34m\u001b[0m\u001b[0m\n\u001b[1;32m   1018\u001b[0m     \u001b[0;32mif\u001b[0m \u001b[0;32mnot\u001b[0m \u001b[0mattrs\u001b[0m\u001b[0;34m:\u001b[0m\u001b[0;34m\u001b[0m\u001b[0;34m\u001b[0m\u001b[0m\n\u001b[0;32m-> 1019\u001b[0;31m         \u001b[0;32mraise\u001b[0m \u001b[0mNotFittedError\u001b[0m\u001b[0;34m(\u001b[0m\u001b[0mmsg\u001b[0m \u001b[0;34m%\u001b[0m \u001b[0;34m{\u001b[0m\u001b[0;34m'name'\u001b[0m\u001b[0;34m:\u001b[0m \u001b[0mtype\u001b[0m\u001b[0;34m(\u001b[0m\u001b[0mestimator\u001b[0m\u001b[0;34m)\u001b[0m\u001b[0;34m.\u001b[0m\u001b[0m__name__\u001b[0m\u001b[0;34m}\u001b[0m\u001b[0;34m)\u001b[0m\u001b[0;34m\u001b[0m\u001b[0;34m\u001b[0m\u001b[0m\n\u001b[0m\u001b[1;32m   1020\u001b[0m \u001b[0;34m\u001b[0m\u001b[0m\n\u001b[1;32m   1021\u001b[0m \u001b[0;34m\u001b[0m\u001b[0m\n",
      "\u001b[0;31mNotFittedError\u001b[0m: This RandomForestRegressor instance is not fitted yet. Call 'fit' with appropriate arguments before using this estimator."
     ]
    }
   ],
   "source": [
    "y_pred = get_predictions(best_regressor, X)"
   ]
  },
  {
   "cell_type": "code",
   "execution_count": null,
   "metadata": {},
   "outputs": [],
   "source": []
  }
 ],
 "metadata": {
  "colab": {
   "collapsed_sections": [
    "9jhMWpZry6wG",
    "viAWMiuF5Qy0"
   ],
   "name": "Milestone1_supervised.ipynb",
   "provenance": [],
   "toc_visible": true
  },
  "kernelspec": {
   "display_name": "Python 3",
   "language": "python",
   "name": "python3"
  },
  "language_info": {
   "codemirror_mode": {
    "name": "ipython",
    "version": 3
   },
   "file_extension": ".py",
   "mimetype": "text/x-python",
   "name": "python",
   "nbconvert_exporter": "python",
   "pygments_lexer": "ipython3",
   "version": "3.8.3"
  }
 },
 "nbformat": 4,
 "nbformat_minor": 4
}
