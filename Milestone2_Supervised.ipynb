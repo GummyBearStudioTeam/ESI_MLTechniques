{
  "nbformat": 4,
  "nbformat_minor": 0,
  "metadata": {
    "colab": {
      "name": "Milestone1_supervised.ipynb",
      "provenance": [],
      "collapsed_sections": [
        "9jhMWpZry6wG",
        "viAWMiuF5Qy0"
      ],
      "toc_visible": true
    },
    "kernelspec": {
      "display_name": "Python 3",
      "language": "python",
      "name": "python3"
    },
    "language_info": {
      "codemirror_mode": {
        "name": "ipython",
        "version": 3
      },
      "file_extension": ".py",
      "mimetype": "text/x-python",
      "name": "python",
      "nbconvert_exporter": "python",
      "pygments_lexer": "ipython3",
      "version": "3.6.9"
    }
  },
  "cells": [
    {
      "cell_type": "markdown",
      "metadata": {
        "id": "Cbs4n2uvb9IE"
      },
      "source": [
        "# Milestone 2\n",
        "Supervised learning."
      ]
    },
    {
      "cell_type": "markdown",
      "metadata": {
        "id": "VH_P5Keiyur5"
      },
      "source": [
        "#Loading"
      ]
    },
    {
      "cell_type": "code",
      "metadata": {
        "id": "H-emiI-kb9II"
      },
      "source": [
        "import pandas as pd\n",
        "import numpy as np\n",
        "import seaborn as sns\n",
        "import plotly.express as px\n",
        "import sklearn\n",
        "import sklearn.preprocessing\n",
        "import sklearn.metrics\n",
        "import seaborn as sns; sns.set()\n",
        "\n",
        "from sklearn import neighbors\n",
        "from sklearn.neighbors import KNeighborsRegressor\n",
        "from sklearn.model_selection import KFold, train_test_split\n",
        "import matplotlib.pyplot as plt\n",
        "from sklearn.metrics import mean_absolute_error\n",
        "\n",
        "from sklearn.tree import DecisionTreeRegressor\n",
        "from sklearn.ensemble import RandomForestRegressor\n",
        "from sklearn.ensemble import AdaBoostRegressor\n",
        "from sklearn.ensemble import GradientBoostingRegressor\n",
        "from sklearn.model_selection import RandomizedSearchCV\n",
        "from sklearn.model_selection import GridSearchCV\n",
        "from scipy.stats import randint as sp_randint\n",
        "\n",
        "from google.colab import files"
      ],
      "execution_count": 1,
      "outputs": []
    },
    {
      "cell_type": "code",
      "metadata": {
        "id": "jVlLnqfTb9IX"
      },
      "source": [
        "df = pd.read_csv('dengue_features_train.csv')\n",
        "y = pd.read_csv('dengue_labels_train.csv')"
      ],
      "execution_count": 2,
      "outputs": []
    },
    {
      "cell_type": "markdown",
      "metadata": {
        "id": "uKGqayHrb9In"
      },
      "source": [
        "## Filter data for group subset\n",
        "Our group is working on dataset San Juan 1992-98"
      ]
    },
    {
      "cell_type": "code",
      "metadata": {
        "colab": {
          "base_uri": "https://localhost:8080/"
        },
        "id": "VjDGuF8Eb9Io",
        "outputId": "7b613092-255e-41cd-ef86-a189adc7a6d8"
      },
      "source": [
        "df['city'].value_counts()"
      ],
      "execution_count": 3,
      "outputs": [
        {
          "output_type": "execute_result",
          "data": {
            "text/plain": [
              "sj    936\n",
              "iq    520\n",
              "Name: city, dtype: int64"
            ]
          },
          "metadata": {
            "tags": []
          },
          "execution_count": 3
        }
      ]
    },
    {
      "cell_type": "code",
      "metadata": {
        "id": "OYOSPncGb9I1"
      },
      "source": [
        "#criteria = (df['city'].values == 'sj', df['year'].values >= 1992, df['year'].values <= 1998)\n",
        "#df = df[np.sum(criteria, axis=0, dtype=np.int8) == 3]\n",
        "df = df[df['city'] == 'sj']\n",
        "df = df[df['year'] >= 1992]\n",
        "df = df[df['year'] <= 1998]\n",
        "\n",
        "y = y[y['city'] == 'sj']\n",
        "y = y[y['year'] >= 1992]\n",
        "y = y[y['year'] <= 1998]"
      ],
      "execution_count": 4,
      "outputs": []
    },
    {
      "cell_type": "code",
      "metadata": {
        "colab": {
          "base_uri": "https://localhost:8080/"
        },
        "id": "nmONU3y8b9I-",
        "outputId": "0f26248a-35ad-4e7b-bff9-520e032acf59"
      },
      "source": [
        "record_names = df[['city', 'year', 'weekofyear']]\n",
        "df.drop(['week_start_date'], axis=1, inplace=True)\n",
        "df.set_index(['city', 'year', 'weekofyear'], inplace=True)\n",
        "all_features = df.columns\n",
        "y.set_index(['city', 'year', 'weekofyear'], inplace=True)\n",
        "df.shape, y.shape"
      ],
      "execution_count": 5,
      "outputs": [
        {
          "output_type": "execute_result",
          "data": {
            "text/plain": [
              "((364, 20), (364, 1))"
            ]
          },
          "metadata": {
            "tags": []
          },
          "execution_count": 5
        }
      ]
    },
    {
      "cell_type": "code",
      "metadata": {
        "colab": {
          "base_uri": "https://localhost:8080/",
          "height": 257
        },
        "id": "Fm1gR7vVb9JI",
        "outputId": "e725eee0-2433-4f58-95f1-c5d4cd8c1a52"
      },
      "source": [
        "df.head()"
      ],
      "execution_count": 6,
      "outputs": [
        {
          "output_type": "execute_result",
          "data": {
            "text/html": [
              "<div>\n",
              "<style scoped>\n",
              "    .dataframe tbody tr th:only-of-type {\n",
              "        vertical-align: middle;\n",
              "    }\n",
              "\n",
              "    .dataframe tbody tr th {\n",
              "        vertical-align: top;\n",
              "    }\n",
              "\n",
              "    .dataframe thead th {\n",
              "        text-align: right;\n",
              "    }\n",
              "</style>\n",
              "<table border=\"1\" class=\"dataframe\">\n",
              "  <thead>\n",
              "    <tr style=\"text-align: right;\">\n",
              "      <th></th>\n",
              "      <th></th>\n",
              "      <th></th>\n",
              "      <th>ndvi_ne</th>\n",
              "      <th>ndvi_nw</th>\n",
              "      <th>ndvi_se</th>\n",
              "      <th>ndvi_sw</th>\n",
              "      <th>precipitation_amt_mm</th>\n",
              "      <th>reanalysis_air_temp_k</th>\n",
              "      <th>reanalysis_avg_temp_k</th>\n",
              "      <th>reanalysis_dew_point_temp_k</th>\n",
              "      <th>reanalysis_max_air_temp_k</th>\n",
              "      <th>reanalysis_min_air_temp_k</th>\n",
              "      <th>reanalysis_precip_amt_kg_per_m2</th>\n",
              "      <th>reanalysis_relative_humidity_percent</th>\n",
              "      <th>reanalysis_sat_precip_amt_mm</th>\n",
              "      <th>reanalysis_specific_humidity_g_per_kg</th>\n",
              "      <th>reanalysis_tdtr_k</th>\n",
              "      <th>station_avg_temp_c</th>\n",
              "      <th>station_diur_temp_rng_c</th>\n",
              "      <th>station_max_temp_c</th>\n",
              "      <th>station_min_temp_c</th>\n",
              "      <th>station_precip_mm</th>\n",
              "    </tr>\n",
              "    <tr>\n",
              "      <th>city</th>\n",
              "      <th>year</th>\n",
              "      <th>weekofyear</th>\n",
              "      <th></th>\n",
              "      <th></th>\n",
              "      <th></th>\n",
              "      <th></th>\n",
              "      <th></th>\n",
              "      <th></th>\n",
              "      <th></th>\n",
              "      <th></th>\n",
              "      <th></th>\n",
              "      <th></th>\n",
              "      <th></th>\n",
              "      <th></th>\n",
              "      <th></th>\n",
              "      <th></th>\n",
              "      <th></th>\n",
              "      <th></th>\n",
              "      <th></th>\n",
              "      <th></th>\n",
              "      <th></th>\n",
              "      <th></th>\n",
              "    </tr>\n",
              "  </thead>\n",
              "  <tbody>\n",
              "    <tr>\n",
              "      <th rowspan=\"5\" valign=\"top\">sj</th>\n",
              "      <th rowspan=\"5\" valign=\"top\">1992</th>\n",
              "      <th>1</th>\n",
              "      <td>0.125100</td>\n",
              "      <td>0.157867</td>\n",
              "      <td>0.185283</td>\n",
              "      <td>0.181367</td>\n",
              "      <td>NaN</td>\n",
              "      <td>NaN</td>\n",
              "      <td>NaN</td>\n",
              "      <td>NaN</td>\n",
              "      <td>NaN</td>\n",
              "      <td>NaN</td>\n",
              "      <td>NaN</td>\n",
              "      <td>NaN</td>\n",
              "      <td>NaN</td>\n",
              "      <td>NaN</td>\n",
              "      <td>NaN</td>\n",
              "      <td>NaN</td>\n",
              "      <td>NaN</td>\n",
              "      <td>NaN</td>\n",
              "      <td>NaN</td>\n",
              "      <td>NaN</td>\n",
              "    </tr>\n",
              "    <tr>\n",
              "      <th>2</th>\n",
              "      <td>0.100833</td>\n",
              "      <td>0.073575</td>\n",
              "      <td>0.138714</td>\n",
              "      <td>0.112786</td>\n",
              "      <td>200.85</td>\n",
              "      <td>297.912857</td>\n",
              "      <td>298.121429</td>\n",
              "      <td>294.457143</td>\n",
              "      <td>300.4</td>\n",
              "      <td>296.1</td>\n",
              "      <td>18.30</td>\n",
              "      <td>81.300000</td>\n",
              "      <td>200.85</td>\n",
              "      <td>15.878571</td>\n",
              "      <td>2.300000</td>\n",
              "      <td>25.657143</td>\n",
              "      <td>7.500000</td>\n",
              "      <td>30.6</td>\n",
              "      <td>20.6</td>\n",
              "      <td>58.2</td>\n",
              "    </tr>\n",
              "    <tr>\n",
              "      <th>3</th>\n",
              "      <td>0.222400</td>\n",
              "      <td>0.229900</td>\n",
              "      <td>0.198457</td>\n",
              "      <td>0.199414</td>\n",
              "      <td>3.12</td>\n",
              "      <td>297.338571</td>\n",
              "      <td>297.485714</td>\n",
              "      <td>294.467143</td>\n",
              "      <td>300.2</td>\n",
              "      <td>295.6</td>\n",
              "      <td>19.80</td>\n",
              "      <td>84.117143</td>\n",
              "      <td>3.12</td>\n",
              "      <td>15.832857</td>\n",
              "      <td>1.857143</td>\n",
              "      <td>25.471429</td>\n",
              "      <td>6.171429</td>\n",
              "      <td>31.1</td>\n",
              "      <td>21.7</td>\n",
              "      <td>32.3</td>\n",
              "    </tr>\n",
              "    <tr>\n",
              "      <th>4</th>\n",
              "      <td>0.122533</td>\n",
              "      <td>0.131050</td>\n",
              "      <td>0.188843</td>\n",
              "      <td>0.168871</td>\n",
              "      <td>0.00</td>\n",
              "      <td>297.091429</td>\n",
              "      <td>297.335714</td>\n",
              "      <td>293.021429</td>\n",
              "      <td>299.5</td>\n",
              "      <td>295.6</td>\n",
              "      <td>5.11</td>\n",
              "      <td>78.291429</td>\n",
              "      <td>0.00</td>\n",
              "      <td>14.482857</td>\n",
              "      <td>2.357143</td>\n",
              "      <td>24.857143</td>\n",
              "      <td>7.442857</td>\n",
              "      <td>30.6</td>\n",
              "      <td>20.0</td>\n",
              "      <td>1.3</td>\n",
              "    </tr>\n",
              "    <tr>\n",
              "      <th>5</th>\n",
              "      <td>NaN</td>\n",
              "      <td>0.048300</td>\n",
              "      <td>0.173671</td>\n",
              "      <td>0.191929</td>\n",
              "      <td>0.00</td>\n",
              "      <td>297.420000</td>\n",
              "      <td>297.550000</td>\n",
              "      <td>292.718571</td>\n",
              "      <td>299.3</td>\n",
              "      <td>295.5</td>\n",
              "      <td>6.50</td>\n",
              "      <td>75.220000</td>\n",
              "      <td>0.00</td>\n",
              "      <td>14.185714</td>\n",
              "      <td>2.442857</td>\n",
              "      <td>24.800000</td>\n",
              "      <td>6.585714</td>\n",
              "      <td>28.9</td>\n",
              "      <td>20.0</td>\n",
              "      <td>9.2</td>\n",
              "    </tr>\n",
              "  </tbody>\n",
              "</table>\n",
              "</div>"
            ],
            "text/plain": [
              "                       ndvi_ne   ndvi_nw  ...  station_min_temp_c  station_precip_mm\n",
              "city year weekofyear                      ...                                       \n",
              "sj   1992 1           0.125100  0.157867  ...                 NaN                NaN\n",
              "          2           0.100833  0.073575  ...                20.6               58.2\n",
              "          3           0.222400  0.229900  ...                21.7               32.3\n",
              "          4           0.122533  0.131050  ...                20.0                1.3\n",
              "          5                NaN  0.048300  ...                20.0                9.2\n",
              "\n",
              "[5 rows x 20 columns]"
            ]
          },
          "metadata": {
            "tags": []
          },
          "execution_count": 6
        }
      ]
    },
    {
      "cell_type": "code",
      "metadata": {
        "colab": {
          "base_uri": "https://localhost:8080/",
          "height": 320
        },
        "id": "Ag9IEffY9Fkn",
        "outputId": "b851f1c0-4d8a-478a-aca0-ce72e7733ba0"
      },
      "source": [
        "df.describe()"
      ],
      "execution_count": 7,
      "outputs": [
        {
          "output_type": "execute_result",
          "data": {
            "text/html": [
              "<div>\n",
              "<style scoped>\n",
              "    .dataframe tbody tr th:only-of-type {\n",
              "        vertical-align: middle;\n",
              "    }\n",
              "\n",
              "    .dataframe tbody tr th {\n",
              "        vertical-align: top;\n",
              "    }\n",
              "\n",
              "    .dataframe thead th {\n",
              "        text-align: right;\n",
              "    }\n",
              "</style>\n",
              "<table border=\"1\" class=\"dataframe\">\n",
              "  <thead>\n",
              "    <tr style=\"text-align: right;\">\n",
              "      <th></th>\n",
              "      <th>ndvi_ne</th>\n",
              "      <th>ndvi_nw</th>\n",
              "      <th>ndvi_se</th>\n",
              "      <th>ndvi_sw</th>\n",
              "      <th>precipitation_amt_mm</th>\n",
              "      <th>reanalysis_air_temp_k</th>\n",
              "      <th>reanalysis_avg_temp_k</th>\n",
              "      <th>reanalysis_dew_point_temp_k</th>\n",
              "      <th>reanalysis_max_air_temp_k</th>\n",
              "      <th>reanalysis_min_air_temp_k</th>\n",
              "      <th>reanalysis_precip_amt_kg_per_m2</th>\n",
              "      <th>reanalysis_relative_humidity_percent</th>\n",
              "      <th>reanalysis_sat_precip_amt_mm</th>\n",
              "      <th>reanalysis_specific_humidity_g_per_kg</th>\n",
              "      <th>reanalysis_tdtr_k</th>\n",
              "      <th>station_avg_temp_c</th>\n",
              "      <th>station_diur_temp_rng_c</th>\n",
              "      <th>station_max_temp_c</th>\n",
              "      <th>station_min_temp_c</th>\n",
              "      <th>station_precip_mm</th>\n",
              "    </tr>\n",
              "  </thead>\n",
              "  <tbody>\n",
              "    <tr>\n",
              "      <th>count</th>\n",
              "      <td>281.000000</td>\n",
              "      <td>335.000000</td>\n",
              "      <td>348.000000</td>\n",
              "      <td>348.000000</td>\n",
              "      <td>358.000000</td>\n",
              "      <td>361.000000</td>\n",
              "      <td>361.000000</td>\n",
              "      <td>361.000000</td>\n",
              "      <td>361.000000</td>\n",
              "      <td>361.000000</td>\n",
              "      <td>361.000000</td>\n",
              "      <td>361.000000</td>\n",
              "      <td>358.000000</td>\n",
              "      <td>361.000000</td>\n",
              "      <td>361.000000</td>\n",
              "      <td>361.000000</td>\n",
              "      <td>361.000000</td>\n",
              "      <td>361.000000</td>\n",
              "      <td>361.000000</td>\n",
              "      <td>361.000000</td>\n",
              "    </tr>\n",
              "    <tr>\n",
              "      <th>mean</th>\n",
              "      <td>0.074448</td>\n",
              "      <td>0.086447</td>\n",
              "      <td>0.173935</td>\n",
              "      <td>0.166330</td>\n",
              "      <td>33.584190</td>\n",
              "      <td>298.916779</td>\n",
              "      <td>299.033518</td>\n",
              "      <td>295.090823</td>\n",
              "      <td>301.168421</td>\n",
              "      <td>297.155125</td>\n",
              "      <td>36.301163</td>\n",
              "      <td>79.643431</td>\n",
              "      <td>33.584190</td>\n",
              "      <td>16.529600</td>\n",
              "      <td>2.352355</td>\n",
              "      <td>27.136090</td>\n",
              "      <td>6.915235</td>\n",
              "      <td>31.877839</td>\n",
              "      <td>22.640166</td>\n",
              "      <td>26.332964</td>\n",
              "    </tr>\n",
              "    <tr>\n",
              "      <th>std</th>\n",
              "      <td>0.081306</td>\n",
              "      <td>0.066450</td>\n",
              "      <td>0.049938</td>\n",
              "      <td>0.050769</td>\n",
              "      <td>41.398772</td>\n",
              "      <td>1.122997</td>\n",
              "      <td>1.106125</td>\n",
              "      <td>1.493193</td>\n",
              "      <td>1.143217</td>\n",
              "      <td>1.194633</td>\n",
              "      <td>42.769553</td>\n",
              "      <td>3.337513</td>\n",
              "      <td>41.398772</td>\n",
              "      <td>1.489095</td>\n",
              "      <td>0.443310</td>\n",
              "      <td>1.332723</td>\n",
              "      <td>0.833416</td>\n",
              "      <td>1.593252</td>\n",
              "      <td>1.436071</td>\n",
              "      <td>30.184534</td>\n",
              "    </tr>\n",
              "    <tr>\n",
              "      <th>min</th>\n",
              "      <td>-0.290200</td>\n",
              "      <td>-0.130950</td>\n",
              "      <td>0.051471</td>\n",
              "      <td>0.028650</td>\n",
              "      <td>0.000000</td>\n",
              "      <td>296.425714</td>\n",
              "      <td>296.635714</td>\n",
              "      <td>290.378571</td>\n",
              "      <td>298.200000</td>\n",
              "      <td>293.500000</td>\n",
              "      <td>0.000000</td>\n",
              "      <td>67.364286</td>\n",
              "      <td>0.000000</td>\n",
              "      <td>12.331429</td>\n",
              "      <td>1.357143</td>\n",
              "      <td>23.700000</td>\n",
              "      <td>4.585714</td>\n",
              "      <td>27.800000</td>\n",
              "      <td>18.900000</td>\n",
              "      <td>0.000000</td>\n",
              "    </tr>\n",
              "    <tr>\n",
              "      <th>25%</th>\n",
              "      <td>0.033900</td>\n",
              "      <td>0.049400</td>\n",
              "      <td>0.142425</td>\n",
              "      <td>0.132032</td>\n",
              "      <td>0.000000</td>\n",
              "      <td>297.882857</td>\n",
              "      <td>298.071429</td>\n",
              "      <td>293.834286</td>\n",
              "      <td>300.300000</td>\n",
              "      <td>296.200000</td>\n",
              "      <td>13.690000</td>\n",
              "      <td>77.505714</td>\n",
              "      <td>0.000000</td>\n",
              "      <td>15.235714</td>\n",
              "      <td>2.042857</td>\n",
              "      <td>26.028571</td>\n",
              "      <td>6.357143</td>\n",
              "      <td>31.100000</td>\n",
              "      <td>21.700000</td>\n",
              "      <td>6.700000</td>\n",
              "    </tr>\n",
              "    <tr>\n",
              "      <th>50%</th>\n",
              "      <td>0.074200</td>\n",
              "      <td>0.083667</td>\n",
              "      <td>0.174907</td>\n",
              "      <td>0.168393</td>\n",
              "      <td>19.655000</td>\n",
              "      <td>299.131429</td>\n",
              "      <td>299.221429</td>\n",
              "      <td>295.435714</td>\n",
              "      <td>301.300000</td>\n",
              "      <td>297.500000</td>\n",
              "      <td>24.300000</td>\n",
              "      <td>79.775714</td>\n",
              "      <td>19.655000</td>\n",
              "      <td>16.822857</td>\n",
              "      <td>2.300000</td>\n",
              "      <td>27.314286</td>\n",
              "      <td>6.900000</td>\n",
              "      <td>32.200000</td>\n",
              "      <td>22.800000</td>\n",
              "      <td>16.900000</td>\n",
              "    </tr>\n",
              "    <tr>\n",
              "      <th>75%</th>\n",
              "      <td>0.114600</td>\n",
              "      <td>0.125325</td>\n",
              "      <td>0.204823</td>\n",
              "      <td>0.202836</td>\n",
              "      <td>50.292500</td>\n",
              "      <td>299.867143</td>\n",
              "      <td>299.957143</td>\n",
              "      <td>296.288571</td>\n",
              "      <td>302.100000</td>\n",
              "      <td>298.100000</td>\n",
              "      <td>45.200000</td>\n",
              "      <td>82.212857</td>\n",
              "      <td>50.292500</td>\n",
              "      <td>17.712857</td>\n",
              "      <td>2.571429</td>\n",
              "      <td>28.214286</td>\n",
              "      <td>7.442857</td>\n",
              "      <td>32.800000</td>\n",
              "      <td>23.900000</td>\n",
              "      <td>35.600000</td>\n",
              "    </tr>\n",
              "    <tr>\n",
              "      <th>max</th>\n",
              "      <td>0.363300</td>\n",
              "      <td>0.290900</td>\n",
              "      <td>0.349314</td>\n",
              "      <td>0.312600</td>\n",
              "      <td>243.550000</td>\n",
              "      <td>301.218571</td>\n",
              "      <td>301.350000</td>\n",
              "      <td>297.467143</td>\n",
              "      <td>303.900000</td>\n",
              "      <td>299.300000</td>\n",
              "      <td>570.500000</td>\n",
              "      <td>87.301429</td>\n",
              "      <td>243.550000</td>\n",
              "      <td>19.044286</td>\n",
              "      <td>4.000000</td>\n",
              "      <td>30.071429</td>\n",
              "      <td>9.914286</td>\n",
              "      <td>35.600000</td>\n",
              "      <td>25.600000</td>\n",
              "      <td>305.900000</td>\n",
              "    </tr>\n",
              "  </tbody>\n",
              "</table>\n",
              "</div>"
            ],
            "text/plain": [
              "          ndvi_ne     ndvi_nw  ...  station_min_temp_c  station_precip_mm\n",
              "count  281.000000  335.000000  ...          361.000000         361.000000\n",
              "mean     0.074448    0.086447  ...           22.640166          26.332964\n",
              "std      0.081306    0.066450  ...            1.436071          30.184534\n",
              "min     -0.290200   -0.130950  ...           18.900000           0.000000\n",
              "25%      0.033900    0.049400  ...           21.700000           6.700000\n",
              "50%      0.074200    0.083667  ...           22.800000          16.900000\n",
              "75%      0.114600    0.125325  ...           23.900000          35.600000\n",
              "max      0.363300    0.290900  ...           25.600000         305.900000\n",
              "\n",
              "[8 rows x 20 columns]"
            ]
          },
          "metadata": {
            "tags": []
          },
          "execution_count": 7
        }
      ]
    },
    {
      "cell_type": "markdown",
      "metadata": {
        "id": "9jhMWpZry6wG"
      },
      "source": [
        "#Preprocessing"
      ]
    },
    {
      "cell_type": "markdown",
      "metadata": {
        "id": "epTbfgg0b9JS"
      },
      "source": [
        "## Fill NaN"
      ]
    },
    {
      "cell_type": "code",
      "metadata": {
        "colab": {
          "base_uri": "https://localhost:8080/"
        },
        "id": "80wEEOLsb9JT",
        "outputId": "f77aeeb9-9e3a-4343-fc17-ba16866d71df"
      },
      "source": [
        "df.isna().sum()\n",
        "# ffill: propagate last valid observation forward to next valid backfill\n",
        "# @ Check other methods\n",
        "df.fillna(method=\"bfill\", inplace=True)\n",
        "df.isna().sum()"
      ],
      "execution_count": 8,
      "outputs": [
        {
          "output_type": "execute_result",
          "data": {
            "text/plain": [
              "ndvi_ne                                  0\n",
              "ndvi_nw                                  0\n",
              "ndvi_se                                  0\n",
              "ndvi_sw                                  0\n",
              "precipitation_amt_mm                     0\n",
              "reanalysis_air_temp_k                    0\n",
              "reanalysis_avg_temp_k                    0\n",
              "reanalysis_dew_point_temp_k              0\n",
              "reanalysis_max_air_temp_k                0\n",
              "reanalysis_min_air_temp_k                0\n",
              "reanalysis_precip_amt_kg_per_m2          0\n",
              "reanalysis_relative_humidity_percent     0\n",
              "reanalysis_sat_precip_amt_mm             0\n",
              "reanalysis_specific_humidity_g_per_kg    0\n",
              "reanalysis_tdtr_k                        0\n",
              "station_avg_temp_c                       0\n",
              "station_diur_temp_rng_c                  0\n",
              "station_max_temp_c                       0\n",
              "station_min_temp_c                       0\n",
              "station_precip_mm                        0\n",
              "dtype: int64"
            ]
          },
          "metadata": {
            "tags": []
          },
          "execution_count": 8
        }
      ]
    },
    {
      "cell_type": "markdown",
      "metadata": {
        "id": "e4m_71HQb9Jk"
      },
      "source": [
        "## PCA\n",
        "Normalize the data and apply find best principal components."
      ]
    },
    {
      "cell_type": "code",
      "metadata": {
        "id": "XRWyUwJtb9Jm"
      },
      "source": [
        "scaler = sklearn.preprocessing.StandardScaler()\n",
        "#scaler = sklearn.preprocessing.MinMaxScaler()\n",
        "X = scaler.fit_transform(df)"
      ],
      "execution_count": 9,
      "outputs": []
    },
    {
      "cell_type": "code",
      "metadata": {
        "colab": {
          "base_uri": "https://localhost:8080/"
        },
        "id": "pmhr1WcYkkKa",
        "outputId": "9dac3ffd-07aa-4edc-e42a-223fb2402ba4"
      },
      "source": [
        "from sklearn.decomposition import PCA\n",
        "pca = PCA()\n",
        "X_pca = pca.fit_transform(X)\n",
        "X_pca.shape"
      ],
      "execution_count": 10,
      "outputs": [
        {
          "output_type": "execute_result",
          "data": {
            "text/plain": [
              "(364, 20)"
            ]
          },
          "metadata": {
            "tags": []
          },
          "execution_count": 10
        }
      ]
    },
    {
      "cell_type": "code",
      "metadata": {
        "id": "VLIRKODcgDLl"
      },
      "source": [
        "#X = pd.DataFrame(data=X_pca,\n",
        "#                 index=df.index)    # values\n",
        "                 #index=data[1:,0],    # 1st column as index\n",
        "                 #columns=data[0,1:])  # 1st row as the column names"
      ],
      "execution_count": 11,
      "outputs": []
    },
    {
      "cell_type": "markdown",
      "metadata": {
        "id": "P1QbTMv4xyLi"
      },
      "source": [
        "## Selected features"
      ]
    },
    {
      "cell_type": "code",
      "metadata": {
        "id": "BMP4yaM_xyLk"
      },
      "source": [
        "#features = ['ndvi_ne', 'ndvi_nw', 'ndvi_se', 'ndvi_sw', 'precipitation_amt_mm', 'reanalysis_precip_amt_kg_per_m2', 'reanalysis_specific_humidity_g_per_kg']\n",
        "X = pd.DataFrame(X, index=df.index, columns=all_features)#df#[features]"
      ],
      "execution_count": 12,
      "outputs": []
    },
    {
      "cell_type": "code",
      "metadata": {
        "id": "8REtK9er9TyW"
      },
      "source": [
        "#data = df[features]\n",
        "#sns.heatmap(data.corr(), square=True, annot=True)"
      ],
      "execution_count": 13,
      "outputs": []
    },
    {
      "cell_type": "markdown",
      "metadata": {
        "id": "wmaJJaRlyS0y"
      },
      "source": [
        "#1. Baseline"
      ]
    },
    {
      "cell_type": "code",
      "metadata": {
        "id": "w3TiLBZr47iv"
      },
      "source": [
        "result_files = []"
      ],
      "execution_count": 15,
      "outputs": []
    },
    {
      "cell_type": "code",
      "metadata": {
        "id": "gUB4xaZDbQo4"
      },
      "source": [
        "def split_to_train(X, y, test_size=0.1):\n",
        "  return train_test_split(pd.concat([X, y], axis=1), test_size=test_size)"
      ],
      "execution_count": 16,
      "outputs": []
    },
    {
      "cell_type": "markdown",
      "metadata": {
        "id": "sJqAo9kqJz1_"
      },
      "source": [
        "## Universal functions"
      ]
    },
    {
      "cell_type": "code",
      "metadata": {
        "id": "bnysM-GTIe12"
      },
      "source": [
        "def generate_plot(X, y, regressor, param_name, to=30, n_split=10):\n",
        "  mae = []\n",
        "  for i in range(2, to):\n",
        "      regressor.set_params(**{param_name:i})\n",
        "      fold_accuracy = get_fold_accuracy(regressor, X, y, n_split)\n",
        "      mae.append(sum(fold_accuracy)/len(fold_accuracy))\n",
        "\n",
        "  label = type(regressor).__name__\n",
        "\n",
        "  if type(regressor).__name__ == 'KNeighborsRegressor':\n",
        "    label = regressor.get_params()['weights']\n",
        "  elif type(regressor).__name__ == 'RandomForestRegressor':\n",
        "    params = regressor.get_params()\n",
        "    n_estimators = params['n_estimators']\n",
        "    max_depth = params[param_name]\n",
        "    label = f'n_estimators={n_estimators}'\n",
        "\n",
        "  plt.plot(range(1, len(mae)+1), mae, marker='o', \n",
        "           label=label)\n",
        "           #label=type(regressor).__name__)\n",
        "  print ('Min Value: {} ({})'\n",
        "  .format(min(mae), np.argmin(mae) + 1))\n",
        "  plt.ylabel('MAE')      \n",
        "      \n",
        "  plt.legend()\n",
        "\n",
        "def get_fold_accuracy(regressor, X, y, n_splits=10):\n",
        "    fold_accuracy = []\n",
        "    cv = KFold(n_splits, shuffle=False)\n",
        "    for train_fold, test_fold in cv.split(X):\n",
        "        X_train = X.iloc[train_fold]\n",
        "        X_test = X.iloc[test_fold]\n",
        "        y_train = y.iloc[train_fold]\n",
        "        y_test = y.iloc[test_fold]\n",
        "\n",
        "        regressor.fit(X=X_train, y=y_train.values.ravel())\n",
        "        y_pred = regressor.predict(X=X_test)\n",
        "        \n",
        "        mae = mean_absolute_error(y_test, y_pred)\n",
        "        fold_accuracy.append(mae)\n",
        "    return fold_accuracy\n",
        "\n",
        "\n",
        "def get_predictions(regressor, X, y):\n",
        "  train, test = split_to_train(X, y)\n",
        "  regressor.fit(X=train.drop(['total_cases'], axis=1), y=train['total_cases'])\n",
        "  y_pred = regressor.predict(X=test.drop(['total_cases'], axis=1))\n",
        "  mae = mean_absolute_error(test['total_cases'], y_pred)\n",
        "  print('MAE:', mae)\n",
        "  return y_pred\n",
        "\n",
        "def get_accuracy(regressor, X, y, n_splits=10):\n",
        "  fold_accuracy = get_fold_accuracy(regressor, X, y, n_splits)\n",
        "  return sum(fold_accuracy)/len(fold_accuracy)\n",
        "\n",
        "def generate_visualization(regressor, X, y):\n",
        "  train, test = split_to_train(X, y)\n",
        "  regressor.fit(X=train.drop(['total_cases'], axis=1), y=train['total_cases'])\n",
        "  y_pred = regressor.predict(X=test.drop(['total_cases'], axis=1))\n",
        "  mae = mean_absolute_error(test['total_cases'], y_pred)\n",
        "\n",
        "  xx = np.stack(i for i in range(y_pred.shape[0]))\n",
        "  plt.plot(xx, test['total_cases'], c='r', label='data')\n",
        "  plt.plot(xx, y_pred, c='g', label='prediction')\n",
        "  plt.axis('tight')\n",
        "  plt.legend()\n",
        "  #plt.title(\"RandomForests GridSearchCV (MAE = %6.2f')\" % ( mae))\n",
        "\n",
        "  plt.show()\n",
        "\n",
        "def save_results(y_pred, name): #TODO finish\n",
        "  return None\n",
        "  res = np.rint(y_pred) # round\n",
        "  res = res.astype(int) # cast to int\n",
        "  output = record_names #global variable\n",
        "  print(output.shape, res.shape)\n",
        "  output['result'] = res\n",
        "\n",
        "  name += '.csv'\n",
        "  with open(name, 'w') as f:\n",
        "    output.to_csv(f, index=False)\n",
        "  return name\n",
        "\n",
        "def report(results, n_top=3): \n",
        "    for i in range(1, n_top + 1):\n",
        "        candidates = np.flatnonzero(results['rank_test_score'] == i)\n",
        "        for candidate in candidates:\n",
        "            print(\"Model with rank: {0}\".format(i))\n",
        "            print(\"Mean validation score: {0:.3f} (std: {1:.3f})\".format(\n",
        "                  results['mean_test_score'][candidate],\n",
        "                  results['std_test_score'][candidate]))\n",
        "            print(\"Parameters: {0}\".format(results['params'][candidate]))\n",
        "            print(\"\")\n",
        "            "
      ],
      "execution_count": 17,
      "outputs": []
    },
    {
      "cell_type": "markdown",
      "metadata": {
        "id": "6TdCNK-w1EvD"
      },
      "source": [
        "##1.1 KNN"
      ]
    },
    {
      "cell_type": "markdown",
      "metadata": {
        "id": "0-A5UAV6CO75"
      },
      "source": [
        "###1.1.1 Mean absolute error"
      ]
    },
    {
      "cell_type": "code",
      "metadata": {
        "colab": {
          "base_uri": "https://localhost:8080/",
          "height": 306
        },
        "id": "UUwltQU7BX_M",
        "outputId": "7eed04e1-3a99-4471-fe48-7fceceaefed4"
      },
      "source": [
        "for weights in ['uniform', 'distance']:\n",
        "  knn = neighbors.KNeighborsRegressor(weights=weights)\n",
        "  generate_plot(X, y, knn, 'n_neighbors', 20, 30)\n",
        "plt.show()  "
      ],
      "execution_count": 18,
      "outputs": [
        {
          "output_type": "stream",
          "text": [
            "Min Value: 37.44903846153847 (5)\n",
            "Min Value: 37.483090675719424 (7)\n"
          ],
          "name": "stdout"
        },
        {
          "output_type": "display_data",
          "data": {
            "image/png": "[encoded data removed]",
            "text/plain": [
              "<Figure size 432x288 with 1 Axes>"
            ]
          },
          "metadata": {
            "tags": [],
            "needs_background": "light"
          }
        }
      ]
    },
    {
      "cell_type": "markdown",
      "metadata": {
        "id": "8dseC0tdwYof"
      },
      "source": [
        "### 1.1.2 Predictions"
      ]
    },
    {
      "cell_type": "markdown",
      "metadata": {
        "id": "DsE4Q2V_wuU6"
      },
      "source": [
        "Model creation"
      ]
    },
    {
      "cell_type": "code",
      "metadata": {
        "colab": {
          "base_uri": "https://localhost:8080/"
        },
        "id": "hCgianfcwYA2",
        "outputId": "23a6f79e-15f4-4e30-a952-1db505fb246a"
      },
      "source": [
        "n_neighbors = 5\n",
        "weights = 'uniform'\n",
        "knn = KNeighborsRegressor(n_neighbors=n_neighbors, weights=weights) \n",
        "y_pred = get_predictions(knn, X, y)"
      ],
      "execution_count": 19,
      "outputs": [
        {
          "output_type": "stream",
          "text": [
            "MAE: 27.243243243243246\n"
          ],
          "name": "stdout"
        }
      ]
    },
    {
      "cell_type": "markdown",
      "metadata": {
        "id": "zhN2SxIi1ys0"
      },
      "source": [
        "### 1.1.3 Save results"
      ]
    },
    {
      "cell_type": "code",
      "metadata": {
        "id": "cMQZm6741x4a"
      },
      "source": [
        "file_name = save_results(y_pred, 'knn_results')\n",
        "result_files.append(file_name)"
      ],
      "execution_count": 20,
      "outputs": []
    },
    {
      "cell_type": "markdown",
      "metadata": {
        "id": "C0Hp9KUa3rQd"
      },
      "source": [
        "\n",
        "### 1.1.4 Visualisation"
      ]
    },
    {
      "cell_type": "code",
      "metadata": {
        "colab": {
          "base_uri": "https://localhost:8080/",
          "height": 365
        },
        "id": "b3RldxNH3u0M",
        "outputId": "bd652be3-02e7-4819-db20-78bd7a317a8a"
      },
      "source": [
        "generate_visualization(knn, X, y)"
      ],
      "execution_count": 21,
      "outputs": [
        {
          "output_type": "stream",
          "text": [
            "/usr/local/lib/python3.6/dist-packages/IPython/core/interactiveshell.py:2882: FutureWarning:\n",
            "\n",
            "arrays to stack must be passed as a \"sequence\" type such as list or tuple. Support for non-sequence iterables such as generators is deprecated as of NumPy 1.16 and will raise an error in the future.\n",
            "\n"
          ],
          "name": "stderr"
        },
        {
          "output_type": "display_data",
          "data": {
            "image/png": "[encoded data removed]",
            "text/plain": [
              "<Figure size 432x288 with 1 Axes>"
            ]
          },
          "metadata": {
            "tags": [],
            "needs_background": "light"
          }
        }
      ]
    },
    {
      "cell_type": "markdown",
      "metadata": {
        "id": "lrQoaHGZ1MxE"
      },
      "source": [
        "## 1.2 Decision Tree"
      ]
    },
    {
      "cell_type": "markdown",
      "metadata": {
        "id": "5yyfqEMc5gxv"
      },
      "source": [
        "### 1.2.1 Mean absolute error"
      ]
    },
    {
      "cell_type": "code",
      "metadata": {
        "colab": {
          "base_uri": "https://localhost:8080/",
          "height": 287
        },
        "id": "a45l9pY1LgzM",
        "outputId": "f5f96990-9ecd-4a6b-ba44-d047b6b4d4e3"
      },
      "source": [
        "dt = DecisionTreeRegressor()\n",
        "generate_plot(X, y, dt, 'max_depth', 30, 10)\n",
        "plt.show()"
      ],
      "execution_count": 22,
      "outputs": [
        {
          "output_type": "stream",
          "text": [
            "Min Value: 31.74728423182402 (1)\n"
          ],
          "name": "stdout"
        },
        {
          "output_type": "display_data",
          "data": {
            "image/png": "[encoded data removed]",
            "text/plain": [
              "<Figure size 432x288 with 1 Axes>"
            ]
          },
          "metadata": {
            "tags": [],
            "needs_background": "light"
          }
        }
      ]
    },
    {
      "cell_type": "markdown",
      "metadata": {
        "id": "viAWMiuF5Qy0"
      },
      "source": [
        "###1.2.2 Predictions"
      ]
    },
    {
      "cell_type": "code",
      "metadata": {
        "colab": {
          "base_uri": "https://localhost:8080/"
        },
        "id": "qXzn0Gnec1zB",
        "outputId": "15af2596-beef-4c41-c99c-a71098d0b1f7"
      },
      "source": [
        "dt = DecisionTreeRegressor(max_depth=3)\n",
        "y_pred = get_predictions(dt, X, y)"
      ],
      "execution_count": 23,
      "outputs": [
        {
          "output_type": "stream",
          "text": [
            "MAE: 30.26383625085766\n"
          ],
          "name": "stdout"
        }
      ]
    },
    {
      "cell_type": "markdown",
      "metadata": {
        "id": "0k19wQKP5X1T"
      },
      "source": [
        "### 1.2.3 Save results"
      ]
    },
    {
      "cell_type": "code",
      "metadata": {
        "id": "3G2TLualFOFM"
      },
      "source": [
        "file_name = save_results(y_pred, 'DecisionTree_results')\n",
        "result_files.append(file_name)"
      ],
      "execution_count": 24,
      "outputs": []
    },
    {
      "cell_type": "markdown",
      "metadata": {
        "id": "6FidMS8c5dKE"
      },
      "source": [
        "###1.2.4 Visualisation"
      ]
    },
    {
      "cell_type": "code",
      "metadata": {
        "id": "SQYTauZ_FdX_",
        "colab": {
          "base_uri": "https://localhost:8080/",
          "height": 365
        },
        "outputId": "6aaa9986-df2f-4cb7-f0ba-13d4c495b43c"
      },
      "source": [
        "generate_visualization(dt, X, y)"
      ],
      "execution_count": 25,
      "outputs": [
        {
          "output_type": "stream",
          "text": [
            "/usr/local/lib/python3.6/dist-packages/IPython/core/interactiveshell.py:2882: FutureWarning:\n",
            "\n",
            "arrays to stack must be passed as a \"sequence\" type such as list or tuple. Support for non-sequence iterables such as generators is deprecated as of NumPy 1.16 and will raise an error in the future.\n",
            "\n"
          ],
          "name": "stderr"
        },
        {
          "output_type": "display_data",
          "data": {
            "image/png": "[encoded data removed]",
            "text/plain": [
              "<Figure size 432x288 with 1 Axes>"
            ]
          },
          "metadata": {
            "tags": [],
            "needs_background": "light"
          }
        }
      ]
    },
    {
      "cell_type": "markdown",
      "metadata": {
        "id": "jGckn8UO2ci1"
      },
      "source": [
        "## 1.3 Random forest"
      ]
    },
    {
      "cell_type": "markdown",
      "metadata": {
        "id": "jE3rHEhEPPPp"
      },
      "source": [
        "### 1.3.1 Mean absolute error"
      ]
    },
    {
      "cell_type": "code",
      "metadata": {
        "colab": {
          "base_uri": "https://localhost:8080/",
          "height": 383
        },
        "id": "Ub_WZDdP2b3i",
        "outputId": "74f8a3ac-7439-4e23-92fa-ec92e5a0815c"
      },
      "source": [
        "max_estimators = 8\n",
        "max_max_depth = 8\n",
        "for n in range(2, max_estimators):\n",
        "  rf = RandomForestRegressor(n_estimators=n, criterion='mae', random_state=0)\n",
        "  generate_plot(X, y, rf, 'max_depth', max_max_depth, 10)\n",
        "plt.show()"
      ],
      "execution_count": 26,
      "outputs": [
        {
          "output_type": "stream",
          "text": [
            "Min Value: 35.15007507507507 (3)\n",
            "Min Value: 35.28732482482483 (3)\n",
            "Min Value: 34.400731981981984 (3)\n",
            "Min Value: 34.66747747747748 (1)\n",
            "Min Value: 35.20391641641642 (1)\n",
            "Min Value: 34.858649721149725 (1)\n"
          ],
          "name": "stdout"
        },
        {
          "output_type": "display_data",
          "data": {
            "image/png": "[encoded data removed]",
            "text/plain": [
              "<Figure size 432x288 with 1 Axes>"
            ]
          },
          "metadata": {
            "tags": [],
            "needs_background": "light"
          }
        }
      ]
    },
    {
      "cell_type": "markdown",
      "metadata": {
        "id": "wTweHQg4PTCe"
      },
      "source": [
        "### 1.3.2 Predictions"
      ]
    },
    {
      "cell_type": "code",
      "metadata": {
        "colab": {
          "base_uri": "https://localhost:8080/"
        },
        "id": "x8IewXrBPS9O",
        "outputId": "cfd2ae5f-affc-46aa-cebe-9a08f62b4c22"
      },
      "source": [
        "rf = RandomForestRegressor(n_estimators=4, max_depth=3, criterion='mae', random_state=0)\n",
        "y_pred = get_predictions(rf, X, y)"
      ],
      "execution_count": 27,
      "outputs": [
        {
          "output_type": "stream",
          "text": [
            "MAE: 32.45945945945946\n"
          ],
          "name": "stdout"
        }
      ]
    },
    {
      "cell_type": "markdown",
      "metadata": {
        "id": "8VFxm6pAPWmD"
      },
      "source": [
        "### 1.3.3 Save results"
      ]
    },
    {
      "cell_type": "code",
      "metadata": {
        "id": "zGQVeL5PPmzm"
      },
      "source": [
        "file_name = save_results(y_pred, 'RandomForest_results')\n",
        "result_files.append(file_name)"
      ],
      "execution_count": 28,
      "outputs": []
    },
    {
      "cell_type": "markdown",
      "metadata": {
        "id": "YtwV1G3WPZXB"
      },
      "source": [
        "### 1.3.4 Visualisation"
      ]
    },
    {
      "cell_type": "code",
      "metadata": {
        "id": "Z2bJTSNiVbGp",
        "colab": {
          "base_uri": "https://localhost:8080/",
          "height": 368
        },
        "outputId": "1232e884-1a04-4770-8099-c0cc8837f4fa"
      },
      "source": [
        "generate_visualization(rf, X, y)"
      ],
      "execution_count": 29,
      "outputs": [
        {
          "output_type": "stream",
          "text": [
            "/usr/local/lib/python3.6/dist-packages/IPython/core/interactiveshell.py:2882: FutureWarning:\n",
            "\n",
            "arrays to stack must be passed as a \"sequence\" type such as list or tuple. Support for non-sequence iterables such as generators is deprecated as of NumPy 1.16 and will raise an error in the future.\n",
            "\n"
          ],
          "name": "stderr"
        },
        {
          "output_type": "display_data",
          "data": {
            "image/png": "[encoded data removed]",
            "text/plain": [
              "<Figure size 432x288 with 1 Axes>"
            ]
          },
          "metadata": {
            "tags": [],
            "needs_background": "light"
          }
        }
      ]
    },
    {
      "cell_type": "markdown",
      "metadata": {
        "id": "0M-FHtfV303o"
      },
      "source": [
        "# 2. Optimization\n"
      ]
    },
    {
      "cell_type": "markdown",
      "metadata": {
        "id": "HHqWPEkiff_M"
      },
      "source": [
        "## 2.1 Bosting"
      ]
    },
    {
      "cell_type": "code",
      "metadata": {
        "id": "a2ZI0YBpffnv"
      },
      "source": [
        "regressor_names = ['KNN', 'Decision tree', 'Random Forest', 'Ada Boost', 'GradientBoosting']\n",
        "regressors = [KNeighborsRegressor(n_neighbors=n_neighbors, weights=weights),\n",
        "              DecisionTreeRegressor(max_depth=6),\n",
        "              RandomForestRegressor(n_estimators=4, max_depth=3,\n",
        "                                    criterion='mae',random_state=0),\n",
        "              AdaBoostRegressor(RandomForestRegressor(n_estimators=4, \n",
        "                                max_depth=3, criterion='mae', random_state=0)),\n",
        "              GradientBoostingRegressor(n_estimators=100, learning_rate=0.1,\n",
        "                                   max_depth=4, random_state=0, loss='ls')]"
      ],
      "execution_count": 30,
      "outputs": []
    },
    {
      "cell_type": "code",
      "metadata": {
        "colab": {
          "base_uri": "https://localhost:8080/"
        },
        "id": "3M-HAyZvdkju",
        "outputId": "263b3729-05ea-4b8c-9281-e168f9b27b3c"
      },
      "source": [
        "for i, reg in enumerate(regressors):\n",
        "  print(f'{regressor_names[i]}:\\n   MAE:{get_accuracy(reg, X, y, 12)}')"
      ],
      "execution_count": 31,
      "outputs": [
        {
          "output_type": "stream",
          "text": [
            "KNN:\n",
            "   MAE:42.23879928315412\n",
            "Decision tree:\n",
            "   MAE:41.49109598906915\n",
            "Random Forest:\n",
            "   MAE:39.19174507168458\n",
            "Ada Boost:\n",
            "   MAE:44.74935035842294\n",
            "GradientBoosting:\n",
            "   MAE:40.775016838770675\n"
          ],
          "name": "stdout"
        }
      ]
    },
    {
      "cell_type": "code",
      "metadata": {
        "id": "fkgPP-yygdR0"
      },
      "source": [
        "regressors_df = pd.DataFrame({regressor_names[1]:regressors[1].feature_importances_, \n",
        "              regressor_names[2]:regressors[2].feature_importances_, \n",
        "              regressor_names[3]:regressors[3].feature_importances_,\n",
        "              regressor_names[4]:regressors[4].feature_importances_, },\n",
        "              index=all_features)"
      ],
      "execution_count": 32,
      "outputs": []
    },
    {
      "cell_type": "code",
      "metadata": {
        "colab": {
          "base_uri": "https://localhost:8080/",
          "height": 373
        },
        "id": "Il98i6TRzSa5",
        "outputId": "3d57a187-a095-4078-be4e-472a97a8cfcc"
      },
      "source": [
        "sns.heatmap(regressors_df, annot=True)"
      ],
      "execution_count": 33,
      "outputs": [
        {
          "output_type": "execute_result",
          "data": {
            "text/plain": [
              "<matplotlib.axes._subplots.AxesSubplot at 0x7f6f536c08d0>"
            ]
          },
          "metadata": {
            "tags": []
          },
          "execution_count": 33
        },
        {
          "output_type": "display_data",
          "data": {
            "image/png": "[encoded data removed]",
            "text/plain": [
              "<Figure size 432x288 with 2 Axes>"
            ]
          },
          "metadata": {
            "tags": [],
            "needs_background": "light"
          }
        }
      ]
    },
    {
      "cell_type": "markdown",
      "metadata": {
        "id": "uZzNdTcalqSO"
      },
      "source": [
        "##2.2 Grid Search"
      ]
    },
    {
      "cell_type": "markdown",
      "metadata": {
        "id": "bN9KJUprSDiT"
      },
      "source": [
        "###2.2.1 Setting"
      ]
    },
    {
      "cell_type": "code",
      "metadata": {
        "id": "8wwALPk8LPs-"
      },
      "source": [
        "train, test = split_to_train(X, y, 0.2)\n",
        "X_train = train.drop(['total_cases'], axis=1)\n",
        "y_train = train['total_cases']\n",
        "X_test = test.drop(['total_cases'], axis=1)\n",
        "y_test = test['total_cases']"
      ],
      "execution_count": 34,
      "outputs": []
    },
    {
      "cell_type": "code",
      "metadata": {
        "id": "tzxeL4q2I8FI"
      },
      "source": [
        "param_dist = {\"n_estimators\": [32, 64, 128], # Number of trees in random forest\n",
        "              \"max_features\": ['auto', 'sqrt'], # Number of features to consider at every split\n",
        "              \"max_depth\": [8, 4, 2], # Maximum number of levels in tree\n",
        "              \"min_samples_split\": [2, 4, 6], #  Minimum number of samples required to split a node\n",
        "              \"min_samples_leaf\": [8, 12, 16], # Minimum number of samples required at each leaf node\n",
        "              \"bootstrap\": [True, False] # Method of selecting samples for training each tree\n",
        "            }"
      ],
      "execution_count": 35,
      "outputs": []
    },
    {
      "cell_type": "code",
      "metadata": {
        "colab": {
          "base_uri": "https://localhost:8080/"
        },
        "id": "WhDUKuC6ltYF",
        "outputId": "717ff00a-63d7-4047-f3c4-cbaba9a89137"
      },
      "source": [
        "rf = RandomForestRegressor()\n",
        "grid_regres = GridSearchCV(estimator=rf, param_grid=param_dist, cv=5)\n",
        "\n",
        "grid_regres.fit(X_test, y_test.values.ravel())"
      ],
      "execution_count": 36,
      "outputs": [
        {
          "output_type": "execute_result",
          "data": {
            "text/plain": [
              "GridSearchCV(cv=5, error_score=nan,\n",
              "             estimator=RandomForestRegressor(bootstrap=True, ccp_alpha=0.0,\n",
              "                                             criterion='mse', max_depth=None,\n",
              "                                             max_features='auto',\n",
              "                                             max_leaf_nodes=None,\n",
              "                                             max_samples=None,\n",
              "                                             min_impurity_decrease=0.0,\n",
              "                                             min_impurity_split=None,\n",
              "                                             min_samples_leaf=1,\n",
              "                                             min_samples_split=2,\n",
              "                                             min_weight_fraction_leaf=0.0,\n",
              "                                             n_estimators=100, n_jobs=None,\n",
              "                                             oob_score=False, random_state=None,\n",
              "                                             verbose=0, warm_start=False),\n",
              "             iid='deprecated', n_jobs=None,\n",
              "             param_grid={'bootstrap': [True, False], 'max_depth': [8, 4, 2],\n",
              "                         'max_features': ['auto', 'sqrt'],\n",
              "                         'min_samples_leaf': [8, 12, 16],\n",
              "                         'min_samples_split': [2, 4, 6],\n",
              "                         'n_estimators': [32, 64, 128]},\n",
              "             pre_dispatch='2*n_jobs', refit=True, return_train_score=False,\n",
              "             scoring=None, verbose=0)"
            ]
          },
          "metadata": {
            "tags": []
          },
          "execution_count": 36
        }
      ]
    },
    {
      "cell_type": "markdown",
      "metadata": {
        "id": "hlcz62HHR-eI"
      },
      "source": [
        "### 2.2.2 Results"
      ]
    },
    {
      "cell_type": "code",
      "metadata": {
        "colab": {
          "base_uri": "https://localhost:8080/"
        },
        "id": "IdIIC-mOR9bM",
        "outputId": "e112aa9c-e91e-4598-eb28-49a41b6a1c45"
      },
      "source": [
        "report(grid_regres.cv_results_, n_top=10)"
      ],
      "execution_count": 37,
      "outputs": [
        {
          "output_type": "stream",
          "text": [
            "Model with rank: 1\n",
            "Mean validation score: -0.282 (std: 0.424)\n",
            "Parameters: {'bootstrap': True, 'max_depth': 8, 'max_features': 'sqrt', 'min_samples_leaf': 8, 'min_samples_split': 6, 'n_estimators': 32}\n",
            "\n",
            "Model with rank: 2\n",
            "Mean validation score: -0.308 (std: 0.603)\n",
            "Parameters: {'bootstrap': False, 'max_depth': 2, 'max_features': 'sqrt', 'min_samples_leaf': 8, 'min_samples_split': 4, 'n_estimators': 64}\n",
            "\n",
            "Model with rank: 3\n",
            "Mean validation score: -0.333 (std: 0.488)\n",
            "Parameters: {'bootstrap': True, 'max_depth': 4, 'max_features': 'sqrt', 'min_samples_leaf': 12, 'min_samples_split': 4, 'n_estimators': 32}\n",
            "\n",
            "Model with rank: 4\n",
            "Mean validation score: -0.341 (std: 0.482)\n",
            "Parameters: {'bootstrap': True, 'max_depth': 4, 'max_features': 'sqrt', 'min_samples_leaf': 16, 'min_samples_split': 4, 'n_estimators': 64}\n",
            "\n",
            "Model with rank: 5\n",
            "Mean validation score: -0.350 (std: 0.628)\n",
            "Parameters: {'bootstrap': True, 'max_depth': 2, 'max_features': 'sqrt', 'min_samples_leaf': 16, 'min_samples_split': 6, 'n_estimators': 32}\n",
            "\n",
            "Model with rank: 6\n",
            "Mean validation score: -0.352 (std: 0.671)\n",
            "Parameters: {'bootstrap': False, 'max_depth': 8, 'max_features': 'sqrt', 'min_samples_leaf': 12, 'min_samples_split': 2, 'n_estimators': 32}\n",
            "\n",
            "Model with rank: 7\n",
            "Mean validation score: -0.352 (std: 0.658)\n",
            "Parameters: {'bootstrap': False, 'max_depth': 8, 'max_features': 'sqrt', 'min_samples_leaf': 12, 'min_samples_split': 4, 'n_estimators': 32}\n",
            "\n",
            "Model with rank: 8\n",
            "Mean validation score: -0.356 (std: 0.505)\n",
            "Parameters: {'bootstrap': True, 'max_depth': 8, 'max_features': 'sqrt', 'min_samples_leaf': 16, 'min_samples_split': 6, 'n_estimators': 32}\n",
            "\n",
            "Model with rank: 9\n",
            "Mean validation score: -0.356 (std: 0.536)\n",
            "Parameters: {'bootstrap': True, 'max_depth': 4, 'max_features': 'sqrt', 'min_samples_leaf': 16, 'min_samples_split': 2, 'n_estimators': 128}\n",
            "\n",
            "Model with rank: 10\n",
            "Mean validation score: -0.356 (std: 0.530)\n",
            "Parameters: {'bootstrap': True, 'max_depth': 4, 'max_features': 'sqrt', 'min_samples_leaf': 12, 'min_samples_split': 6, 'n_estimators': 64}\n",
            "\n"
          ],
          "name": "stdout"
        }
      ]
    },
    {
      "cell_type": "code",
      "metadata": {
        "colab": {
          "base_uri": "https://localhost:8080/"
        },
        "id": "60AJldfDRvv9",
        "outputId": "18f79fdc-3d05-4068-f7e6-6c0e0e62b29d"
      },
      "source": [
        "grid_regres.best_params_"
      ],
      "execution_count": 38,
      "outputs": [
        {
          "output_type": "execute_result",
          "data": {
            "text/plain": [
              "{'bootstrap': True,\n",
              " 'max_depth': 8,\n",
              " 'max_features': 'sqrt',\n",
              " 'min_samples_leaf': 8,\n",
              " 'min_samples_split': 6,\n",
              " 'n_estimators': 32}"
            ]
          },
          "metadata": {
            "tags": []
          },
          "execution_count": 38
        }
      ]
    },
    {
      "cell_type": "code",
      "metadata": {
        "colab": {
          "base_uri": "https://localhost:8080/"
        },
        "id": "DcnbZBm7Mpg_",
        "outputId": "20f1b639-580c-4ed1-d5ab-fefaa03861f3"
      },
      "source": [
        "get_accuracy(grid_regres.best_estimator_, X, y, 10)"
      ],
      "execution_count": 39,
      "outputs": [
        {
          "output_type": "execute_result",
          "data": {
            "text/plain": [
              "37.8163586624331"
            ]
          },
          "metadata": {
            "tags": []
          },
          "execution_count": 39
        }
      ]
    },
    {
      "cell_type": "markdown",
      "metadata": {
        "id": "vNaHkDN-NE2H"
      },
      "source": [
        "### 2.2.3 Visualisation"
      ]
    },
    {
      "cell_type": "code",
      "metadata": {
        "colab": {
          "base_uri": "https://localhost:8080/",
          "height": 365
        },
        "id": "DKqZnvKcNEUY",
        "outputId": "f9b08e13-7d26-41ef-f95e-679b689fe26d"
      },
      "source": [
        "generate_visualization(grid_regres.best_estimator_, X, y)"
      ],
      "execution_count": 40,
      "outputs": [
        {
          "output_type": "stream",
          "text": [
            "/usr/local/lib/python3.6/dist-packages/IPython/core/interactiveshell.py:2882: FutureWarning:\n",
            "\n",
            "arrays to stack must be passed as a \"sequence\" type such as list or tuple. Support for non-sequence iterables such as generators is deprecated as of NumPy 1.16 and will raise an error in the future.\n",
            "\n"
          ],
          "name": "stderr"
        },
        {
          "output_type": "display_data",
          "data": {
            "image/png": "[encoded data removed]",
            "text/plain": [
              "<Figure size 432x288 with 1 Axes>"
            ]
          },
          "metadata": {
            "tags": [],
            "needs_background": "light"
          }
        }
      ]
    },
    {
      "cell_type": "markdown",
      "metadata": {
        "id": "5H1eCjifQqC7"
      },
      "source": [
        "##2.3 Randomized Search"
      ]
    },
    {
      "cell_type": "markdown",
      "metadata": {
        "id": "rY99nOzlSJdw"
      },
      "source": [
        "### 2.3.1 Setting"
      ]
    },
    {
      "cell_type": "code",
      "metadata": {
        "id": "Dty-DRFtQ0yQ"
      },
      "source": [
        "param_dist = {\"n_estimators\": [4, 8, 16, 32, 64, 128], # Number of trees in random forest\n",
        "              \"max_features\": ['auto', 'sqrt'], # Number of features to consider at every split\n",
        "              \"max_depth\": [16, 12, 8, 4, 2, None], # Maximum number of levels in tree\n",
        "              \"min_samples_split\": sp_randint(2, 50), #  Minimum number of samples required to split a node\n",
        "              \"min_samples_leaf\": sp_randint(1, 50), # Minimum number of samples required at each leaf node\n",
        "              \"bootstrap\": [True, False], # Method of selecting samples for training each tree\n",
        "              \"criterion\": [\"mse\", \"mae\"]}"
      ],
      "execution_count": 41,
      "outputs": []
    },
    {
      "cell_type": "code",
      "metadata": {
        "colab": {
          "base_uri": "https://localhost:8080/"
        },
        "id": "mzkvP-ERQ3ya",
        "outputId": "0cae490e-1175-4756-883b-2bf0fb128786"
      },
      "source": [
        "rnd_regres = RandomizedSearchCV(estimator=rf, param_distributions=param_dist, \n",
        "                               n_iter=100, cv=5, random_state=0, n_jobs=-1)\n",
        "rnd_regres.fit(X_test, y_test.values.ravel())"
      ],
      "execution_count": 42,
      "outputs": [
        {
          "output_type": "execute_result",
          "data": {
            "text/plain": [
              "RandomizedSearchCV(cv=5, error_score=nan,\n",
              "                   estimator=RandomForestRegressor(bootstrap=True,\n",
              "                                                   ccp_alpha=0.0,\n",
              "                                                   criterion='mse',\n",
              "                                                   max_depth=None,\n",
              "                                                   max_features='auto',\n",
              "                                                   max_leaf_nodes=None,\n",
              "                                                   max_samples=None,\n",
              "                                                   min_impurity_decrease=0.0,\n",
              "                                                   min_impurity_split=None,\n",
              "                                                   min_samples_leaf=1,\n",
              "                                                   min_samples_split=2,\n",
              "                                                   min_weight_fraction_leaf=0.0,\n",
              "                                                   n_estimators=100,\n",
              "                                                   n_jobs=None, oob_score=Fals...\n",
              "                                        'max_depth': [16, 12, 8, 4, 2, None],\n",
              "                                        'max_features': ['auto', 'sqrt'],\n",
              "                                        'min_samples_leaf': <scipy.stats._distn_infrastructure.rv_frozen object at 0x7f6f53623e80>,\n",
              "                                        'min_samples_split': <scipy.stats._distn_infrastructure.rv_frozen object at 0x7f6f536234a8>,\n",
              "                                        'n_estimators': [4, 8, 16, 32, 64,\n",
              "                                                         128]},\n",
              "                   pre_dispatch='2*n_jobs', random_state=0, refit=True,\n",
              "                   return_train_score=False, scoring=None, verbose=0)"
            ]
          },
          "metadata": {
            "tags": []
          },
          "execution_count": 42
        }
      ]
    },
    {
      "cell_type": "markdown",
      "metadata": {
        "id": "u3Evd1d-Sc01"
      },
      "source": [
        "### 2.3.2 Results"
      ]
    },
    {
      "cell_type": "code",
      "metadata": {
        "colab": {
          "base_uri": "https://localhost:8080/"
        },
        "id": "JkoHGhU-Sb2o",
        "outputId": "d03a0450-91a0-4552-a4df-c04fae1e6ae3"
      },
      "source": [
        "report(rnd_regres.cv_results_, n_top=10)"
      ],
      "execution_count": 43,
      "outputs": [
        {
          "output_type": "stream",
          "text": [
            "Model with rank: 1\n",
            "Mean validation score: 0.124 (std: 0.255)\n",
            "Parameters: {'bootstrap': True, 'criterion': 'mae', 'max_depth': None, 'max_features': 'auto', 'min_samples_leaf': 1, 'min_samples_split': 38, 'n_estimators': 16}\n",
            "\n",
            "Model with rank: 2\n",
            "Mean validation score: 0.074 (std: 0.533)\n",
            "Parameters: {'bootstrap': False, 'criterion': 'mae', 'max_depth': 12, 'max_features': 'sqrt', 'min_samples_leaf': 1, 'min_samples_split': 12, 'n_estimators': 16}\n",
            "\n",
            "Model with rank: 3\n",
            "Mean validation score: -0.048 (std: 0.413)\n",
            "Parameters: {'bootstrap': True, 'criterion': 'mse', 'max_depth': 4, 'max_features': 'auto', 'min_samples_leaf': 3, 'min_samples_split': 30, 'n_estimators': 64}\n",
            "\n",
            "Model with rank: 4\n",
            "Mean validation score: -0.059 (std: 0.178)\n",
            "Parameters: {'bootstrap': False, 'criterion': 'mae', 'max_depth': 12, 'max_features': 'sqrt', 'min_samples_leaf': 3, 'min_samples_split': 22, 'n_estimators': 128}\n",
            "\n",
            "Model with rank: 5\n",
            "Mean validation score: -0.072 (std: 0.107)\n",
            "Parameters: {'bootstrap': True, 'criterion': 'mae', 'max_depth': 4, 'max_features': 'sqrt', 'min_samples_leaf': 13, 'min_samples_split': 20, 'n_estimators': 8}\n",
            "\n",
            "Model with rank: 6\n",
            "Mean validation score: -0.090 (std: 0.125)\n",
            "Parameters: {'bootstrap': True, 'criterion': 'mae', 'max_depth': 4, 'max_features': 'auto', 'min_samples_leaf': 12, 'min_samples_split': 30, 'n_estimators': 16}\n",
            "\n",
            "Model with rank: 7\n",
            "Mean validation score: -0.094 (std: 0.047)\n",
            "Parameters: {'bootstrap': True, 'criterion': 'mae', 'max_depth': 16, 'max_features': 'auto', 'min_samples_leaf': 20, 'min_samples_split': 35, 'n_estimators': 4}\n",
            "\n",
            "Model with rank: 8\n",
            "Mean validation score: -0.094 (std: 0.086)\n",
            "Parameters: {'bootstrap': True, 'criterion': 'mae', 'max_depth': 4, 'max_features': 'sqrt', 'min_samples_leaf': 6, 'min_samples_split': 35, 'n_estimators': 128}\n",
            "\n",
            "Model with rank: 9\n",
            "Mean validation score: -0.100 (std: 0.123)\n",
            "Parameters: {'bootstrap': True, 'criterion': 'mae', 'max_depth': 8, 'max_features': 'auto', 'min_samples_leaf': 12, 'min_samples_split': 6, 'n_estimators': 64}\n",
            "\n",
            "Model with rank: 10\n",
            "Mean validation score: -0.103 (std: 0.114)\n",
            "Parameters: {'bootstrap': False, 'criterion': 'mae', 'max_depth': 2, 'max_features': 'sqrt', 'min_samples_leaf': 5, 'min_samples_split': 15, 'n_estimators': 128}\n",
            "\n"
          ],
          "name": "stdout"
        }
      ]
    },
    {
      "cell_type": "code",
      "metadata": {
        "colab": {
          "base_uri": "https://localhost:8080/"
        },
        "id": "h70VEKo6Rq14",
        "outputId": "5d8f548f-fd35-4d0a-e204-5a0856503d52"
      },
      "source": [
        "rnd_regres.best_params_"
      ],
      "execution_count": 44,
      "outputs": [
        {
          "output_type": "execute_result",
          "data": {
            "text/plain": [
              "{'bootstrap': True,\n",
              " 'criterion': 'mae',\n",
              " 'max_depth': None,\n",
              " 'max_features': 'auto',\n",
              " 'min_samples_leaf': 1,\n",
              " 'min_samples_split': 38,\n",
              " 'n_estimators': 16}"
            ]
          },
          "metadata": {
            "tags": []
          },
          "execution_count": 44
        }
      ]
    },
    {
      "cell_type": "code",
      "metadata": {
        "colab": {
          "base_uri": "https://localhost:8080/"
        },
        "id": "n8drMjSCRzRi",
        "outputId": "3091d662-d0af-400e-893c-55757047264d"
      },
      "source": [
        "get_accuracy(rnd_regres.best_estimator_, X, y, 10)"
      ],
      "execution_count": 45,
      "outputs": [
        {
          "output_type": "execute_result",
          "data": {
            "text/plain": [
              "39.4979518581081"
            ]
          },
          "metadata": {
            "tags": []
          },
          "execution_count": 45
        }
      ]
    },
    {
      "cell_type": "markdown",
      "metadata": {
        "id": "8Hz-DpslSgGu"
      },
      "source": [
        "### 2.3.3 Visualisation"
      ]
    },
    {
      "cell_type": "code",
      "metadata": {
        "colab": {
          "base_uri": "https://localhost:8080/",
          "height": 365
        },
        "id": "MxyjBlulR1uj",
        "outputId": "7f371524-7e28-406c-b6b1-c33a9a78423a"
      },
      "source": [
        "generate_visualization(rnd_regres.best_estimator_, X, y)"
      ],
      "execution_count": 46,
      "outputs": [
        {
          "output_type": "stream",
          "text": [
            "/usr/local/lib/python3.6/dist-packages/IPython/core/interactiveshell.py:2882: FutureWarning:\n",
            "\n",
            "arrays to stack must be passed as a \"sequence\" type such as list or tuple. Support for non-sequence iterables such as generators is deprecated as of NumPy 1.16 and will raise an error in the future.\n",
            "\n"
          ],
          "name": "stderr"
        },
        {
          "output_type": "display_data",
          "data": {
            "image/png": "[encoded data removed]",
            "text/plain": [
              "<Figure size 432x288 with 1 Axes>"
            ]
          },
          "metadata": {
            "tags": [],
            "needs_background": "light"
          }
        }
      ]
    }
  ]
}