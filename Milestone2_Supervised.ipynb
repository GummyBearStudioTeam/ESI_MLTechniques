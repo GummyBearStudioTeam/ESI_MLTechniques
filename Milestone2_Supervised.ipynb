{
 "cells": [
  {
   "cell_type": "markdown",
   "metadata": {
    "id": "Cbs4n2uvb9IE"
   },
   "source": [
    "# Milestone 2\n",
    "Supervised learning."
   ]
  },
  {
   "cell_type": "code",
   "execution_count": 1,
   "metadata": {
    "id": "H-emiI-kb9II"
   },
   "outputs": [],
   "source": [
    "import pandas as pd\n",
    "import numpy as np\n",
    "import seaborn as sns\n",
    "import plotly.express as px\n",
    "import sklearn\n",
    "import sklearn.preprocessing\n",
    "import sklearn.metrics"
   ]
  },
  {
   "cell_type": "code",
   "execution_count": 2,
   "metadata": {
    "id": "jVlLnqfTb9IX"
   },
   "outputs": [],
   "source": [
    "df = pd.read_csv('dengue_features_train.csv')"
   ]
  },
  {
   "cell_type": "markdown",
   "metadata": {
    "id": "uKGqayHrb9In"
   },
   "source": [
    "## Filter data for group subset\n",
    "Our group is working on dataset San Juan 1992-98"
   ]
  },
  {
   "cell_type": "code",
   "execution_count": 3,
   "metadata": {
    "colab": {
     "base_uri": "https://localhost:8080/",
     "height": 70
    },
    "id": "VjDGuF8Eb9Io",
    "outputId": "46c9d2f7-662e-42f4-9bdc-1c2dee2711e7"
   },
   "outputs": [
    {
     "data": {
      "text/plain": [
       "sj    936\n",
       "iq    520\n",
       "Name: city, dtype: int64"
      ]
     },
     "execution_count": 3,
     "metadata": {},
     "output_type": "execute_result"
    }
   ],
   "source": [
    "df['city'].value_counts()"
   ]
  },
  {
   "cell_type": "code",
   "execution_count": 4,
   "metadata": {
    "id": "OYOSPncGb9I1"
   },
   "outputs": [],
   "source": [
    "#criteria = (df['city'].values == 'sj', df['year'].values >= 1992, df['year'].values <= 1998)\n",
    "#df = df[np.sum(criteria, axis=0, dtype=np.int8) == 3]\n",
    "df = df[df['city'] == 'sj']\n",
    "df = df[df['year'] >= 1992]\n",
    "df = df[df['year'] <= 1998]"
   ]
  },
  {
   "cell_type": "code",
   "execution_count": 5,
   "metadata": {
    "colab": {
     "base_uri": "https://localhost:8080/",
     "height": 34
    },
    "id": "nmONU3y8b9I-",
    "outputId": "8f6599eb-716d-4c90-9bbf-17d93944f457"
   },
   "outputs": [
    {
     "data": {
      "text/plain": [
       "(364, 20)"
      ]
     },
     "execution_count": 5,
     "metadata": {},
     "output_type": "execute_result"
    }
   ],
   "source": [
    "df.drop(['city', 'year', 'weekofyear', 'week_start_date'], axis=1, inplace=True)\n",
    "df.shape"
   ]
  },
  {
   "cell_type": "code",
   "execution_count": 6,
   "metadata": {
    "colab": {
     "base_uri": "https://localhost:8080/",
     "height": 215
    },
    "id": "Fm1gR7vVb9JI",
    "outputId": "79e0870f-4576-476c-b55d-6110b93ea73c"
   },
   "outputs": [
    {
     "data": {
      "text/html": [
       "<div>\n",
       "<style scoped>\n",
       "    .dataframe tbody tr th:only-of-type {\n",
       "        vertical-align: middle;\n",
       "    }\n",
       "\n",
       "    .dataframe tbody tr th {\n",
       "        vertical-align: top;\n",
       "    }\n",
       "\n",
       "    .dataframe thead th {\n",
       "        text-align: right;\n",
       "    }\n",
       "</style>\n",
       "<table border=\"1\" class=\"dataframe\">\n",
       "  <thead>\n",
       "    <tr style=\"text-align: right;\">\n",
       "      <th></th>\n",
       "      <th>ndvi_ne</th>\n",
       "      <th>ndvi_nw</th>\n",
       "      <th>ndvi_se</th>\n",
       "      <th>ndvi_sw</th>\n",
       "      <th>precipitation_amt_mm</th>\n",
       "      <th>reanalysis_air_temp_k</th>\n",
       "      <th>reanalysis_avg_temp_k</th>\n",
       "      <th>reanalysis_dew_point_temp_k</th>\n",
       "      <th>reanalysis_max_air_temp_k</th>\n",
       "      <th>reanalysis_min_air_temp_k</th>\n",
       "      <th>reanalysis_precip_amt_kg_per_m2</th>\n",
       "      <th>reanalysis_relative_humidity_percent</th>\n",
       "      <th>reanalysis_sat_precip_amt_mm</th>\n",
       "      <th>reanalysis_specific_humidity_g_per_kg</th>\n",
       "      <th>reanalysis_tdtr_k</th>\n",
       "      <th>station_avg_temp_c</th>\n",
       "      <th>station_diur_temp_rng_c</th>\n",
       "      <th>station_max_temp_c</th>\n",
       "      <th>station_min_temp_c</th>\n",
       "      <th>station_precip_mm</th>\n",
       "    </tr>\n",
       "  </thead>\n",
       "  <tbody>\n",
       "    <tr>\n",
       "      <th>87</th>\n",
       "      <td>0.125100</td>\n",
       "      <td>0.157867</td>\n",
       "      <td>0.185283</td>\n",
       "      <td>0.181367</td>\n",
       "      <td>NaN</td>\n",
       "      <td>NaN</td>\n",
       "      <td>NaN</td>\n",
       "      <td>NaN</td>\n",
       "      <td>NaN</td>\n",
       "      <td>NaN</td>\n",
       "      <td>NaN</td>\n",
       "      <td>NaN</td>\n",
       "      <td>NaN</td>\n",
       "      <td>NaN</td>\n",
       "      <td>NaN</td>\n",
       "      <td>NaN</td>\n",
       "      <td>NaN</td>\n",
       "      <td>NaN</td>\n",
       "      <td>NaN</td>\n",
       "      <td>NaN</td>\n",
       "    </tr>\n",
       "    <tr>\n",
       "      <th>88</th>\n",
       "      <td>0.100833</td>\n",
       "      <td>0.073575</td>\n",
       "      <td>0.138714</td>\n",
       "      <td>0.112786</td>\n",
       "      <td>200.85</td>\n",
       "      <td>297.912857</td>\n",
       "      <td>298.121429</td>\n",
       "      <td>294.457143</td>\n",
       "      <td>300.4</td>\n",
       "      <td>296.1</td>\n",
       "      <td>18.30</td>\n",
       "      <td>81.300000</td>\n",
       "      <td>200.85</td>\n",
       "      <td>15.878571</td>\n",
       "      <td>2.300000</td>\n",
       "      <td>25.657143</td>\n",
       "      <td>7.500000</td>\n",
       "      <td>30.6</td>\n",
       "      <td>20.6</td>\n",
       "      <td>58.2</td>\n",
       "    </tr>\n",
       "    <tr>\n",
       "      <th>89</th>\n",
       "      <td>0.222400</td>\n",
       "      <td>0.229900</td>\n",
       "      <td>0.198457</td>\n",
       "      <td>0.199414</td>\n",
       "      <td>3.12</td>\n",
       "      <td>297.338571</td>\n",
       "      <td>297.485714</td>\n",
       "      <td>294.467143</td>\n",
       "      <td>300.2</td>\n",
       "      <td>295.6</td>\n",
       "      <td>19.80</td>\n",
       "      <td>84.117143</td>\n",
       "      <td>3.12</td>\n",
       "      <td>15.832857</td>\n",
       "      <td>1.857143</td>\n",
       "      <td>25.471429</td>\n",
       "      <td>6.171429</td>\n",
       "      <td>31.1</td>\n",
       "      <td>21.7</td>\n",
       "      <td>32.3</td>\n",
       "    </tr>\n",
       "    <tr>\n",
       "      <th>90</th>\n",
       "      <td>0.122533</td>\n",
       "      <td>0.131050</td>\n",
       "      <td>0.188843</td>\n",
       "      <td>0.168871</td>\n",
       "      <td>0.00</td>\n",
       "      <td>297.091429</td>\n",
       "      <td>297.335714</td>\n",
       "      <td>293.021429</td>\n",
       "      <td>299.5</td>\n",
       "      <td>295.6</td>\n",
       "      <td>5.11</td>\n",
       "      <td>78.291429</td>\n",
       "      <td>0.00</td>\n",
       "      <td>14.482857</td>\n",
       "      <td>2.357143</td>\n",
       "      <td>24.857143</td>\n",
       "      <td>7.442857</td>\n",
       "      <td>30.6</td>\n",
       "      <td>20.0</td>\n",
       "      <td>1.3</td>\n",
       "    </tr>\n",
       "    <tr>\n",
       "      <th>91</th>\n",
       "      <td>NaN</td>\n",
       "      <td>0.048300</td>\n",
       "      <td>0.173671</td>\n",
       "      <td>0.191929</td>\n",
       "      <td>0.00</td>\n",
       "      <td>297.420000</td>\n",
       "      <td>297.550000</td>\n",
       "      <td>292.718571</td>\n",
       "      <td>299.3</td>\n",
       "      <td>295.5</td>\n",
       "      <td>6.50</td>\n",
       "      <td>75.220000</td>\n",
       "      <td>0.00</td>\n",
       "      <td>14.185714</td>\n",
       "      <td>2.442857</td>\n",
       "      <td>24.800000</td>\n",
       "      <td>6.585714</td>\n",
       "      <td>28.9</td>\n",
       "      <td>20.0</td>\n",
       "      <td>9.2</td>\n",
       "    </tr>\n",
       "  </tbody>\n",
       "</table>\n",
       "</div>"
      ],
      "text/plain": [
       "     ndvi_ne   ndvi_nw   ndvi_se   ndvi_sw  precipitation_amt_mm  \\\n",
       "87  0.125100  0.157867  0.185283  0.181367                   NaN   \n",
       "88  0.100833  0.073575  0.138714  0.112786                200.85   \n",
       "89  0.222400  0.229900  0.198457  0.199414                  3.12   \n",
       "90  0.122533  0.131050  0.188843  0.168871                  0.00   \n",
       "91       NaN  0.048300  0.173671  0.191929                  0.00   \n",
       "\n",
       "    reanalysis_air_temp_k  reanalysis_avg_temp_k  reanalysis_dew_point_temp_k  \\\n",
       "87                    NaN                    NaN                          NaN   \n",
       "88             297.912857             298.121429                   294.457143   \n",
       "89             297.338571             297.485714                   294.467143   \n",
       "90             297.091429             297.335714                   293.021429   \n",
       "91             297.420000             297.550000                   292.718571   \n",
       "\n",
       "    reanalysis_max_air_temp_k  reanalysis_min_air_temp_k  \\\n",
       "87                        NaN                        NaN   \n",
       "88                      300.4                      296.1   \n",
       "89                      300.2                      295.6   \n",
       "90                      299.5                      295.6   \n",
       "91                      299.3                      295.5   \n",
       "\n",
       "    reanalysis_precip_amt_kg_per_m2  reanalysis_relative_humidity_percent  \\\n",
       "87                              NaN                                   NaN   \n",
       "88                            18.30                             81.300000   \n",
       "89                            19.80                             84.117143   \n",
       "90                             5.11                             78.291429   \n",
       "91                             6.50                             75.220000   \n",
       "\n",
       "    reanalysis_sat_precip_amt_mm  reanalysis_specific_humidity_g_per_kg  \\\n",
       "87                           NaN                                    NaN   \n",
       "88                        200.85                              15.878571   \n",
       "89                          3.12                              15.832857   \n",
       "90                          0.00                              14.482857   \n",
       "91                          0.00                              14.185714   \n",
       "\n",
       "    reanalysis_tdtr_k  station_avg_temp_c  station_diur_temp_rng_c  \\\n",
       "87                NaN                 NaN                      NaN   \n",
       "88           2.300000           25.657143                 7.500000   \n",
       "89           1.857143           25.471429                 6.171429   \n",
       "90           2.357143           24.857143                 7.442857   \n",
       "91           2.442857           24.800000                 6.585714   \n",
       "\n",
       "    station_max_temp_c  station_min_temp_c  station_precip_mm  \n",
       "87                 NaN                 NaN                NaN  \n",
       "88                30.6                20.6               58.2  \n",
       "89                31.1                21.7               32.3  \n",
       "90                30.6                20.0                1.3  \n",
       "91                28.9                20.0                9.2  "
      ]
     },
     "execution_count": 6,
     "metadata": {},
     "output_type": "execute_result"
    }
   ],
   "source": [
    "df.head()"
   ]
  },
  {
   "cell_type": "markdown",
   "metadata": {
    "id": "epTbfgg0b9JS"
   },
   "source": [
    "# Fill NaN"
   ]
  },
  {
   "cell_type": "code",
   "execution_count": 7,
   "metadata": {
    "colab": {
     "base_uri": "https://localhost:8080/",
     "height": 386
    },
    "id": "80wEEOLsb9JT",
    "outputId": "99b2af49-9a64-44e3-9257-e25cff346789"
   },
   "outputs": [
    {
     "data": {
      "text/plain": [
       "ndvi_ne                                  0\n",
       "ndvi_nw                                  0\n",
       "ndvi_se                                  0\n",
       "ndvi_sw                                  0\n",
       "precipitation_amt_mm                     0\n",
       "reanalysis_air_temp_k                    0\n",
       "reanalysis_avg_temp_k                    0\n",
       "reanalysis_dew_point_temp_k              0\n",
       "reanalysis_max_air_temp_k                0\n",
       "reanalysis_min_air_temp_k                0\n",
       "reanalysis_precip_amt_kg_per_m2          0\n",
       "reanalysis_relative_humidity_percent     0\n",
       "reanalysis_sat_precip_amt_mm             0\n",
       "reanalysis_specific_humidity_g_per_kg    0\n",
       "reanalysis_tdtr_k                        0\n",
       "station_avg_temp_c                       0\n",
       "station_diur_temp_rng_c                  0\n",
       "station_max_temp_c                       0\n",
       "station_min_temp_c                       0\n",
       "station_precip_mm                        0\n",
       "dtype: int64"
      ]
     },
     "execution_count": 7,
     "metadata": {},
     "output_type": "execute_result"
    }
   ],
   "source": [
    "df.isna().sum()\n",
    "# ffill: propagate last valid observation forward to next valid backfill\n",
    "# @ Check other methods\n",
    "df.fillna(method=\"bfill\", inplace=True)\n",
    "df.isna().sum()"
   ]
  },
  {
   "cell_type": "markdown",
   "metadata": {
    "id": "e4m_71HQb9Jk"
   },
   "source": [
    "# PCA\n",
    "Normalize the data and apply find best principal components."
   ]
  },
  {
   "cell_type": "code",
   "execution_count": 9,
   "metadata": {
    "id": "XRWyUwJtb9Jm"
   },
   "outputs": [],
   "source": [
    "scaler = sklearn.preprocessing.StandardScaler()\n",
    "#scaler = sklearn.preprocessing.MinMaxScaler()\n",
    "X = scaler.fit_transform(df)"
   ]
  },
  {
   "cell_type": "code",
   "execution_count": 10,
   "metadata": {
    "colab": {
     "base_uri": "https://localhost:8080/",
     "height": 34
    },
    "id": "pmhr1WcYkkKa",
    "outputId": "07dc7bf5-6a15-4f4c-e5ba-61d79db13585"
   },
   "outputs": [
    {
     "data": {
      "text/plain": [
       "(364, 20)"
      ]
     },
     "execution_count": 10,
     "metadata": {},
     "output_type": "execute_result"
    }
   ],
   "source": [
    "from sklearn.decomposition import PCA\n",
    "pca = PCA()\n",
    "X_pca = pca.fit_transform(X)\n",
    "X_pca.shape"
   ]
  },
  {
   "cell_type": "markdown",
   "metadata": {},
   "source": [
    "### Selected features"
   ]
  },
  {
   "cell_type": "code",
   "execution_count": 1,
   "metadata": {},
   "outputs": [],
   "source": [
    "features = ['ndvi_ne', 'ndvi_nw', 'ndvi_se', 'ndvi_sw', 'precipitation_amt_mm', 'reanalysis_precip_amt_kg_per_m2', 'reanalysis_specific_humidity_g_per_kg', 'group']"
   ]
  },
  {
   "cell_type": "code",
   "execution_count": null,
   "metadata": {},
   "outputs": [],
   "source": []
  }
 ],
 "metadata": {
  "colab": {
   "name": "Milestone1_Unsupervised.ipynb",
   "provenance": [],
   "toc_visible": true
  },
  "kernelspec": {
   "display_name": "Python 3",
   "language": "python",
   "name": "python3"
  },
  "language_info": {
   "codemirror_mode": {
    "name": "ipython",
    "version": 3
   },
   "file_extension": ".py",
   "mimetype": "text/x-python",
   "name": "python",
   "nbconvert_exporter": "python",
   "pygments_lexer": "ipython3",
   "version": "3.6.9"
  }
 },
 "nbformat": 4,
 "nbformat_minor": 4
}
