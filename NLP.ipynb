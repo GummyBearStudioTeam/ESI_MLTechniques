{
  "nbformat": 4,
  "nbformat_minor": 0,
  "metadata": {
    "colab": {
      "name": "NLP.ipynb",
      "provenance": [],
      "collapsed_sections": []
    },
    "kernelspec": {
      "name": "python3",
      "display_name": "Python 3"
    }
  },
  "cells": [
    {
      "cell_type": "code",
      "metadata": {
        "colab": {
          "base_uri": "https://localhost:8080/"
        },
        "id": "kENXF_vPOrD7",
        "outputId": "e447adc0-5bbf-4d07-f299-5ff1d5d1c026"
      },
      "source": [
        "import re\n",
        "import pandas as pd\n",
        "import numpy as np\n",
        "\n",
        "import nltk\n",
        "from nltk.tokenize import sent_tokenize\n",
        "from nltk.tokenize import word_tokenize\n",
        "import nltk.corpus\n",
        "nltk.download('punkt')\n",
        "nltk.download('stopwords')\n",
        "nltk.download('averaged_perceptron_tagger')\n",
        "nltk.download('vader_lexicon')\n",
        "\n",
        "from sklearn.feature_extraction.text import TfidfVectorizer\n",
        "\n",
        "from nltk.sentiment.vader import SentimentIntensityAnalyzer\n",
        "import seaborn as sns\n",
        "\n",
        "from math import ceil\n",
        "\n",
        "from sklearn import metrics"
      ],
      "execution_count": null,
      "outputs": [
        {
          "output_type": "stream",
          "text": [
            "[nltk_data] Downloading package punkt to /root/nltk_data...\n",
            "[nltk_data]   Unzipping tokenizers/punkt.zip.\n",
            "[nltk_data] Downloading package stopwords to /root/nltk_data...\n",
            "[nltk_data]   Unzipping corpora/stopwords.zip.\n",
            "[nltk_data] Downloading package averaged_perceptron_tagger to\n",
            "[nltk_data]     /root/nltk_data...\n",
            "[nltk_data]   Unzipping taggers/averaged_perceptron_tagger.zip.\n",
            "[nltk_data] Downloading package vader_lexicon to /root/nltk_data...\n"
          ],
          "name": "stdout"
        },
        {
          "output_type": "stream",
          "text": [
            "/usr/local/lib/python3.6/dist-packages/nltk/twitter/__init__.py:20: UserWarning: The twython library has not been installed. Some functionality from the twitter package will not be available.\n",
            "  warnings.warn(\"The twython library has not been installed. \"\n"
          ],
          "name": "stderr"
        }
      ]
    },
    {
      "cell_type": "markdown",
      "metadata": {
        "id": "NazHONfiVqED"
      },
      "source": [
        "# 1. Preprocessing\n",
        "\n",
        "\n"
      ]
    },
    {
      "cell_type": "markdown",
      "metadata": {
        "id": "8DUSxKRnOU3y"
      },
      "source": [
        "##Loading data"
      ]
    },
    {
      "cell_type": "code",
      "metadata": {
        "id": "X9l7NB9VLh1s"
      },
      "source": [
        "df = pd.read_csv(\"labeled_data.csv\")\n",
        "hatred_dict = pd.read_csv(\"refined_ngram_dict.csv\")"
      ],
      "execution_count": null,
      "outputs": []
    },
    {
      "cell_type": "code",
      "metadata": {
        "id": "44Th0QTQ90sL",
        "colab": {
          "base_uri": "https://localhost:8080/"
        },
        "outputId": "df53936f-535d-47ff-83f8-f1d0de81ab91"
      },
      "source": [
        "df"
      ],
      "execution_count": null,
      "outputs": [
        {
          "output_type": "execute_result",
          "data": {
            "text/html": [
              "<div>\n",
              "<style scoped>\n",
              "    .dataframe tbody tr th:only-of-type {\n",
              "        vertical-align: middle;\n",
              "    }\n",
              "\n",
              "    .dataframe tbody tr th {\n",
              "        vertical-align: top;\n",
              "    }\n",
              "\n",
              "    .dataframe thead th {\n",
              "        text-align: right;\n",
              "    }\n",
              "</style>\n",
              "<table border=\"1\" class=\"dataframe\">\n",
              "  <thead>\n",
              "    <tr style=\"text-align: right;\">\n",
              "      <th></th>\n",
              "      <th>Unnamed: 0</th>\n",
              "      <th>count</th>\n",
              "      <th>hate_speech</th>\n",
              "      <th>offensive_language</th>\n",
              "      <th>neither</th>\n",
              "      <th>class</th>\n",
              "      <th>tweet</th>\n",
              "    </tr>\n",
              "  </thead>\n",
              "  <tbody>\n",
              "    <tr>\n",
              "      <th>0</th>\n",
              "      <td>0</td>\n",
              "      <td>3</td>\n",
              "      <td>0</td>\n",
              "      <td>0</td>\n",
              "      <td>3</td>\n",
              "      <td>2</td>\n",
              "      <td>!!! RT @mayasolovely: As a woman you shouldn't...</td>\n",
              "    </tr>\n",
              "    <tr>\n",
              "      <th>1</th>\n",
              "      <td>1</td>\n",
              "      <td>3</td>\n",
              "      <td>0</td>\n",
              "      <td>3</td>\n",
              "      <td>0</td>\n",
              "      <td>1</td>\n",
              "      <td>!!!!! RT @mleew17: boy dats cold...tyga dwn ba...</td>\n",
              "    </tr>\n",
              "    <tr>\n",
              "      <th>2</th>\n",
              "      <td>2</td>\n",
              "      <td>3</td>\n",
              "      <td>0</td>\n",
              "      <td>3</td>\n",
              "      <td>0</td>\n",
              "      <td>1</td>\n",
              "      <td>!!!!!!! RT @UrKindOfBrand Dawg!!!! RT @80sbaby...</td>\n",
              "    </tr>\n",
              "    <tr>\n",
              "      <th>3</th>\n",
              "      <td>3</td>\n",
              "      <td>3</td>\n",
              "      <td>0</td>\n",
              "      <td>2</td>\n",
              "      <td>1</td>\n",
              "      <td>1</td>\n",
              "      <td>!!!!!!!!! RT @C_G_Anderson: @viva_based she lo...</td>\n",
              "    </tr>\n",
              "    <tr>\n",
              "      <th>4</th>\n",
              "      <td>4</td>\n",
              "      <td>6</td>\n",
              "      <td>0</td>\n",
              "      <td>6</td>\n",
              "      <td>0</td>\n",
              "      <td>1</td>\n",
              "      <td>!!!!!!!!!!!!! RT @ShenikaRoberts: The shit you...</td>\n",
              "    </tr>\n",
              "    <tr>\n",
              "      <th>...</th>\n",
              "      <td>...</td>\n",
              "      <td>...</td>\n",
              "      <td>...</td>\n",
              "      <td>...</td>\n",
              "      <td>...</td>\n",
              "      <td>...</td>\n",
              "      <td>...</td>\n",
              "    </tr>\n",
              "    <tr>\n",
              "      <th>24778</th>\n",
              "      <td>25291</td>\n",
              "      <td>3</td>\n",
              "      <td>0</td>\n",
              "      <td>2</td>\n",
              "      <td>1</td>\n",
              "      <td>1</td>\n",
              "      <td>you's a muthaf***in lie &amp;#8220;@LifeAsKing: @2...</td>\n",
              "    </tr>\n",
              "    <tr>\n",
              "      <th>24779</th>\n",
              "      <td>25292</td>\n",
              "      <td>3</td>\n",
              "      <td>0</td>\n",
              "      <td>1</td>\n",
              "      <td>2</td>\n",
              "      <td>2</td>\n",
              "      <td>you've gone and broke the wrong heart baby, an...</td>\n",
              "    </tr>\n",
              "    <tr>\n",
              "      <th>24780</th>\n",
              "      <td>25294</td>\n",
              "      <td>3</td>\n",
              "      <td>0</td>\n",
              "      <td>3</td>\n",
              "      <td>0</td>\n",
              "      <td>1</td>\n",
              "      <td>young buck wanna eat!!.. dat nigguh like I ain...</td>\n",
              "    </tr>\n",
              "    <tr>\n",
              "      <th>24781</th>\n",
              "      <td>25295</td>\n",
              "      <td>6</td>\n",
              "      <td>0</td>\n",
              "      <td>6</td>\n",
              "      <td>0</td>\n",
              "      <td>1</td>\n",
              "      <td>youu got wild bitches tellin you lies</td>\n",
              "    </tr>\n",
              "    <tr>\n",
              "      <th>24782</th>\n",
              "      <td>25296</td>\n",
              "      <td>3</td>\n",
              "      <td>0</td>\n",
              "      <td>0</td>\n",
              "      <td>3</td>\n",
              "      <td>2</td>\n",
              "      <td>~~Ruffled | Ntac Eileen Dahlia - Beautiful col...</td>\n",
              "    </tr>\n",
              "  </tbody>\n",
              "</table>\n",
              "<p>24783 rows × 7 columns</p>\n",
              "</div>"
            ],
            "text/plain": [
              "       Unnamed: 0  ...                                              tweet\n",
              "0               0  ...  !!! RT @mayasolovely: As a woman you shouldn't...\n",
              "1               1  ...  !!!!! RT @mleew17: boy dats cold...tyga dwn ba...\n",
              "2               2  ...  !!!!!!! RT @UrKindOfBrand Dawg!!!! RT @80sbaby...\n",
              "3               3  ...  !!!!!!!!! RT @C_G_Anderson: @viva_based she lo...\n",
              "4               4  ...  !!!!!!!!!!!!! RT @ShenikaRoberts: The shit you...\n",
              "...           ...  ...                                                ...\n",
              "24778       25291  ...  you's a muthaf***in lie &#8220;@LifeAsKing: @2...\n",
              "24779       25292  ...  you've gone and broke the wrong heart baby, an...\n",
              "24780       25294  ...  young buck wanna eat!!.. dat nigguh like I ain...\n",
              "24781       25295  ...              youu got wild bitches tellin you lies\n",
              "24782       25296  ...  ~~Ruffled | Ntac Eileen Dahlia - Beautiful col...\n",
              "\n",
              "[24783 rows x 7 columns]"
            ]
          },
          "metadata": {
            "tags": []
          },
          "execution_count": 3
        }
      ]
    },
    {
      "cell_type": "code",
      "metadata": {
        "colab": {
          "base_uri": "https://localhost:8080/"
        },
        "id": "fObzoThITjB3",
        "outputId": "6e1bf5db-aa20-4315-ff8b-d0870cd25d77"
      },
      "source": [
        "df.isna().sum()"
      ],
      "execution_count": null,
      "outputs": [
        {
          "output_type": "execute_result",
          "data": {
            "text/plain": [
              "Unnamed: 0            0\n",
              "count                 0\n",
              "hate_speech           0\n",
              "offensive_language    0\n",
              "neither               0\n",
              "class                 0\n",
              "tweet                 0\n",
              "dtype: int64"
            ]
          },
          "metadata": {
            "tags": []
          },
          "execution_count": 4
        }
      ]
    },
    {
      "cell_type": "code",
      "metadata": {
        "id": "CdsNfCLD94QD",
        "colab": {
          "base_uri": "https://localhost:8080/"
        },
        "outputId": "e9074fff-e631-4d97-8d2d-8eef428cea6c"
      },
      "source": [
        "df.describe()"
      ],
      "execution_count": null,
      "outputs": [
        {
          "output_type": "execute_result",
          "data": {
            "text/html": [
              "<div>\n",
              "<style scoped>\n",
              "    .dataframe tbody tr th:only-of-type {\n",
              "        vertical-align: middle;\n",
              "    }\n",
              "\n",
              "    .dataframe tbody tr th {\n",
              "        vertical-align: top;\n",
              "    }\n",
              "\n",
              "    .dataframe thead th {\n",
              "        text-align: right;\n",
              "    }\n",
              "</style>\n",
              "<table border=\"1\" class=\"dataframe\">\n",
              "  <thead>\n",
              "    <tr style=\"text-align: right;\">\n",
              "      <th></th>\n",
              "      <th>Unnamed: 0</th>\n",
              "      <th>count</th>\n",
              "      <th>hate_speech</th>\n",
              "      <th>offensive_language</th>\n",
              "      <th>neither</th>\n",
              "      <th>class</th>\n",
              "    </tr>\n",
              "  </thead>\n",
              "  <tbody>\n",
              "    <tr>\n",
              "      <th>count</th>\n",
              "      <td>24783.000000</td>\n",
              "      <td>24783.000000</td>\n",
              "      <td>24783.000000</td>\n",
              "      <td>24783.000000</td>\n",
              "      <td>24783.000000</td>\n",
              "      <td>24783.000000</td>\n",
              "    </tr>\n",
              "    <tr>\n",
              "      <th>mean</th>\n",
              "      <td>12681.192027</td>\n",
              "      <td>3.243473</td>\n",
              "      <td>0.280515</td>\n",
              "      <td>2.413711</td>\n",
              "      <td>0.549247</td>\n",
              "      <td>1.110277</td>\n",
              "    </tr>\n",
              "    <tr>\n",
              "      <th>std</th>\n",
              "      <td>7299.553863</td>\n",
              "      <td>0.883060</td>\n",
              "      <td>0.631851</td>\n",
              "      <td>1.399459</td>\n",
              "      <td>1.113299</td>\n",
              "      <td>0.462089</td>\n",
              "    </tr>\n",
              "    <tr>\n",
              "      <th>min</th>\n",
              "      <td>0.000000</td>\n",
              "      <td>3.000000</td>\n",
              "      <td>0.000000</td>\n",
              "      <td>0.000000</td>\n",
              "      <td>0.000000</td>\n",
              "      <td>0.000000</td>\n",
              "    </tr>\n",
              "    <tr>\n",
              "      <th>25%</th>\n",
              "      <td>6372.500000</td>\n",
              "      <td>3.000000</td>\n",
              "      <td>0.000000</td>\n",
              "      <td>2.000000</td>\n",
              "      <td>0.000000</td>\n",
              "      <td>1.000000</td>\n",
              "    </tr>\n",
              "    <tr>\n",
              "      <th>50%</th>\n",
              "      <td>12703.000000</td>\n",
              "      <td>3.000000</td>\n",
              "      <td>0.000000</td>\n",
              "      <td>3.000000</td>\n",
              "      <td>0.000000</td>\n",
              "      <td>1.000000</td>\n",
              "    </tr>\n",
              "    <tr>\n",
              "      <th>75%</th>\n",
              "      <td>18995.500000</td>\n",
              "      <td>3.000000</td>\n",
              "      <td>0.000000</td>\n",
              "      <td>3.000000</td>\n",
              "      <td>0.000000</td>\n",
              "      <td>1.000000</td>\n",
              "    </tr>\n",
              "    <tr>\n",
              "      <th>max</th>\n",
              "      <td>25296.000000</td>\n",
              "      <td>9.000000</td>\n",
              "      <td>7.000000</td>\n",
              "      <td>9.000000</td>\n",
              "      <td>9.000000</td>\n",
              "      <td>2.000000</td>\n",
              "    </tr>\n",
              "  </tbody>\n",
              "</table>\n",
              "</div>"
            ],
            "text/plain": [
              "         Unnamed: 0         count  ...       neither         class\n",
              "count  24783.000000  24783.000000  ...  24783.000000  24783.000000\n",
              "mean   12681.192027      3.243473  ...      0.549247      1.110277\n",
              "std     7299.553863      0.883060  ...      1.113299      0.462089\n",
              "min        0.000000      3.000000  ...      0.000000      0.000000\n",
              "25%     6372.500000      3.000000  ...      0.000000      1.000000\n",
              "50%    12703.000000      3.000000  ...      0.000000      1.000000\n",
              "75%    18995.500000      3.000000  ...      0.000000      1.000000\n",
              "max    25296.000000      9.000000  ...      9.000000      2.000000\n",
              "\n",
              "[8 rows x 6 columns]"
            ]
          },
          "metadata": {
            "tags": []
          },
          "execution_count": 5
        }
      ]
    },
    {
      "cell_type": "markdown",
      "metadata": {
        "id": "fCrAY6mOOdOM"
      },
      "source": [
        "##Correcting words"
      ]
    },
    {
      "cell_type": "code",
      "metadata": {
        "id": "28ygMggGOPdp"
      },
      "source": [
        "from collections import Counter\n",
        "\n",
        "def get_words(text):\n",
        "  return re.findall(r'\\w+', text.lower())\n",
        "\n",
        "class WordCorrector:\n",
        "\n",
        "\n",
        "  WORDS = Counter(get_words(open('big.txt').read()))\n",
        "\n",
        "  def __init__(self):\n",
        "    pass\n",
        "\n",
        "  ## TODO\n",
        "  def correct_text(self, text):\n",
        "    words = get_words(text)\n",
        "\n",
        "  #WORDS = Counter(words(open('big.txt').read())\n",
        "  def P(self, word, N=sum(WORDS.values())): \n",
        "      \"Probability of `word`.\"\n",
        "      return WORDS[word] / N\n",
        "\n",
        "  def correction(self, word): \n",
        "      \"Most probable spelling correction for word.\"\n",
        "      return max(candidates(word), key=P)\n",
        "\n",
        "  def candidates(self, word): \n",
        "      \"Generate possible spelling corrections for word.\"\n",
        "      return (known([word]) or known(edits1(word)) or known(edits2(word)) or [word])\n",
        "\n",
        "  def known(self, words): \n",
        "      \"The subset of `words` that appear in the dictionary of WORDS.\"\n",
        "      return set(w for w in words if w in WORDS)\n",
        "\n",
        "  def edits1(self, word):\n",
        "      \"All edits that are one edit away from `word`.\"\n",
        "      letters    = 'abcdefghijklmnopqrstuvwxyz'\n",
        "      splits     = [(word[:i], word[i:])    for i in range(len(word) + 1)]\n",
        "      deletes    = [L + R[1:]               for L, R in splits if R]\n",
        "      transposes = [L + R[1] + R[0] + R[2:] for L, R in splits if len(R)>1]\n",
        "      replaces   = [L + c + R[1:]           for L, R in splits if R for c in letters]\n",
        "      inserts    = [L + c + R               for L, R in splits for c in letters]\n",
        "      return set(deletes + transposes + replaces + inserts)\n",
        "  \n",
        "  def edits2(self, word): \n",
        "      \"All edits that are two edits away from `word`.\"\n",
        "      return (e2 for e1 in edits1(word) for e2 in edits1(e1))"
      ],
      "execution_count": null,
      "outputs": []
    },
    {
      "cell_type": "markdown",
      "metadata": {
        "id": "_GnqAk20H47d"
      },
      "source": [
        "## Cleaning tweets"
      ]
    },
    {
      "cell_type": "code",
      "metadata": {
        "id": "fhB7nhDMH8vl"
      },
      "source": [
        "special_characters_regex = '[!\"_$%&/()=_ˆ*¡@]'\n",
        "retweet_regex = '(.*rt @\\w+)+:'\n",
        "space_regex = '\\s+'\n",
        "url_regex = ('http[s]?://(?:[a-zA-Z]|[0-9]|[$-_@.&+]|'\n",
        "             '[!*\\(\\),]|(?:%[0-9a-fA-F][0-9a-fA-F]))+')\n",
        "mention_regex = '@[\\w\\-]+'\n",
        "data_set = pd.DataFrame()\n",
        "data_set['clean'] = df['tweet']\n",
        "data_set['clean'] = data_set.apply(lambda row:\n",
        "                        re.sub(special_characters_regex, '', \n",
        "                        re.sub('\\s*RT MENTIONHERE', 'MENTIONHERE',\n",
        "                        re.sub(url_regex, 'LINKHERE',\n",
        "                        re.sub(mention_regex, 'MENTIONHERE',\n",
        "                        re.sub(retweet_regex, '',\n",
        "                        re.sub(space_regex, ' ',\n",
        "                              row['clean'])))), flags=re.ASCII)), axis=1)\n",
        "\n",
        "data_set['clean'] = data_set.apply(lambda row: row['clean'].lower(), axis=1)\n",
        "\n",
        "#clean[:10]"
      ],
      "execution_count": null,
      "outputs": []
    },
    {
      "cell_type": "code",
      "metadata": {
        "id": "yHRu4PRQ7BMi"
      },
      "source": [
        "n = 1000\n",
        "data_set = data_set[0:n]\n",
        "df = df[0:n]"
      ],
      "execution_count": null,
      "outputs": []
    },
    {
      "cell_type": "code",
      "metadata": {
        "id": "zeof13oPxGO5"
      },
      "source": [
        "y = df[['class']]\n",
        "X = pd.DataFrame()#df[['hate_speech', 'offensive_language', 'neither']]"
      ],
      "execution_count": null,
      "outputs": []
    },
    {
      "cell_type": "markdown",
      "metadata": {
        "id": "Y1v3o8k_LcJi"
      },
      "source": [
        "##Tokenization"
      ]
    },
    {
      "cell_type": "code",
      "metadata": {
        "id": "-AOni-T8LEBq"
      },
      "source": [
        "sentences = data_set.apply(lambda row: sent_tokenize(row['clean']),axis=1)\n",
        "words = data_set.apply(lambda row: word_tokenize(row['clean']), axis=1)"
      ],
      "execution_count": null,
      "outputs": []
    },
    {
      "cell_type": "code",
      "metadata": {
        "colab": {
          "base_uri": "https://localhost:8080/"
        },
        "id": "BKKo7WxjOGI-",
        "outputId": "af8c5c3f-7414-4cc6-ab02-d9b41313ff12"
      },
      "source": [
        "stopwords = nltk.corpus.stopwords.words('english')\n",
        "stopwords += [',', '.', ';']\n",
        "data_set['clean'] = words.apply(lambda row: [w for w in row if w not in stopwords]) \n",
        "data_set['clean']"
      ],
      "execution_count": null,
      "outputs": [
        {
          "output_type": "execute_result",
          "data": {
            "text/plain": [
              "0      [mentionhere, :, woman, n't, complain, cleanin...\n",
              "1      [mentionhere, :, boy, dats, cold, ..., tyga, d...\n",
              "2      [mentionhere, dawgmentionhere, :, ever, fuck, ...\n",
              "3      [mentionhere, :, mentionhere, look, like, tranny]\n",
              "4      [mentionhere, :, shit, hear, might, true, migh...\n",
              "                             ...                        \n",
              "995    [#, 128514, #, 128514, #, 128514, #, 128514, m...\n",
              "996    [#, 128514, #, 128514, #, 128514, #, 128514, b...\n",
              "997    [#, 128514, #, 128514, #, 128514, #, 128514, f...\n",
              "998    [#, 128514, #, 128514, #, 128514, #, 128514, #...\n",
              "999    [#, 128514, #, 128514, #, 128514, #, 128514, #...\n",
              "Name: clean, Length: 1000, dtype: object"
            ]
          },
          "metadata": {
            "tags": []
          },
          "execution_count": 11
        }
      ]
    },
    {
      "cell_type": "code",
      "metadata": {
        "id": "TU49Rr-RqXMR"
      },
      "source": [
        "#posttag = words.apply(lambda row: nltk.pos_tag(row))\n",
        "#posttag[0]"
      ],
      "execution_count": null,
      "outputs": []
    },
    {
      "cell_type": "markdown",
      "metadata": {
        "id": "25O89_lgWAHz"
      },
      "source": [
        "# 2. Vectorization"
      ]
    },
    {
      "cell_type": "code",
      "metadata": {
        "id": "lmK81KSN8h0b"
      },
      "source": [
        "joined = data_set.apply(lambda row: ' '.join(row['clean']), axis=1)\n",
        "#joined"
      ],
      "execution_count": null,
      "outputs": []
    },
    {
      "cell_type": "markdown",
      "metadata": {
        "id": "lySCoviQHBvv"
      },
      "source": [
        "###TFiDF"
      ]
    },
    {
      "cell_type": "code",
      "metadata": {
        "colab": {
          "base_uri": "https://localhost:8080/"
        },
        "id": "PMVh1GlfFXbI",
        "outputId": "31b5e43e-858f-4cec-85b6-c664866f6789"
      },
      "source": [
        "vectorizer = TfidfVectorizer(min_df=1)\n",
        "X_tf = vectorizer.fit_transform(joined)\n",
        "X_tf.column = vectorizer.get_feature_names()\n",
        "X_tf.toarray()[0]\n",
        "#X.column\n",
        "X_tf.shape"
      ],
      "execution_count": null,
      "outputs": [
        {
          "output_type": "execute_result",
          "data": {
            "text/plain": [
              "(1000, 3329)"
            ]
          },
          "metadata": {
            "tags": []
          },
          "execution_count": 14
        }
      ]
    },
    {
      "cell_type": "markdown",
      "metadata": {
        "id": "8Sbad0IWHGGP"
      },
      "source": [
        "### TFiDF + N-grams"
      ]
    },
    {
      "cell_type": "code",
      "metadata": {
        "id": "AZwZLemXDJJk",
        "colab": {
          "base_uri": "https://localhost:8080/"
        },
        "outputId": "cc062848-7dc6-45b9-9d81-42368c9d5bac"
      },
      "source": [
        "vectorizer = TfidfVectorizer(ngram_range=(2,2), min_df=1)\n",
        "X_ngram = vectorizer.fit_transform(joined)\n",
        "X_ngram.column = vectorizer.get_feature_names()\n",
        "X_ngram.shape"
      ],
      "execution_count": null,
      "outputs": [
        {
          "output_type": "execute_result",
          "data": {
            "text/plain": [
              "(1000, 7341)"
            ]
          },
          "metadata": {
            "tags": []
          },
          "execution_count": 15
        }
      ]
    },
    {
      "cell_type": "markdown",
      "metadata": {
        "id": "pnlnj_DSHIsT"
      },
      "source": [
        "### TFiDF + N-grams + POS tagging"
      ]
    },
    {
      "cell_type": "code",
      "metadata": {
        "id": "8MdhGYTFfAtg",
        "colab": {
          "base_uri": "https://localhost:8080/"
        },
        "outputId": "0729505d-2650-4463-93cf-b73d6cd6beaa"
      },
      "source": [
        "tagged = data_set['clean'].apply(nltk.pos_tag)\n",
        "tagged"
      ],
      "execution_count": null,
      "outputs": [
        {
          "output_type": "execute_result",
          "data": {
            "text/plain": [
              "0      [(mentionhere, RB), (:, :), (woman, NN), (n't,...\n",
              "1      [(mentionhere, RB), (:, :), (boy, NN), (dats, ...\n",
              "2      [(mentionhere, RB), (dawgmentionhere, RB), (:,...\n",
              "3      [(mentionhere, RB), (:, :), (mentionhere, JJ),...\n",
              "4      [(mentionhere, RB), (:, :), (shit, JJ), (hear,...\n",
              "                             ...                        \n",
              "995    [(#, #), (128514, CD), (#, #), (128514, CD), (...\n",
              "996    [(#, #), (128514, CD), (#, #), (128514, CD), (...\n",
              "997    [(#, #), (128514, CD), (#, #), (128514, CD), (...\n",
              "998    [(#, #), (128514, CD), (#, #), (128514, CD), (...\n",
              "999    [(#, #), (128514, CD), (#, #), (128514, CD), (...\n",
              "Name: clean, Length: 1000, dtype: object"
            ]
          },
          "metadata": {
            "tags": []
          },
          "execution_count": 16
        }
      ]
    },
    {
      "cell_type": "markdown",
      "metadata": {
        "id": "8C9Ap1rsHNa6"
      },
      "source": [
        "### Other Features"
      ]
    },
    {
      "cell_type": "markdown",
      "metadata": {
        "id": "4jTAeVNEJXI6"
      },
      "source": [
        "####RTs"
      ]
    },
    {
      "cell_type": "code",
      "metadata": {
        "id": "ayPzlxtRJWqS"
      },
      "source": [
        "X['RT'] = df.apply(lambda row: row[\"tweet\"].count(\"RT\") , axis=1)"
      ],
      "execution_count": null,
      "outputs": []
    },
    {
      "cell_type": "markdown",
      "metadata": {
        "id": "CsEHbtXIMzVI"
      },
      "source": [
        "####Number of words"
      ]
    },
    {
      "cell_type": "code",
      "metadata": {
        "id": "R7JA26kaMykj",
        "colab": {
          "base_uri": "https://localhost:8080/"
        },
        "outputId": "3a06c3ac-b73e-4426-cb88-7be433e2d8b6"
      },
      "source": [
        "X['num_words'] = words.apply(len)\n",
        "X.isna().sum()"
      ],
      "execution_count": null,
      "outputs": [
        {
          "output_type": "execute_result",
          "data": {
            "text/plain": [
              "RT           0\n",
              "num_words    0\n",
              "dtype: int64"
            ]
          },
          "metadata": {
            "tags": []
          },
          "execution_count": 18
        }
      ]
    },
    {
      "cell_type": "markdown",
      "metadata": {
        "id": "v7bU2ZJSNXHg"
      },
      "source": [
        "####Number of sentences"
      ]
    },
    {
      "cell_type": "code",
      "metadata": {
        "id": "7bay_BUQNZdP",
        "colab": {
          "base_uri": "https://localhost:8080/"
        },
        "outputId": "0e4c4d19-3c30-4930-f2d9-322a0e97a3eb"
      },
      "source": [
        "X['num_sents'] = sentences.apply(len)\n",
        "X.isna().sum()"
      ],
      "execution_count": null,
      "outputs": [
        {
          "output_type": "execute_result",
          "data": {
            "text/plain": [
              "RT           0\n",
              "num_words    0\n",
              "num_sents    0\n",
              "dtype: int64"
            ]
          },
          "metadata": {
            "tags": []
          },
          "execution_count": 19
        }
      ]
    },
    {
      "cell_type": "markdown",
      "metadata": {
        "id": "aQTNHAl2P_7-"
      },
      "source": [
        "####Sentiment analisis"
      ]
    },
    {
      "cell_type": "code",
      "metadata": {
        "colab": {
          "base_uri": "https://localhost:8080/"
        },
        "id": "9ZbN-nQtP-4N",
        "outputId": "e9f18b22-7204-4d3f-916d-1fd49c4aba1d"
      },
      "source": [
        "sentiment_analyzer  = SentimentIntensityAnalyzer() \n",
        "sentiment = joined.apply(lambda row: sentiment_analyzer.polarity_scores(row))\n",
        "sentiment = pd.DataFrame.from_records(sentiment)\n",
        "if not any(c == 'neg' for c in X.columns):\n",
        "  X = pd.concat([X, sentiment], axis=1)\n",
        "else:\n",
        "  X.update(sentiment)\n",
        "X.isna().sum()"
      ],
      "execution_count": null,
      "outputs": [
        {
          "output_type": "execute_result",
          "data": {
            "text/plain": [
              "RT           0\n",
              "num_words    0\n",
              "num_sents    0\n",
              "neg          0\n",
              "neu          0\n",
              "pos          0\n",
              "compound     0\n",
              "dtype: int64"
            ]
          },
          "metadata": {
            "tags": []
          },
          "execution_count": 20
        }
      ]
    },
    {
      "cell_type": "markdown",
      "metadata": {
        "id": "Oszfi3TrrKB8"
      },
      "source": [
        "####Hatred n-gram dictionary"
      ]
    },
    {
      "cell_type": "code",
      "metadata": {
        "id": "vWBiO3EgrLmQ"
      },
      "source": [
        "\n",
        "#def get_weight(row):\n",
        "#  return max(hd['prophate'] if hd['ngram'] in row else 0 for i, hd in hatred_dict.iterrows())\n",
        "'''weight = 0\n",
        "  for i in range(len(props)):\n",
        "    if ngrams[i] in row and props[i] > weight:\n",
        "      weight = props[i]\n",
        "  return weight '''\n",
        "\n",
        "#data_set['hatedict'] = joined.apply(get_weight) \n",
        "X['hatedict'] = joined.apply(\n",
        "    lambda row: max(hd['prophate'] if hd['ngram'] in row else 0 \n",
        "                    for _, hd in hatred_dict.iterrows())) \n"
      ],
      "execution_count": null,
      "outputs": []
    },
    {
      "cell_type": "code",
      "metadata": {
        "colab": {
          "base_uri": "https://localhost:8080/"
        },
        "id": "THJu41sRrRGY",
        "outputId": "37a53f2c-c613-41a5-8997-9f186785b203"
      },
      "source": [
        "X.describe()\n",
        "max(X['hatedict'])"
      ],
      "execution_count": null,
      "outputs": [
        {
          "output_type": "execute_result",
          "data": {
            "text/plain": [
              "0.912"
            ]
          },
          "metadata": {
            "tags": []
          },
          "execution_count": 22
        }
      ]
    },
    {
      "cell_type": "markdown",
      "metadata": {
        "id": "9ASwJzr-WI4H"
      },
      "source": [
        "# 3. Feature selection"
      ]
    },
    {
      "cell_type": "code",
      "metadata": {
        "id": "WU0NZXFK_Pps"
      },
      "source": [
        "'''from functools import reduce\n",
        "from sklearn.impute import SimpleImputer\n",
        "imp = SimpleImputer(strategy='constant', fill_value=0)\n",
        "imp.fit(X_tf)\n",
        "X_tf = imp.transform(X_tf)'''\n",
        "X_tf_df = pd.DataFrame.sparse.from_spmatrix(X_tf)"
      ],
      "execution_count": null,
      "outputs": []
    },
    {
      "cell_type": "code",
      "metadata": {
        "colab": {
          "base_uri": "https://localhost:8080/"
        },
        "id": "v69KzTecU-Bw",
        "outputId": "2d015527-9775-40be-cc46-3df931dbda14"
      },
      "source": [
        "X, X_tf_df"
      ],
      "execution_count": null,
      "outputs": [
        {
          "output_type": "execute_result",
          "data": {
            "text/plain": [
              "(     RT  num_words  num_sents    neg    neu    pos  compound  hatedict\n",
              " 0     1         28          2  0.000  0.839  0.161    0.2755       0.0\n",
              " 1     1         17          1  0.226  0.774  0.000   -0.5423       0.0\n",
              " 2     2         19          2  0.803  0.197  0.000   -0.9460       0.0\n",
              " 3     1          8          1  0.000  0.615  0.385    0.3612       0.0\n",
              " 4     1         27          1  0.407  0.440  0.154   -0.6808       0.0\n",
              " ..   ..        ...        ...    ...    ...    ...       ...       ...\n",
              " 995   1         34          1  0.245  0.755  0.000   -0.5994       0.0\n",
              " 996   0         47          1  0.183  0.817  0.000   -0.5859       0.0\n",
              " 997   0         25          2  0.304  0.696  0.000   -0.5423       0.0\n",
              " 998   0         78          1  0.123  0.877  0.000   -0.5859       0.0\n",
              " 999   1         26          1  0.516  0.484  0.000   -0.8625       0.0\n",
              " \n",
              " [1000 rows x 8 columns],\n",
              "      0     1     2     3     4     5     ...  3323  3324  3325  3326  3327  3328\n",
              " 0     0.0   0.0   0.0   0.0   0.0   0.0  ...   0.0   0.0   0.0   0.0   0.0   0.0\n",
              " 1     0.0   0.0   0.0   0.0   0.0   0.0  ...   0.0   0.0   0.0   0.0   0.0   0.0\n",
              " 2     0.0   0.0   0.0   0.0   0.0   0.0  ...   0.0   0.0   0.0   0.0   0.0   0.0\n",
              " 3     0.0   0.0   0.0   0.0   0.0   0.0  ...   0.0   0.0   0.0   0.0   0.0   0.0\n",
              " 4     0.0   0.0   0.0   0.0   0.0   0.0  ...   0.0   0.0   0.0   0.0   0.0   0.0\n",
              " ..    ...   ...   ...   ...   ...   ...  ...   ...   ...   ...   ...   ...   ...\n",
              " 995   0.0   0.0   0.0   0.0   0.0   0.0  ...   0.0   0.0   0.0   0.0   0.0   0.0\n",
              " 996   0.0   0.0   0.0   0.0   0.0   0.0  ...   0.0   0.0   0.0   0.0   0.0   0.0\n",
              " 997   0.0   0.0   0.0   0.0   0.0   0.0  ...   0.0   0.0   0.0   0.0   0.0   0.0\n",
              " 998   0.0   0.0   0.0   0.0   0.0   0.0  ...   0.0   0.0   0.0   0.0   0.0   0.0\n",
              " 999   0.0   0.0   0.0   0.0   0.0   0.0  ...   0.0   0.0   0.0   0.0   0.0   0.0\n",
              " \n",
              " [1000 rows x 3329 columns])"
            ]
          },
          "metadata": {
            "tags": []
          },
          "execution_count": 24
        }
      ]
    },
    {
      "cell_type": "code",
      "metadata": {
        "id": "mzfP2Uhm7wr2"
      },
      "source": [
        "from pandas import concat\n",
        "X = pd.concat([X, X_tf_df], axis=1)"
      ],
      "execution_count": null,
      "outputs": []
    },
    {
      "cell_type": "code",
      "metadata": {
        "colab": {
          "base_uri": "https://localhost:8080/"
        },
        "id": "nWWIGNkQ-cAL",
        "outputId": "16b30138-2341-4a2a-f8f7-168876aba282"
      },
      "source": [
        "X.columns\n",
        "X.isna().sum().sum()"
      ],
      "execution_count": null,
      "outputs": [
        {
          "output_type": "execute_result",
          "data": {
            "text/plain": [
              "0"
            ]
          },
          "metadata": {
            "tags": []
          },
          "execution_count": 26
        }
      ]
    },
    {
      "cell_type": "code",
      "metadata": {
        "colab": {
          "base_uri": "https://localhost:8080/"
        },
        "id": "EonJOIwa1XhO",
        "outputId": "b91bade1-5094-4aad-a42b-ead9dd15ec64"
      },
      "source": [
        "size = len(X.columns)\n",
        "to_cut = ceil(0.7*len(X.columns))\n",
        "to_save = size - to_cut\n",
        "print('100% of features: {}\\n 70% of features: {}'.format(size, to_cut))"
      ],
      "execution_count": null,
      "outputs": [
        {
          "output_type": "stream",
          "text": [
            "100% of features: 3337\n",
            "70%  of features: 2336\n"
          ],
          "name": "stdout"
        }
      ]
    },
    {
      "cell_type": "code",
      "metadata": {
        "id": "uMEU6b8P_eFB",
        "colab": {
          "base_uri": "https://localhost:8080/"
        },
        "outputId": "d6abf12a-c3c5-4e8a-c344-6bce8df36c39"
      },
      "source": [
        "from sklearn.feature_selection import SelectKBest, chi2, f_regression\n",
        "\n",
        "selector = SelectKBest(f_regression, k=to_save)\n",
        "selector.fit(X, y)\n",
        "X_new = selector.transform(X)\n",
        "columns = list(X.columns[selector.get_support(indices=True)])\n"
      ],
      "execution_count": null,
      "outputs": [
        {
          "output_type": "stream",
          "text": [
            "/usr/local/lib/python3.6/dist-packages/sklearn/utils/validation.py:760: DataConversionWarning: A column-vector y was passed when a 1d array was expected. Please change the shape of y to (n_samples, ), for example using ravel().\n",
            "  y = column_or_1d(y, warn=True)\n"
          ],
          "name": "stderr"
        }
      ]
    },
    {
      "cell_type": "code",
      "metadata": {
        "colab": {
          "base_uri": "https://localhost:8080/"
        },
        "id": "RLdfYuIhWI-a",
        "outputId": "bd5de3e0-40cc-4f08-bb21-23d61dab6b33"
      },
      "source": [
        "columns[:9]"
      ],
      "execution_count": null,
      "outputs": [
        {
          "output_type": "execute_result",
          "data": {
            "text/plain": [
              "['num_sents', 'neg', 'neu', 'pos', 'compound', 'hatedict', 0, 2, 3]"
            ]
          },
          "metadata": {
            "tags": []
          },
          "execution_count": 30
        }
      ]
    },
    {
      "cell_type": "markdown",
      "metadata": {
        "id": "sJtsa0X5WKlc"
      },
      "source": [
        "# 4. Classification algorithm"
      ]
    },
    {
      "cell_type": "code",
      "metadata": {
        "id": "_6Tk7nPG-nGI"
      },
      "source": [
        "from sklearn.model_selection import train_test_split\n",
        "Xtrain, Xtest, ytrain, ytest = train_test_split(X_new, y, random_state=2, test_size=0.3)"
      ],
      "execution_count": null,
      "outputs": []
    },
    {
      "cell_type": "markdown",
      "metadata": {
        "id": "FjihMjSa80uP"
      },
      "source": [
        "##Random forest"
      ]
    },
    {
      "cell_type": "markdown",
      "metadata": {
        "id": "lPku1HpiHTd1"
      },
      "source": [
        "###Model training"
      ]
    },
    {
      "cell_type": "code",
      "metadata": {
        "id": "WT4MP4yI6QmV",
        "colab": {
          "base_uri": "https://localhost:8080/"
        },
        "outputId": "79b4308e-b0bc-4e61-d44d-94df427a0f55"
      },
      "source": [
        "from sklearn.ensemble import RandomForestClassifier\n",
        "\n",
        "model = RandomForestClassifier(n_estimators=100, random_state=0)\n",
        "model.fit(Xtrain, ytrain)\n",
        "ypred_forest = model.predict(Xtest)"
      ],
      "execution_count": null,
      "outputs": [
        {
          "output_type": "stream",
          "text": [
            "/usr/local/lib/python3.6/dist-packages/ipykernel_launcher.py:4: DataConversionWarning: A column-vector y was passed when a 1d array was expected. Please change the shape of y to (n_samples,), for example using ravel().\n",
            "  after removing the cwd from sys.path.\n"
          ],
          "name": "stderr"
        }
      ]
    },
    {
      "cell_type": "markdown",
      "metadata": {
        "id": "Vr0e8dqKCEHQ"
      },
      "source": [
        "###Test results"
      ]
    },
    {
      "cell_type": "code",
      "metadata": {
        "colab": {
          "base_uri": "https://localhost:8080/",
          "height": 463
        },
        "id": "ER6ZfAFA8akT",
        "outputId": "e729cb23-b23b-4988-c417-e549860473e2"
      },
      "source": [
        "from sklearn.metrics import confusion_matrix\n",
        "import matplotlib.pyplot as plt\n",
        "\n",
        "mat_forest = confusion_matrix(ytest, ypred_forest)\n",
        "sns.heatmap(mat_forest.T, square=True, annot=True, fmt='d', cbar=False)\n",
        "plt.xlabel('true label')\n",
        "plt.ylabel('predicted label');\n",
        "print(metrics.classification_report(ypred_forest, ytest))"
      ],
      "execution_count": null,
      "outputs": [
        {
          "output_type": "stream",
          "text": [
            "              precision    recall  f1-score   support\n",
            "\n",
            "           0       0.22      1.00      0.36         4\n",
            "           1       1.00      0.82      0.90       282\n",
            "           2       0.25      0.93      0.40        14\n",
            "\n",
            "    accuracy                           0.83       300\n",
            "   macro avg       0.49      0.92      0.55       300\n",
            "weighted avg       0.95      0.83      0.87       300\n",
            "\n"
          ],
          "name": "stdout"
        },
        {
          "output_type": "display_data",
          "data": {
            "image/png": "[encoded data removed]",
            "text/plain": [
              "<Figure size 432x288 with 1 Axes>"
            ]
          },
          "metadata": {
            "tags": [],
            "needs_background": "light"
          }
        }
      ]
    },
    {
      "cell_type": "code",
      "metadata": {
        "colab": {
          "base_uri": "https://localhost:8080/"
        },
        "id": "sU-ygTOIBZpO",
        "outputId": "7fe0a0a8-9c53-4db1-907a-d6e3f5053794"
      },
      "source": [
        "forest_score = metrics.accuracy_score(ytest, ypred_forest)\n",
        "print(f'{forest_score}')"
      ],
      "execution_count": null,
      "outputs": [
        {
          "output_type": "stream",
          "text": [
            "0.8266666666666667\n"
          ],
          "name": "stdout"
        }
      ]
    },
    {
      "cell_type": "markdown",
      "metadata": {
        "id": "ZsPEhjG48_L8"
      },
      "source": [
        "##Support vector classifier"
      ]
    },
    {
      "cell_type": "code",
      "metadata": {
        "colab": {
          "base_uri": "https://localhost:8080/"
        },
        "id": "_smgjbmcHBO6",
        "outputId": "d5a1d55e-51e0-4a9b-e68d-4cf04d11fc41"
      },
      "source": [
        "from sklearn.svm import SVC\n",
        "model_svc = SVC(kernel='linear', C=1E10)\n",
        "model_svc.fit(Xtrain, ytrain)\n",
        "ypred_svm = model.predict(Xtest)"
      ],
      "execution_count": null,
      "outputs": [
        {
          "output_type": "stream",
          "text": [
            "/usr/local/lib/python3.6/dist-packages/sklearn/utils/validation.py:760: DataConversionWarning: A column-vector y was passed when a 1d array was expected. Please change the shape of y to (n_samples, ), for example using ravel().\n",
            "  y = column_or_1d(y, warn=True)\n"
          ],
          "name": "stderr"
        }
      ]
    },
    {
      "cell_type": "markdown",
      "metadata": {
        "id": "SQVIb8nbIrem"
      },
      "source": [
        "###Test results"
      ]
    },
    {
      "cell_type": "code",
      "metadata": {
        "colab": {
          "base_uri": "https://localhost:8080/",
          "height": 463
        },
        "id": "2NbE0bEBItnB",
        "outputId": "0ac7a91b-ba1e-4ca4-c8e0-740b9ac83365"
      },
      "source": [
        "mat_svm = confusion_matrix(ytest, ypred)\n",
        "sns.heatmap(mat_svc.T, square=True, annot=True, fmt='d', cbar=False)\n",
        "plt.xlabel('true label')\n",
        "plt.ylabel('predicted label');\n",
        "print(metrics.classification_report(ytest, ypred_svm))"
      ],
      "execution_count": null,
      "outputs": [
        {
          "output_type": "stream",
          "text": [
            "              precision    recall  f1-score   support\n",
            "\n",
            "           0       1.00      0.22      0.36        18\n",
            "           1       0.82      1.00      0.90       231\n",
            "           2       0.93      0.25      0.40        51\n",
            "\n",
            "    accuracy                           0.83       300\n",
            "   macro avg       0.92      0.49      0.55       300\n",
            "weighted avg       0.85      0.83      0.78       300\n",
            "\n"
          ],
          "name": "stdout"
        },
        {
          "output_type": "display_data",
          "data": {
            "image/png": "[encoded data removed]",
            "text/plain": [
              "<Figure size 432x288 with 1 Axes>"
            ]
          },
          "metadata": {
            "tags": [],
            "needs_background": "light"
          }
        }
      ]
    },
    {
      "cell_type": "code",
      "metadata": {
        "colab": {
          "base_uri": "https://localhost:8080/"
        },
        "id": "DziB5Bv8JPkK",
        "outputId": "1addcba5-4ee6-428c-9f63-c93f407d75be"
      },
      "source": [
        "svm_score = metrics.accuracy_score(ytest, ypred)\n",
        "print(f'{svm_score}')"
      ],
      "execution_count": null,
      "outputs": [
        {
          "output_type": "stream",
          "text": [
            "0.7266666666666667\n"
          ],
          "name": "stdout"
        }
      ]
    }
  ]
}