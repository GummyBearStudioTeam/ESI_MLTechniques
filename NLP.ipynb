{
  "nbformat": 4,
  "nbformat_minor": 0,
  "metadata": {
    "colab": {
<<<<<<< HEAD
      "name": "NLP.ipynb",
=======
      "name": "Copia de Copia de NLP.ipynb",
>>>>>>> e511ac97c2bec7b1d3ef9b3e1f84a7f82af7dc5d
      "provenance": [],
      "collapsed_sections": [],
      "toc_visible": true,
      "include_colab_link": true
    },
    "kernelspec": {
      "name": "python3",
      "display_name": "Python 3"
    }
  },
  "cells": [
    {
<<<<<<< HEAD
=======
      "cell_type": "markdown",
      "metadata": {
        "id": "view-in-github",
        "colab_type": "text"
      },
      "source": [
        "<a href=\"https://colab.research.google.com/github/GummyBearStudioTeam/ESI_MLTechniques/blob/nlp/NLP.ipynb\" target=\"_parent\"><img src=\"https://colab.research.google.com/assets/colab-badge.svg\" alt=\"Open In Colab\"/></a>"
      ]
    },
    {
>>>>>>> e511ac97c2bec7b1d3ef9b3e1f84a7f82af7dc5d
      "cell_type": "markdown",
      "metadata": {
        "id": "NazHONfiVqED"
      },
      "source": [
        "# 1. Preprocessing\n",
        "\n",
        "\n"
      ]
    },
    {
      "cell_type": "markdown",
      "metadata": {
        "id": "-J2vBvPVbVym"
      },
      "source": [
        "##Word correction"
      ]
    },
    {
      "cell_type": "code",
      "metadata": {
        "id": "eck8eOglWZa2"
      },
      "source": [
        "import re\n",
        "from collections import Counter\n",
        "\n",
        "def get_words(text):\n",
        "  return re.findall(r'\\w+', text.lower())\n",
        "\n",
        "class WordCorrector:\n",
        "\n",
        "\n",
        "  WORDS = Counter(get_words(open('big.txt').read()))\n",
        "\n",
        "  def __init__(self):\n",
        "    pass\n",
        "\n",
        "  ## TODO\n",
        "  def correct_text(self, text):\n",
        "    words = get_words(text)\n",
        "\n",
        "  #WORDS = Counter(words(open('big.txt').read())\n",
        "  def P(self, word, N=sum(WORDS.values())): \n",
        "      \"Probability of `word`.\"\n",
        "      return WORDS[word] / N\n",
        "\n",
        "  def correction(self, word): \n",
        "      \"Most probable spelling correction for word.\"\n",
        "      return max(candidates(word), key=P)\n",
        "\n",
        "  def candidates(self, word): \n",
        "      \"Generate possible spelling corrections for word.\"\n",
        "      return (known([word]) or known(edits1(word)) or known(edits2(word)) or [word])\n",
        "\n",
        "  def known(self, words): \n",
        "      \"The subset of `words` that appear in the dictionary of WORDS.\"\n",
        "      return set(w for w in words if w in WORDS)\n",
        "\n",
        "  def edits1(self, word):\n",
        "      \"All edits that are one edit away from `word`.\"\n",
        "      letters    = 'abcdefghijklmnopqrstuvwxyz'\n",
        "      splits     = [(word[:i], word[i:])    for i in range(len(word) + 1)]\n",
        "      deletes    = [L + R[1:]               for L, R in splits if R]\n",
        "      transposes = [L + R[1] + R[0] + R[2:] for L, R in splits if len(R)>1]\n",
        "      replaces   = [L + c + R[1:]           for L, R in splits if R for c in letters]\n",
        "      inserts    = [L + c + R               for L, R in splits for c in letters]\n",
        "      return set(deletes + transposes + replaces + inserts)\n",
        "  \n",
        "  def edits2(self, word): \n",
        "      \"All edits that are two edits away from `word`.\"\n",
        "      return (e2 for e1 in edits1(word) for e2 in edits1(e1))"
      ],
<<<<<<< HEAD
      "execution_count": 1,
=======
      "execution_count": 14,
>>>>>>> e511ac97c2bec7b1d3ef9b3e1f84a7f82af7dc5d
      "outputs": []
    },
    {
      "cell_type": "code",
      "metadata": {
        "id": "X9l7NB9VLh1s"
      },
      "source": [
        "import pandas as pd\n",
        "\n",
        "df = pd.read_csv(\"labeled_data.csv\")\n",
        "hatred_dict = pd.read_csv(\"refined_ngram_dict.csv\")"
      ],
<<<<<<< HEAD
      "execution_count": 3,
      "outputs": []
    },
    {
      "cell_type": "code",
      "metadata": {
        "id": "44Th0QTQ90sL",
        "colab": {
          "base_uri": "https://localhost:8080/",
          "height": 528
        },
        "outputId": "0041fa66-2240-4aeb-b22e-b5c36a4641a1"
      },
      "source": [
        "df"
      ],
      "execution_count": 3,
      "outputs": [
        {
          "output_type": "execute_result",
          "data": {
            "text/html": [
              "<div>\n",
              "<style scoped>\n",
              "    .dataframe tbody tr th:only-of-type {\n",
              "        vertical-align: middle;\n",
              "    }\n",
              "\n",
              "    .dataframe tbody tr th {\n",
              "        vertical-align: top;\n",
              "    }\n",
              "\n",
              "    .dataframe thead th {\n",
              "        text-align: right;\n",
              "    }\n",
              "</style>\n",
              "<table border=\"1\" class=\"dataframe\">\n",
              "  <thead>\n",
              "    <tr style=\"text-align: right;\">\n",
              "      <th></th>\n",
              "      <th>Unnamed: 0</th>\n",
              "      <th>count</th>\n",
              "      <th>hate_speech</th>\n",
              "      <th>offensive_language</th>\n",
              "      <th>neither</th>\n",
              "      <th>class</th>\n",
              "      <th>tweet</th>\n",
              "    </tr>\n",
              "  </thead>\n",
              "  <tbody>\n",
              "    <tr>\n",
              "      <th>0</th>\n",
              "      <td>0</td>\n",
              "      <td>3</td>\n",
              "      <td>0</td>\n",
              "      <td>0</td>\n",
              "      <td>3</td>\n",
              "      <td>2</td>\n",
              "      <td>!!! RT @mayasolovely: As a woman you shouldn't...</td>\n",
              "    </tr>\n",
              "    <tr>\n",
              "      <th>1</th>\n",
              "      <td>1</td>\n",
              "      <td>3</td>\n",
              "      <td>0</td>\n",
              "      <td>3</td>\n",
              "      <td>0</td>\n",
              "      <td>1</td>\n",
              "      <td>!!!!! RT @mleew17: boy dats cold...tyga dwn ba...</td>\n",
              "    </tr>\n",
              "    <tr>\n",
              "      <th>2</th>\n",
              "      <td>2</td>\n",
              "      <td>3</td>\n",
              "      <td>0</td>\n",
              "      <td>3</td>\n",
              "      <td>0</td>\n",
              "      <td>1</td>\n",
              "      <td>!!!!!!! RT @UrKindOfBrand Dawg!!!! RT @80sbaby...</td>\n",
              "    </tr>\n",
              "    <tr>\n",
              "      <th>3</th>\n",
              "      <td>3</td>\n",
              "      <td>3</td>\n",
              "      <td>0</td>\n",
              "      <td>2</td>\n",
              "      <td>1</td>\n",
              "      <td>1</td>\n",
              "      <td>!!!!!!!!! RT @C_G_Anderson: @viva_based she lo...</td>\n",
              "    </tr>\n",
              "    <tr>\n",
              "      <th>4</th>\n",
              "      <td>4</td>\n",
              "      <td>6</td>\n",
              "      <td>0</td>\n",
              "      <td>6</td>\n",
              "      <td>0</td>\n",
              "      <td>1</td>\n",
              "      <td>!!!!!!!!!!!!! RT @ShenikaRoberts: The shit you...</td>\n",
              "    </tr>\n",
              "    <tr>\n",
              "      <th>...</th>\n",
              "      <td>...</td>\n",
              "      <td>...</td>\n",
              "      <td>...</td>\n",
              "      <td>...</td>\n",
              "      <td>...</td>\n",
              "      <td>...</td>\n",
              "      <td>...</td>\n",
              "    </tr>\n",
              "    <tr>\n",
              "      <th>24778</th>\n",
              "      <td>25291</td>\n",
              "      <td>3</td>\n",
              "      <td>0</td>\n",
              "      <td>2</td>\n",
              "      <td>1</td>\n",
              "      <td>1</td>\n",
              "      <td>you's a muthaf***in lie &amp;#8220;@LifeAsKing: @2...</td>\n",
              "    </tr>\n",
              "    <tr>\n",
              "      <th>24779</th>\n",
              "      <td>25292</td>\n",
              "      <td>3</td>\n",
              "      <td>0</td>\n",
              "      <td>1</td>\n",
              "      <td>2</td>\n",
              "      <td>2</td>\n",
              "      <td>you've gone and broke the wrong heart baby, an...</td>\n",
              "    </tr>\n",
              "    <tr>\n",
              "      <th>24780</th>\n",
              "      <td>25294</td>\n",
              "      <td>3</td>\n",
              "      <td>0</td>\n",
              "      <td>3</td>\n",
              "      <td>0</td>\n",
              "      <td>1</td>\n",
              "      <td>young buck wanna eat!!.. dat nigguh like I ain...</td>\n",
              "    </tr>\n",
              "    <tr>\n",
              "      <th>24781</th>\n",
              "      <td>25295</td>\n",
              "      <td>6</td>\n",
              "      <td>0</td>\n",
              "      <td>6</td>\n",
              "      <td>0</td>\n",
              "      <td>1</td>\n",
              "      <td>youu got wild bitches tellin you lies</td>\n",
              "    </tr>\n",
              "    <tr>\n",
              "      <th>24782</th>\n",
              "      <td>25296</td>\n",
              "      <td>3</td>\n",
              "      <td>0</td>\n",
              "      <td>0</td>\n",
              "      <td>3</td>\n",
              "      <td>2</td>\n",
              "      <td>~~Ruffled | Ntac Eileen Dahlia - Beautiful col...</td>\n",
              "    </tr>\n",
              "  </tbody>\n",
              "</table>\n",
              "<p>24783 rows × 7 columns</p>\n",
              "</div>"
            ],
            "text/plain": [
              "       Unnamed: 0  ...                                              tweet\n",
              "0               0  ...  !!! RT @mayasolovely: As a woman you shouldn't...\n",
              "1               1  ...  !!!!! RT @mleew17: boy dats cold...tyga dwn ba...\n",
              "2               2  ...  !!!!!!! RT @UrKindOfBrand Dawg!!!! RT @80sbaby...\n",
              "3               3  ...  !!!!!!!!! RT @C_G_Anderson: @viva_based she lo...\n",
              "4               4  ...  !!!!!!!!!!!!! RT @ShenikaRoberts: The shit you...\n",
              "...           ...  ...                                                ...\n",
              "24778       25291  ...  you's a muthaf***in lie &#8220;@LifeAsKing: @2...\n",
              "24779       25292  ...  you've gone and broke the wrong heart baby, an...\n",
              "24780       25294  ...  young buck wanna eat!!.. dat nigguh like I ain...\n",
              "24781       25295  ...              youu got wild bitches tellin you lies\n",
              "24782       25296  ...  ~~Ruffled | Ntac Eileen Dahlia - Beautiful col...\n",
              "\n",
              "[24783 rows x 7 columns]"
            ]
          },
          "metadata": {
            "tags": []
          },
          "execution_count": 3
        }
      ]
    },
    {
      "cell_type": "code",
      "metadata": {
        "id": "CdsNfCLD94QD",
        "colab": {
          "base_uri": "https://localhost:8080/",
          "height": 300
        },
        "outputId": "e76e47eb-fec9-4f0d-bd5a-84439138eca0"
      },
      "source": [
        "df.describe()"
      ],
      "execution_count": 4,
      "outputs": [
        {
          "output_type": "execute_result",
          "data": {
            "text/html": [
              "<div>\n",
              "<style scoped>\n",
              "    .dataframe tbody tr th:only-of-type {\n",
              "        vertical-align: middle;\n",
              "    }\n",
              "\n",
              "    .dataframe tbody tr th {\n",
              "        vertical-align: top;\n",
              "    }\n",
              "\n",
              "    .dataframe thead th {\n",
              "        text-align: right;\n",
              "    }\n",
              "</style>\n",
              "<table border=\"1\" class=\"dataframe\">\n",
              "  <thead>\n",
              "    <tr style=\"text-align: right;\">\n",
              "      <th></th>\n",
              "      <th>Unnamed: 0</th>\n",
              "      <th>count</th>\n",
              "      <th>hate_speech</th>\n",
              "      <th>offensive_language</th>\n",
              "      <th>neither</th>\n",
              "      <th>class</th>\n",
              "    </tr>\n",
              "  </thead>\n",
              "  <tbody>\n",
              "    <tr>\n",
              "      <th>count</th>\n",
              "      <td>24783.000000</td>\n",
              "      <td>24783.000000</td>\n",
              "      <td>24783.000000</td>\n",
              "      <td>24783.000000</td>\n",
              "      <td>24783.000000</td>\n",
              "      <td>24783.000000</td>\n",
              "    </tr>\n",
              "    <tr>\n",
              "      <th>mean</th>\n",
              "      <td>12681.192027</td>\n",
              "      <td>3.243473</td>\n",
              "      <td>0.280515</td>\n",
              "      <td>2.413711</td>\n",
              "      <td>0.549247</td>\n",
              "      <td>1.110277</td>\n",
              "    </tr>\n",
              "    <tr>\n",
              "      <th>std</th>\n",
              "      <td>7299.553863</td>\n",
              "      <td>0.883060</td>\n",
              "      <td>0.631851</td>\n",
              "      <td>1.399459</td>\n",
              "      <td>1.113299</td>\n",
              "      <td>0.462089</td>\n",
              "    </tr>\n",
              "    <tr>\n",
              "      <th>min</th>\n",
              "      <td>0.000000</td>\n",
              "      <td>3.000000</td>\n",
              "      <td>0.000000</td>\n",
              "      <td>0.000000</td>\n",
              "      <td>0.000000</td>\n",
              "      <td>0.000000</td>\n",
              "    </tr>\n",
              "    <tr>\n",
              "      <th>25%</th>\n",
              "      <td>6372.500000</td>\n",
              "      <td>3.000000</td>\n",
              "      <td>0.000000</td>\n",
              "      <td>2.000000</td>\n",
              "      <td>0.000000</td>\n",
              "      <td>1.000000</td>\n",
              "    </tr>\n",
              "    <tr>\n",
              "      <th>50%</th>\n",
              "      <td>12703.000000</td>\n",
              "      <td>3.000000</td>\n",
              "      <td>0.000000</td>\n",
              "      <td>3.000000</td>\n",
              "      <td>0.000000</td>\n",
              "      <td>1.000000</td>\n",
              "    </tr>\n",
              "    <tr>\n",
              "      <th>75%</th>\n",
              "      <td>18995.500000</td>\n",
              "      <td>3.000000</td>\n",
              "      <td>0.000000</td>\n",
              "      <td>3.000000</td>\n",
              "      <td>0.000000</td>\n",
              "      <td>1.000000</td>\n",
              "    </tr>\n",
              "    <tr>\n",
              "      <th>max</th>\n",
              "      <td>25296.000000</td>\n",
              "      <td>9.000000</td>\n",
              "      <td>7.000000</td>\n",
              "      <td>9.000000</td>\n",
              "      <td>9.000000</td>\n",
              "      <td>2.000000</td>\n",
              "    </tr>\n",
              "  </tbody>\n",
              "</table>\n",
              "</div>"
            ],
            "text/plain": [
              "         Unnamed: 0         count  ...       neither         class\n",
              "count  24783.000000  24783.000000  ...  24783.000000  24783.000000\n",
              "mean   12681.192027      3.243473  ...      0.549247      1.110277\n",
              "std     7299.553863      0.883060  ...      1.113299      0.462089\n",
              "min        0.000000      3.000000  ...      0.000000      0.000000\n",
              "25%     6372.500000      3.000000  ...      0.000000      1.000000\n",
              "50%    12703.000000      3.000000  ...      0.000000      1.000000\n",
              "75%    18995.500000      3.000000  ...      0.000000      1.000000\n",
              "max    25296.000000      9.000000  ...      9.000000      2.000000\n",
              "\n",
              "[8 rows x 6 columns]"
            ]
          },
          "metadata": {
            "tags": []
          },
          "execution_count": 4
        }
      ]
    },
    {
      "cell_type": "markdown",
      "metadata": {
        "id": "_GnqAk20H47d"
      },
      "source": [
        "## Cleaning tweets"
      ]
    },
    {
      "cell_type": "code",
      "metadata": {
        "id": "fhB7nhDMH8vl",
        "colab": {
          "base_uri": "https://localhost:8080/"
        },
        "outputId": "232bf519-6faf-4955-d96a-29d5fd20bda2"
      },
      "source": [
        "special_characters_regex = '[!\"_$%&/()=_ˆ*¡@]'\n",
        "retweet_regex = '(.*rt @\\w+)+:'\n",
        "space_regex = '\\s+'\n",
        "url_regex = ('http[s]?://(?:[a-zA-Z]|[0-9]|[$-_@.&+]|'\n",
        "             '[!*\\(\\),]|(?:%[0-9a-fA-F][0-9a-fA-F]))+')\n",
        "mention_regex = '@[\\w\\-]+'\n",
        "df['clean'] = df['tweet']\n",
        "df['clean'] = df.apply(lambda row:\n",
        "                        re.sub(special_characters_regex, '', \n",
        "                        re.sub('\\s*RT MENTIONHERE', 'MENTIONHERE',\n",
        "                        re.sub(url_regex, 'LINKHERE',\n",
        "                        re.sub(mention_regex, 'MENTIONHERE',\n",
        "                        re.sub(retweet_regex, '',\n",
        "                        re.sub(space_regex, ' ',\n",
        "                              row['clean'])))), flags=re.ASCII)), axis=1)\n",
        "\n",
        "df['clean'] = df.apply(lambda row: row['clean'].lower(), axis=1)\n",
        "\n",
        "df['clean'][:10]"
      ],
      "execution_count": 4,
      "outputs": [
        {
          "output_type": "execute_result",
          "data": {
            "text/plain": [
              "0    mentionhere: as a woman you shouldn't complain...\n",
              "1    mentionhere: boy dats cold...tyga dwn bad for ...\n",
              "2    mentionhere dawgmentionhere: you ever fuck a b...\n",
              "3      mentionhere: mentionhere she look like a tranny\n",
              "4    mentionhere: the shit you hear about me might ...\n",
              "5    mentionhere: the shit just blows me..claim you...\n",
              "6    mentionhere: i can not just sit up and hate on...\n",
              "7    #8220;mentionhere: cause i'm tired of you big ...\n",
              "8     amp; you might not get ya bitch back amp; tha...\n",
              "9     mentionhere :hobbies include: fighting mariam...\n",
              "Name: clean, dtype: object"
            ]
          },
          "metadata": {
            "tags": []
          },
          "execution_count": 4
        }
      ]
    },
    {
      "cell_type": "markdown",
      "metadata": {
        "id": "Y1v3o8k_LcJi"
      },
      "source": [
        "###Tokenization"
      ]
    },
    {
      "cell_type": "code",
      "metadata": {
        "colab": {
          "base_uri": "https://localhost:8080/"
        },
        "id": "q1nvAvxgNcrz",
        "outputId": "ff4ba338-7bf8-4299-f007-7564b0ad1e36"
      },
      "source": [
        "import nltk\n",
        "from nltk.tokenize import sent_tokenize\n",
        "from nltk.tokenize import word_tokenize\n",
        "import nltk.corpus\n",
        "nltk.download('punkt')\n",
        "nltk.download('stopwords')\n",
        "nltk.download('averaged_perceptron_tagger')"
      ],
      "execution_count": 5,
      "outputs": [
        {
          "output_type": "stream",
          "text": [
            "[nltk_data] Downloading package punkt to /root/nltk_data...\n",
            "[nltk_data]   Package punkt is already up-to-date!\n",
            "[nltk_data] Downloading package stopwords to /root/nltk_data...\n",
            "[nltk_data]   Package stopwords is already up-to-date!\n",
            "[nltk_data] Downloading package averaged_perceptron_tagger to\n",
            "[nltk_data]     /root/nltk_data...\n",
            "[nltk_data]   Package averaged_perceptron_tagger is already up-to-\n",
            "[nltk_data]       date!\n"
          ],
          "name": "stdout"
        },
        {
          "output_type": "execute_result",
          "data": {
            "text/plain": [
              "True"
            ]
          },
          "metadata": {
            "tags": []
          },
          "execution_count": 5
        }
      ]
    },
    {
      "cell_type": "code",
      "metadata": {
        "id": "-AOni-T8LEBq"
      },
      "source": [
        "sentences = df.apply(lambda row: sent_tokenize(row['clean']), axis=1)\n",
        "words = df.apply(lambda row: word_tokenize(row['clean']), axis=1)"
      ],
      "execution_count": 6,
      "outputs": []
    },
    {
      "cell_type": "code",
      "metadata": {
        "colab": {
          "base_uri": "https://localhost:8080/"
        },
        "id": "BKKo7WxjOGI-",
        "outputId": "1341ad5e-9cf5-4f92-cc3d-f761d8f00374"
      },
      "source": [
        "stopwords = nltk.corpus.stopwords.words('english')\n",
        "stopwords += [',', '.', ';']\n",
        "cleaned = words.apply(lambda row: [w for w in row if w not in stopwords]) \n",
        "cleaned"
      ],
      "execution_count": 7,
      "outputs": [
        {
          "output_type": "execute_result",
          "data": {
            "text/plain": [
              "0        [mentionhere, :, woman, n't, complain, cleanin...\n",
              "1        [mentionhere, :, boy, dats, cold, ..., tyga, d...\n",
              "2        [mentionhere, dawgmentionhere, :, ever, fuck, ...\n",
              "3        [mentionhere, :, mentionhere, look, like, tranny]\n",
              "4        [mentionhere, :, shit, hear, might, true, migh...\n",
              "                               ...                        \n",
              "24778    ['s, muthafin, lie, #, 8220, mentionhere, :, m...\n",
              "24779    ['ve, gone, broke, wrong, heart, baby, drove, ...\n",
              "24780    [young, buck, wan, na, eat.., dat, nigguh, lik...\n",
              "24781             [youu, got, wild, bitches, tellin, lies]\n",
              "24782    [~~ruffled, |, ntac, eileen, dahlia, -, beauti...\n",
              "Length: 24783, dtype: object"
            ]
          },
          "metadata": {
            "tags": []
          },
          "execution_count": 7
        }
      ]
    },
    {
      "cell_type": "code",
      "metadata": {
        "id": "TU49Rr-RqXMR"
      },
      "source": [
        "posttag = words.apply(lambda row: nltk.pos_tag(row))\n",
        "#posttag[0]"
      ],
      "execution_count": 9,
=======
      "execution_count": 35,
>>>>>>> e511ac97c2bec7b1d3ef9b3e1f84a7f82af7dc5d
      "outputs": []
    },
    {
      "cell_type": "markdown",
      "metadata": {
        "id": "_GnqAk20H47d"
      },
      "source": [
        "## Cleaning tweets"
      ]
    },
    {
      "cell_type": "code",
      "metadata": {
        "id": "fhB7nhDMH8vl",
        "colab": {
          "base_uri": "https://localhost:8080/"
        },
        "outputId": "16697018-5357-4398-f922-f216a1ddc0c8"
      },
      "source": [
        "df['clean'] = df.apply(lambda row: row['tweet'].lower(), axis=1)\n",
        "\n",
        "df['clean'] = df.apply(lambda row:\n",
        "                        re.sub('[!\"_$%&/()=_ˆ*¡@]', '', \n",
        "                        re.sub('(.*rt @\\w+)+:', '',\n",
        "                              row['clean'], flags=re.ASCII)), axis=1)\n",
        "df['clean'][:10]"
      ],
      "execution_count": 39,
      "outputs": [
        {
          "output_type": "execute_result",
          "data": {
            "text/plain": [
              "0     as a woman you shouldn't complain about clean...\n",
              "1     boy dats cold...tyga dwn bad for cuffin dat h...\n",
              "2     you ever fuck a bitch and she start to cry? y...\n",
              "3                     vivabased she look like a tranny\n",
              "4     the shit you hear about me might be true or i...\n",
              "5    tmadisonx: the shit just blows me..claim you s...\n",
              "6    brighterdays: i can not just sit up and hate o...\n",
              "7    #8220;selfiequeenbri: cause i'm tired of you b...\n",
              "8     amp; you might not get ya bitch back amp; tha...\n",
              "9     rhythmixx :hobbies include: fighting mariam\\n...\n",
              "Name: clean, dtype: object"
            ]
          },
          "metadata": {
            "tags": []
          },
          "execution_count": 39
        }
      ]
    },
    {
      "cell_type": "markdown",
      "metadata": {
        "id": "25O89_lgWAHz"
      },
      "source": [
        "# 2. Vectorization"
      ]
    },
    {
      "cell_type": "code",
      "metadata": {
        "id": "MKoeVGJ69ryO",
        "colab": {
          "base_uri": "https://localhost:8080/",
          "height": 92
        },
        "outputId": "50d02146-76c2-4c18-a282-14d26c50678a"
      },
      "source": [
        "'''from sklearn.feature_extraction.text import CountVectorizer\n",
        "vectorizer = CountVectorizer(min_df=1)\n",
        "#X = cleaned.apply(lambda row: vectorizer.fit_transform(row))\n",
        "X = []\n",
        "keywords = set()\n",
        "\n",
        "for row in cleaned:\n",
        "  x_row = vectorizer.fit_transform(row)\n",
        "  keywords_row = [vectorizer.get_feature_names()[np.argmax(word)] for word in row]\n",
        "  X.append(x_row.toarray())\n",
        "  keywords.update(keywords_row)\n",
        "'''"
      ],
      "execution_count": 10,
      "outputs": [
        {
          "output_type": "execute_result",
          "data": {
            "application/vnd.google.colaboratory.intrinsic+json": {
              "type": "string"
            },
            "text/plain": [
              "'from sklearn.feature_extraction.text import CountVectorizer\\nvectorizer = CountVectorizer(min_df=1)\\n#X = cleaned.apply(lambda row: vectorizer.fit_transform(row))\\nX = []\\nkeywords = set()\\n\\nfor row in cleaned:\\n  x_row = vectorizer.fit_transform(row)\\n  keywords_row = [vectorizer.get_feature_names()[np.argmax(word)] for word in row]\\n  X.append(x_row.toarray())\\n  keywords.update(keywords_row)\\n'"
            ]
          },
          "metadata": {
            "tags": []
          },
          "execution_count": 10
        }
      ]
    },
    {
      "cell_type": "code",
      "metadata": {
        "colab": {
          "base_uri": "https://localhost:8080/"
        },
        "id": "lmK81KSN8h0b",
        "outputId": "1a05f259-62bf-4baf-94eb-98454e354ec9"
      },
      "source": [
        "joined = cleaned.apply(lambda row: ' '.join(row))\n",
        "joined"
      ],
      "execution_count": 8,
      "outputs": [
        {
          "output_type": "execute_result",
          "data": {
            "text/plain": [
              "0        mentionhere : woman n't complain cleaning hous...\n",
              "1        mentionhere : boy dats cold ... tyga dwn bad c...\n",
              "2        mentionhere dawgmentionhere : ever fuck bitch ...\n",
              "3               mentionhere : mentionhere look like tranny\n",
              "4        mentionhere : shit hear might true might faker...\n",
              "                               ...                        \n",
              "24778    's muthafin lie # 8220 mentionhere : mentionhe...\n",
              "24779    've gone broke wrong heart baby drove redneck ...\n",
              "24780    young buck wan na eat.. dat nigguh like aint f...\n",
              "24781                    youu got wild bitches tellin lies\n",
              "24782    ~~ruffled | ntac eileen dahlia - beautiful col...\n",
              "Length: 24783, dtype: object"
            ]
          },
          "metadata": {
            "tags": []
          },
          "execution_count": 8
        }
      ]
    },
    {
      "cell_type": "markdown",
      "metadata": {
        "id": "lySCoviQHBvv"
      },
      "source": [
        "### TFiDF"
      ]
    },
    {
      "cell_type": "code",
      "metadata": {
        "colab": {
          "base_uri": "https://localhost:8080/"
        },
        "id": "PMVh1GlfFXbI",
        "outputId": "e2d3ec26-b3cd-47dc-c52a-a7f943f62715"
      },
      "source": [
        "from sklearn.feature_extraction.text import TfidfVectorizer\n",
        "vectorizer = TfidfVectorizer(min_df=1)\n",
        "X = vectorizer.fit_transform(joined)\n",
        "X.column = vectorizer.get_feature_names()\n",
        "X.toarray()"
      ],
      "execution_count": 12,
      "outputs": [
        {
          "output_type": "execute_result",
          "data": {
            "text/plain": [
              "array([[0., 0., 0., ..., 0., 0., 0.],\n",
              "       [0., 0., 0., ..., 0., 0., 0.],\n",
              "       [0., 0., 0., ..., 0., 0., 0.],\n",
              "       ...,\n",
              "       [0., 0., 0., ..., 0., 0., 0.],\n",
              "       [0., 0., 0., ..., 0., 0., 0.],\n",
              "       [0., 0., 0., ..., 0., 0., 0.]])"
            ]
          },
          "metadata": {
            "tags": []
          },
          "execution_count": 12
        }
      ]
    },
    {
      "cell_type": "markdown",
      "metadata": {
        "id": "8Sbad0IWHGGP"
      },
      "source": [
        "### TFiDF + N-grams"
      ]
    },
    {
      "cell_type": "code",
      "metadata": {
        "id": "AZwZLemXDJJk"
      },
      "source": [
        "from sklearn.feature_extraction.text import TfidfVectorizer\n",
        "vectorizer = TfidfVectorizer(ngram_range=(1,3), min_df=1)\n",
        "X = vectorizer.fit_transform(joined)\n",
        "X.toarray()\n",
        "X.column = vectorizer.get_feature_names()\n",
        "X.column"
      ],
      "execution_count": null,
      "outputs": []
    },
    {
      "cell_type": "markdown",
      "metadata": {
        "id": "pnlnj_DSHIsT"
      },
      "source": [
        "### TFiDF + N-grams + POS tagging"
      ]
    },
    {
      "cell_type": "code",
      "metadata": {
        "id": "8MdhGYTFfAtg"
      },
      "source": [
        "tagged = cleaned.apply(nltk.pos_tag)"
      ],
      "execution_count": null,
      "outputs": []
    },
    {
      "cell_type": "code",
      "metadata": {
        "id": "_9f0cmepFdCH"
      },
      "source": [
        "vectorizer = TfidfVectorizer(ngram_range=(1,3), min_df=1)\n",
        "X = vectorizer.fit_transform(tagged)\n",
        "X.toarray()\n",
        "X.column = vectorizer.get_feature_names()\n",
        "X.column"
      ],
      "execution_count": null,
      "outputs": []
    },
    {
      "cell_type": "markdown",
      "metadata": {
        "id": "8C9Ap1rsHNa6"
      },
      "source": [
        "### TFiDF + N-grams + POS tagging + other features(?)"
      ]
    },
    {
      "cell_type": "markdown",
      "metadata": {
        "id": "9ASwJzr-WI4H"
      },
      "source": [
        "# 3. Feature selection"
      ]
    },
    {
      "cell_type": "code",
      "metadata": {
        "id": "uMEU6b8P_eFB"
      },
      "source": [
        ""
      ],
      "execution_count": null,
      "outputs": []
    },
    {
      "cell_type": "markdown",
      "metadata": {
        "id": "sJtsa0X5WKlc"
      },
      "source": [
        "## 4. Classification algorithm"
      ]
    }
  ]
}