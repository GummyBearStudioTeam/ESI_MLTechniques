{
  "nbformat": 4,
  "nbformat_minor": 0,
  "metadata": {
    "colab": {
      "name": "Copia de NLP.ipynb",
      "provenance": [],
      "collapsed_sections": [],
      "toc_visible": true
    },
    "kernelspec": {
      "name": "python3",
      "display_name": "Python 3"
    }
  },
  "cells": [
    {
      "cell_type": "code",
      "metadata": {
        "id": "E0fxmO14YmHo"
      },
      "source": [
        "df = pd.data.read_csv(\"labeled_data.csv\")\n",
        "hatred_dict = pd.data.read_csv(\"refined_ngram_dict.csv\")"
      ],
      "execution_count": null,
      "outputs": []
    },
    {
      "cell_type": "markdown",
      "metadata": {
        "id": "NazHONfiVqED"
      },
      "source": [
        "# 1. Preprocessing\n",
        "\n",
        "\n"
      ]
    },
    {
      "cell_type": "markdown",
      "metadata": {
        "id": "-J2vBvPVbVym"
      },
      "source": [
        "Preprocessing functions"
      ]
    },
    {
      "cell_type": "code",
      "metadata": {
        "id": "eck8eOglWZa2"
      },
      "source": [
        "import re\n",
        "from collections import Counter\n",
        "\n",
        "class WordCorrector:\n",
        "\n",
        "  @staticmethod\n",
        "  def get_words(text): \n",
        "    return re.findall(r'\\w+', text.lower())\n",
        "\n",
        "  WORDS = Counter(get_words.__func__(open('big.txt').read()))\n",
        "\n",
        "  def __init__(self):\n",
        "    pass\n",
        "\n",
        "  def remove_unuseful_data(self, text):\n",
        "    return re.sub('[!\"_ $% & / ( ) = _ ˆ* ¡@]', '', text)\n",
        "\n",
        "  def correct_text(self, text):\n",
        "    words = get_words(text)\n",
        "\n",
        "  #WORDS = Counter(words(open('big.txt').read())\n",
        "  def P(self, word, N=sum(WORDS.values())): \n",
        "      \"Probability of `word`.\"\n",
        "      return WORDS[word] / N\n",
        "\n",
        "  def correction(self, word): \n",
        "      \"Most probable spelling correction for word.\"\n",
        "      return max(candidates(word), key=P)\n",
        "\n",
        "  def candidates(self, word): \n",
        "      \"Generate possible spelling corrections for word.\"\n",
        "      return (known([word]) or known(edits1(word)) or known(edits2(word)) or [word])\n",
        "\n",
        "  def known(self, words): \n",
        "      \"The subset of `words` that appear in the dictionary of WORDS.\"\n",
        "      return set(w for w in words if w in WORDS)\n",
        "\n",
        "  def edits1(self, word):\n",
        "      \"All edits that are one edit away from `word`.\"\n",
        "      letters    = 'abcdefghijklmnopqrstuvwxyz'\n",
        "      splits     = [(word[:i], word[i:])    for i in range(len(word) + 1)]\n",
        "      deletes    = [L + R[1:]               for L, R in splits if R]\n",
        "      transposes = [L + R[1] + R[0] + R[2:] for L, R in splits if len(R)>1]\n",
        "      replaces   = [L + c + R[1:]           for L, R in splits if R for c in letters]\n",
        "      inserts    = [L + c + R               for L, R in splits for c in letters]\n",
        "      return set(deletes + transposes + replaces + inserts)\n",
        "  \n",
        "  def edits2(self, word): \n",
        "      \"All edits that are two edits away from `word`.\"\n",
        "      return (e2 for e1 in edits1(word) for e2 in edits1(e1))"
      ],
      "execution_count": null,
      "outputs": []
    },
    {
      "cell_type": "markdown",
      "metadata": {
        "id": "25O89_lgWAHz"
      },
      "source": [
        "# 2. Vectorization"
      ]
    },
    {
      "cell_type": "markdown",
      "metadata": {
        "id": "9ASwJzr-WI4H"
      },
      "source": [
        "# 3.Feature selection"
      ]
    },
    {
      "cell_type": "markdown",
      "metadata": {
        "id": "sJtsa0X5WKlc"
      },
      "source": [
        "# 4.Classification algorithm"
      ]
    }
  ]
}