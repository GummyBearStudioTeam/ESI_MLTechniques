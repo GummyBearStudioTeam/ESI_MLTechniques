{
 "cells": [
  {
   "cell_type": "markdown",
   "metadata": {},
   "source": [
    "# NLP Model"
   ]
  },
  {
   "cell_type": "code",
   "execution_count": 1,
   "metadata": {
    "colab": {
     "base_uri": "https://localhost:8080/"
    },
    "id": "kENXF_vPOrD7",
    "outputId": "51a00ff6-669e-4d28-e0ad-aab18ea9b4d1"
   },
   "outputs": [
    {
     "name": "stderr",
     "output_type": "stream",
     "text": [
      "[nltk_data] Downloading package punkt to /home/gbs/nltk_data...\n",
      "[nltk_data]   Package punkt is already up-to-date!\n",
      "[nltk_data] Downloading package stopwords to /home/gbs/nltk_data...\n",
      "[nltk_data]   Package stopwords is already up-to-date!\n",
      "[nltk_data] Downloading package averaged_perceptron_tagger to\n",
      "[nltk_data]     /home/gbs/nltk_data...\n",
      "[nltk_data]   Package averaged_perceptron_tagger is already up-to-\n",
      "[nltk_data]       date!\n",
      "[nltk_data] Downloading package vader_lexicon to\n",
      "[nltk_data]     /home/gbs/nltk_data...\n",
      "[nltk_data]   Package vader_lexicon is already up-to-date!\n",
      "[nltk_data] Downloading package wordnet to /home/gbs/nltk_data...\n",
      "[nltk_data]   Package wordnet is already up-to-date!\n"
     ]
    }
   ],
   "source": [
    "import pandas as pd\n",
    "import numpy as np\n",
    "import pickle\n",
    "\n",
    "import nltk\n",
    "from nltk.tokenize import sent_tokenize\n",
    "from nltk.tokenize import word_tokenize\n",
    "import nltk.corpus\n",
    "from nltk.stem import WordNetLemmatizer\n",
    "nltk.download('punkt')\n",
    "nltk.download('stopwords')\n",
    "nltk.download('averaged_perceptron_tagger')\n",
    "nltk.download('vader_lexicon')\n",
    "nltk.download('wordnet')\n",
    "\n",
    "from nltk.sentiment.vader import SentimentIntensityAnalyzer\n",
    "import seaborn as sns\n",
    "\n",
    "from math import ceil\n",
    "\n",
    "from sklearn import metrics"
   ]
  },
  {
   "cell_type": "markdown",
   "metadata": {},
   "source": [
    "## 1. Data loading"
   ]
  },
  {
   "cell_type": "code",
   "execution_count": 2,
   "metadata": {},
   "outputs": [],
   "source": [
    "def pickle_load(fn):\n",
    "    with open(fn, 'rb') as f:\n",
    "        aux = pickle.load(f)\n",
    "    return aux"
   ]
  },
  {
   "cell_type": "code",
   "execution_count": 3,
   "metadata": {},
   "outputs": [],
   "source": [
    "tagged = pickle_load('nlp_pos.bin')\n",
    "X_ngram = pickle_load('nlp_tf_ngram.bin')\n",
    "X_tf = pickle_load('nlp_tf.bin')\n",
    "\n",
    "data_set = pickle_load('nlp_dataset.bin')"
   ]
  },
  {
   "cell_type": "code",
   "execution_count": 4,
   "metadata": {},
   "outputs": [
    {
     "data": {
      "text/html": [
       "<div>\n",
       "<style scoped>\n",
       "    .dataframe tbody tr th:only-of-type {\n",
       "        vertical-align: middle;\n",
       "    }\n",
       "\n",
       "    .dataframe tbody tr th {\n",
       "        vertical-align: top;\n",
       "    }\n",
       "\n",
       "    .dataframe thead th {\n",
       "        text-align: right;\n",
       "    }\n",
       "</style>\n",
       "<table border=\"1\" class=\"dataframe\">\n",
       "  <thead>\n",
       "    <tr style=\"text-align: right;\">\n",
       "      <th></th>\n",
       "      <th>clean</th>\n",
       "      <th>corrected</th>\n",
       "      <th>hate</th>\n",
       "      <th>tokens</th>\n",
       "      <th>RT</th>\n",
       "      <th>num_words</th>\n",
       "      <th>num_sents</th>\n",
       "      <th>class</th>\n",
       "    </tr>\n",
       "  </thead>\n",
       "  <tbody>\n",
       "    <tr>\n",
       "      <th>0</th>\n",
       "      <td>[rt, mentionhere, as, a, woman, you, shouldn, ...</td>\n",
       "      <td>[it, mentionhere, as, a, woman, you, shouldn, ...</td>\n",
       "      <td>[0.0]</td>\n",
       "      <td>[mentionhere, woman, complain, cleaning, house...</td>\n",
       "      <td>1</td>\n",
       "      <td>25</td>\n",
       "      <td>1</td>\n",
       "      <td>2</td>\n",
       "    </tr>\n",
       "    <tr>\n",
       "      <th>1</th>\n",
       "      <td>[rt, mentionhere, boy, dats, cold, tyga, dwn, ...</td>\n",
       "      <td>[it, mentionhere, boy, days, cold, tea, own, b...</td>\n",
       "      <td>[0.0]</td>\n",
       "      <td>[mentionhere, boy, day, cold, tea, bad, coffin...</td>\n",
       "      <td>1</td>\n",
       "      <td>17</td>\n",
       "      <td>1</td>\n",
       "      <td>1</td>\n",
       "    </tr>\n",
       "    <tr>\n",
       "      <th>2</th>\n",
       "      <td>[rt, mentionhere, dawg, rt, mentionhere, you, ...</td>\n",
       "      <td>[it, mentionhere, dawn, it, mentionhere, you, ...</td>\n",
       "      <td>[0.0]</td>\n",
       "      <td>[mentionhere, dawn, mentionhere, ever, fuck, b...</td>\n",
       "      <td>2</td>\n",
       "      <td>20</td>\n",
       "      <td>1</td>\n",
       "      <td>1</td>\n",
       "    </tr>\n",
       "    <tr>\n",
       "      <th>3</th>\n",
       "      <td>[rt, mentionhere, mentionhere, she, look, like...</td>\n",
       "      <td>[it, mentionhere, mentionhere, she, look, like...</td>\n",
       "      <td>[0.0]</td>\n",
       "      <td>[mentionhere, mentionhere, look, like, granny]</td>\n",
       "      <td>1</td>\n",
       "      <td>8</td>\n",
       "      <td>1</td>\n",
       "      <td>1</td>\n",
       "    </tr>\n",
       "    <tr>\n",
       "      <th>4</th>\n",
       "      <td>[rt, mentionhere, the, shit, you, hear, about,...</td>\n",
       "      <td>[it, mentionhere, the, shit, you, hear, about,...</td>\n",
       "      <td>[0.0]</td>\n",
       "      <td>[mentionhere, shit, hear, might, true, might, ...</td>\n",
       "      <td>1</td>\n",
       "      <td>25</td>\n",
       "      <td>1</td>\n",
       "      <td>1</td>\n",
       "    </tr>\n",
       "    <tr>\n",
       "      <th>...</th>\n",
       "      <td>...</td>\n",
       "      <td>...</td>\n",
       "      <td>...</td>\n",
       "      <td>...</td>\n",
       "      <td>...</td>\n",
       "      <td>...</td>\n",
       "      <td>...</td>\n",
       "      <td>...</td>\n",
       "    </tr>\n",
       "    <tr>\n",
       "      <th>24778</th>\n",
       "      <td>[you, s, a, muthafin, lie, numberhere, mention...</td>\n",
       "      <td>[you, s, a, muthafin, lie, numberhere, mention...</td>\n",
       "      <td>[0.0]</td>\n",
       "      <td>[muthafin, lie, numberhere, mentionhere, menti...</td>\n",
       "      <td>0</td>\n",
       "      <td>22</td>\n",
       "      <td>1</td>\n",
       "      <td>1</td>\n",
       "    </tr>\n",
       "    <tr>\n",
       "      <th>24779</th>\n",
       "      <td>[you, ve, gone, and, broke, the, wrong, heart,...</td>\n",
       "      <td>[you, ve, gone, and, broke, the, wrong, heart,...</td>\n",
       "      <td>[0.0]</td>\n",
       "      <td>[gone, broke, wrong, heart, baby, drove, redne...</td>\n",
       "      <td>0</td>\n",
       "      <td>14</td>\n",
       "      <td>1</td>\n",
       "      <td>2</td>\n",
       "    </tr>\n",
       "    <tr>\n",
       "      <th>24780</th>\n",
       "      <td>[young, buck, wanna, eat, that, nigguh, like, ...</td>\n",
       "      <td>[young, buck, anna, eat, that, nigh, like, i, ...</td>\n",
       "      <td>[0.0]</td>\n",
       "      <td>[young, buck, anna, eat, nigh, like, amant, fu...</td>\n",
       "      <td>0</td>\n",
       "      <td>13</td>\n",
       "      <td>1</td>\n",
       "      <td>1</td>\n",
       "    </tr>\n",
       "    <tr>\n",
       "      <th>24781</th>\n",
       "      <td>[youu, got, wild, bitches, tellin, you, lies]</td>\n",
       "      <td>[you, got, wild, birches, tell, you, lies]</td>\n",
       "      <td>[0.0]</td>\n",
       "      <td>[got, wild, birch, tell, lie]</td>\n",
       "      <td>0</td>\n",
       "      <td>7</td>\n",
       "      <td>1</td>\n",
       "      <td>1</td>\n",
       "    </tr>\n",
       "    <tr>\n",
       "      <th>24782</th>\n",
       "      <td>[ruffled, ntac, eileen, dahlia, beautiful, col...</td>\n",
       "      <td>[ruffled, near, spleen, dahlia, beautiful, col...</td>\n",
       "      <td>[0.0]</td>\n",
       "      <td>[ruffled, near, spleen, dahlia, beautiful, col...</td>\n",
       "      <td>0</td>\n",
       "      <td>16</td>\n",
       "      <td>1</td>\n",
       "      <td>2</td>\n",
       "    </tr>\n",
       "  </tbody>\n",
       "</table>\n",
       "<p>24783 rows × 8 columns</p>\n",
       "</div>"
      ],
      "text/plain": [
       "                                                   clean  \\\n",
       "0      [rt, mentionhere, as, a, woman, you, shouldn, ...   \n",
       "1      [rt, mentionhere, boy, dats, cold, tyga, dwn, ...   \n",
       "2      [rt, mentionhere, dawg, rt, mentionhere, you, ...   \n",
       "3      [rt, mentionhere, mentionhere, she, look, like...   \n",
       "4      [rt, mentionhere, the, shit, you, hear, about,...   \n",
       "...                                                  ...   \n",
       "24778  [you, s, a, muthafin, lie, numberhere, mention...   \n",
       "24779  [you, ve, gone, and, broke, the, wrong, heart,...   \n",
       "24780  [young, buck, wanna, eat, that, nigguh, like, ...   \n",
       "24781      [youu, got, wild, bitches, tellin, you, lies]   \n",
       "24782  [ruffled, ntac, eileen, dahlia, beautiful, col...   \n",
       "\n",
       "                                               corrected   hate  \\\n",
       "0      [it, mentionhere, as, a, woman, you, shouldn, ...  [0.0]   \n",
       "1      [it, mentionhere, boy, days, cold, tea, own, b...  [0.0]   \n",
       "2      [it, mentionhere, dawn, it, mentionhere, you, ...  [0.0]   \n",
       "3      [it, mentionhere, mentionhere, she, look, like...  [0.0]   \n",
       "4      [it, mentionhere, the, shit, you, hear, about,...  [0.0]   \n",
       "...                                                  ...    ...   \n",
       "24778  [you, s, a, muthafin, lie, numberhere, mention...  [0.0]   \n",
       "24779  [you, ve, gone, and, broke, the, wrong, heart,...  [0.0]   \n",
       "24780  [young, buck, anna, eat, that, nigh, like, i, ...  [0.0]   \n",
       "24781         [you, got, wild, birches, tell, you, lies]  [0.0]   \n",
       "24782  [ruffled, near, spleen, dahlia, beautiful, col...  [0.0]   \n",
       "\n",
       "                                                  tokens  RT  num_words  \\\n",
       "0      [mentionhere, woman, complain, cleaning, house...   1         25   \n",
       "1      [mentionhere, boy, day, cold, tea, bad, coffin...   1         17   \n",
       "2      [mentionhere, dawn, mentionhere, ever, fuck, b...   2         20   \n",
       "3         [mentionhere, mentionhere, look, like, granny]   1          8   \n",
       "4      [mentionhere, shit, hear, might, true, might, ...   1         25   \n",
       "...                                                  ...  ..        ...   \n",
       "24778  [muthafin, lie, numberhere, mentionhere, menti...   0         22   \n",
       "24779  [gone, broke, wrong, heart, baby, drove, redne...   0         14   \n",
       "24780  [young, buck, anna, eat, nigh, like, amant, fu...   0         13   \n",
       "24781                      [got, wild, birch, tell, lie]   0          7   \n",
       "24782  [ruffled, near, spleen, dahlia, beautiful, col...   0         16   \n",
       "\n",
       "       num_sents  class  \n",
       "0              1      2  \n",
       "1              1      1  \n",
       "2              1      1  \n",
       "3              1      1  \n",
       "4              1      1  \n",
       "...          ...    ...  \n",
       "24778          1      1  \n",
       "24779          1      2  \n",
       "24780          1      1  \n",
       "24781          1      1  \n",
       "24782          1      2  \n",
       "\n",
       "[24783 rows x 8 columns]"
      ]
     },
     "execution_count": 4,
     "metadata": {},
     "output_type": "execute_result"
    }
   ],
   "source": [
    "data_set"
   ]
  },
  {
   "cell_type": "markdown",
   "metadata": {
    "id": "aQTNHAl2P_7-"
   },
   "source": [
    "# 2. Sentiment analisis"
   ]
  },
  {
   "cell_type": "code",
   "execution_count": 5,
   "metadata": {
    "id": "lmK81KSN8h0b"
   },
   "outputs": [],
   "source": [
    "def get_joined(r='tokens'):\n",
    "    return data_set.apply(lambda row: ' '.join(row[r]), axis=1)"
   ]
  },
  {
   "cell_type": "code",
   "execution_count": 6,
   "metadata": {
    "id": "9ZbN-nQtP-4N"
   },
   "outputs": [],
   "source": [
    "X = pd.DataFrame()\n",
    "sentiment_analyzer = SentimentIntensityAnalyzer() \n",
    "sentiment = get_joined().apply(lambda row: sentiment_analyzer.polarity_scores(row))\n",
    "sentiment = pd.DataFrame.from_records(sentiment)\n",
    "if not any(c == 'neg' for c in X.columns):\n",
    "    X = pd.concat([X, sentiment], axis=1)\n",
    "else:\n",
    "    X.update(sentiment)"
   ]
  },
  {
   "cell_type": "code",
   "execution_count": 7,
   "metadata": {
    "id": "9ZbN-nQtP-4N"
   },
   "outputs": [
    {
     "data": {
      "text/plain": [
       "neg         0\n",
       "neu         0\n",
       "pos         0\n",
       "compound    0\n",
       "dtype: int64"
      ]
     },
     "execution_count": 7,
     "metadata": {},
     "output_type": "execute_result"
    }
   ],
   "source": [
    "X.isna().sum()"
   ]
  },
  {
   "cell_type": "code",
   "execution_count": 8,
   "metadata": {},
   "outputs": [
    {
     "data": {
      "text/html": [
       "<div>\n",
       "<style scoped>\n",
       "    .dataframe tbody tr th:only-of-type {\n",
       "        vertical-align: middle;\n",
       "    }\n",
       "\n",
       "    .dataframe tbody tr th {\n",
       "        vertical-align: top;\n",
       "    }\n",
       "\n",
       "    .dataframe thead th {\n",
       "        text-align: right;\n",
       "    }\n",
       "</style>\n",
       "<table border=\"1\" class=\"dataframe\">\n",
       "  <thead>\n",
       "    <tr style=\"text-align: right;\">\n",
       "      <th></th>\n",
       "      <th>neg</th>\n",
       "      <th>neu</th>\n",
       "      <th>pos</th>\n",
       "      <th>compound</th>\n",
       "    </tr>\n",
       "  </thead>\n",
       "  <tbody>\n",
       "    <tr>\n",
       "      <th>0</th>\n",
       "      <td>0.217</td>\n",
       "      <td>0.783</td>\n",
       "      <td>0.000</td>\n",
       "      <td>-0.3612</td>\n",
       "    </tr>\n",
       "    <tr>\n",
       "      <th>1</th>\n",
       "      <td>0.280</td>\n",
       "      <td>0.720</td>\n",
       "      <td>0.000</td>\n",
       "      <td>-0.5423</td>\n",
       "    </tr>\n",
       "    <tr>\n",
       "      <th>2</th>\n",
       "      <td>0.765</td>\n",
       "      <td>0.235</td>\n",
       "      <td>0.000</td>\n",
       "      <td>-0.9460</td>\n",
       "    </tr>\n",
       "    <tr>\n",
       "      <th>3</th>\n",
       "      <td>0.000</td>\n",
       "      <td>0.615</td>\n",
       "      <td>0.385</td>\n",
       "      <td>0.3612</td>\n",
       "    </tr>\n",
       "    <tr>\n",
       "      <th>4</th>\n",
       "      <td>0.430</td>\n",
       "      <td>0.407</td>\n",
       "      <td>0.163</td>\n",
       "      <td>-0.6808</td>\n",
       "    </tr>\n",
       "    <tr>\n",
       "      <th>...</th>\n",
       "      <td>...</td>\n",
       "      <td>...</td>\n",
       "      <td>...</td>\n",
       "      <td>...</td>\n",
       "    </tr>\n",
       "    <tr>\n",
       "      <th>24778</th>\n",
       "      <td>0.000</td>\n",
       "      <td>1.000</td>\n",
       "      <td>0.000</td>\n",
       "      <td>0.0000</td>\n",
       "    </tr>\n",
       "    <tr>\n",
       "      <th>24779</th>\n",
       "      <td>0.624</td>\n",
       "      <td>0.376</td>\n",
       "      <td>0.000</td>\n",
       "      <td>-0.8074</td>\n",
       "    </tr>\n",
       "    <tr>\n",
       "      <th>24780</th>\n",
       "      <td>0.269</td>\n",
       "      <td>0.538</td>\n",
       "      <td>0.192</td>\n",
       "      <td>-0.2500</td>\n",
       "    </tr>\n",
       "    <tr>\n",
       "      <th>24781</th>\n",
       "      <td>0.000</td>\n",
       "      <td>1.000</td>\n",
       "      <td>0.000</td>\n",
       "      <td>0.0000</td>\n",
       "    </tr>\n",
       "    <tr>\n",
       "      <th>24782</th>\n",
       "      <td>0.000</td>\n",
       "      <td>0.769</td>\n",
       "      <td>0.231</td>\n",
       "      <td>0.5994</td>\n",
       "    </tr>\n",
       "  </tbody>\n",
       "</table>\n",
       "<p>24783 rows × 4 columns</p>\n",
       "</div>"
      ],
      "text/plain": [
       "         neg    neu    pos  compound\n",
       "0      0.217  0.783  0.000   -0.3612\n",
       "1      0.280  0.720  0.000   -0.5423\n",
       "2      0.765  0.235  0.000   -0.9460\n",
       "3      0.000  0.615  0.385    0.3612\n",
       "4      0.430  0.407  0.163   -0.6808\n",
       "...      ...    ...    ...       ...\n",
       "24778  0.000  1.000  0.000    0.0000\n",
       "24779  0.624  0.376  0.000   -0.8074\n",
       "24780  0.269  0.538  0.192   -0.2500\n",
       "24781  0.000  1.000  0.000    0.0000\n",
       "24782  0.000  0.769  0.231    0.5994\n",
       "\n",
       "[24783 rows x 4 columns]"
      ]
     },
     "execution_count": 8,
     "metadata": {},
     "output_type": "execute_result"
    }
   ],
   "source": [
    "X"
   ]
  },
  {
   "cell_type": "markdown",
   "metadata": {
    "id": "9ASwJzr-WI4H"
   },
   "source": [
    "## 2.1. Feature selection"
   ]
  },
  {
   "cell_type": "code",
   "execution_count": 9,
   "metadata": {
    "id": "kmJw7-mxQGP4"
   },
   "outputs": [],
   "source": [
    "X_tf_df = pd.DataFrame.sparse.from_spmatrix(X_tf)"
   ]
  },
  {
   "cell_type": "code",
   "execution_count": 10,
   "metadata": {
    "id": "VCxR7zDQQGP4"
   },
   "outputs": [
    {
     "data": {
      "text/plain": [
       "(24783, 11914)"
      ]
     },
     "execution_count": 10,
     "metadata": {},
     "output_type": "execute_result"
    }
   ],
   "source": [
    "X_tf_df.shape"
   ]
  },
  {
   "cell_type": "code",
   "execution_count": 11,
   "metadata": {},
   "outputs": [
    {
     "data": {
      "text/plain": [
       "773.8920000000002"
      ]
     },
     "execution_count": 11,
     "metadata": {},
     "output_type": "execute_result"
    }
   ],
   "source": [
    "hate = data_set['hate'].apply(lambda r: max(r))\n",
    "hate.sum()"
   ]
  },
  {
   "cell_type": "code",
   "execution_count": 12,
   "metadata": {
    "id": "mzfP2Uhm7wr2"
   },
   "outputs": [],
   "source": [
    "X = pd.concat((X, hate, X_tf_df), axis=1)"
   ]
  },
  {
   "cell_type": "code",
   "execution_count": 13,
   "metadata": {},
   "outputs": [],
   "source": [
    "X = data_set[['RT','num_words','num_sents']].join(X)"
   ]
  },
  {
   "cell_type": "code",
   "execution_count": 14,
   "metadata": {
    "id": "nWWIGNkQ-cAL"
   },
   "outputs": [
    {
     "data": {
      "text/plain": [
       "0.0"
      ]
     },
     "execution_count": 14,
     "metadata": {},
     "output_type": "execute_result"
    }
   ],
   "source": [
    "X.isna().sum().sum()"
   ]
  },
  {
   "cell_type": "code",
   "execution_count": 15,
   "metadata": {
    "id": "BmqhCP00QGP7"
   },
   "outputs": [
    {
     "data": {
      "text/html": [
       "<div>\n",
       "<style scoped>\n",
       "    .dataframe tbody tr th:only-of-type {\n",
       "        vertical-align: middle;\n",
       "    }\n",
       "\n",
       "    .dataframe tbody tr th {\n",
       "        vertical-align: top;\n",
       "    }\n",
       "\n",
       "    .dataframe thead th {\n",
       "        text-align: right;\n",
       "    }\n",
       "</style>\n",
       "<table border=\"1\" class=\"dataframe\">\n",
       "  <thead>\n",
       "    <tr style=\"text-align: right;\">\n",
       "      <th></th>\n",
       "      <th>RT</th>\n",
       "      <th>num_words</th>\n",
       "      <th>num_sents</th>\n",
       "      <th>neg</th>\n",
       "      <th>neu</th>\n",
       "      <th>pos</th>\n",
       "      <th>compound</th>\n",
       "      <th>hate</th>\n",
       "      <th>0</th>\n",
       "      <th>1</th>\n",
       "      <th>...</th>\n",
       "      <th>11904</th>\n",
       "      <th>11905</th>\n",
       "      <th>11906</th>\n",
       "      <th>11907</th>\n",
       "      <th>11908</th>\n",
       "      <th>11909</th>\n",
       "      <th>11910</th>\n",
       "      <th>11911</th>\n",
       "      <th>11912</th>\n",
       "      <th>11913</th>\n",
       "    </tr>\n",
       "  </thead>\n",
       "  <tbody>\n",
       "    <tr>\n",
       "      <th>0</th>\n",
       "      <td>1</td>\n",
       "      <td>25</td>\n",
       "      <td>1</td>\n",
       "      <td>0.217</td>\n",
       "      <td>0.783</td>\n",
       "      <td>0.000</td>\n",
       "      <td>-0.3612</td>\n",
       "      <td>0.0</td>\n",
       "      <td>0.0</td>\n",
       "      <td>0.0</td>\n",
       "      <td>...</td>\n",
       "      <td>0.0</td>\n",
       "      <td>0.0</td>\n",
       "      <td>0.0</td>\n",
       "      <td>0.0</td>\n",
       "      <td>0.0</td>\n",
       "      <td>0.0</td>\n",
       "      <td>0.0</td>\n",
       "      <td>0.0</td>\n",
       "      <td>0.0</td>\n",
       "      <td>0.0</td>\n",
       "    </tr>\n",
       "    <tr>\n",
       "      <th>1</th>\n",
       "      <td>1</td>\n",
       "      <td>17</td>\n",
       "      <td>1</td>\n",
       "      <td>0.280</td>\n",
       "      <td>0.720</td>\n",
       "      <td>0.000</td>\n",
       "      <td>-0.5423</td>\n",
       "      <td>0.0</td>\n",
       "      <td>0.0</td>\n",
       "      <td>0.0</td>\n",
       "      <td>...</td>\n",
       "      <td>0.0</td>\n",
       "      <td>0.0</td>\n",
       "      <td>0.0</td>\n",
       "      <td>0.0</td>\n",
       "      <td>0.0</td>\n",
       "      <td>0.0</td>\n",
       "      <td>0.0</td>\n",
       "      <td>0.0</td>\n",
       "      <td>0.0</td>\n",
       "      <td>0.0</td>\n",
       "    </tr>\n",
       "    <tr>\n",
       "      <th>2</th>\n",
       "      <td>2</td>\n",
       "      <td>20</td>\n",
       "      <td>1</td>\n",
       "      <td>0.765</td>\n",
       "      <td>0.235</td>\n",
       "      <td>0.000</td>\n",
       "      <td>-0.9460</td>\n",
       "      <td>0.0</td>\n",
       "      <td>0.0</td>\n",
       "      <td>0.0</td>\n",
       "      <td>...</td>\n",
       "      <td>0.0</td>\n",
       "      <td>0.0</td>\n",
       "      <td>0.0</td>\n",
       "      <td>0.0</td>\n",
       "      <td>0.0</td>\n",
       "      <td>0.0</td>\n",
       "      <td>0.0</td>\n",
       "      <td>0.0</td>\n",
       "      <td>0.0</td>\n",
       "      <td>0.0</td>\n",
       "    </tr>\n",
       "    <tr>\n",
       "      <th>3</th>\n",
       "      <td>1</td>\n",
       "      <td>8</td>\n",
       "      <td>1</td>\n",
       "      <td>0.000</td>\n",
       "      <td>0.615</td>\n",
       "      <td>0.385</td>\n",
       "      <td>0.3612</td>\n",
       "      <td>0.0</td>\n",
       "      <td>0.0</td>\n",
       "      <td>0.0</td>\n",
       "      <td>...</td>\n",
       "      <td>0.0</td>\n",
       "      <td>0.0</td>\n",
       "      <td>0.0</td>\n",
       "      <td>0.0</td>\n",
       "      <td>0.0</td>\n",
       "      <td>0.0</td>\n",
       "      <td>0.0</td>\n",
       "      <td>0.0</td>\n",
       "      <td>0.0</td>\n",
       "      <td>0.0</td>\n",
       "    </tr>\n",
       "    <tr>\n",
       "      <th>4</th>\n",
       "      <td>1</td>\n",
       "      <td>25</td>\n",
       "      <td>1</td>\n",
       "      <td>0.430</td>\n",
       "      <td>0.407</td>\n",
       "      <td>0.163</td>\n",
       "      <td>-0.6808</td>\n",
       "      <td>0.0</td>\n",
       "      <td>0.0</td>\n",
       "      <td>0.0</td>\n",
       "      <td>...</td>\n",
       "      <td>0.0</td>\n",
       "      <td>0.0</td>\n",
       "      <td>0.0</td>\n",
       "      <td>0.0</td>\n",
       "      <td>0.0</td>\n",
       "      <td>0.0</td>\n",
       "      <td>0.0</td>\n",
       "      <td>0.0</td>\n",
       "      <td>0.0</td>\n",
       "      <td>0.0</td>\n",
       "    </tr>\n",
       "    <tr>\n",
       "      <th>...</th>\n",
       "      <td>...</td>\n",
       "      <td>...</td>\n",
       "      <td>...</td>\n",
       "      <td>...</td>\n",
       "      <td>...</td>\n",
       "      <td>...</td>\n",
       "      <td>...</td>\n",
       "      <td>...</td>\n",
       "      <td>...</td>\n",
       "      <td>...</td>\n",
       "      <td>...</td>\n",
       "      <td>...</td>\n",
       "      <td>...</td>\n",
       "      <td>...</td>\n",
       "      <td>...</td>\n",
       "      <td>...</td>\n",
       "      <td>...</td>\n",
       "      <td>...</td>\n",
       "      <td>...</td>\n",
       "      <td>...</td>\n",
       "      <td>...</td>\n",
       "    </tr>\n",
       "    <tr>\n",
       "      <th>24778</th>\n",
       "      <td>0</td>\n",
       "      <td>22</td>\n",
       "      <td>1</td>\n",
       "      <td>0.000</td>\n",
       "      <td>1.000</td>\n",
       "      <td>0.000</td>\n",
       "      <td>0.0000</td>\n",
       "      <td>0.0</td>\n",
       "      <td>0.0</td>\n",
       "      <td>0.0</td>\n",
       "      <td>...</td>\n",
       "      <td>0.0</td>\n",
       "      <td>0.0</td>\n",
       "      <td>0.0</td>\n",
       "      <td>0.0</td>\n",
       "      <td>0.0</td>\n",
       "      <td>0.0</td>\n",
       "      <td>0.0</td>\n",
       "      <td>0.0</td>\n",
       "      <td>0.0</td>\n",
       "      <td>0.0</td>\n",
       "    </tr>\n",
       "    <tr>\n",
       "      <th>24779</th>\n",
       "      <td>0</td>\n",
       "      <td>14</td>\n",
       "      <td>1</td>\n",
       "      <td>0.624</td>\n",
       "      <td>0.376</td>\n",
       "      <td>0.000</td>\n",
       "      <td>-0.8074</td>\n",
       "      <td>0.0</td>\n",
       "      <td>0.0</td>\n",
       "      <td>0.0</td>\n",
       "      <td>...</td>\n",
       "      <td>0.0</td>\n",
       "      <td>0.0</td>\n",
       "      <td>0.0</td>\n",
       "      <td>0.0</td>\n",
       "      <td>0.0</td>\n",
       "      <td>0.0</td>\n",
       "      <td>0.0</td>\n",
       "      <td>0.0</td>\n",
       "      <td>0.0</td>\n",
       "      <td>0.0</td>\n",
       "    </tr>\n",
       "    <tr>\n",
       "      <th>24780</th>\n",
       "      <td>0</td>\n",
       "      <td>13</td>\n",
       "      <td>1</td>\n",
       "      <td>0.269</td>\n",
       "      <td>0.538</td>\n",
       "      <td>0.192</td>\n",
       "      <td>-0.2500</td>\n",
       "      <td>0.0</td>\n",
       "      <td>0.0</td>\n",
       "      <td>0.0</td>\n",
       "      <td>...</td>\n",
       "      <td>0.0</td>\n",
       "      <td>0.0</td>\n",
       "      <td>0.0</td>\n",
       "      <td>0.0</td>\n",
       "      <td>0.0</td>\n",
       "      <td>0.0</td>\n",
       "      <td>0.0</td>\n",
       "      <td>0.0</td>\n",
       "      <td>0.0</td>\n",
       "      <td>0.0</td>\n",
       "    </tr>\n",
       "    <tr>\n",
       "      <th>24781</th>\n",
       "      <td>0</td>\n",
       "      <td>7</td>\n",
       "      <td>1</td>\n",
       "      <td>0.000</td>\n",
       "      <td>1.000</td>\n",
       "      <td>0.000</td>\n",
       "      <td>0.0000</td>\n",
       "      <td>0.0</td>\n",
       "      <td>0.0</td>\n",
       "      <td>0.0</td>\n",
       "      <td>...</td>\n",
       "      <td>0.0</td>\n",
       "      <td>0.0</td>\n",
       "      <td>0.0</td>\n",
       "      <td>0.0</td>\n",
       "      <td>0.0</td>\n",
       "      <td>0.0</td>\n",
       "      <td>0.0</td>\n",
       "      <td>0.0</td>\n",
       "      <td>0.0</td>\n",
       "      <td>0.0</td>\n",
       "    </tr>\n",
       "    <tr>\n",
       "      <th>24782</th>\n",
       "      <td>0</td>\n",
       "      <td>16</td>\n",
       "      <td>1</td>\n",
       "      <td>0.000</td>\n",
       "      <td>0.769</td>\n",
       "      <td>0.231</td>\n",
       "      <td>0.5994</td>\n",
       "      <td>0.0</td>\n",
       "      <td>0.0</td>\n",
       "      <td>0.0</td>\n",
       "      <td>...</td>\n",
       "      <td>0.0</td>\n",
       "      <td>0.0</td>\n",
       "      <td>0.0</td>\n",
       "      <td>0.0</td>\n",
       "      <td>0.0</td>\n",
       "      <td>0.0</td>\n",
       "      <td>0.0</td>\n",
       "      <td>0.0</td>\n",
       "      <td>0.0</td>\n",
       "      <td>0.0</td>\n",
       "    </tr>\n",
       "  </tbody>\n",
       "</table>\n",
       "<p>24783 rows × 11922 columns</p>\n",
       "</div>"
      ],
      "text/plain": [
       "       RT  num_words  num_sents    neg    neu    pos  compound  hate    0  \\\n",
       "0       1         25          1  0.217  0.783  0.000   -0.3612   0.0  0.0   \n",
       "1       1         17          1  0.280  0.720  0.000   -0.5423   0.0  0.0   \n",
       "2       2         20          1  0.765  0.235  0.000   -0.9460   0.0  0.0   \n",
       "3       1          8          1  0.000  0.615  0.385    0.3612   0.0  0.0   \n",
       "4       1         25          1  0.430  0.407  0.163   -0.6808   0.0  0.0   \n",
       "...    ..        ...        ...    ...    ...    ...       ...   ...  ...   \n",
       "24778   0         22          1  0.000  1.000  0.000    0.0000   0.0  0.0   \n",
       "24779   0         14          1  0.624  0.376  0.000   -0.8074   0.0  0.0   \n",
       "24780   0         13          1  0.269  0.538  0.192   -0.2500   0.0  0.0   \n",
       "24781   0          7          1  0.000  1.000  0.000    0.0000   0.0  0.0   \n",
       "24782   0         16          1  0.000  0.769  0.231    0.5994   0.0  0.0   \n",
       "\n",
       "         1  ...  11904  11905  11906  11907  11908  11909  11910  11911  \\\n",
       "0      0.0  ...    0.0    0.0    0.0    0.0    0.0    0.0    0.0    0.0   \n",
       "1      0.0  ...    0.0    0.0    0.0    0.0    0.0    0.0    0.0    0.0   \n",
       "2      0.0  ...    0.0    0.0    0.0    0.0    0.0    0.0    0.0    0.0   \n",
       "3      0.0  ...    0.0    0.0    0.0    0.0    0.0    0.0    0.0    0.0   \n",
       "4      0.0  ...    0.0    0.0    0.0    0.0    0.0    0.0    0.0    0.0   \n",
       "...    ...  ...    ...    ...    ...    ...    ...    ...    ...    ...   \n",
       "24778  0.0  ...    0.0    0.0    0.0    0.0    0.0    0.0    0.0    0.0   \n",
       "24779  0.0  ...    0.0    0.0    0.0    0.0    0.0    0.0    0.0    0.0   \n",
       "24780  0.0  ...    0.0    0.0    0.0    0.0    0.0    0.0    0.0    0.0   \n",
       "24781  0.0  ...    0.0    0.0    0.0    0.0    0.0    0.0    0.0    0.0   \n",
       "24782  0.0  ...    0.0    0.0    0.0    0.0    0.0    0.0    0.0    0.0   \n",
       "\n",
       "       11912  11913  \n",
       "0        0.0    0.0  \n",
       "1        0.0    0.0  \n",
       "2        0.0    0.0  \n",
       "3        0.0    0.0  \n",
       "4        0.0    0.0  \n",
       "...      ...    ...  \n",
       "24778    0.0    0.0  \n",
       "24779    0.0    0.0  \n",
       "24780    0.0    0.0  \n",
       "24781    0.0    0.0  \n",
       "24782    0.0    0.0  \n",
       "\n",
       "[24783 rows x 11922 columns]"
      ]
     },
     "execution_count": 15,
     "metadata": {},
     "output_type": "execute_result"
    }
   ],
   "source": [
    "X"
   ]
  },
  {
   "cell_type": "code",
   "execution_count": 16,
   "metadata": {
    "id": "EonJOIwa1XhO"
   },
   "outputs": [
    {
     "name": "stdout",
     "output_type": "stream",
     "text": [
      "100% of features: 11922\n",
      " 70% of features: 8346\n"
     ]
    }
   ],
   "source": [
    "size = len(X.columns)\n",
    "to_cut = ceil(0.7*len(X.columns))\n",
    "to_save = size - to_cut\n",
    "print('100% of features: {}\\n 70% of features: {}'.format(size, to_cut))"
   ]
  },
  {
   "cell_type": "code",
   "execution_count": 17,
   "metadata": {},
   "outputs": [],
   "source": [
    "y = data_set['class']"
   ]
  },
  {
   "cell_type": "code",
   "execution_count": 18,
   "metadata": {
    "id": "uMEU6b8P_eFB"
   },
   "outputs": [
    {
     "name": "stderr",
     "output_type": "stream",
     "text": [
      "/home/gbs/.conda/envs/data/lib/python3.8/site-packages/sklearn/utils/validation.py:508: UserWarning: pandas.DataFrame with sparse columns found.It will be converted to a dense numpy array.\n",
      "  warnings.warn(\n",
      "/home/gbs/.conda/envs/data/lib/python3.8/site-packages/sklearn/feature_selection/_univariate_selection.py:302: RuntimeWarning: divide by zero encountered in true_divide\n",
      "  corr /= X_norms\n",
      "/home/gbs/.conda/envs/data/lib/python3.8/site-packages/sklearn/feature_selection/_univariate_selection.py:307: RuntimeWarning: invalid value encountered in true_divide\n",
      "  F = corr ** 2 / (1 - corr ** 2) * degrees_of_freedom\n",
      "/home/gbs/.conda/envs/data/lib/python3.8/site-packages/scipy/stats/_distn_infrastructure.py:903: RuntimeWarning: invalid value encountered in greater\n",
      "  return (a < x) & (x < b)\n",
      "/home/gbs/.conda/envs/data/lib/python3.8/site-packages/scipy/stats/_distn_infrastructure.py:903: RuntimeWarning: invalid value encountered in less\n",
      "  return (a < x) & (x < b)\n",
      "/home/gbs/.conda/envs/data/lib/python3.8/site-packages/scipy/stats/_distn_infrastructure.py:1912: RuntimeWarning: invalid value encountered in less_equal\n",
      "  cond2 = cond0 & (x <= _a)\n",
      "/home/gbs/.conda/envs/data/lib/python3.8/site-packages/sklearn/utils/validation.py:508: UserWarning: pandas.DataFrame with sparse columns found.It will be converted to a dense numpy array.\n",
      "  warnings.warn(\n"
     ]
    }
   ],
   "source": [
    "from sklearn.feature_selection import SelectKBest, chi2, f_regression\n",
    "\n",
    "selector = SelectKBest(f_regression, k=to_save)\n",
    "selector.fit(X, y)\n",
    "X_new = selector.transform(X)\n",
    "columns = list(X.columns[selector.get_support(indices=True)])"
   ]
  },
  {
   "cell_type": "code",
   "execution_count": 19,
   "metadata": {},
   "outputs": [
    {
     "data": {
      "text/plain": [
       "3576"
      ]
     },
     "execution_count": 19,
     "metadata": {},
     "output_type": "execute_result"
    }
   ],
   "source": [
    "len(columns)"
   ]
  },
  {
   "cell_type": "code",
   "execution_count": 20,
   "metadata": {
    "id": "RLdfYuIhWI-a"
   },
   "outputs": [
    {
     "data": {
      "text/plain": [
       "['RT', 'num_words', 'neg', 'neu', 'pos', 'compound', 'hate', 2, 5]"
      ]
     },
     "execution_count": 20,
     "metadata": {},
     "output_type": "execute_result"
    }
   ],
   "source": [
    "columns[:9]"
   ]
  },
  {
   "cell_type": "code",
   "execution_count": 21,
   "metadata": {},
   "outputs": [
    {
     "data": {
      "text/plain": [
       "(24783, 3576)"
      ]
     },
     "execution_count": 21,
     "metadata": {},
     "output_type": "execute_result"
    }
   ],
   "source": [
    "X_new.shape"
   ]
  },
  {
   "cell_type": "markdown",
   "metadata": {
    "id": "sJtsa0X5WKlc"
   },
   "source": [
    "# 3. Classification algorithm"
   ]
  },
  {
   "cell_type": "code",
   "execution_count": 22,
   "metadata": {
    "id": "_6Tk7nPG-nGI"
   },
   "outputs": [],
   "source": [
    "from sklearn.model_selection import train_test_split\n",
    "Xtrain, Xtest, ytrain, ytest = train_test_split(X_new, y, random_state=2, test_size=0.3)"
   ]
  },
  {
   "cell_type": "markdown",
   "metadata": {
    "id": "lPku1HpiHTd1"
   },
   "source": [
    "## 3.1. Random forest\n",
    "\n",
    "### Model training"
   ]
  },
  {
   "cell_type": "code",
   "execution_count": 23,
   "metadata": {
    "id": "WT4MP4yI6QmV"
   },
   "outputs": [
    {
     "data": {
      "text/plain": [
       "RandomForestClassifier(random_state=10)"
      ]
     },
     "execution_count": 23,
     "metadata": {},
     "output_type": "execute_result"
    }
   ],
   "source": [
    "from sklearn.ensemble import RandomForestClassifier\n",
    "\n",
    "model = RandomForestClassifier(n_estimators=100, random_state=10)\n",
    "model.fit(Xtrain, ytrain)"
   ]
  },
  {
   "cell_type": "code",
   "execution_count": 24,
   "metadata": {
    "id": "WT4MP4yI6QmV"
   },
   "outputs": [],
   "source": [
    "ypred_forest = model.predict(Xtest)"
   ]
  },
  {
   "cell_type": "markdown",
   "metadata": {
    "id": "Vr0e8dqKCEHQ"
   },
   "source": [
    "### Test results"
   ]
  },
  {
   "cell_type": "code",
   "execution_count": 25,
   "metadata": {
    "id": "ER6ZfAFA8akT"
   },
   "outputs": [],
   "source": [
    "from sklearn.metrics import confusion_matrix\n",
    "import matplotlib.pyplot as plt"
   ]
  },
  {
   "cell_type": "code",
   "execution_count": 26,
   "metadata": {
    "id": "ER6ZfAFA8akT"
   },
   "outputs": [
    {
     "data": {
      "text/plain": [
       "Text(91.68, 0.5, 'predicted label')"
      ]
     },
     "execution_count": 26,
     "metadata": {},
     "output_type": "execute_result"
    },
    {
     "data": {
      "image/png": "[encoded data removed]",
      "text/plain": [
       "<Figure size 432x288 with 1 Axes>"
      ]
     },
     "metadata": {
      "needs_background": "light"
     },
     "output_type": "display_data"
    }
   ],
   "source": [
    "mat_forest = confusion_matrix(ytest, ypred_forest)\n",
    "sns.heatmap(mat_forest.T, square=True, annot=True, fmt='d', cbar=False)\n",
    "plt.xlabel('true label')\n",
    "plt.ylabel('predicted label')"
   ]
  },
  {
   "cell_type": "code",
   "execution_count": 27,
   "metadata": {},
   "outputs": [
    {
     "name": "stdout",
     "output_type": "stream",
     "text": [
      "              precision    recall  f1-score   support\n",
      "\n",
      "           0       0.14      0.54      0.23       107\n",
      "           1       0.97      0.88      0.92      6347\n",
      "           2       0.66      0.86      0.75       981\n",
      "\n",
      "    accuracy                           0.87      7435\n",
      "   macro avg       0.59      0.76      0.63      7435\n",
      "weighted avg       0.92      0.87      0.89      7435\n",
      "\n"
     ]
    }
   ],
   "source": [
    "report = metrics.classification_report(ypred_forest, ytest)\n",
    "print(report)"
   ]
  },
  {
   "cell_type": "code",
   "execution_count": 28,
   "metadata": {
    "id": "sU-ygTOIBZpO"
   },
   "outputs": [
    {
     "data": {
      "text/plain": [
       "0.8730329522528582"
      ]
     },
     "execution_count": 28,
     "metadata": {},
     "output_type": "execute_result"
    }
   ],
   "source": [
    "forest_score = metrics.accuracy_score(ytest, ypred_forest)\n",
    "forest_score"
   ]
  },
  {
   "cell_type": "markdown",
   "metadata": {
    "id": "ZsPEhjG48_L8"
   },
   "source": [
    "## 3.2. Support vector classifier"
   ]
  },
  {
   "cell_type": "code",
   "execution_count": 29,
   "metadata": {
    "id": "_smgjbmcHBO6"
   },
   "outputs": [
    {
     "name": "stderr",
     "output_type": "stream",
     "text": [
      "/home/gbs/.conda/envs/data/lib/python3.8/site-packages/sklearn/svm/_base.py:976: ConvergenceWarning: Liblinear failed to converge, increase the number of iterations.\n",
      "  warnings.warn(\"Liblinear failed to converge, increase \"\n"
     ]
    }
   ],
   "source": [
    "from sklearn.svm import LinearSVC\n",
    "model_svc = LinearSVC(tol=1e-4, C=1e5, max_iter=1e4, random_state=13)\n",
    "model_svc.fit(Xtrain, ytrain)\n",
    "ypred_svc = model.predict(Xtest)"
   ]
  },
  {
   "cell_type": "markdown",
   "metadata": {
    "id": "SQVIb8nbIrem"
   },
   "source": [
    "### Test results"
   ]
  },
  {
   "cell_type": "code",
   "execution_count": 30,
   "metadata": {
    "id": "2NbE0bEBItnB"
   },
   "outputs": [
    {
     "name": "stdout",
     "output_type": "stream",
     "text": [
      "              precision    recall  f1-score   support\n",
      "\n",
      "           0       0.54      0.14      0.23       401\n",
      "           1       0.88      0.97      0.92      5753\n",
      "           2       0.86      0.66      0.75      1281\n",
      "\n",
      "    accuracy                           0.87      7435\n",
      "   macro avg       0.76      0.59      0.63      7435\n",
      "weighted avg       0.86      0.87      0.86      7435\n",
      "\n"
     ]
    },
    {
     "data": {
      "image/png": "[encoded data removed]",
      "text/plain": [
       "<Figure size 432x288 with 1 Axes>"
      ]
     },
     "metadata": {
      "needs_background": "light"
     },
     "output_type": "display_data"
    }
   ],
   "source": [
    "mat_svc = confusion_matrix(ytest, ypred_svc)\n",
    "sns.heatmap(mat_svc.T, square=True, annot=True, fmt='d', cbar=False)\n",
    "plt.xlabel('true label')\n",
    "plt.ylabel('predicted label');\n",
    "print(metrics.classification_report(ytest, ypred_svc))"
   ]
  },
  {
   "cell_type": "code",
   "execution_count": 31,
   "metadata": {
    "id": "DziB5Bv8JPkK"
   },
   "outputs": [
    {
     "data": {
      "text/plain": [
       "0.8730329522528582"
      ]
     },
     "execution_count": 31,
     "metadata": {},
     "output_type": "execute_result"
    }
   ],
   "source": [
    "svc_score = metrics.accuracy_score(ytest, ypred_svc)\n",
    "svc_score"
   ]
  },
  {
   "cell_type": "code",
   "execution_count": 32,
   "metadata": {},
   "outputs": [
    {
     "data": {
      "text/plain": [
       "(7435, 7435)"
      ]
     },
     "execution_count": 32,
     "metadata": {},
     "output_type": "execute_result"
    }
   ],
   "source": [
    "(ypred_forest == ypred_svc).sum(), len(ytest)"
   ]
  },
  {
   "cell_type": "code",
   "execution_count": null,
   "metadata": {},
   "outputs": [],
   "source": []
  }
 ],
 "metadata": {
  "kernelspec": {
   "display_name": "Python 3",
   "language": "python",
   "name": "python3"
  },
  "language_info": {
   "codemirror_mode": {
    "name": "ipython",
    "version": 3
   },
   "file_extension": ".py",
   "mimetype": "text/x-python",
   "name": "python",
   "nbconvert_exporter": "python",
   "pygments_lexer": "ipython3",
   "version": "3.8.3"
  }
 },
 "nbformat": 4,
 "nbformat_minor": 4
}
